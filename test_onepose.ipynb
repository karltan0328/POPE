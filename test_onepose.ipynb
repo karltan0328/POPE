{
 "cells": [
  {
   "cell_type": "code",
   "execution_count": 1,
   "metadata": {},
   "outputs": [],
   "source": [
    "import os\n",
    "import cv2\n",
    "import json\n",
    "import torch\n",
    "import pprint\n",
    "import numpy as np\n",
    "from tqdm import tqdm\n",
    "from loguru import logger\n",
    "from tabulate import tabulate\n",
    "\n",
    "from pose.utils import collate_fn, geodesic_distance, relative_pose_error, aggregate_metrics, recall_object, project_points"
   ]
  },
  {
   "cell_type": "code",
   "execution_count": 2,
   "metadata": {},
   "outputs": [
    {
     "data": {
      "text/plain": [
       "10"
      ]
     },
     "execution_count": 2,
     "metadata": {},
     "output_type": "execute_result"
    }
   ],
   "source": [
    "with open(\"data/pairs/Onepose-test.json\") as f:\n",
    "    dir_list = json.load(f)\n",
    "len(dir_list)"
   ]
  },
  {
   "cell_type": "code",
   "execution_count": 3,
   "metadata": {},
   "outputs": [],
   "source": [
    "if os.name == 'unix':\n",
    "    ROOT_DIR = 'data/onepose/'\n",
    "elif os.name == 'nt':\n",
    "    ROOT_DIR = 'e:/datasets/OnePose/test_data/'"
   ]
  },
  {
   "cell_type": "code",
   "execution_count": 4,
   "metadata": {},
   "outputs": [],
   "source": [
    "res_table = []"
   ]
  },
  {
   "cell_type": "code",
   "execution_count": 5,
   "metadata": {},
   "outputs": [
    {
     "data": {
      "text/plain": [
       "Mkpts_Reg_Model(\n",
       "  (embedding): Embedding()\n",
       "  (transformerlayer): TransformerEncoderLayer(\n",
       "    (self_attn): MultiheadAttention(\n",
       "      (out_proj): NonDynamicallyQuantizableLinear(in_features=76, out_features=76, bias=True)\n",
       "    )\n",
       "    (linear1): Linear(in_features=76, out_features=2048, bias=True)\n",
       "    (dropout): Dropout(p=0.1, inplace=False)\n",
       "    (linear2): Linear(in_features=2048, out_features=76, bias=True)\n",
       "    (norm1): LayerNorm((76,), eps=1e-05, elementwise_affine=True)\n",
       "    (norm2): LayerNorm((76,), eps=1e-05, elementwise_affine=True)\n",
       "    (dropout1): Dropout(p=0.1, inplace=False)\n",
       "    (dropout2): Dropout(p=0.1, inplace=False)\n",
       "  )\n",
       "  (transformer): TransformerEncoder(\n",
       "    (layers): ModuleList(\n",
       "      (0-3): 4 x TransformerEncoderLayer(\n",
       "        (self_attn): MultiheadAttention(\n",
       "          (out_proj): NonDynamicallyQuantizableLinear(in_features=76, out_features=76, bias=True)\n",
       "        )\n",
       "        (linear1): Linear(in_features=76, out_features=2048, bias=True)\n",
       "        (dropout): Dropout(p=0.1, inplace=False)\n",
       "        (linear2): Linear(in_features=2048, out_features=76, bias=True)\n",
       "        (norm1): LayerNorm((76,), eps=1e-05, elementwise_affine=True)\n",
       "        (norm2): LayerNorm((76,), eps=1e-05, elementwise_affine=True)\n",
       "        (dropout1): Dropout(p=0.1, inplace=False)\n",
       "        (dropout2): Dropout(p=0.1, inplace=False)\n",
       "      )\n",
       "    )\n",
       "  )\n",
       "  (translation_head): Linear(in_features=128, out_features=3, bias=True)\n",
       "  (rotation_head): Linear(in_features=128, out_features=6, bias=True)\n",
       "  (mlp): Sequential(\n",
       "    (0): Linear(in_features=228000, out_features=128, bias=True)\n",
       "    (1): LeakyReLU(negative_slope=0.01)\n",
       "    (2): Linear(in_features=128, out_features=128, bias=True)\n",
       "  )\n",
       ")"
      ]
     },
     "execution_count": 5,
     "metadata": {},
     "output_type": "execute_result"
    }
   ],
   "source": [
    "device = torch.device('cuda' if torch.cuda.is_available() else 'cpu')\n",
    "# device = 'cpu'\n",
    "\n",
    "num_sample = 3000\n",
    "\n",
    "net = torch.load('./weights/onepose-6d-3000-2024-01-06-00-05-51-0.2705.pth').to(device)\n",
    "\n",
    "net.eval()"
   ]
  },
  {
   "cell_type": "code",
   "execution_count": 6,
   "metadata": {},
   "outputs": [
    {
     "name": "stderr",
     "output_type": "stream",
     "text": [
      "\u001b[32m2024-01-06 00:11:01.735\u001b[0m | \u001b[1mINFO    \u001b[0m | \u001b[36m__main__\u001b[0m:\u001b[36m<module>\u001b[0m:\u001b[36m2\u001b[0m - \u001b[1mOnepose: 1/10\u001b[0m\n",
      "100%|██████████| 66/66 [00:02<00:00, 22.33it/s]\n",
      "100%|██████████| 120/120 [00:02<00:00, 55.97it/s]\n",
      "100%|██████████| 107/107 [00:01<00:00, 57.27it/s]\n",
      "100%|██████████| 59/59 [00:01<00:00, 57.06it/s]\n",
      "100%|██████████| 41/41 [00:00<00:00, 59.86it/s]\n",
      "100%|██████████| 46/46 [00:00<00:00, 61.39it/s]\n",
      "\u001b[32m2024-01-06 00:11:11.189\u001b[0m | \u001b[1mINFO    \u001b[0m | \u001b[36m__main__\u001b[0m:\u001b[36m<module>\u001b[0m:\u001b[36m88\u001b[0m - \u001b[1m\n",
      "{'AP50': 0.9157175398633257,\n",
      " 'R:ACC15': 0.6767441860465117,\n",
      " 'R:ACC30': 0.9837209302325581,\n",
      " 'R:auc@15': 0.3043439340868661,\n",
      " 'R:auc@30': 0.5808061372725538,\n",
      " 'R:medianErr': 10.867824077606201,\n",
      " 't:ACC15': 0.027906976744186046,\n",
      " 't:ACC30': 0.15348837209302327,\n",
      " 't:auc@15': 0.01025364787079567,\n",
      " 't:auc@30': 0.05103212903636371,\n",
      " 't:medianErr': 57.68374443054199}\u001b[0m\n",
      "\u001b[32m2024-01-06 00:11:11.190\u001b[0m | \u001b[1mINFO    \u001b[0m | \u001b[36m__main__\u001b[0m:\u001b[36m<module>\u001b[0m:\u001b[36m2\u001b[0m - \u001b[1mOnepose: 2/10\u001b[0m\n"
     ]
    },
    {
     "name": "stdout",
     "output_type": "stream",
     "text": [
      "Acc: 402/439\n"
     ]
    },
    {
     "name": "stderr",
     "output_type": "stream",
     "text": [
      "100%|██████████| 45/45 [00:00<00:00, 54.91it/s]\n",
      "100%|██████████| 91/91 [00:01<00:00, 55.16it/s]\n",
      "100%|██████████| 62/62 [00:01<00:00, 56.27it/s]\n",
      "100%|██████████| 28/28 [00:00<00:00, 57.66it/s]\n",
      "100%|██████████| 34/34 [00:00<00:00, 55.79it/s]\n",
      "100%|██████████| 34/34 [00:00<00:00, 55.49it/s]\n",
      "\u001b[32m2024-01-06 00:11:16.485\u001b[0m | \u001b[1mINFO    \u001b[0m | \u001b[36m__main__\u001b[0m:\u001b[36m<module>\u001b[0m:\u001b[36m88\u001b[0m - \u001b[1m\n",
      "{'AP50': 0.9149659863945578,\n",
      " 'R:ACC15': 0.6972789115646258,\n",
      " 'R:ACC30': 0.9931972789115646,\n",
      " 'R:auc@15': 0.3344629462816818,\n",
      " 'R:auc@30': 0.6027458145471115,\n",
      " 'R:medianErr': 10.290589809417725,\n",
      " 't:ACC15': 0.04421768707482993,\n",
      " 't:ACC30': 0.1292517006802721,\n",
      " 't:auc@15': 0.01186611463153173,\n",
      " 't:auc@30': 0.05169281072897706,\n",
      " 't:medianErr': 59.70263671875}\u001b[0m\n",
      "\u001b[32m2024-01-06 00:11:16.486\u001b[0m | \u001b[1mINFO    \u001b[0m | \u001b[36m__main__\u001b[0m:\u001b[36m<module>\u001b[0m:\u001b[36m2\u001b[0m - \u001b[1mOnepose: 3/10\u001b[0m\n"
     ]
    },
    {
     "name": "stdout",
     "output_type": "stream",
     "text": [
      "Acc: 269/294\n"
     ]
    },
    {
     "name": "stderr",
     "output_type": "stream",
     "text": [
      "100%|██████████| 30/30 [00:00<00:00, 53.38it/s]\n",
      "100%|██████████| 40/40 [00:00<00:00, 53.61it/s]\n",
      "100%|██████████| 43/43 [00:00<00:00, 53.89it/s]\n",
      "100%|██████████| 39/39 [00:00<00:00, 53.20it/s]\n",
      "100%|██████████| 45/45 [00:00<00:00, 57.15it/s]\n",
      "100%|██████████| 30/30 [00:00<00:00, 55.51it/s]\n",
      "\u001b[32m2024-01-06 00:11:20.669\u001b[0m | \u001b[1mINFO    \u001b[0m | \u001b[36m__main__\u001b[0m:\u001b[36m<module>\u001b[0m:\u001b[36m88\u001b[0m - \u001b[1m\n",
      "{'AP50': 0.8986784140969163,\n",
      " 'R:ACC15': 0.5506607929515418,\n",
      " 'R:ACC30': 0.9911894273127754,\n",
      " 'R:auc@15': 0.25215038777097903,\n",
      " 'R:auc@30': 0.5316885529810812,\n",
      " 'R:medianErr': 13.477045059204102,\n",
      " 't:ACC15': 0.03524229074889868,\n",
      " 't:ACC30': 0.15418502202643172,\n",
      " 't:auc@15': 0.011481180345084349,\n",
      " 't:auc@30': 0.054062740113066506,\n",
      " 't:medianErr': 55.76251983642578}\u001b[0m\n",
      "\u001b[32m2024-01-06 00:11:20.669\u001b[0m | \u001b[1mINFO    \u001b[0m | \u001b[36m__main__\u001b[0m:\u001b[36m<module>\u001b[0m:\u001b[36m2\u001b[0m - \u001b[1mOnepose: 4/10\u001b[0m\n"
     ]
    },
    {
     "name": "stdout",
     "output_type": "stream",
     "text": [
      "Acc: 204/227\n"
     ]
    },
    {
     "name": "stderr",
     "output_type": "stream",
     "text": [
      "100%|██████████| 48/48 [00:00<00:00, 53.76it/s]\n",
      "100%|██████████| 51/51 [00:00<00:00, 55.13it/s]\n",
      "100%|██████████| 66/66 [00:01<00:00, 56.08it/s]\n",
      "100%|██████████| 39/39 [00:00<00:00, 56.43it/s]\n",
      "100%|██████████| 41/41 [00:00<00:00, 57.36it/s]\n",
      "100%|██████████| 29/29 [00:00<00:00, 58.75it/s]\n",
      "\u001b[32m2024-01-06 00:11:25.579\u001b[0m | \u001b[1mINFO    \u001b[0m | \u001b[36m__main__\u001b[0m:\u001b[36m<module>\u001b[0m:\u001b[36m88\u001b[0m - \u001b[1m\n",
      "{'AP50': 0.9562043795620438,\n",
      " 'R:ACC15': 0.635036496350365,\n",
      " 'R:ACC30': 1.0,\n",
      " 'R:auc@15': 0.3020638002821418,\n",
      " 'R:auc@30': 0.5761927084258583,\n",
      " 'R:medianErr': 11.825913906097412,\n",
      " 't:ACC15': 0.04744525547445255,\n",
      " 't:ACC30': 0.1678832116788321,\n",
      " 't:auc@15': 0.018532890705006543,\n",
      " 't:auc@30': 0.059858781693915675,\n",
      " 't:medianErr': 57.92544174194336}\u001b[0m\n",
      "\u001b[32m2024-01-06 00:11:25.580\u001b[0m | \u001b[1mINFO    \u001b[0m | \u001b[36m__main__\u001b[0m:\u001b[36m<module>\u001b[0m:\u001b[36m2\u001b[0m - \u001b[1mOnepose: 5/10\u001b[0m\n"
     ]
    },
    {
     "name": "stdout",
     "output_type": "stream",
     "text": [
      "Acc: 262/274\n"
     ]
    },
    {
     "name": "stderr",
     "output_type": "stream",
     "text": [
      "100%|██████████| 37/37 [00:00<00:00, 53.83it/s]\n",
      "100%|██████████| 30/30 [00:00<00:00, 55.08it/s]\n",
      "100%|██████████| 41/41 [00:00<00:00, 55.33it/s]\n",
      "100%|██████████| 48/48 [00:00<00:00, 56.66it/s]\n",
      "100%|██████████| 34/34 [00:00<00:00, 57.75it/s]\n",
      "100%|██████████| 60/60 [00:01<00:00, 58.62it/s]\n",
      "\u001b[32m2024-01-06 00:11:30.029\u001b[0m | \u001b[1mINFO    \u001b[0m | \u001b[36m__main__\u001b[0m:\u001b[36m<module>\u001b[0m:\u001b[36m88\u001b[0m - \u001b[1m\n",
      "{'AP50': 0.796,\n",
      " 'R:ACC15': 0.468,\n",
      " 'R:ACC30': 0.988,\n",
      " 'R:auc@15': 0.22044909730752302,\n",
      " 'R:auc@30': 0.4990124638835589,\n",
      " 'R:medianErr': 16.109557151794434,\n",
      " 't:ACC15': 0.04,\n",
      " 't:ACC30': 0.164,\n",
      " 't:auc@15': 0.01666362279256185,\n",
      " 't:auc@30': 0.05540458437601726,\n",
      " 't:medianErr': 59.90811538696289}\u001b[0m\n",
      "\u001b[32m2024-01-06 00:11:30.030\u001b[0m | \u001b[1mINFO    \u001b[0m | \u001b[36m__main__\u001b[0m:\u001b[36m<module>\u001b[0m:\u001b[36m2\u001b[0m - \u001b[1mOnepose: 6/10\u001b[0m\n"
     ]
    },
    {
     "name": "stdout",
     "output_type": "stream",
     "text": [
      "Acc: 199/250\n"
     ]
    },
    {
     "name": "stderr",
     "output_type": "stream",
     "text": [
      "100%|██████████| 63/63 [00:01<00:00, 54.13it/s]\n",
      "100%|██████████| 53/53 [00:00<00:00, 55.59it/s]\n",
      "100%|██████████| 45/45 [00:00<00:00, 56.28it/s]\n",
      "100%|██████████| 50/50 [00:00<00:00, 54.69it/s]\n",
      "100%|██████████| 35/35 [00:00<00:00, 55.83it/s]\n",
      "100%|██████████| 36/36 [00:00<00:00, 56.72it/s]\n",
      "\u001b[32m2024-01-06 00:11:35.142\u001b[0m | \u001b[1mINFO    \u001b[0m | \u001b[36m__main__\u001b[0m:\u001b[36m<module>\u001b[0m:\u001b[36m88\u001b[0m - \u001b[1m\n",
      "{'AP50': 0.9148936170212766,\n",
      " 'R:ACC15': 0.624113475177305,\n",
      " 'R:ACC30': 0.9893617021276596,\n",
      " 'R:auc@15': 0.31657796833250257,\n",
      " 'R:auc@30': 0.5939261024020805,\n",
      " 'R:medianErr': 11.660637855529785,\n",
      " 't:ACC15': 0.05673758865248227,\n",
      " 't:ACC30': 0.1524822695035461,\n",
      " 't:auc@15': 0.01887407922857479,\n",
      " 't:auc@30': 0.0649749450367957,\n",
      " 't:medianErr': 58.30123710632324}\u001b[0m\n",
      "\u001b[32m2024-01-06 00:11:35.143\u001b[0m | \u001b[1mINFO    \u001b[0m | \u001b[36m__main__\u001b[0m:\u001b[36m<module>\u001b[0m:\u001b[36m2\u001b[0m - \u001b[1mOnepose: 7/10\u001b[0m\n"
     ]
    },
    {
     "name": "stdout",
     "output_type": "stream",
     "text": [
      "Acc: 258/282\n"
     ]
    },
    {
     "name": "stderr",
     "output_type": "stream",
     "text": [
      "100%|██████████| 37/37 [00:00<00:00, 53.43it/s]\n",
      "100%|██████████| 80/80 [00:01<00:00, 54.89it/s]\n",
      "100%|██████████| 109/109 [00:02<00:00, 53.91it/s]\n",
      "100%|██████████| 55/55 [00:00<00:00, 55.26it/s]\n",
      "100%|██████████| 43/43 [00:00<00:00, 56.73it/s]\n",
      "100%|██████████| 40/40 [00:00<00:00, 58.64it/s]\n",
      "\u001b[32m2024-01-06 00:11:41.766\u001b[0m | \u001b[1mINFO    \u001b[0m | \u001b[36m__main__\u001b[0m:\u001b[36m<module>\u001b[0m:\u001b[36m88\u001b[0m - \u001b[1m\n",
      "{'AP50': 0.9065934065934066,\n",
      " 'R:ACC15': 0.6456043956043956,\n",
      " 'R:ACC30': 0.989010989010989,\n",
      " 'R:auc@15': 0.26155658311896274,\n",
      " 'R:auc@30': 0.5592782623711087,\n",
      " 'R:medianErr': 12.125442504882812,\n",
      " 't:ACC15': 0.04395604395604396,\n",
      " 't:ACC30': 0.17032967032967034,\n",
      " 't:auc@15': 0.014852824490585607,\n",
      " 't:auc@30': 0.05739410251051515,\n",
      " 't:medianErr': 54.21873092651367}\u001b[0m\n",
      "\u001b[32m2024-01-06 00:11:41.767\u001b[0m | \u001b[1mINFO    \u001b[0m | \u001b[36m__main__\u001b[0m:\u001b[36m<module>\u001b[0m:\u001b[36m2\u001b[0m - \u001b[1mOnepose: 8/10\u001b[0m\n"
     ]
    },
    {
     "name": "stdout",
     "output_type": "stream",
     "text": [
      "Acc: 330/364\n"
     ]
    },
    {
     "name": "stderr",
     "output_type": "stream",
     "text": [
      "100%|██████████| 76/76 [00:01<00:00, 54.62it/s]\n",
      "100%|██████████| 55/55 [00:00<00:00, 57.02it/s]\n",
      "100%|██████████| 62/62 [00:01<00:00, 57.24it/s]\n",
      "100%|██████████| 44/44 [00:00<00:00, 58.26it/s]\n",
      "100%|██████████| 43/43 [00:00<00:00, 59.03it/s]\n",
      "100%|██████████| 25/25 [00:00<00:00, 59.71it/s]\n",
      "\u001b[32m2024-01-06 00:11:47.126\u001b[0m | \u001b[1mINFO    \u001b[0m | \u001b[36m__main__\u001b[0m:\u001b[36m<module>\u001b[0m:\u001b[36m88\u001b[0m - \u001b[1m\n",
      "{'AP50': 0.8459016393442623,\n",
      " 'R:ACC15': 0.6491803278688525,\n",
      " 'R:ACC30': 0.9901639344262295,\n",
      " 'R:auc@15': 0.32980904372012027,\n",
      " 'R:auc@30': 0.5926565199276138,\n",
      " 'R:medianErr': 11.174063682556152,\n",
      " 't:ACC15': 0.06229508196721312,\n",
      " 't:ACC30': 0.20327868852459016,\n",
      " 't:auc@15': 0.0187574413695622,\n",
      " 't:auc@30': 0.07615982529895553,\n",
      " 't:medianErr': 52.32026672363281}\u001b[0m\n",
      "\u001b[32m2024-01-06 00:11:47.127\u001b[0m | \u001b[1mINFO    \u001b[0m | \u001b[36m__main__\u001b[0m:\u001b[36m<module>\u001b[0m:\u001b[36m2\u001b[0m - \u001b[1mOnepose: 9/10\u001b[0m\n"
     ]
    },
    {
     "name": "stdout",
     "output_type": "stream",
     "text": [
      "Acc: 258/305\n"
     ]
    },
    {
     "name": "stderr",
     "output_type": "stream",
     "text": [
      "100%|██████████| 45/45 [00:00<00:00, 54.71it/s]\n",
      "100%|██████████| 65/65 [00:01<00:00, 56.06it/s]\n",
      "100%|██████████| 59/59 [00:01<00:00, 55.79it/s]\n",
      "100%|██████████| 67/67 [00:01<00:00, 56.39it/s]\n",
      "100%|██████████| 57/57 [00:00<00:00, 57.07it/s]\n",
      "100%|██████████| 34/34 [00:00<00:00, 56.94it/s]\n",
      "\u001b[32m2024-01-06 00:11:52.968\u001b[0m | \u001b[1mINFO    \u001b[0m | \u001b[36m__main__\u001b[0m:\u001b[36m<module>\u001b[0m:\u001b[36m88\u001b[0m - \u001b[1m\n",
      "{'AP50': 0.5535168195718655,\n",
      " 'R:ACC15': 0.5443425076452599,\n",
      " 'R:ACC30': 0.9969418960244648,\n",
      " 'R:auc@15': 0.2600529317583634,\n",
      " 'R:auc@30': 0.547970008108837,\n",
      " 'R:medianErr': 13.689202308654785,\n",
      " 't:ACC15': 0.06422018348623854,\n",
      " 't:ACC30': 0.1743119266055046,\n",
      " 't:auc@15': 0.0256067602641721,\n",
      " 't:auc@30': 0.0697242958465483,\n",
      " 't:medianErr': 59.28119659423828}\u001b[0m\n",
      "\u001b[32m2024-01-06 00:11:52.969\u001b[0m | \u001b[1mINFO    \u001b[0m | \u001b[36m__main__\u001b[0m:\u001b[36m<module>\u001b[0m:\u001b[36m2\u001b[0m - \u001b[1mOnepose: 10/10\u001b[0m\n"
     ]
    },
    {
     "name": "stdout",
     "output_type": "stream",
     "text": [
      "Acc: 181/327\n"
     ]
    },
    {
     "name": "stderr",
     "output_type": "stream",
     "text": [
      "100%|██████████| 55/55 [00:01<00:00, 54.36it/s]\n",
      "100%|██████████| 98/98 [00:01<00:00, 55.85it/s]\n",
      "100%|██████████| 87/87 [00:01<00:00, 55.97it/s]\n",
      "100%|██████████| 87/87 [00:01<00:00, 55.77it/s]\n",
      "100%|██████████| 45/45 [00:00<00:00, 54.87it/s]\n",
      "100%|██████████| 32/32 [00:00<00:00, 52.44it/s]\n",
      "\u001b[32m2024-01-06 00:12:00.298\u001b[0m | \u001b[1mINFO    \u001b[0m | \u001b[36m__main__\u001b[0m:\u001b[36m<module>\u001b[0m:\u001b[36m88\u001b[0m - \u001b[1m\n",
      "{'AP50': 0.7475247524752475,\n",
      " 'R:ACC15': 0.6188118811881188,\n",
      " 'R:ACC30': 0.9975247524752475,\n",
      " 'R:auc@15': 0.2848089729598647,\n",
      " 'R:auc@30': 0.5677398429845426,\n",
      " 'R:medianErr': 11.823050022125244,\n",
      " 't:ACC15': 0.04950495049504951,\n",
      " 't:ACC30': 0.1782178217821782,\n",
      " 't:auc@15': 0.015998072671418142,\n",
      " 't:auc@30': 0.059944056874454615,\n",
      " 't:medianErr': 57.56123924255371}\u001b[0m\n"
     ]
    },
    {
     "name": "stdout",
     "output_type": "stream",
     "text": [
      "Acc: 302/404\n"
     ]
    }
   ],
   "source": [
    "for label_idx, test_dict in enumerate(dir_list):\n",
    "    logger.info(f\"Onepose: {label_idx + 1}/{len(dir_list)}\")\n",
    "    metrics = dict()\n",
    "    metrics.update({'R_errs':[], 't_errs':[], 'inliers':[], \"identifiers\":[]})\n",
    "    sample_data = dir_list[label_idx][\"0\"][0]\n",
    "    label = sample_data.split(\"/\")[0]\n",
    "    name = label.split(\"-\")[1]\n",
    "    dir_name = os.path.dirname(sample_data)\n",
    "    FULL_ROOT_DIR = os.path.join(ROOT_DIR, dir_name)\n",
    "    recall_image, all_image = 0, 0\n",
    "    for rotation_key, rotation_list in zip(test_dict.keys(), test_dict.values()):\n",
    "        for pair_idx, pair_name in enumerate(tqdm(rotation_list)):\n",
    "            all_image = all_image + 1\n",
    "            base_name = os.path.basename(pair_name)\n",
    "            idx0_name = base_name.split(\"-\")[0]\n",
    "            idx1_name = base_name.split(\"-\")[1]\n",
    "            image0_name = os.path.join(FULL_ROOT_DIR, idx0_name)\n",
    "            image1_name = os.path.join(FULL_ROOT_DIR.replace(\"color\", \"color\"), idx1_name)\n",
    "\n",
    "            K0_path = image0_name.replace(\"color\", \"intrin_ba\").replace(\"png\", \"txt\")\n",
    "            K1_path = image1_name.replace(\"color\", \"intrin_ba\").replace(\"png\", \"txt\")\n",
    "            K0 = np.loadtxt(K0_path)\n",
    "            K1 = np.loadtxt(K1_path)\n",
    "\n",
    "            pose0_path = image0_name.replace(\"color\", \"poses_ba\").replace(\"png\", \"txt\")\n",
    "            pose1_path = image1_name.replace(\"color\", \"poses_ba\").replace(\"png\", \"txt\")\n",
    "            pose0 = np.loadtxt(pose0_path)\n",
    "            pose1 = np.loadtxt(pose1_path)\n",
    "            if pose0.shape[0] == 3:\n",
    "                pose0 = np.concatenate([pose0, np.array([[0, 0, 0, 1]])], axis=0)\n",
    "                pose1 = np.concatenate([pose1, np.array([[0, 0, 0, 1]])], axis=0)\n",
    "\n",
    "            points_file_path = os.path.join('d:/git_project/POPE/data/onepose-points/', pair_name.split(\"/\")[0])\n",
    "            pre_bbox_path = os.path.join(points_file_path, \"pre_bbox\")\n",
    "            mkpts0_path = os.path.join(points_file_path, \"mkpts0\")\n",
    "            mkpts1_path = os.path.join(points_file_path, \"mkpts1\")\n",
    "            pre_K_path = os.path.join(points_file_path, \"pre_K\")\n",
    "            points_name = pair_name.split(\"/\")[-1]\n",
    "            pre_bbox_path = os.path.join(pre_bbox_path, f'{points_name}.txt')\n",
    "            mkpts0_path = os.path.join(mkpts0_path, f'{points_name}.txt')\n",
    "            mkpts1_path = os.path.join(mkpts1_path, f'{points_name}.txt')\n",
    "            pre_K_path = os.path.join(pre_K_path, f'{points_name}.txt')\n",
    "\n",
    "            if not os.path.exists(pre_bbox_path):\n",
    "                continue\n",
    "            pre_bbox = np.loadtxt(pre_bbox_path)\n",
    "            mkpts0 = np.loadtxt(mkpts0_path)\n",
    "            mkpts1 = np.loadtxt(mkpts1_path)\n",
    "            pre_K = np.loadtxt(pre_K_path)\n",
    "\n",
    "            if mkpts0.shape[0] > num_sample:\n",
    "                rand_idx = np.random.choice(mkpts0.shape[0], num_sample, replace=False)\n",
    "                mkpts0 = mkpts0[rand_idx]\n",
    "                mkpts1 = mkpts1[rand_idx]\n",
    "            else:\n",
    "                mkpts0 = np.concatenate([mkpts0, np.zeros((num_sample - mkpts0.shape[0], 2))], axis=0)\n",
    "                mkpts1 = np.concatenate([mkpts1, np.zeros((num_sample - mkpts1.shape[0], 2))], axis=0)\n",
    "\n",
    "            _3d_bbox = np.loadtxt(f\"{os.path.join(ROOT_DIR, label)}/box3d_corners.txt\")\n",
    "            bbox_pts_3d, _ = project_points(_3d_bbox, pose1[:3, :4], K1)\n",
    "            bbox_pts_3d = bbox_pts_3d.astype(np.int32)\n",
    "            x0, y0, w, h = cv2.boundingRect(bbox_pts_3d)\n",
    "            x1, y1 = x0 + w, y0 + h\n",
    "            gt_bbox = np.array([x0, y0, x1, y1])\n",
    "            is_recalled = recall_object(pre_bbox, gt_bbox)\n",
    "            recall_image = recall_image + int(is_recalled > 0.5)\n",
    "\n",
    "            batch_mkpts0 = torch.from_numpy(mkpts0).unsqueeze(0).float().to(device)\n",
    "            batch_mkpts1 = torch.from_numpy(mkpts1).unsqueeze(0).float().to(device)\n",
    "            pre_t, pre_rot = net(batch_mkpts0, batch_mkpts1)\n",
    "            # pre_t = pre_t.cpu()\n",
    "            # pre_rot = pre_rot.cpu()\n",
    "\n",
    "            # batch_pose0 = torch.from_numpy(pose0).unsqueeze(0).float().to(device)\n",
    "            # batch_pose1 = torch.from_numpy(pose1).unsqueeze(0).float().to(device)\n",
    "            # batch_relative_pose = torch.matmul(batch_pose1, batch_pose0.permute(0, 2, 1))\n",
    "            batch_relative_pose = np.matmul(pose1, np.linalg.inv(pose0))\n",
    "            batch_relative_pose = torch.from_numpy(batch_relative_pose).unsqueeze(0).float().to(device)\n",
    "            t_err, R_err = relative_pose_error(batch_relative_pose, pre_rot, pre_t, ignore_gt_t_thr=0.0)\n",
    "\n",
    "            metrics['t_errs'] = metrics['t_errs'] + np.array(t_err.reshape(-1).cpu().detach().numpy()).tolist()\n",
    "            metrics['R_errs'] = metrics['R_errs'] + np.array(R_err.reshape(-1).cpu().detach().numpy()).tolist()\n",
    "            metrics['identifiers'].append(pair_name)\n",
    "\n",
    "    print(f'Acc: {recall_image}/{all_image}')\n",
    "    val_metrics_4tb = aggregate_metrics(metrics, 5e-4)\n",
    "    val_metrics_4tb['AP50'] = recall_image / all_image\n",
    "    logger.info('\\n' + pprint.pformat(val_metrics_4tb))\n",
    "\n",
    "    res_table.append([f\"{name}\"] + list(val_metrics_4tb.values()))"
   ]
  },
  {
   "cell_type": "code",
   "execution_count": 7,
   "metadata": {},
   "outputs": [
    {
     "name": "stdout",
     "output_type": "stream",
     "text": [
      "╒════════════════╤════════════╤════════════╤═══════════╤═══════════╤═══════════════╤════════════╤════════════╤═══════════╤═══════════╤═══════════════╤══════════╕\n",
      "│ Category       │   R:auc@15 │   R:auc@30 │   R:ACC15 │   R:ACC30 │   R:medianErr │   t:auc@15 │   t:auc@30 │   t:ACC15 │   t:ACC30 │   t:medianErr │     AP50 │\n",
      "╞════════════════╪════════════╪════════════╪═══════════╪═══════════╪═══════════════╪════════════╪════════════╪═══════════╪═══════════╪═══════════════╪══════════╡\n",
      "│ aptamil        │   0.304344 │   0.580806 │  0.676744 │  0.983721 │       10.8678 │  0.0102536 │  0.0510321 │ 0.027907  │  0.153488 │       57.6837 │ 0.915718 │\n",
      "├────────────────┼────────────┼────────────┼───────────┼───────────┼───────────────┼────────────┼────────────┼───────────┼───────────┼───────────────┼──────────┤\n",
      "│ jzhg           │   0.334463 │   0.602746 │  0.697279 │  0.993197 │       10.2906 │  0.0118661 │  0.0516928 │ 0.0442177 │  0.129252 │       59.7026 │ 0.914966 │\n",
      "├────────────────┼────────────┼────────────┼───────────┼───────────┼───────────────┼────────────┼────────────┼───────────┼───────────┼───────────────┼──────────┤\n",
      "│ minipuff       │   0.25215  │   0.531689 │  0.550661 │  0.991189 │       13.477  │  0.0114812 │  0.0540627 │ 0.0352423 │  0.154185 │       55.7625 │ 0.898678 │\n",
      "├────────────────┼────────────┼────────────┼───────────┼───────────┼───────────────┼────────────┼────────────┼───────────┼───────────┼───────────────┼──────────┤\n",
      "│ hlyormosiapie  │   0.302064 │   0.576193 │  0.635036 │  1        │       11.8259 │  0.0185329 │  0.0598588 │ 0.0474453 │  0.167883 │       57.9254 │ 0.956204 │\n",
      "├────────────────┼────────────┼────────────┼───────────┼───────────┼───────────────┼────────────┼────────────┼───────────┼───────────┼───────────────┼──────────┤\n",
      "│ brownhouse     │   0.220449 │   0.499012 │  0.468    │  0.988    │       16.1096 │  0.0166636 │  0.0554046 │ 0.04      │  0.164    │       59.9081 │ 0.796    │\n",
      "├────────────────┼────────────┼────────────┼───────────┼───────────┼───────────────┼────────────┼────────────┼───────────┼───────────┼───────────────┼──────────┤\n",
      "│ oreo           │   0.316578 │   0.593926 │  0.624113 │  0.989362 │       11.6606 │  0.0188741 │  0.0649749 │ 0.0567376 │  0.152482 │       58.3012 │ 0.914894 │\n",
      "├────────────────┼────────────┼────────────┼───────────┼───────────┼───────────────┼────────────┼────────────┼───────────┼───────────┼───────────────┼──────────┤\n",
      "│ mfmilkcake     │   0.261557 │   0.559278 │  0.645604 │  0.989011 │       12.1254 │  0.0148528 │  0.0573941 │ 0.043956  │  0.17033  │       54.2187 │ 0.906593 │\n",
      "├────────────────┼────────────┼────────────┼───────────┼───────────┼───────────────┼────────────┼────────────┼───────────┼───────────┼───────────────┼──────────┤\n",
      "│ diycookies     │   0.329809 │   0.592657 │  0.64918  │  0.990164 │       11.1741 │  0.0187574 │  0.0761598 │ 0.0622951 │  0.203279 │       52.3203 │ 0.845902 │\n",
      "├────────────────┼────────────┼────────────┼───────────┼───────────┼───────────────┼────────────┼────────────┼───────────┼───────────┼───────────────┼──────────┤\n",
      "│ taipingcookies │   0.260053 │   0.54797  │  0.544343 │  0.996942 │       13.6892 │  0.0256068 │  0.0697243 │ 0.0642202 │  0.174312 │       59.2812 │ 0.553517 │\n",
      "├────────────────┼────────────┼────────────┼───────────┼───────────┼───────────────┼────────────┼────────────┼───────────┼───────────┼───────────────┼──────────┤\n",
      "│ tee            │   0.284809 │   0.56774  │  0.618812 │  0.997525 │       11.8231 │  0.0159981 │  0.0599441 │ 0.049505  │  0.178218 │       57.5612 │ 0.747525 │\n",
      "├────────────────┼────────────┼────────────┼───────────┼───────────┼───────────────┼────────────┼────────────┼───────────┼───────────┼───────────────┼──────────┤\n",
      "│ Avg            │   0.286628 │   0.565202 │  0.610977 │  0.991911 │       12.3043 │  0.0162887 │  0.0600248 │ 0.0471526 │  0.164743 │       57.2665 │ 0.845    │\n",
      "╘════════════════╧════════════╧════════════╧═══════════╧═══════════╧═══════════════╧════════════╧════════════╧═══════════╧═══════════╧═══════════════╧══════════╛\n"
     ]
    }
   ],
   "source": [
    "headers = [\"Category\"] + list(val_metrics_4tb.keys())\n",
    "all_data = np.array(res_table)[:, 1:].astype(np.float32)\n",
    "res_table.append([\"Avg\"] + all_data.mean(0).tolist())\n",
    "print(tabulate(res_table, headers=headers, tablefmt='fancy_grid'))"
   ]
  },
  {
   "cell_type": "code",
   "execution_count": null,
   "metadata": {},
   "outputs": [],
   "source": []
  }
 ],
 "metadata": {
  "kernelspec": {
   "display_name": "pope",
   "language": "python",
   "name": "python3"
  },
  "language_info": {
   "codemirror_mode": {
    "name": "ipython",
    "version": 3
   },
   "file_extension": ".py",
   "mimetype": "text/x-python",
   "name": "python",
   "nbconvert_exporter": "python",
   "pygments_lexer": "ipython3",
   "version": "3.8.18"
  }
 },
 "nbformat": 4,
 "nbformat_minor": 2
}
