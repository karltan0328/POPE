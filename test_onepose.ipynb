{
 "cells": [
  {
   "cell_type": "code",
   "execution_count": 1,
   "metadata": {},
   "outputs": [],
   "source": [
    "import os\n",
    "import cv2\n",
    "import json\n",
    "import torch\n",
    "import pprint\n",
    "import numpy as np\n",
    "from tqdm import tqdm\n",
    "from loguru import logger\n",
    "from tabulate import tabulate\n",
    "\n",
    "from pose.utils import collate_fn, geodesic_distance, relative_pose_error, aggregate_metrics, recall_object, project_points"
   ]
  },
  {
   "cell_type": "code",
   "execution_count": 2,
   "metadata": {},
   "outputs": [
    {
     "data": {
      "text/plain": [
       "10"
      ]
     },
     "execution_count": 2,
     "metadata": {},
     "output_type": "execute_result"
    }
   ],
   "source": [
    "with open(\"data/pairs/Onepose-test.json\") as f:\n",
    "    dir_list = json.load(f)\n",
    "len(dir_list)"
   ]
  },
  {
   "cell_type": "code",
   "execution_count": 3,
   "metadata": {},
   "outputs": [],
   "source": [
    "if os.name == 'unix':\n",
    "    ROOT_DIR = 'data/onepose/'\n",
    "elif os.name == 'nt':\n",
    "    ROOT_DIR = 'e:/datasets/OnePose/test_data/'"
   ]
  },
  {
   "cell_type": "code",
   "execution_count": 4,
   "metadata": {},
   "outputs": [],
   "source": [
    "res_table = []"
   ]
  },
  {
   "cell_type": "code",
   "execution_count": 5,
   "metadata": {},
   "outputs": [
    {
     "data": {
      "text/plain": [
       "Mkpts_Reg_Model(\n",
       "  (embedding): Embedding()\n",
       "  (transformerlayer): TransformerEncoderLayer(\n",
       "    (self_attn): MultiheadAttention(\n",
       "      (out_proj): NonDynamicallyQuantizableLinear(in_features=76, out_features=76, bias=True)\n",
       "    )\n",
       "    (linear1): Linear(in_features=76, out_features=2048, bias=True)\n",
       "    (dropout): Dropout(p=0.1, inplace=False)\n",
       "    (linear2): Linear(in_features=2048, out_features=76, bias=True)\n",
       "    (norm1): LayerNorm((76,), eps=1e-05, elementwise_affine=True)\n",
       "    (norm2): LayerNorm((76,), eps=1e-05, elementwise_affine=True)\n",
       "    (dropout1): Dropout(p=0.1, inplace=False)\n",
       "    (dropout2): Dropout(p=0.1, inplace=False)\n",
       "  )\n",
       "  (transformer): TransformerEncoder(\n",
       "    (layers): ModuleList(\n",
       "      (0-3): 4 x TransformerEncoderLayer(\n",
       "        (self_attn): MultiheadAttention(\n",
       "          (out_proj): NonDynamicallyQuantizableLinear(in_features=76, out_features=76, bias=True)\n",
       "        )\n",
       "        (linear1): Linear(in_features=76, out_features=2048, bias=True)\n",
       "        (dropout): Dropout(p=0.1, inplace=False)\n",
       "        (linear2): Linear(in_features=2048, out_features=76, bias=True)\n",
       "        (norm1): LayerNorm((76,), eps=1e-05, elementwise_affine=True)\n",
       "        (norm2): LayerNorm((76,), eps=1e-05, elementwise_affine=True)\n",
       "        (dropout1): Dropout(p=0.1, inplace=False)\n",
       "        (dropout2): Dropout(p=0.1, inplace=False)\n",
       "      )\n",
       "    )\n",
       "  )\n",
       "  (translation_head): Linear(in_features=128, out_features=3, bias=True)\n",
       "  (rotation_head): Linear(in_features=128, out_features=6, bias=True)\n",
       "  (mlp): Sequential(\n",
       "    (0): Linear(in_features=228000, out_features=128, bias=True)\n",
       "    (1): LeakyReLU(negative_slope=0.01)\n",
       "    (2): Linear(in_features=128, out_features=128, bias=True)\n",
       "  )\n",
       ")"
      ]
     },
     "execution_count": 5,
     "metadata": {},
     "output_type": "execute_result"
    }
   ],
   "source": [
    "device = torch.device('cuda' if torch.cuda.is_available() else 'cpu')\n",
    "# device = 'cpu'\n",
    "\n",
    "num_sample = 3000\n",
    "\n",
    "net = torch.load('./weights/onepose-6d-3000-2024-01-05-22-20-02-0.9768.pth').to(device)\n",
    "\n",
    "net.eval()"
   ]
  },
  {
   "cell_type": "code",
   "execution_count": 6,
   "metadata": {},
   "outputs": [
    {
     "name": "stderr",
     "output_type": "stream",
     "text": [
      "\u001b[32m2024-01-05 22:20:52.202\u001b[0m | \u001b[1mINFO    \u001b[0m | \u001b[36m__main__\u001b[0m:\u001b[36m<module>\u001b[0m:\u001b[36m2\u001b[0m - \u001b[1mOnepose: 1/10\u001b[0m\n",
      "100%|██████████| 66/66 [00:03<00:00, 18.37it/s]\n",
      "100%|██████████| 120/120 [00:02<00:00, 43.39it/s]\n",
      "100%|██████████| 107/107 [00:02<00:00, 48.38it/s]\n",
      "100%|██████████| 59/59 [00:01<00:00, 48.70it/s]\n",
      "100%|██████████| 41/41 [00:00<00:00, 49.38it/s]\n",
      "100%|██████████| 46/46 [00:00<00:00, 50.68it/s]\n",
      "\u001b[32m2024-01-05 22:21:03.746\u001b[0m | \u001b[1mINFO    \u001b[0m | \u001b[36m__main__\u001b[0m:\u001b[36m<module>\u001b[0m:\u001b[36m86\u001b[0m - \u001b[1m\n",
      "{'AP50': 0.9157175398633257,\n",
      " 'R:ACC15': 0.1813953488372093,\n",
      " 'R:ACC30': 0.3930232558139535,\n",
      " 'R:auc@15': 0.05920264558274617,\n",
      " 'R:auc@30': 0.18180772428364717,\n",
      " 'R:medianErr': 44.934865951538086,\n",
      " 't:ACC15': 0.8465116279069768,\n",
      " 't:ACC30': 0.9883720930232558,\n",
      " 't:auc@15': 0.4008286370510279,\n",
      " 't:auc@30': 0.6762125902074252,\n",
      " 't:medianErr': 8.838622093200684}\u001b[0m\n",
      "\u001b[32m2024-01-05 22:21:03.747\u001b[0m | \u001b[1mINFO    \u001b[0m | \u001b[36m__main__\u001b[0m:\u001b[36m<module>\u001b[0m:\u001b[36m2\u001b[0m - \u001b[1mOnepose: 2/10\u001b[0m\n"
     ]
    },
    {
     "name": "stdout",
     "output_type": "stream",
     "text": [
      "Acc: 402/439\n"
     ]
    },
    {
     "name": "stderr",
     "output_type": "stream",
     "text": [
      "100%|██████████| 45/45 [00:01<00:00, 42.60it/s]\n",
      "100%|██████████| 91/91 [00:02<00:00, 42.70it/s]\n",
      "100%|██████████| 62/62 [00:01<00:00, 49.36it/s]\n",
      "100%|██████████| 28/28 [00:00<00:00, 50.28it/s]\n",
      "100%|██████████| 34/34 [00:00<00:00, 49.68it/s]\n",
      "100%|██████████| 34/34 [00:00<00:00, 52.97it/s]\n",
      "\u001b[32m2024-01-05 22:21:10.090\u001b[0m | \u001b[1mINFO    \u001b[0m | \u001b[36m__main__\u001b[0m:\u001b[36m<module>\u001b[0m:\u001b[36m86\u001b[0m - \u001b[1m\n",
      "{'AP50': 0.9149659863945578,\n",
      " 'R:ACC15': 0.17687074829931973,\n",
      " 'R:ACC30': 0.35034013605442177,\n",
      " 'R:auc@15': 0.05659367025844634,\n",
      " 'R:auc@30': 0.17643143735369857,\n",
      " 'R:medianErr': 42.62068176269531,\n",
      " 't:ACC15': 0.7687074829931972,\n",
      " 't:ACC30': 0.9965986394557823,\n",
      " 't:auc@15': 0.3033409126626661,\n",
      " 't:auc@30': 0.6143591281981154,\n",
      " 't:medianErr': 10.878254890441895}\u001b[0m\n",
      "\u001b[32m2024-01-05 22:21:10.091\u001b[0m | \u001b[1mINFO    \u001b[0m | \u001b[36m__main__\u001b[0m:\u001b[36m<module>\u001b[0m:\u001b[36m2\u001b[0m - \u001b[1mOnepose: 3/10\u001b[0m\n"
     ]
    },
    {
     "name": "stdout",
     "output_type": "stream",
     "text": [
      "Acc: 269/294\n"
     ]
    },
    {
     "name": "stderr",
     "output_type": "stream",
     "text": [
      "100%|██████████| 30/30 [00:00<00:00, 49.16it/s]\n",
      "100%|██████████| 40/40 [00:00<00:00, 50.52it/s]\n",
      "100%|██████████| 43/43 [00:00<00:00, 49.94it/s]\n",
      "100%|██████████| 39/39 [00:00<00:00, 48.80it/s]\n",
      "100%|██████████| 45/45 [00:00<00:00, 48.83it/s]\n",
      "100%|██████████| 30/30 [00:00<00:00, 48.69it/s]\n",
      "\u001b[32m2024-01-05 22:21:14.709\u001b[0m | \u001b[1mINFO    \u001b[0m | \u001b[36m__main__\u001b[0m:\u001b[36m<module>\u001b[0m:\u001b[36m86\u001b[0m - \u001b[1m\n",
      "{'AP50': 0.8986784140969163,\n",
      " 'R:ACC15': 0.2643171806167401,\n",
      " 'R:ACC30': 0.47577092511013214,\n",
      " 'R:auc@15': 0.11041578903422308,\n",
      " 'R:auc@30': 0.23889460451627442,\n",
      " 'R:medianErr': 35.80271530151367,\n",
      " 't:ACC15': 0.6475770925110133,\n",
      " 't:ACC30': 0.9823788546255506,\n",
      " 't:auc@15': 0.25430434156269405,\n",
      " 't:auc@30': 0.5653903112712586,\n",
      " 't:medianErr': 12.093002319335938}\u001b[0m\n",
      "\u001b[32m2024-01-05 22:21:14.710\u001b[0m | \u001b[1mINFO    \u001b[0m | \u001b[36m__main__\u001b[0m:\u001b[36m<module>\u001b[0m:\u001b[36m2\u001b[0m - \u001b[1mOnepose: 4/10\u001b[0m\n"
     ]
    },
    {
     "name": "stdout",
     "output_type": "stream",
     "text": [
      "Acc: 204/227\n"
     ]
    },
    {
     "name": "stderr",
     "output_type": "stream",
     "text": [
      "100%|██████████| 48/48 [00:01<00:00, 47.32it/s]\n",
      "100%|██████████| 51/51 [00:01<00:00, 45.43it/s]\n",
      "100%|██████████| 66/66 [00:01<00:00, 39.81it/s]\n",
      "100%|██████████| 39/39 [00:00<00:00, 54.57it/s]\n",
      "100%|██████████| 41/41 [00:00<00:00, 60.69it/s]\n",
      "100%|██████████| 29/29 [00:00<00:00, 41.03it/s]\n",
      "\u001b[32m2024-01-05 22:21:20.621\u001b[0m | \u001b[1mINFO    \u001b[0m | \u001b[36m__main__\u001b[0m:\u001b[36m<module>\u001b[0m:\u001b[36m86\u001b[0m - \u001b[1m\n",
      "{'AP50': 0.9562043795620438,\n",
      " 'R:ACC15': 0.24817518248175183,\n",
      " 'R:ACC30': 0.4416058394160584,\n",
      " 'R:auc@15': 0.0949194867535519,\n",
      " 'R:auc@30': 0.22368410973653308,\n",
      " 'R:medianErr': 41.4505672454834,\n",
      " 't:ACC15': 0.5364963503649635,\n",
      " 't:ACC30': 0.9817518248175182,\n",
      " 't:auc@15': 0.17777169272847418,\n",
      " 't:auc@30': 0.5038098012443876,\n",
      " 't:medianErr': 14.358899116516113}\u001b[0m\n",
      "\u001b[32m2024-01-05 22:21:20.622\u001b[0m | \u001b[1mINFO    \u001b[0m | \u001b[36m__main__\u001b[0m:\u001b[36m<module>\u001b[0m:\u001b[36m2\u001b[0m - \u001b[1mOnepose: 5/10\u001b[0m\n"
     ]
    },
    {
     "name": "stdout",
     "output_type": "stream",
     "text": [
      "Acc: 262/274\n"
     ]
    },
    {
     "name": "stderr",
     "output_type": "stream",
     "text": [
      "100%|██████████| 37/37 [00:00<00:00, 50.11it/s]\n",
      "100%|██████████| 30/30 [00:00<00:00, 45.82it/s]\n",
      "100%|██████████| 41/41 [00:01<00:00, 36.31it/s]\n",
      "100%|██████████| 48/48 [00:01<00:00, 45.11it/s]\n",
      "100%|██████████| 34/34 [00:00<00:00, 46.55it/s]\n",
      "100%|██████████| 60/60 [00:01<00:00, 48.56it/s]\n",
      "\u001b[32m2024-01-05 22:21:26.197\u001b[0m | \u001b[1mINFO    \u001b[0m | \u001b[36m__main__\u001b[0m:\u001b[36m<module>\u001b[0m:\u001b[36m86\u001b[0m - \u001b[1m\n",
      "{'AP50': 0.796,\n",
      " 'R:ACC15': 0.036,\n",
      " 'R:ACC30': 0.12,\n",
      " 'R:auc@15': 0.010312250391642254,\n",
      " 'R:auc@30': 0.043143032010396314,\n",
      " 'R:medianErr': 105.38240432739258,\n",
      " 't:ACC15': 0.688,\n",
      " 't:ACC30': 0.98,\n",
      " 't:auc@15': 0.3045899465958277,\n",
      " 't:auc@30': 0.5909591375867527,\n",
      " 't:medianErr': 10.826921463012695}\u001b[0m\n",
      "\u001b[32m2024-01-05 22:21:26.198\u001b[0m | \u001b[1mINFO    \u001b[0m | \u001b[36m__main__\u001b[0m:\u001b[36m<module>\u001b[0m:\u001b[36m2\u001b[0m - \u001b[1mOnepose: 6/10\u001b[0m\n"
     ]
    },
    {
     "name": "stdout",
     "output_type": "stream",
     "text": [
      "Acc: 199/250\n"
     ]
    },
    {
     "name": "stderr",
     "output_type": "stream",
     "text": [
      "100%|██████████| 63/63 [00:01<00:00, 44.51it/s]\n",
      "100%|██████████| 53/53 [00:01<00:00, 43.77it/s]\n",
      "100%|██████████| 45/45 [00:00<00:00, 45.39it/s]\n",
      "100%|██████████| 50/50 [00:01<00:00, 45.96it/s]\n",
      "100%|██████████| 35/35 [00:00<00:00, 45.59it/s]\n",
      "100%|██████████| 36/36 [00:00<00:00, 47.63it/s]\n",
      "\u001b[32m2024-01-05 22:21:32.448\u001b[0m | \u001b[1mINFO    \u001b[0m | \u001b[36m__main__\u001b[0m:\u001b[36m<module>\u001b[0m:\u001b[36m86\u001b[0m - \u001b[1m\n",
      "{'AP50': 0.9148936170212766,\n",
      " 'R:ACC15': 0.1347517730496454,\n",
      " 'R:ACC30': 0.6453900709219859,\n",
      " 'R:auc@15': 0.044481218622085886,\n",
      " 'R:auc@30': 0.2233908191076689,\n",
      " 'R:medianErr': 25.230935096740723,\n",
      " 't:ACC15': 0.7411347517730497,\n",
      " 't:ACC30': 0.9964539007092199,\n",
      " 't:auc@15': 0.34260870128095006,\n",
      " 't:auc@30': 0.6337543243916604,\n",
      " 't:medianErr': 10.14711332321167}\u001b[0m\n",
      "\u001b[32m2024-01-05 22:21:32.449\u001b[0m | \u001b[1mINFO    \u001b[0m | \u001b[36m__main__\u001b[0m:\u001b[36m<module>\u001b[0m:\u001b[36m2\u001b[0m - \u001b[1mOnepose: 7/10\u001b[0m\n"
     ]
    },
    {
     "name": "stdout",
     "output_type": "stream",
     "text": [
      "Acc: 258/282\n"
     ]
    },
    {
     "name": "stderr",
     "output_type": "stream",
     "text": [
      "100%|██████████| 37/37 [00:00<00:00, 45.29it/s]\n",
      "100%|██████████| 80/80 [00:01<00:00, 44.91it/s]\n",
      "100%|██████████| 109/109 [00:02<00:00, 46.32it/s]\n",
      "100%|██████████| 55/55 [00:01<00:00, 47.97it/s]\n",
      "100%|██████████| 43/43 [00:00<00:00, 44.01it/s]\n",
      "100%|██████████| 40/40 [00:00<00:00, 42.91it/s]\n",
      "\u001b[32m2024-01-05 22:21:40.479\u001b[0m | \u001b[1mINFO    \u001b[0m | \u001b[36m__main__\u001b[0m:\u001b[36m<module>\u001b[0m:\u001b[36m86\u001b[0m - \u001b[1m\n",
      "{'AP50': 0.9065934065934066,\n",
      " 'R:ACC15': 0.10714285714285714,\n",
      " 'R:ACC30': 0.2774725274725275,\n",
      " 'R:auc@15': 0.04718605031023969,\n",
      " 'R:auc@30': 0.11060487333234853,\n",
      " 'R:medianErr': 57.38472938537598,\n",
      " 't:ACC15': 0.6813186813186813,\n",
      " 't:ACC30': 0.9752747252747253,\n",
      " 't:auc@15': 0.28551376809130663,\n",
      " 't:auc@30': 0.5764867969484994,\n",
      " 't:medianErr': 11.395231246948242}\u001b[0m\n",
      "\u001b[32m2024-01-05 22:21:40.479\u001b[0m | \u001b[1mINFO    \u001b[0m | \u001b[36m__main__\u001b[0m:\u001b[36m<module>\u001b[0m:\u001b[36m2\u001b[0m - \u001b[1mOnepose: 8/10\u001b[0m\n"
     ]
    },
    {
     "name": "stdout",
     "output_type": "stream",
     "text": [
      "Acc: 330/364\n"
     ]
    },
    {
     "name": "stderr",
     "output_type": "stream",
     "text": [
      "100%|██████████| 76/76 [00:01<00:00, 43.26it/s]\n",
      "100%|██████████| 55/55 [00:01<00:00, 43.32it/s]\n",
      "100%|██████████| 62/62 [00:01<00:00, 46.14it/s]\n",
      "100%|██████████| 44/44 [00:00<00:00, 44.68it/s]\n",
      "100%|██████████| 43/43 [00:00<00:00, 47.17it/s]\n",
      "100%|██████████| 25/25 [00:00<00:00, 48.71it/s]\n",
      "\u001b[32m2024-01-05 22:21:47.281\u001b[0m | \u001b[1mINFO    \u001b[0m | \u001b[36m__main__\u001b[0m:\u001b[36m<module>\u001b[0m:\u001b[36m86\u001b[0m - \u001b[1m\n",
      "{'AP50': 0.8459016393442623,\n",
      " 'R:ACC15': 0.18360655737704917,\n",
      " 'R:ACC30': 0.43934426229508194,\n",
      " 'R:auc@15': 0.06234972561643423,\n",
      " 'R:auc@30': 0.19834973470109407,\n",
      " 'R:medianErr': 40.006710052490234,\n",
      " 't:ACC15': 0.45901639344262296,\n",
      " 't:ACC30': 0.9016393442622951,\n",
      " 't:auc@15': 0.19149427989792953,\n",
      " 't:auc@30': 0.4556019436596522,\n",
      " 't:medianErr': 15.865317344665527}\u001b[0m\n",
      "\u001b[32m2024-01-05 22:21:47.281\u001b[0m | \u001b[1mINFO    \u001b[0m | \u001b[36m__main__\u001b[0m:\u001b[36m<module>\u001b[0m:\u001b[36m2\u001b[0m - \u001b[1mOnepose: 9/10\u001b[0m\n"
     ]
    },
    {
     "name": "stdout",
     "output_type": "stream",
     "text": [
      "Acc: 258/305\n"
     ]
    },
    {
     "name": "stderr",
     "output_type": "stream",
     "text": [
      "100%|██████████| 45/45 [00:00<00:00, 45.69it/s]\n",
      "100%|██████████| 65/65 [00:01<00:00, 44.96it/s]\n",
      "100%|██████████| 59/59 [00:01<00:00, 46.96it/s]\n",
      "100%|██████████| 67/67 [00:01<00:00, 46.70it/s]\n",
      "100%|██████████| 57/57 [00:01<00:00, 47.01it/s]\n",
      "100%|██████████| 34/34 [00:00<00:00, 47.09it/s]\n",
      "\u001b[32m2024-01-05 22:21:54.356\u001b[0m | \u001b[1mINFO    \u001b[0m | \u001b[36m__main__\u001b[0m:\u001b[36m<module>\u001b[0m:\u001b[36m86\u001b[0m - \u001b[1m\n",
      "{'AP50': 0.5535168195718655,\n",
      " 'R:ACC15': 0.2324159021406728,\n",
      " 'R:ACC30': 0.5412844036697247,\n",
      " 'R:auc@15': 0.06493458193741078,\n",
      " 'R:auc@30': 0.2412858520443651,\n",
      " 'R:medianErr': 26.727766036987305,\n",
      " 't:ACC15': 0.7889908256880734,\n",
      " 't:ACC30': 0.9908256880733946,\n",
      " 't:auc@15': 0.34665656374438947,\n",
      " 't:auc@30': 0.6463109103805186,\n",
      " 't:medianErr': 10.336851119995117}\u001b[0m\n",
      "\u001b[32m2024-01-05 22:21:54.357\u001b[0m | \u001b[1mINFO    \u001b[0m | \u001b[36m__main__\u001b[0m:\u001b[36m<module>\u001b[0m:\u001b[36m2\u001b[0m - \u001b[1mOnepose: 10/10\u001b[0m\n"
     ]
    },
    {
     "name": "stdout",
     "output_type": "stream",
     "text": [
      "Acc: 181/327\n"
     ]
    },
    {
     "name": "stderr",
     "output_type": "stream",
     "text": [
      "100%|██████████| 55/55 [00:01<00:00, 40.16it/s]\n",
      "100%|██████████| 98/98 [00:02<00:00, 43.42it/s]\n",
      "100%|██████████| 87/87 [00:01<00:00, 46.92it/s]\n",
      "100%|██████████| 87/87 [00:01<00:00, 46.51it/s]\n",
      "100%|██████████| 45/45 [00:00<00:00, 48.34it/s]\n",
      "100%|██████████| 32/32 [00:00<00:00, 47.65it/s]\n",
      "\u001b[32m2024-01-05 22:22:03.333\u001b[0m | \u001b[1mINFO    \u001b[0m | \u001b[36m__main__\u001b[0m:\u001b[36m<module>\u001b[0m:\u001b[36m86\u001b[0m - \u001b[1m\n",
      "{'AP50': 0.7475247524752475,\n",
      " 'R:ACC15': 0.15346534653465346,\n",
      " 'R:ACC30': 0.6089108910891089,\n",
      " 'R:auc@15': 0.03759496133319616,\n",
      " 'R:auc@30': 0.23101337211753675,\n",
      " 'R:medianErr': 24.494354248046875,\n",
      " 't:ACC15': 0.7153465346534653,\n",
      " 't:ACC30': 0.9752475247524752,\n",
      " 't:auc@15': 0.27836935661806916,\n",
      " 't:auc@30': 0.5895678637838206,\n",
      " 't:medianErr': 11.17952299118042}\u001b[0m\n"
     ]
    },
    {
     "name": "stdout",
     "output_type": "stream",
     "text": [
      "Acc: 302/404\n"
     ]
    }
   ],
   "source": [
    "for label_idx, test_dict in enumerate(dir_list):\n",
    "    logger.info(f\"Onepose: {label_idx + 1}/{len(dir_list)}\")\n",
    "    metrics = dict()\n",
    "    metrics.update({'R_errs':[], 't_errs':[], 'inliers':[], \"identifiers\":[]})\n",
    "    sample_data = dir_list[label_idx][\"0\"][0]\n",
    "    label = sample_data.split(\"/\")[0]\n",
    "    name = label.split(\"-\")[1]\n",
    "    dir_name = os.path.dirname(sample_data)\n",
    "    FULL_ROOT_DIR = os.path.join(ROOT_DIR, dir_name)\n",
    "    recall_image, all_image = 0, 0\n",
    "    for rotation_key, rotation_list in zip(test_dict.keys(), test_dict.values()):\n",
    "        for pair_idx, pair_name in enumerate(tqdm(rotation_list)):\n",
    "            all_image = all_image + 1\n",
    "            base_name = os.path.basename(pair_name)\n",
    "            idx0_name = base_name.split(\"-\")[0]\n",
    "            idx1_name = base_name.split(\"-\")[1]\n",
    "            image0_name = os.path.join(FULL_ROOT_DIR, idx0_name)\n",
    "            image1_name = os.path.join(FULL_ROOT_DIR.replace(\"color\", \"color\"), idx1_name)\n",
    "\n",
    "            K0_path = image0_name.replace(\"color\", \"intrin_ba\").replace(\"png\", \"txt\")\n",
    "            K1_path = image1_name.replace(\"color\", \"intrin_ba\").replace(\"png\", \"txt\")\n",
    "            K0 = np.loadtxt(K0_path)\n",
    "            K1 = np.loadtxt(K1_path)\n",
    "\n",
    "            pose0_path = image0_name.replace(\"color\", \"poses_ba\").replace(\"png\", \"txt\")\n",
    "            pose1_path = image1_name.replace(\"color\", \"poses_ba\").replace(\"png\", \"txt\")\n",
    "            pose0 = np.loadtxt(pose0_path)\n",
    "            pose1 = np.loadtxt(pose1_path)\n",
    "            if pose0.shape[0] == 3:\n",
    "                pose0 = np.concatenate([pose0, np.array([[0, 0, 0, 1]])], axis=0)\n",
    "                pose1 = np.concatenate([pose1, np.array([[0, 0, 0, 1]])], axis=0)\n",
    "\n",
    "            points_file_path = os.path.join('d:/git_project/POPE/data/onepose-points/', pair_name.split(\"/\")[0])\n",
    "            pre_bbox_path = os.path.join(points_file_path, \"pre_bbox\")\n",
    "            mkpts0_path = os.path.join(points_file_path, \"mkpts0\")\n",
    "            mkpts1_path = os.path.join(points_file_path, \"mkpts1\")\n",
    "            pre_K_path = os.path.join(points_file_path, \"pre_K\")\n",
    "            points_name = pair_name.split(\"/\")[-1]\n",
    "            pre_bbox_path = os.path.join(pre_bbox_path, f'{points_name}.txt')\n",
    "            mkpts0_path = os.path.join(mkpts0_path, f'{points_name}.txt')\n",
    "            mkpts1_path = os.path.join(mkpts1_path, f'{points_name}.txt')\n",
    "            pre_K_path = os.path.join(pre_K_path, f'{points_name}.txt')\n",
    "\n",
    "            if not os.path.exists(pre_bbox_path):\n",
    "                continue\n",
    "            pre_bbox = np.loadtxt(pre_bbox_path)\n",
    "            mkpts0 = np.loadtxt(mkpts0_path)\n",
    "            mkpts1 = np.loadtxt(mkpts1_path)\n",
    "            pre_K = np.loadtxt(pre_K_path)\n",
    "\n",
    "            if mkpts0.shape[0] > num_sample:\n",
    "                rand_idx = np.random.choice(mkpts0.shape[0], num_sample, replace=False)\n",
    "                mkpts0 = mkpts0[rand_idx]\n",
    "                mkpts1 = mkpts1[rand_idx]\n",
    "            else:\n",
    "                mkpts0 = np.concatenate([mkpts0, np.zeros((num_sample - mkpts0.shape[0], 2))], axis=0)\n",
    "                mkpts1 = np.concatenate([mkpts1, np.zeros((num_sample - mkpts1.shape[0], 2))], axis=0)\n",
    "\n",
    "            _3d_bbox = np.loadtxt(f\"{os.path.join(ROOT_DIR, label)}/box3d_corners.txt\")\n",
    "            bbox_pts_3d, _ = project_points(_3d_bbox, pose1[:3, :4], K1)\n",
    "            bbox_pts_3d = bbox_pts_3d.astype(np.int32)\n",
    "            x0, y0, w, h = cv2.boundingRect(bbox_pts_3d)\n",
    "            x1, y1 = x0 + w, y0 + h\n",
    "            gt_bbox = np.array([x0, y0, x1, y1])\n",
    "            is_recalled = recall_object(pre_bbox, gt_bbox)\n",
    "            recall_image = recall_image + int(is_recalled > 0.5)\n",
    "\n",
    "            batch_mkpts0 = torch.from_numpy(mkpts0).unsqueeze(0).float().to(device)\n",
    "            batch_mkpts1 = torch.from_numpy(mkpts1).unsqueeze(0).float().to(device)\n",
    "            pre_t, pre_rot = net(batch_mkpts0, batch_mkpts1)\n",
    "            # pre_t = pre_t.cpu()\n",
    "            # pre_rot = pre_rot.cpu()\n",
    "\n",
    "            batch_pose0 = torch.from_numpy(pose0).unsqueeze(0).float().to(device)\n",
    "            batch_pose1 = torch.from_numpy(pose1).unsqueeze(0).float().to(device)\n",
    "            # batch_relative_pose = torch.matmul(batch_pose1, batch_pose0.permute(0, 2, 1))\n",
    "            t_err, R_err = relative_pose_error(batch_pose1, pre_rot, pre_t, ignore_gt_t_thr=0.0)\n",
    "\n",
    "            metrics['t_errs'] = metrics['t_errs'] + np.array(t_err.reshape(-1).cpu().detach().numpy()).tolist()\n",
    "            metrics['R_errs'] = metrics['R_errs'] + np.array(R_err.reshape(-1).cpu().detach().numpy()).tolist()\n",
    "            metrics['identifiers'].append(pair_name)\n",
    "\n",
    "    print(f'Acc: {recall_image}/{all_image}')\n",
    "    val_metrics_4tb = aggregate_metrics(metrics, 5e-4)\n",
    "    val_metrics_4tb['AP50'] = recall_image / all_image\n",
    "    logger.info('\\n' + pprint.pformat(val_metrics_4tb))\n",
    "\n",
    "    res_table.append([f\"{name}\"] + list(val_metrics_4tb.values()))"
   ]
  },
  {
   "cell_type": "code",
   "execution_count": 7,
   "metadata": {},
   "outputs": [
    {
     "name": "stdout",
     "output_type": "stream",
     "text": [
      "╒════════════════╤════════════╤════════════╤═══════════╤═══════════╤═══════════════╤════════════╤════════════╤═══════════╤═══════════╤═══════════════╤══════════╕\n",
      "│ Category       │   R:auc@15 │   R:auc@30 │   R:ACC15 │   R:ACC30 │   R:medianErr │   t:auc@15 │   t:auc@30 │   t:ACC15 │   t:ACC30 │   t:medianErr │     AP50 │\n",
      "╞════════════════╪════════════╪════════════╪═══════════╪═══════════╪═══════════════╪════════════╪════════════╪═══════════╪═══════════╪═══════════════╪══════════╡\n",
      "│ aptamil        │  0.0592026 │   0.181808 │  0.181395 │  0.393023 │       44.9349 │   0.400829 │   0.676213 │  0.846512 │  0.988372 │       8.83862 │ 0.915718 │\n",
      "├────────────────┼────────────┼────────────┼───────────┼───────────┼───────────────┼────────────┼────────────┼───────────┼───────────┼───────────────┼──────────┤\n",
      "│ jzhg           │  0.0565937 │   0.176431 │  0.176871 │  0.35034  │       42.6207 │   0.303341 │   0.614359 │  0.768707 │  0.996599 │      10.8783  │ 0.914966 │\n",
      "├────────────────┼────────────┼────────────┼───────────┼───────────┼───────────────┼────────────┼────────────┼───────────┼───────────┼───────────────┼──────────┤\n",
      "│ minipuff       │  0.110416  │   0.238895 │  0.264317 │  0.475771 │       35.8027 │   0.254304 │   0.56539  │  0.647577 │  0.982379 │      12.093   │ 0.898678 │\n",
      "├────────────────┼────────────┼────────────┼───────────┼───────────┼───────────────┼────────────┼────────────┼───────────┼───────────┼───────────────┼──────────┤\n",
      "│ hlyormosiapie  │  0.0949195 │   0.223684 │  0.248175 │  0.441606 │       41.4506 │   0.177772 │   0.50381  │  0.536496 │  0.981752 │      14.3589  │ 0.956204 │\n",
      "├────────────────┼────────────┼────────────┼───────────┼───────────┼───────────────┼────────────┼────────────┼───────────┼───────────┼───────────────┼──────────┤\n",
      "│ brownhouse     │  0.0103123 │   0.043143 │  0.036    │  0.12     │      105.382  │   0.30459  │   0.590959 │  0.688    │  0.98     │      10.8269  │ 0.796    │\n",
      "├────────────────┼────────────┼────────────┼───────────┼───────────┼───────────────┼────────────┼────────────┼───────────┼───────────┼───────────────┼──────────┤\n",
      "│ oreo           │  0.0444812 │   0.223391 │  0.134752 │  0.64539  │       25.2309 │   0.342609 │   0.633754 │  0.741135 │  0.996454 │      10.1471  │ 0.914894 │\n",
      "├────────────────┼────────────┼────────────┼───────────┼───────────┼───────────────┼────────────┼────────────┼───────────┼───────────┼───────────────┼──────────┤\n",
      "│ mfmilkcake     │  0.0471861 │   0.110605 │  0.107143 │  0.277473 │       57.3847 │   0.285514 │   0.576487 │  0.681319 │  0.975275 │      11.3952  │ 0.906593 │\n",
      "├────────────────┼────────────┼────────────┼───────────┼───────────┼───────────────┼────────────┼────────────┼───────────┼───────────┼───────────────┼──────────┤\n",
      "│ diycookies     │  0.0623497 │   0.19835  │  0.183607 │  0.439344 │       40.0067 │   0.191494 │   0.455602 │  0.459016 │  0.901639 │      15.8653  │ 0.845902 │\n",
      "├────────────────┼────────────┼────────────┼───────────┼───────────┼───────────────┼────────────┼────────────┼───────────┼───────────┼───────────────┼──────────┤\n",
      "│ taipingcookies │  0.0649346 │   0.241286 │  0.232416 │  0.541284 │       26.7278 │   0.346657 │   0.646311 │  0.788991 │  0.990826 │      10.3369  │ 0.553517 │\n",
      "├────────────────┼────────────┼────────────┼───────────┼───────────┼───────────────┼────────────┼────────────┼───────────┼───────────┼───────────────┼──────────┤\n",
      "│ tee            │  0.037595  │   0.231013 │  0.153465 │  0.608911 │       24.4944 │   0.278369 │   0.589568 │  0.715347 │  0.975248 │      11.1795  │ 0.747525 │\n",
      "├────────────────┼────────────┼────────────┼───────────┼───────────┼───────────────┼────────────┼────────────┼───────────┼───────────┼───────────────┼──────────┤\n",
      "│ Avg            │  0.058799  │   0.186861 │  0.171814 │  0.429314 │       44.4036 │   0.288548 │   0.585245 │  0.68731  │  0.976854 │      11.592   │ 0.845    │\n",
      "╘════════════════╧════════════╧════════════╧═══════════╧═══════════╧═══════════════╧════════════╧════════════╧═══════════╧═══════════╧═══════════════╧══════════╛\n"
     ]
    }
   ],
   "source": [
    "headers = [\"Category\"] + list(val_metrics_4tb.keys())\n",
    "all_data = np.array(res_table)[:, 1:].astype(np.float32)\n",
    "res_table.append([\"Avg\"] + all_data.mean(0).tolist())\n",
    "print(tabulate(res_table, headers=headers, tablefmt='fancy_grid'))"
   ]
  },
  {
   "cell_type": "code",
   "execution_count": null,
   "metadata": {},
   "outputs": [],
   "source": []
  }
 ],
 "metadata": {
  "kernelspec": {
   "display_name": "pope",
   "language": "python",
   "name": "python3"
  },
  "language_info": {
   "codemirror_mode": {
    "name": "ipython",
    "version": 3
   },
   "file_extension": ".py",
   "mimetype": "text/x-python",
   "name": "python",
   "nbconvert_exporter": "python",
   "pygments_lexer": "ipython3",
   "version": "3.8.18"
  }
 },
 "nbformat": 4,
 "nbformat_minor": 2
}
