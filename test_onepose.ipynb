{
 "cells": [
  {
   "cell_type": "code",
   "execution_count": 1,
   "metadata": {},
   "outputs": [],
   "source": [
    "import os\n",
    "import cv2\n",
    "import json\n",
    "import torch\n",
    "import pprint\n",
    "import numpy as np\n",
    "from tqdm import tqdm\n",
    "from loguru import logger\n",
    "from tabulate import tabulate\n",
    "\n",
    "from pose.utils import collate_fn, geodesic_distance, relative_pose_error, aggregate_metrics, recall_object, project_points"
   ]
  },
  {
   "cell_type": "code",
   "execution_count": 2,
   "metadata": {},
   "outputs": [
    {
     "data": {
      "text/plain": [
       "10"
      ]
     },
     "execution_count": 2,
     "metadata": {},
     "output_type": "execute_result"
    }
   ],
   "source": [
    "with open(\"data/pairs/Onepose-test.json\") as f:\n",
    "    dir_list = json.load(f)\n",
    "len(dir_list)"
   ]
  },
  {
   "cell_type": "code",
   "execution_count": 3,
   "metadata": {},
   "outputs": [],
   "source": [
    "if os.name == 'unix':\n",
    "    ROOT_DIR = 'data/onepose/'\n",
    "elif os.name == 'nt':\n",
    "    ROOT_DIR = 'e:/datasets/OnePose/test_data/'"
   ]
  },
  {
   "cell_type": "code",
   "execution_count": 4,
   "metadata": {},
   "outputs": [],
   "source": [
    "res_table = []"
   ]
  },
  {
   "cell_type": "code",
   "execution_count": 5,
   "metadata": {},
   "outputs": [
    {
     "data": {
      "text/plain": [
       "Mkpts_Reg_Model(\n",
       "  (embedding): Embedding()\n",
       "  (transformerlayer): TransformerEncoderLayer(\n",
       "    (self_attn): MultiheadAttention(\n",
       "      (out_proj): NonDynamicallyQuantizableLinear(in_features=76, out_features=76, bias=True)\n",
       "    )\n",
       "    (linear1): Linear(in_features=76, out_features=2048, bias=True)\n",
       "    (dropout): Dropout(p=0.1, inplace=False)\n",
       "    (linear2): Linear(in_features=2048, out_features=76, bias=True)\n",
       "    (norm1): LayerNorm((76,), eps=1e-05, elementwise_affine=True)\n",
       "    (norm2): LayerNorm((76,), eps=1e-05, elementwise_affine=True)\n",
       "    (dropout1): Dropout(p=0.1, inplace=False)\n",
       "    (dropout2): Dropout(p=0.1, inplace=False)\n",
       "  )\n",
       "  (transformer): TransformerEncoder(\n",
       "    (layers): ModuleList(\n",
       "      (0-3): 4 x TransformerEncoderLayer(\n",
       "        (self_attn): MultiheadAttention(\n",
       "          (out_proj): NonDynamicallyQuantizableLinear(in_features=76, out_features=76, bias=True)\n",
       "        )\n",
       "        (linear1): Linear(in_features=76, out_features=2048, bias=True)\n",
       "        (dropout): Dropout(p=0.1, inplace=False)\n",
       "        (linear2): Linear(in_features=2048, out_features=76, bias=True)\n",
       "        (norm1): LayerNorm((76,), eps=1e-05, elementwise_affine=True)\n",
       "        (norm2): LayerNorm((76,), eps=1e-05, elementwise_affine=True)\n",
       "        (dropout1): Dropout(p=0.1, inplace=False)\n",
       "        (dropout2): Dropout(p=0.1, inplace=False)\n",
       "      )\n",
       "    )\n",
       "  )\n",
       "  (translation_head): Linear(in_features=128, out_features=3, bias=True)\n",
       "  (rotation_head): Linear(in_features=128, out_features=6, bias=True)\n",
       "  (mlp): Sequential(\n",
       "    (0): Linear(in_features=30400, out_features=128, bias=True)\n",
       "    (1): LeakyReLU(negative_slope=0.01)\n",
       "    (2): Linear(in_features=128, out_features=128, bias=True)\n",
       "  )\n",
       ")"
      ]
     },
     "execution_count": 5,
     "metadata": {},
     "output_type": "execute_result"
    }
   ],
   "source": [
    "device = torch.device('cuda' if torch.cuda.is_available() else 'cpu')\n",
    "# device = 'cpu'\n",
    "\n",
    "num_sample = 400\n",
    "\n",
    "net = torch.load('./weights/6d-2023-12-28-20-34-25-0.4200.pth').to(device)\n",
    "\n",
    "net.eval()"
   ]
  },
  {
   "cell_type": "code",
   "execution_count": 6,
   "metadata": {},
   "outputs": [
    {
     "name": "stderr",
     "output_type": "stream",
     "text": [
      "\u001b[32m2023-12-31 15:26:12.420\u001b[0m | \u001b[1mINFO    \u001b[0m | \u001b[36m__main__\u001b[0m:\u001b[36m<module>\u001b[0m:\u001b[36m2\u001b[0m - \u001b[1mOnepose: 1/10\u001b[0m\n",
      "  0%|          | 0/66 [00:00<?, ?it/s]"
     ]
    },
    {
     "name": "stderr",
     "output_type": "stream",
     "text": [
      "100%|██████████| 66/66 [00:03<00:00, 20.04it/s]\n",
      "100%|██████████| 120/120 [00:01<00:00, 63.55it/s]\n",
      "100%|██████████| 107/107 [00:01<00:00, 69.26it/s]\n",
      "100%|██████████| 59/59 [00:00<00:00, 66.99it/s]\n",
      "100%|██████████| 41/41 [00:00<00:00, 74.97it/s]\n",
      "100%|██████████| 46/46 [00:00<00:00, 73.65it/s]\n",
      "\u001b[32m2023-12-31 15:26:21.222\u001b[0m | \u001b[1mINFO    \u001b[0m | \u001b[36m__main__\u001b[0m:\u001b[36m<module>\u001b[0m:\u001b[36m86\u001b[0m - \u001b[1m\n",
      "{'AP50': 0.9157175398633257,\n",
      " 'R:ACC15': 0.9906976744186047,\n",
      " 'R:ACC30': 0.9906976744186047,\n",
      " 'R:auc@15': 0.9897615247179371,\n",
      " 'R:auc@30': 0.990229599568271,\n",
      " 'R:medianErr': 0.0,\n",
      " 't:ACC15': 0.9069767441860465,\n",
      " 't:ACC30': 0.9883720930232558,\n",
      " 't:auc@15': 0.44476754469002866,\n",
      " 't:auc@30': 0.7077616733705349,\n",
      " 't:medianErr': 8.024074077606201}\u001b[0m\n",
      "\u001b[32m2023-12-31 15:26:21.223\u001b[0m | \u001b[1mINFO    \u001b[0m | \u001b[36m__main__\u001b[0m:\u001b[36m<module>\u001b[0m:\u001b[36m2\u001b[0m - \u001b[1mOnepose: 2/10\u001b[0m\n"
     ]
    },
    {
     "name": "stdout",
     "output_type": "stream",
     "text": [
      "Acc: 402/439\n"
     ]
    },
    {
     "name": "stderr",
     "output_type": "stream",
     "text": [
      "100%|██████████| 45/45 [00:00<00:00, 62.62it/s]\n",
      "100%|██████████| 91/91 [00:01<00:00, 66.61it/s]\n",
      "100%|██████████| 62/62 [00:00<00:00, 67.97it/s]\n",
      "100%|██████████| 28/28 [00:00<00:00, 66.42it/s]\n",
      "100%|██████████| 34/34 [00:00<00:00, 61.45it/s]\n",
      "100%|██████████| 34/34 [00:00<00:00, 64.71it/s]\n",
      "\u001b[32m2023-12-31 15:26:25.738\u001b[0m | \u001b[1mINFO    \u001b[0m | \u001b[36m__main__\u001b[0m:\u001b[36m<module>\u001b[0m:\u001b[36m86\u001b[0m - \u001b[1m\n",
      "{'AP50': 0.9149659863945578,\n",
      " 'R:ACC15': 0.9115646258503401,\n",
      " 'R:ACC30': 1.0,\n",
      " 'R:auc@15': 0.8364202326387505,\n",
      " 'R:auc@30': 0.9013432262165477,\n",
      " 'R:medianErr': 0.0,\n",
      " 't:ACC15': 0.8401360544217688,\n",
      " 't:ACC30': 1.0,\n",
      " 't:auc@15': 0.3603446729329168,\n",
      " 't:auc@30': 0.6608840327819728,\n",
      " 't:medianErr': 10.117420196533203}\u001b[0m\n",
      "\u001b[32m2023-12-31 15:26:25.740\u001b[0m | \u001b[1mINFO    \u001b[0m | \u001b[36m__main__\u001b[0m:\u001b[36m<module>\u001b[0m:\u001b[36m2\u001b[0m - \u001b[1mOnepose: 3/10\u001b[0m\n"
     ]
    },
    {
     "name": "stdout",
     "output_type": "stream",
     "text": [
      "Acc: 269/294\n"
     ]
    },
    {
     "name": "stderr",
     "output_type": "stream",
     "text": [
      "100%|██████████| 30/30 [00:00<00:00, 54.20it/s]\n",
      "100%|██████████| 40/40 [00:00<00:00, 62.79it/s]\n",
      "100%|██████████| 43/43 [00:00<00:00, 66.98it/s]\n",
      "100%|██████████| 39/39 [00:00<00:00, 63.92it/s]\n",
      "100%|██████████| 45/45 [00:00<00:00, 61.31it/s]\n",
      "100%|██████████| 30/30 [00:00<00:00, 66.28it/s]\n",
      "\u001b[32m2023-12-31 15:26:29.391\u001b[0m | \u001b[1mINFO    \u001b[0m | \u001b[36m__main__\u001b[0m:\u001b[36m<module>\u001b[0m:\u001b[36m86\u001b[0m - \u001b[1m\n",
      "{'AP50': 0.8986784140969163,\n",
      " 'R:ACC15': 0.8502202643171806,\n",
      " 'R:ACC30': 1.0,\n",
      " 'R:auc@15': 0.7952411894581217,\n",
      " 'R:auc@30': 0.874246324526581,\n",
      " 'R:medianErr': 0.0,\n",
      " 't:ACC15': 0.8942731277533039,\n",
      " 't:ACC30': 1.0,\n",
      " 't:auc@15': 0.3992151372320677,\n",
      " 't:auc@30': 0.6925455718619884,\n",
      " 't:medianErr': 8.874536514282227}\u001b[0m\n",
      "\u001b[32m2023-12-31 15:26:29.392\u001b[0m | \u001b[1mINFO    \u001b[0m | \u001b[36m__main__\u001b[0m:\u001b[36m<module>\u001b[0m:\u001b[36m2\u001b[0m - \u001b[1mOnepose: 4/10\u001b[0m\n"
     ]
    },
    {
     "name": "stdout",
     "output_type": "stream",
     "text": [
      "Acc: 204/227\n"
     ]
    },
    {
     "name": "stderr",
     "output_type": "stream",
     "text": [
      "100%|██████████| 48/48 [00:00<00:00, 62.45it/s]\n",
      "100%|██████████| 51/51 [00:00<00:00, 61.58it/s]\n",
      "100%|██████████| 66/66 [00:01<00:00, 61.30it/s]\n",
      "100%|██████████| 39/39 [00:00<00:00, 67.40it/s]\n",
      "100%|██████████| 41/41 [00:00<00:00, 69.76it/s]\n",
      "100%|██████████| 29/29 [00:00<00:00, 73.41it/s]\n",
      "\u001b[32m2023-12-31 15:26:33.648\u001b[0m | \u001b[1mINFO    \u001b[0m | \u001b[36m__main__\u001b[0m:\u001b[36m<module>\u001b[0m:\u001b[36m86\u001b[0m - \u001b[1m\n",
      "{'AP50': 0.9562043795620438,\n",
      " 'R:ACC15': 0.8795620437956204,\n",
      " 'R:ACC30': 1.0,\n",
      " 'R:auc@15': 0.7678955192113446,\n",
      " 'R:auc@30': 0.870137316597639,\n",
      " 'R:medianErr': 0.0,\n",
      " 't:ACC15': 0.6970802919708029,\n",
      " 't:ACC30': 1.0,\n",
      " 't:auc@15': 0.23234971790708184,\n",
      " 't:auc@30': 0.5876103457308164,\n",
      " 't:medianErr': 12.551628589630127}\u001b[0m\n",
      "\u001b[32m2023-12-31 15:26:33.649\u001b[0m | \u001b[1mINFO    \u001b[0m | \u001b[36m__main__\u001b[0m:\u001b[36m<module>\u001b[0m:\u001b[36m2\u001b[0m - \u001b[1mOnepose: 5/10\u001b[0m\n"
     ]
    },
    {
     "name": "stdout",
     "output_type": "stream",
     "text": [
      "Acc: 262/274\n"
     ]
    },
    {
     "name": "stderr",
     "output_type": "stream",
     "text": [
      "100%|██████████| 37/37 [00:00<00:00, 62.14it/s]\n",
      "100%|██████████| 30/30 [00:00<00:00, 62.95it/s]\n",
      "100%|██████████| 41/41 [00:00<00:00, 66.61it/s]\n",
      "100%|██████████| 48/48 [00:00<00:00, 55.86it/s]\n",
      "100%|██████████| 34/34 [00:00<00:00, 58.11it/s]\n",
      "100%|██████████| 60/60 [00:00<00:00, 63.62it/s]\n",
      "\u001b[32m2023-12-31 15:26:37.744\u001b[0m | \u001b[1mINFO    \u001b[0m | \u001b[36m__main__\u001b[0m:\u001b[36m<module>\u001b[0m:\u001b[36m86\u001b[0m - \u001b[1m\n",
      "{'AP50': 0.796,\n",
      " 'R:ACC15': 0.892,\n",
      " 'R:ACC30': 1.0,\n",
      " 'R:auc@15': 0.8084912541707356,\n",
      " 'R:auc@30': 0.8919037791570029,\n",
      " 'R:medianErr': 0.0,\n",
      " 't:ACC15': 0.724,\n",
      " 't:ACC30': 0.996,\n",
      " 't:auc@15': 0.28010925703048706,\n",
      " 't:auc@30': 0.6024011778672537,\n",
      " 't:medianErr': 11.95673131942749}\u001b[0m\n",
      "\u001b[32m2023-12-31 15:26:37.745\u001b[0m | \u001b[1mINFO    \u001b[0m | \u001b[36m__main__\u001b[0m:\u001b[36m<module>\u001b[0m:\u001b[36m2\u001b[0m - \u001b[1mOnepose: 6/10\u001b[0m\n"
     ]
    },
    {
     "name": "stdout",
     "output_type": "stream",
     "text": [
      "Acc: 199/250\n"
     ]
    },
    {
     "name": "stderr",
     "output_type": "stream",
     "text": [
      "100%|██████████| 63/63 [00:01<00:00, 58.08it/s]\n",
      "100%|██████████| 53/53 [00:00<00:00, 62.13it/s]\n",
      "100%|██████████| 45/45 [00:00<00:00, 65.75it/s]\n",
      "100%|██████████| 50/50 [00:00<00:00, 67.88it/s]\n",
      "100%|██████████| 35/35 [00:00<00:00, 68.88it/s]\n",
      "100%|██████████| 36/36 [00:00<00:00, 63.25it/s]\n",
      "\u001b[32m2023-12-31 15:26:42.203\u001b[0m | \u001b[1mINFO    \u001b[0m | \u001b[36m__main__\u001b[0m:\u001b[36m<module>\u001b[0m:\u001b[36m86\u001b[0m - \u001b[1m\n",
      "{'AP50': 0.9148936170212766,\n",
      " 'R:ACC15': 0.9929078014184397,\n",
      " 'R:ACC30': 1.0,\n",
      " 'R:auc@15': 0.9727567586492983,\n",
      " 'R:auc@30': 0.9863214874098486,\n",
      " 'R:medianErr': 0.0,\n",
      " 't:ACC15': 0.8226950354609929,\n",
      " 't:ACC30': 1.0,\n",
      " 't:auc@15': 0.35071724380584474,\n",
      " 't:auc@30': 0.6555981111336261,\n",
      " 't:medianErr': 10.167932510375977}\u001b[0m\n",
      "\u001b[32m2023-12-31 15:26:42.204\u001b[0m | \u001b[1mINFO    \u001b[0m | \u001b[36m__main__\u001b[0m:\u001b[36m<module>\u001b[0m:\u001b[36m2\u001b[0m - \u001b[1mOnepose: 7/10\u001b[0m\n"
     ]
    },
    {
     "name": "stdout",
     "output_type": "stream",
     "text": [
      "Acc: 258/282\n"
     ]
    },
    {
     "name": "stderr",
     "output_type": "stream",
     "text": [
      "100%|██████████| 37/37 [00:00<00:00, 56.90it/s]\n",
      "100%|██████████| 80/80 [00:01<00:00, 61.32it/s]\n",
      "100%|██████████| 109/109 [00:01<00:00, 66.02it/s]\n",
      "100%|██████████| 55/55 [00:00<00:00, 66.08it/s]\n",
      "100%|██████████| 43/43 [00:00<00:00, 67.67it/s]\n",
      "100%|██████████| 40/40 [00:00<00:00, 70.57it/s]\n",
      "\u001b[32m2023-12-31 15:26:47.866\u001b[0m | \u001b[1mINFO    \u001b[0m | \u001b[36m__main__\u001b[0m:\u001b[36m<module>\u001b[0m:\u001b[36m86\u001b[0m - \u001b[1m\n",
      "{'AP50': 0.9065934065934066,\n",
      " 'R:ACC15': 0.9120879120879121,\n",
      " 'R:ACC30': 0.9945054945054945,\n",
      " 'R:auc@15': 0.7859757988444179,\n",
      " 'R:auc@30': 0.8760466655532082,\n",
      " 'R:medianErr': 0.0,\n",
      " 't:ACC15': 0.8653846153846154,\n",
      " 't:ACC30': 1.0,\n",
      " 't:auc@15': 0.3736992885614489,\n",
      " 't:auc@30': 0.6728332182781381,\n",
      " 't:medianErr': 9.680048942565918}\u001b[0m\n",
      "\u001b[32m2023-12-31 15:26:47.867\u001b[0m | \u001b[1mINFO    \u001b[0m | \u001b[36m__main__\u001b[0m:\u001b[36m<module>\u001b[0m:\u001b[36m2\u001b[0m - \u001b[1mOnepose: 8/10\u001b[0m\n"
     ]
    },
    {
     "name": "stdout",
     "output_type": "stream",
     "text": [
      "Acc: 330/364\n"
     ]
    },
    {
     "name": "stderr",
     "output_type": "stream",
     "text": [
      "100%|██████████| 76/76 [00:01<00:00, 60.96it/s]\n",
      "100%|██████████| 55/55 [00:00<00:00, 64.83it/s]\n",
      "100%|██████████| 62/62 [00:00<00:00, 66.78it/s]\n",
      "100%|██████████| 44/44 [00:00<00:00, 65.99it/s]\n",
      "100%|██████████| 43/43 [00:00<00:00, 64.16it/s]\n",
      "100%|██████████| 25/25 [00:00<00:00, 71.35it/s]\n",
      "\u001b[32m2023-12-31 15:26:52.597\u001b[0m | \u001b[1mINFO    \u001b[0m | \u001b[36m__main__\u001b[0m:\u001b[36m<module>\u001b[0m:\u001b[36m86\u001b[0m - \u001b[1m\n",
      "{'AP50': 0.8459016393442623,\n",
      " 'R:ACC15': 0.8655737704918033,\n",
      " 'R:ACC30': 0.980327868852459,\n",
      " 'R:auc@15': 0.7986298473154911,\n",
      " 'R:auc@30': 0.8661285082824893,\n",
      " 'R:medianErr': 0.0,\n",
      " 't:ACC15': 0.8262295081967214,\n",
      " 't:ACC30': 0.9967213114754099,\n",
      " 't:auc@15': 0.387520952980375,\n",
      " 't:auc@30': 0.6743936256111646,\n",
      " 't:medianErr': 8.6425199508667}\u001b[0m\n",
      "\u001b[32m2023-12-31 15:26:52.598\u001b[0m | \u001b[1mINFO    \u001b[0m | \u001b[36m__main__\u001b[0m:\u001b[36m<module>\u001b[0m:\u001b[36m2\u001b[0m - \u001b[1mOnepose: 9/10\u001b[0m\n"
     ]
    },
    {
     "name": "stdout",
     "output_type": "stream",
     "text": [
      "Acc: 258/305\n"
     ]
    },
    {
     "name": "stderr",
     "output_type": "stream",
     "text": [
      "100%|██████████| 45/45 [00:00<00:00, 55.33it/s]\n",
      "100%|██████████| 65/65 [00:00<00:00, 67.00it/s]\n",
      "100%|██████████| 59/59 [00:00<00:00, 67.29it/s]\n",
      "100%|██████████| 67/67 [00:01<00:00, 39.77it/s]\n",
      "100%|██████████| 57/57 [00:02<00:00, 21.04it/s]\n",
      "100%|██████████| 34/34 [00:01<00:00, 20.72it/s]\n",
      "\u001b[32m2023-12-31 15:27:01.312\u001b[0m | \u001b[1mINFO    \u001b[0m | \u001b[36m__main__\u001b[0m:\u001b[36m<module>\u001b[0m:\u001b[36m86\u001b[0m - \u001b[1m\n",
      "{'AP50': 0.5535168195718655,\n",
      " 'R:ACC15': 0.9571865443425076,\n",
      " 'R:ACC30': 1.0,\n",
      " 'R:auc@15': 0.8999564913556238,\n",
      " 'R:auc@30': 0.9452832873808135,\n",
      " 'R:medianErr': 0.0,\n",
      " 't:ACC15': 0.8990825688073395,\n",
      " 't:ACC30': 1.0,\n",
      " 't:auc@15': 0.44642145404635836,\n",
      " 't:auc@30': 0.7137048825667175,\n",
      " 't:medianErr': 8.23447036743164}\u001b[0m\n",
      "\u001b[32m2023-12-31 15:27:01.313\u001b[0m | \u001b[1mINFO    \u001b[0m | \u001b[36m__main__\u001b[0m:\u001b[36m<module>\u001b[0m:\u001b[36m2\u001b[0m - \u001b[1mOnepose: 10/10\u001b[0m\n"
     ]
    },
    {
     "name": "stdout",
     "output_type": "stream",
     "text": [
      "Acc: 181/327\n"
     ]
    },
    {
     "name": "stderr",
     "output_type": "stream",
     "text": [
      "100%|██████████| 55/55 [00:03<00:00, 15.66it/s]\n",
      "100%|██████████| 98/98 [00:05<00:00, 17.72it/s]\n",
      "100%|██████████| 87/87 [00:04<00:00, 19.70it/s]\n",
      "100%|██████████| 87/87 [00:04<00:00, 21.02it/s]\n",
      "100%|██████████| 45/45 [00:02<00:00, 21.27it/s]\n",
      "100%|██████████| 32/32 [00:01<00:00, 22.21it/s]\n",
      "\u001b[32m2023-12-31 15:27:22.487\u001b[0m | \u001b[1mINFO    \u001b[0m | \u001b[36m__main__\u001b[0m:\u001b[36m<module>\u001b[0m:\u001b[36m86\u001b[0m - \u001b[1m\n",
      "{'AP50': 0.7475247524752475,\n",
      " 'R:ACC15': 0.849009900990099,\n",
      " 'R:ACC30': 0.9900990099009901,\n",
      " 'R:auc@15': 0.7246537512776875,\n",
      " 'R:auc@30': 0.833425330904254,\n",
      " 'R:medianErr': 0.0,\n",
      " 't:ACC15': 0.7797029702970297,\n",
      " 't:ACC30': 0.995049504950495,\n",
      " 't:auc@15': 0.3272602150050721,\n",
      " 't:auc@30': 0.6333022057567492,\n",
      " 't:medianErr': 10.392066478729248}\u001b[0m\n"
     ]
    },
    {
     "name": "stdout",
     "output_type": "stream",
     "text": [
      "Acc: 302/404\n"
     ]
    }
   ],
   "source": [
    "for label_idx, test_dict in enumerate(dir_list):\n",
    "    logger.info(f\"Onepose: {label_idx + 1}/{len(dir_list)}\")\n",
    "    metrics = dict()\n",
    "    metrics.update({'R_errs':[], 't_errs':[], 'inliers':[], \"identifiers\":[]})\n",
    "    sample_data = dir_list[label_idx][\"0\"][0]\n",
    "    label = sample_data.split(\"/\")[0]\n",
    "    name = label.split(\"-\")[1]\n",
    "    dir_name = os.path.dirname(sample_data)\n",
    "    FULL_ROOT_DIR = os.path.join(ROOT_DIR, dir_name)\n",
    "    recall_image, all_image = 0, 0\n",
    "    for rotation_key, rotation_list in zip(test_dict.keys(), test_dict.values()):\n",
    "        for pair_idx, pair_name in enumerate(tqdm(rotation_list)):\n",
    "            all_image = all_image + 1\n",
    "            base_name = os.path.basename(pair_name)\n",
    "            idx0_name = base_name.split(\"-\")[0]\n",
    "            idx1_name = base_name.split(\"-\")[1]\n",
    "            image0_name = os.path.join(FULL_ROOT_DIR, idx0_name)\n",
    "            image1_name = os.path.join(FULL_ROOT_DIR.replace(\"color\", \"color\"), idx1_name)\n",
    "\n",
    "            K0_path = image0_name.replace(\"color\", \"intrin_ba\").replace(\"png\", \"txt\")\n",
    "            K1_path = image1_name.replace(\"color\", \"intrin_ba\").replace(\"png\", \"txt\")\n",
    "            K0 = np.loadtxt(K0_path)\n",
    "            K1 = np.loadtxt(K1_path)\n",
    "\n",
    "            pose0_path = image0_name.replace(\"color\", \"poses_ba\").replace(\"png\", \"txt\")\n",
    "            pose1_path = image1_name.replace(\"color\", \"poses_ba\").replace(\"png\", \"txt\")\n",
    "            pose0 = np.loadtxt(pose0_path)\n",
    "            pose1 = np.loadtxt(pose1_path)\n",
    "            if pose0.shape[0] == 3:\n",
    "                pose0 = np.concatenate([pose0, np.array([[0, 0, 0, 1]])], axis=0)\n",
    "                pose1 = np.concatenate([pose1, np.array([[0, 0, 0, 1]])], axis=0)\n",
    "\n",
    "            points_file_path = os.path.join('d:/git_project/POPE/data/onepose-points/', pair_name.split(\"/\")[0])\n",
    "            pre_bbox_path = os.path.join(points_file_path, \"pre_bbox\")\n",
    "            mkpts0_path = os.path.join(points_file_path, \"mkpts0\")\n",
    "            mkpts1_path = os.path.join(points_file_path, \"mkpts1\")\n",
    "            pre_K_path = os.path.join(points_file_path, \"pre_K\")\n",
    "            points_name = pair_name.split(\"/\")[-1]\n",
    "            pre_bbox_path = os.path.join(pre_bbox_path, f'{points_name}.txt')\n",
    "            mkpts0_path = os.path.join(mkpts0_path, f'{points_name}.txt')\n",
    "            mkpts1_path = os.path.join(mkpts1_path, f'{points_name}.txt')\n",
    "            pre_K_path = os.path.join(pre_K_path, f'{points_name}.txt')\n",
    "\n",
    "            if not os.path.exists(pre_bbox_path):\n",
    "                continue\n",
    "            pre_bbox = np.loadtxt(pre_bbox_path)\n",
    "            mkpts0 = np.loadtxt(mkpts0_path)\n",
    "            mkpts1 = np.loadtxt(mkpts1_path)\n",
    "            pre_K = np.loadtxt(pre_K_path)\n",
    "\n",
    "            if mkpts0.shape[0] > num_sample:\n",
    "                rand_idx = np.random.choice(mkpts0.shape[0], num_sample, replace=False)\n",
    "                mkpts0 = mkpts0[rand_idx]\n",
    "                mkpts1 = mkpts1[rand_idx]\n",
    "            else:\n",
    "                mkpts0 = np.concatenate([mkpts0, np.zeros((num_sample - mkpts0.shape[0], 2))], axis=0)\n",
    "                mkpts1 = np.concatenate([mkpts1, np.zeros((num_sample - mkpts1.shape[0], 2))], axis=0)\n",
    "\n",
    "            _3d_bbox = np.loadtxt(f\"{os.path.join(ROOT_DIR, label)}/box3d_corners.txt\")\n",
    "            bbox_pts_3d, _ = project_points(_3d_bbox, pose1[:3, :4], K1)\n",
    "            bbox_pts_3d = bbox_pts_3d.astype(np.int32)\n",
    "            x0, y0, w, h = cv2.boundingRect(bbox_pts_3d)\n",
    "            x1, y1 = x0 + w, y0 + h\n",
    "            gt_bbox = np.array([x0, y0, x1, y1])\n",
    "            is_recalled = recall_object(pre_bbox, gt_bbox)\n",
    "            recall_image = recall_image + int(is_recalled > 0.5)\n",
    "\n",
    "            batch_mkpts0 = torch.from_numpy(mkpts0).unsqueeze(0).float().to(device)\n",
    "            batch_mkpts1 = torch.from_numpy(mkpts1).unsqueeze(0).float().to(device)\n",
    "            pre_t, pre_rot = net(batch_mkpts0, batch_mkpts1)\n",
    "            # pre_t = pre_t.cpu()\n",
    "            # pre_rot = pre_rot.cpu()\n",
    "\n",
    "            batch_pose0 = torch.from_numpy(pose0).unsqueeze(0).float().to(device)\n",
    "            batch_pose1 = torch.from_numpy(pose1).unsqueeze(0).float().to(device)\n",
    "            batch_relative_pose = torch.matmul(batch_pose1, batch_pose0.permute(0, 2, 1))\n",
    "            t_err, R_err = relative_pose_error(batch_relative_pose, pre_rot, pre_t, ignore_gt_t_thr=0.0)\n",
    "\n",
    "            metrics['t_errs'] = metrics['t_errs'] + np.array(t_err.reshape(-1).cpu().detach().numpy()).tolist()\n",
    "            metrics['R_errs'] = metrics['R_errs'] + np.array(R_err.reshape(-1).cpu().detach().numpy()).tolist()\n",
    "            metrics['identifiers'].append(pair_name)\n",
    "\n",
    "    print(f'Acc: {recall_image}/{all_image}')\n",
    "    val_metrics_4tb = aggregate_metrics(metrics, 5e-4)\n",
    "    val_metrics_4tb['AP50'] = recall_image / all_image\n",
    "    logger.info('\\n' + pprint.pformat(val_metrics_4tb))\n",
    "\n",
    "    res_table.append([f\"{name}\"] + list(val_metrics_4tb.values()))"
   ]
  },
  {
   "cell_type": "code",
   "execution_count": 7,
   "metadata": {},
   "outputs": [
    {
     "name": "stdout",
     "output_type": "stream",
     "text": [
      "╒════════════════╤════════════╤════════════╤═══════════╤═══════════╤═══════════════╤════════════╤════════════╤═══════════╤═══════════╤═══════════════╤══════════╕\n",
      "│ Category       │   R:auc@15 │   R:auc@30 │   R:ACC15 │   R:ACC30 │   R:medianErr │   t:auc@15 │   t:auc@30 │   t:ACC15 │   t:ACC30 │   t:medianErr │     AP50 │\n",
      "╞════════════════╪════════════╪════════════╪═══════════╪═══════════╪═══════════════╪════════════╪════════════╪═══════════╪═══════════╪═══════════════╪══════════╡\n",
      "│ aptamil        │   0.989762 │   0.99023  │  0.990698 │  0.990698 │             0 │   0.444768 │   0.707762 │  0.906977 │  0.988372 │       8.02407 │ 0.915718 │\n",
      "├────────────────┼────────────┼────────────┼───────────┼───────────┼───────────────┼────────────┼────────────┼───────────┼───────────┼───────────────┼──────────┤\n",
      "│ jzhg           │   0.83642  │   0.901343 │  0.911565 │  1        │             0 │   0.360345 │   0.660884 │  0.840136 │  1        │      10.1174  │ 0.914966 │\n",
      "├────────────────┼────────────┼────────────┼───────────┼───────────┼───────────────┼────────────┼────────────┼───────────┼───────────┼───────────────┼──────────┤\n",
      "│ minipuff       │   0.795241 │   0.874246 │  0.85022  │  1        │             0 │   0.399215 │   0.692546 │  0.894273 │  1        │       8.87454 │ 0.898678 │\n",
      "├────────────────┼────────────┼────────────┼───────────┼───────────┼───────────────┼────────────┼────────────┼───────────┼───────────┼───────────────┼──────────┤\n",
      "│ hlyormosiapie  │   0.767896 │   0.870137 │  0.879562 │  1        │             0 │   0.23235  │   0.58761  │  0.69708  │  1        │      12.5516  │ 0.956204 │\n",
      "├────────────────┼────────────┼────────────┼───────────┼───────────┼───────────────┼────────────┼────────────┼───────────┼───────────┼───────────────┼──────────┤\n",
      "│ brownhouse     │   0.808491 │   0.891904 │  0.892    │  1        │             0 │   0.280109 │   0.602401 │  0.724    │  0.996    │      11.9567  │ 0.796    │\n",
      "├────────────────┼────────────┼────────────┼───────────┼───────────┼───────────────┼────────────┼────────────┼───────────┼───────────┼───────────────┼──────────┤\n",
      "│ oreo           │   0.972757 │   0.986321 │  0.992908 │  1        │             0 │   0.350717 │   0.655598 │  0.822695 │  1        │      10.1679  │ 0.914894 │\n",
      "├────────────────┼────────────┼────────────┼───────────┼───────────┼───────────────┼────────────┼────────────┼───────────┼───────────┼───────────────┼──────────┤\n",
      "│ mfmilkcake     │   0.785976 │   0.876047 │  0.912088 │  0.994505 │             0 │   0.373699 │   0.672833 │  0.865385 │  1        │       9.68005 │ 0.906593 │\n",
      "├────────────────┼────────────┼────────────┼───────────┼───────────┼───────────────┼────────────┼────────────┼───────────┼───────────┼───────────────┼──────────┤\n",
      "│ diycookies     │   0.79863  │   0.866129 │  0.865574 │  0.980328 │             0 │   0.387521 │   0.674394 │  0.82623  │  0.996721 │       8.64252 │ 0.845902 │\n",
      "├────────────────┼────────────┼────────────┼───────────┼───────────┼───────────────┼────────────┼────────────┼───────────┼───────────┼───────────────┼──────────┤\n",
      "│ taipingcookies │   0.899956 │   0.945283 │  0.957187 │  1        │             0 │   0.446421 │   0.713705 │  0.899083 │  1        │       8.23447 │ 0.553517 │\n",
      "├────────────────┼────────────┼────────────┼───────────┼───────────┼───────────────┼────────────┼────────────┼───────────┼───────────┼───────────────┼──────────┤\n",
      "│ tee            │   0.724654 │   0.833425 │  0.84901  │  0.990099 │             0 │   0.32726  │   0.633302 │  0.779703 │  0.99505  │      10.3921  │ 0.747525 │\n",
      "├────────────────┼────────────┼────────────┼───────────┼───────────┼───────────────┼────────────┼────────────┼───────────┼───────────┼───────────────┼──────────┤\n",
      "│ Avg            │   0.837978 │   0.903507 │  0.910081 │  0.995563 │             0 │   0.360241 │   0.660104 │  0.825556 │  0.997614 │       9.86414 │ 0.845    │\n",
      "╘════════════════╧════════════╧════════════╧═══════════╧═══════════╧═══════════════╧════════════╧════════════╧═══════════╧═══════════╧═══════════════╧══════════╛\n"
     ]
    }
   ],
   "source": [
    "headers = [\"Category\"] + list(val_metrics_4tb.keys())\n",
    "all_data = np.array(res_table)[:, 1:].astype(np.float32)\n",
    "res_table.append([\"Avg\"] + all_data.mean(0).tolist())\n",
    "print(tabulate(res_table, headers=headers, tablefmt='fancy_grid'))"
   ]
  },
  {
   "cell_type": "code",
   "execution_count": null,
   "metadata": {},
   "outputs": [],
   "source": []
  }
 ],
 "metadata": {
  "kernelspec": {
   "display_name": "pope",
   "language": "python",
   "name": "python3"
  },
  "language_info": {
   "codemirror_mode": {
    "name": "ipython",
    "version": 3
   },
   "file_extension": ".py",
   "mimetype": "text/x-python",
   "name": "python",
   "nbconvert_exporter": "python",
   "pygments_lexer": "ipython3",
   "version": "3.8.18"
  }
 },
 "nbformat": 4,
 "nbformat_minor": 2
}
