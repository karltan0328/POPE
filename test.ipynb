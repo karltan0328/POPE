{
 "cells": [
  {
   "cell_type": "code",
   "execution_count": 17,
   "metadata": {},
   "outputs": [],
   "source": [
    "import torch\n",
    "from test_utils import normalize_vector"
   ]
  },
  {
   "cell_type": "code",
   "execution_count": 18,
   "metadata": {},
   "outputs": [
    {
     "name": "stdout",
     "output_type": "stream",
     "text": [
      "Original tensor:\n",
      "tensor([[ 0,  1,  2,  3],\n",
      "        [ 4,  5,  6,  7],\n",
      "        [ 8,  9, 10, 11]], device='cuda:0')\n"
     ]
    }
   ],
   "source": [
    "# 创建一个随机的 2D 张量\n",
    "v = torch.arange(12).reshape((3, 4)).cuda()\n",
    "print(\"Original tensor:\")\n",
    "print(v)"
   ]
  },
  {
   "cell_type": "code",
   "execution_count": 19,
   "metadata": {},
   "outputs": [
    {
     "name": "stdout",
     "output_type": "stream",
     "text": [
      "\n",
      "Normalized tensor:\n",
      "tensor([[0.0000, 0.2673, 0.5345, 0.8018],\n",
      "        [0.3563, 0.4454, 0.5345, 0.6236],\n",
      "        [0.4182, 0.4704, 0.5227, 0.5750]], device='cuda:0')\n"
     ]
    }
   ],
   "source": [
    "# 使用 normalize_vector 函数对张量进行归一化\n",
    "v_normalized, v_mag = normalize_vector(v, return_mag=True)\n",
    "print(\"\\nNormalized tensor:\")\n",
    "print(v_normalized)"
   ]
  },
  {
   "cell_type": "code",
   "execution_count": 22,
   "metadata": {},
   "outputs": [
    {
     "data": {
      "text/plain": [
       "tensor([1.0000, 1.0000, 1.0000], device='cuda:0')"
      ]
     },
     "execution_count": 22,
     "metadata": {},
     "output_type": "execute_result"
    }
   ],
   "source": [
    "v_normalized.pow(2).sum(1)"
   ]
  },
  {
   "cell_type": "code",
   "execution_count": 20,
   "metadata": {},
   "outputs": [
    {
     "name": "stdout",
     "output_type": "stream",
     "text": [
      "\n",
      "Magnitude of original tensor:\n",
      "tensor([ 3.7417, 11.2250, 19.1311], device='cuda:0')\n"
     ]
    }
   ],
   "source": [
    "# 打印原始张量的长度\n",
    "print(\"\\nMagnitude of original tensor:\")\n",
    "print(v_mag)"
   ]
  }
 ],
 "metadata": {
  "kernelspec": {
   "display_name": "pope",
   "language": "python",
   "name": "python3"
  },
  "language_info": {
   "codemirror_mode": {
    "name": "ipython",
    "version": 3
   },
   "file_extension": ".py",
   "mimetype": "text/x-python",
   "name": "python",
   "nbconvert_exporter": "python",
   "pygments_lexer": "ipython3",
   "version": "3.10.13"
  }
 },
 "nbformat": 4,
 "nbformat_minor": 2
}
