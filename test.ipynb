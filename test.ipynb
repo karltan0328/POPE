{
 "cells": [
  {
   "cell_type": "code",
   "execution_count": 1,
   "metadata": {},
   "outputs": [
    {
     "name": "stderr",
     "output_type": "stream",
     "text": [
      " 56%|█████▌    | 5/9 [00:03<00:03,  1.29it/s]"
     ]
    },
    {
     "name": "stdout",
     "output_type": "stream",
     "text": [
      "data/onepose_plusplus-points/0706-teabox-box/mkpts0/820.png-761.png.txt does not exist\n"
     ]
    },
    {
     "name": "stderr",
     "output_type": "stream",
     "text": [
      " 89%|████████▉ | 8/9 [00:05<00:00,  1.53it/s]"
     ]
    },
    {
     "name": "stdout",
     "output_type": "stream",
     "text": [
      "data/onepose_plusplus-points/0712-insta-others/mkpts0/1570.png-125.png.txt does not exist\n",
      "data/onepose_plusplus-points/0712-insta-others/mkpts0/1605.png-185.png.txt does not exist\n",
      "data/onepose_plusplus-points/0712-insta-others/mkpts0/1628.png-210.png.txt does not exist\n"
     ]
    },
    {
     "name": "stderr",
     "output_type": "stream",
     "text": [
      "100%|██████████| 9/9 [00:06<00:00,  1.37it/s]\n"
     ]
    }
   ],
   "source": [
    "import os\n",
    "import torch\n",
    "import random\n",
    "import pprint\n",
    "import numpy as np\n",
    "from loguru import logger\n",
    "from torch.utils.data import DataLoader\n",
    "from torch import nn\n",
    "\n",
    "from pose.dataset import pose_dataset\n",
    "from pose.utils import (\n",
    "    collate_fn,\n",
    "    geodesic_distance,\n",
    "    relative_pose_error,\n",
    "    relative_pose_error_np,\n",
    "    recall_object,\n",
    "    aggregate_metrics\n",
    ")\n",
    "from pose.model import Mkpts_Reg_Model\n",
    "from pose.animator import Animator\n",
    "\n",
    "\n",
    "if os.name == 'nt':\n",
    "    LM_dataset_path = 'd:/git_project/POPE/data/LM_dataset/'\n",
    "    LM_dataset_json_path = 'd:/git_project/POPE/data/pairs/LINEMOD-test.json'\n",
    "    LM_dataset_points_path = 'd:/git_project/POPE/data/LM_dataset-points/'\n",
    "\n",
    "    onepose_path = 'd:/git_project/POPE/data/onepose/'\n",
    "    onepose_json_path = 'd:/git_project/POPE/data/pairs/Onepose-test.json'\n",
    "    onepose_points_path = 'd:/git_project/POPE/data/onepose-points/'\n",
    "\n",
    "    onepose_plusplus_path = 'd:/git_project/POPE/data/onepose_plusplus/'\n",
    "    onepose_plusplus_json_path = 'd:/git_project/POPE/data/pairs/OneposePlusPlus-test.json'\n",
    "    onepose_plusplus_points_path = 'd:/git_project/POPE/data/onepose_plusplus-points/'\n",
    "\n",
    "    ycbv_path = 'd:/git_project/POPE/data/ycbv/'\n",
    "    ycbv_json_path = 'd:/git_project/POPE/data/pairs/YCB-VIDEO-test.json'\n",
    "    ycbv_points_path = 'd:/git_project/POPE/data/ycbv-points'\n",
    "elif os.name == 'posix':\n",
    "    LM_dataset_path = 'data/LM_dataset/'\n",
    "    LM_dataset_json_path = 'data/pairs/LINEMOD-test.json'\n",
    "    LM_dataset_points_path = 'data/LM_dataset-points/'\n",
    "\n",
    "    onepose_path = 'data/onepose/'\n",
    "    onepose_json_path = 'data/pairs/Onepose-test.json'\n",
    "    onepose_points_path = 'data/onepose-points/'\n",
    "\n",
    "    onepose_plusplus_path = 'data/onepose_plusplus/'\n",
    "    onepose_plusplus_json_path = 'data/pairs/OneposePlusPlus-test.json'\n",
    "    onepose_plusplus_points_path = 'data/onepose_plusplus-points/'\n",
    "\n",
    "    ycbv_path = 'data/ycbv/'\n",
    "    ycbv_json_path = 'data/pairs/YCB-VIDEO-test.json'\n",
    "    ycbv_points_path = 'data/ycbv-points'\n",
    "\n",
    "paths = [\n",
    "    # ('linemod', LM_dataset_path, LM_dataset_json_path, LM_dataset_points_path),\n",
    "    # ('onepose', onepose_path, onepose_json_path, onepose_points_path),\n",
    "    ('onepose_plusplus', onepose_plusplus_path, onepose_plusplus_json_path, onepose_plusplus_points_path),\n",
    "    # ('ycbv', ycbv_path, ycbv_json_path, ycbv_points_path),\n",
    "]\n",
    "\n",
    "device = torch.device('cuda' if torch.cuda.is_available() else 'cpu')\n",
    "\n",
    "dataset = pose_dataset(paths)\n",
    "mkpts_max_len, mkpts_sum_len = dataset.get_mkpts_info()"
   ]
  },
  {
   "cell_type": "code",
   "execution_count": 2,
   "metadata": {},
   "outputs": [],
   "source": [
    "random.seed(20231223)\n",
    "torch.manual_seed(20231223)\n",
    "torch.cuda.manual_seed(20231223)\n",
    "\n",
    "train_size = int(0.8 * len(dataset))\n",
    "test_size = len(dataset) - train_size\n",
    "train_dataset, test_dataset = torch.utils.data.random_split(dataset, [train_size, test_size])"
   ]
  },
  {
   "cell_type": "code",
   "execution_count": 3,
   "metadata": {},
   "outputs": [],
   "source": [
    "num_sample = 300\n",
    "train_dataloader = DataLoader(train_dataset, batch_size=8, shuffle=True, drop_last=True, collate_fn=collate_fn(num_sample))\n",
    "test_dataloader = DataLoader(test_dataset, batch_size=8, shuffle=True, drop_last=True, collate_fn=collate_fn(num_sample))"
   ]
  },
  {
   "cell_type": "code",
   "execution_count": 4,
   "metadata": {},
   "outputs": [
    {
     "data": {
      "text/plain": [
       "Mkpts_Reg_Model(\n",
       "  (embedding): Embedding()\n",
       "  (transformerlayer): TransformerEncoderLayer(\n",
       "    (self_attn): MultiheadAttention(\n",
       "      (out_proj): NonDynamicallyQuantizableLinear(in_features=76, out_features=76, bias=True)\n",
       "    )\n",
       "    (linear1): Linear(in_features=76, out_features=2048, bias=True)\n",
       "    (dropout): Dropout(p=0.1, inplace=False)\n",
       "    (linear2): Linear(in_features=2048, out_features=76, bias=True)\n",
       "    (norm1): LayerNorm((76,), eps=1e-05, elementwise_affine=True)\n",
       "    (norm2): LayerNorm((76,), eps=1e-05, elementwise_affine=True)\n",
       "    (dropout1): Dropout(p=0.1, inplace=False)\n",
       "    (dropout2): Dropout(p=0.1, inplace=False)\n",
       "  )\n",
       "  (transformer): TransformerEncoder(\n",
       "    (layers): ModuleList(\n",
       "      (0-3): 4 x TransformerEncoderLayer(\n",
       "        (self_attn): MultiheadAttention(\n",
       "          (out_proj): NonDynamicallyQuantizableLinear(in_features=76, out_features=76, bias=True)\n",
       "        )\n",
       "        (linear1): Linear(in_features=76, out_features=2048, bias=True)\n",
       "        (dropout): Dropout(p=0.1, inplace=False)\n",
       "        (linear2): Linear(in_features=2048, out_features=76, bias=True)\n",
       "        (norm1): LayerNorm((76,), eps=1e-05, elementwise_affine=True)\n",
       "        (norm2): LayerNorm((76,), eps=1e-05, elementwise_affine=True)\n",
       "        (dropout1): Dropout(p=0.1, inplace=False)\n",
       "        (dropout2): Dropout(p=0.1, inplace=False)\n",
       "      )\n",
       "    )\n",
       "  )\n",
       "  (translation_head): Linear(in_features=64, out_features=3, bias=True)\n",
       "  (rotation_head): Linear(in_features=64, out_features=6, bias=True)\n",
       "  (mlp): Sequential(\n",
       "    (0): Linear(in_features=22800, out_features=5700, bias=True)\n",
       "    (1): LeakyReLU(negative_slope=0.01)\n",
       "    (2): Linear(in_features=5700, out_features=128, bias=True)\n",
       "    (3): LeakyReLU(negative_slope=0.01)\n",
       "    (4): Linear(in_features=128, out_features=64, bias=True)\n",
       "    (5): Linear(in_features=64, out_features=64, bias=True)\n",
       "    (6): LeakyReLU(negative_slope=0.01)\n",
       "  )\n",
       ")"
      ]
     },
     "execution_count": 4,
     "metadata": {},
     "output_type": "execute_result"
    }
   ],
   "source": [
    "# linemod\n",
    "# net = torch.load('./weights/linemod-relative_r-gt_t-quat-300-2024-03-08-16-56-16-0.2183.pth').to(device)\n",
    "# onepose\n",
    "# net = torch.load('./weights/onepose-relative_r-gt_t-6d-300-2024-03-02-16-10-39-0.2373.pth').to(device)\n",
    "# onepose++\n",
    "net = torch.load('./weights/relative_r-gt_t-6d-300-2024-03-12-23-54-12-0.2483.pth').to(device)\n",
    "# ycbv\n",
    "# net = torch.load('./weights/ycbv-relative_r-gt_t-6d-300-2024-03-02-17-01-40-6281.5225.pth').to(device)\n",
    "\n",
    "net.eval()"
   ]
  },
  {
   "cell_type": "code",
   "execution_count": 5,
   "metadata": {},
   "outputs": [],
   "source": [
    "id2name_dict = {\n",
    "    1: \"ape\",\n",
    "    2: \"benchvise\",\n",
    "    4: \"camera\",\n",
    "    5: \"can\",\n",
    "    6: \"cat\",\n",
    "    8: \"driller\",\n",
    "    9: \"duck\",\n",
    "    10: \"eggbox\",\n",
    "    11: \"glue\",\n",
    "    12: \"holepuncher\",\n",
    "    13: \"iron\",\n",
    "    14: \"lamp\",\n",
    "    15: \"phone\",\n",
    "}\n",
    "\n",
    "ycbv_dict = {\n",
    "    1: 'one',\n",
    "    2: 'two',\n",
    "    3: 'three',\n",
    "    4: 'four',\n",
    "    5: 'five',\n",
    "    6: 'six',\n",
    "    7: 'seven',\n",
    "    8: 'eight',\n",
    "    9: 'nine',\n",
    "    10: 'ten',\n",
    "}"
   ]
  },
  {
   "cell_type": "code",
   "execution_count": 6,
   "metadata": {},
   "outputs": [],
   "source": [
    "# linemod\n",
    "ape_data = []\n",
    "benchvise_data = []\n",
    "camera_data = []\n",
    "can_data = []\n",
    "cat_data = []\n",
    "driller_data = []\n",
    "duck_data = []\n",
    "eggbox_data = []\n",
    "glue_data = []\n",
    "holepuncher_data = []\n",
    "iron_data = []\n",
    "lamp_data = []\n",
    "phone_data = []\n",
    "# onepose\n",
    "aptamil_data = []\n",
    "jzhg_data = []\n",
    "minipuff_data = []\n",
    "hlyormosiapie_data = []\n",
    "brownhouse_data = []\n",
    "oreo_data = []\n",
    "mfmilkcake_data = []\n",
    "diycookies_data = []\n",
    "taipingcookies_data = []\n",
    "tee_data = []\n",
    "# onepose++\n",
    "toyrobot_data = []\n",
    "yellowduck_data = []\n",
    "sheep_data = []\n",
    "fakebanana_data = []\n",
    "teabox_data = []\n",
    "orange_data = []\n",
    "greenteapot_data = []\n",
    "lecreusetcup_data = []\n",
    "insta_data = []\n",
    "# ycbv\n",
    "one_data = []\n",
    "two_data = []\n",
    "three_data = []\n",
    "four_data = []\n",
    "five_data = []\n",
    "six_data = []\n",
    "seven_data = []\n",
    "eight_data = []\n",
    "nine_data = []\n",
    "ten_data = []\n",
    "\n",
    "all_data = {\n",
    "    # linemod\n",
    "    'ape_data': ape_data,\n",
    "    'benchvise_data': benchvise_data,\n",
    "    'camera_data': camera_data,\n",
    "    'can_data': can_data,\n",
    "    'cat_data': cat_data,\n",
    "    'driller_data': driller_data,\n",
    "    'duck_data': duck_data,\n",
    "    'eggbox_data': eggbox_data,\n",
    "    'glue_data': glue_data,\n",
    "    'holepuncher_data': holepuncher_data,\n",
    "    'iron_data': iron_data,\n",
    "    'lamp_data': lamp_data,\n",
    "    'phone_data': phone_data,\n",
    "    # onepose\n",
    "    'aptamil_data': aptamil_data,\n",
    "    'jzhg_data': jzhg_data,\n",
    "    'minipuff_data': minipuff_data,\n",
    "    'hlyormosiapie_data': hlyormosiapie_data,\n",
    "    'brownhouse_data': brownhouse_data,\n",
    "    'oreo_data': oreo_data,\n",
    "    'mfmilkcake_data': mfmilkcake_data,\n",
    "    'diycookies_data': diycookies_data,\n",
    "    'taipingcookies_data': taipingcookies_data,\n",
    "    'tee_data': tee_data,\n",
    "    # onepose++\n",
    "    'toyrobot_data': toyrobot_data,\n",
    "    'yellowduck_data': yellowduck_data,\n",
    "    'sheep_data': sheep_data,\n",
    "    'fakebanana_data': fakebanana_data,\n",
    "    'teabox_data': teabox_data,\n",
    "    'orange_data': orange_data,\n",
    "    'greenteapot_data': greenteapot_data,\n",
    "    'lecreusetcup_data': lecreusetcup_data,\n",
    "    'insta_data': insta_data,\n",
    "    # ycbv\n",
    "    'one_data': one_data,\n",
    "    'two_data': two_data,\n",
    "    'three_data': three_data,\n",
    "    'four_data': four_data,\n",
    "    'five_data': five_data,\n",
    "    'six_data': six_data,\n",
    "    'seven_data': seven_data,\n",
    "    'eight_data': eight_data,\n",
    "    'nine_data': nine_data,\n",
    "    'ten_data': ten_data,\n",
    "}"
   ]
  },
  {
   "cell_type": "code",
   "execution_count": 7,
   "metadata": {},
   "outputs": [],
   "source": [
    "linemod_type = ['ape_data', 'benchvise_data', 'camera_data', 'can_data', 'cat_data', 'driller_data', 'duck_data', 'eggbox_data', 'glue_data', 'holepuncher_data', 'iron_data', 'lamp_data', 'phone_data']\n",
    "onepose_type = ['aptamil_data', 'jzhg_data', 'minipuff_data', 'hlyormosiapie_data', 'brownhouse_data', 'oreo_data', 'mfmilkcake_data', 'diycookies_data', 'taipingcookies_data', 'tee_data']\n",
    "oneposeplusplus_type = ['toyrobot_data', 'yellowduck_data', 'sheep_data', 'fakebanana_data', 'teabox_data', 'orange_data', 'greenteapot_data', 'lecreusetcup_data', 'insta_data']\n",
    "ycbv_type = ['one_data', 'two_data', 'three_data', 'four_data', 'five_data', 'six_data', 'seven_data', 'eight_data', 'nine_data', 'ten_data']"
   ]
  },
  {
   "cell_type": "code",
   "execution_count": 8,
   "metadata": {},
   "outputs": [
    {
     "name": "stdout",
     "output_type": "stream",
     "text": [
      "toyrobot_data 57\n",
      "yellowduck_data 66\n",
      "sheep_data 52\n",
      "fakebanana_data 48\n",
      "teabox_data 65\n",
      "orange_data 75\n",
      "greenteapot_data 40\n",
      "lecreusetcup_data 47\n",
      "insta_data 94\n",
      "len(all_data): 9\n"
     ]
    }
   ],
   "source": [
    "for i, batch in enumerate(test_dataloader):\n",
    "    for data in batch:\n",
    "        if 'lm' in data['name']:\n",
    "            all_data[f\"{id2name_dict[int(data['name'][2:])]}_data\"].append(data)\n",
    "        else:\n",
    "            if data['name'] in ('12345678910'):\n",
    "                all_data[f\"{ycbv_dict[int(data['name'])]}_data\"].append(data)\n",
    "            else:\n",
    "                all_data[f\"{data['name']}_data\"].append(data)\n",
    "\n",
    "empty_keys = []\n",
    "for key in all_data.keys():\n",
    "    if len(all_data[key]) == 0:\n",
    "        empty_keys.append(key)\n",
    "\n",
    "for key in empty_keys:\n",
    "    all_data.pop(key)\n",
    "\n",
    "for key in all_data.keys():\n",
    "    print(key, len(all_data[key]))\n",
    "\n",
    "print('len(all_data):', len(all_data))"
   ]
  },
  {
   "cell_type": "code",
   "execution_count": 9,
   "metadata": {},
   "outputs": [
    {
     "name": "stderr",
     "output_type": "stream",
     "text": [
      "\u001b[32m2024-03-13 00:48:02.413\u001b[0m | \u001b[1mINFO    \u001b[0m | \u001b[36m__main__\u001b[0m:\u001b[36m<module>\u001b[0m:\u001b[36m11\u001b[0m - \u001b[1mONEPOSE++: toyrobot_data\u001b[0m\n",
      "\u001b[32m2024-03-13 00:48:02.832\u001b[0m | \u001b[1mINFO    \u001b[0m | \u001b[36mpose.utils\u001b[0m:\u001b[36maggregate_metrics\u001b[0m:\u001b[36m237\u001b[0m - \u001b[1mAggregating metrics over 57 unique items...\u001b[0m\n",
      "\u001b[32m2024-03-13 00:48:02.834\u001b[0m | \u001b[1mINFO    \u001b[0m | \u001b[36m__main__\u001b[0m:\u001b[36m<module>\u001b[0m:\u001b[36m70\u001b[0m - \u001b[1m\n",
      "{'AP50': 0.9824561403508771,\n",
      " 'R:ACC15': 0.5087719298245614,\n",
      " 'R:ACC30': 0.9824561403508771,\n",
      " 'R:auc@15': 0.20297678838112,\n",
      " 'R:auc@30': 0.48179159283018097,\n",
      " 'R:meanErr': 15.842011862003424,\n",
      " 'R:medianErr': 14.453136257675741,\n",
      " 't:ACC15': 0.9473684210526315,\n",
      " 't:ACC30': 1.0,\n",
      " 't:auc@15': 0.4657032176837489,\n",
      " 't:auc@30': 0.727030897983841,\n",
      " 't:meanErr': 8.383617111102335,\n",
      " 't:medianErr': 8.018844976112238}\u001b[0m\n",
      "\u001b[32m2024-03-13 00:48:02.835\u001b[0m | \u001b[1mINFO    \u001b[0m | \u001b[36m__main__\u001b[0m:\u001b[36m<module>\u001b[0m:\u001b[36m11\u001b[0m - \u001b[1mONEPOSE++: yellowduck_data\u001b[0m\n"
     ]
    },
    {
     "name": "stdout",
     "output_type": "stream",
     "text": [
      "Acc: 56/57\n"
     ]
    },
    {
     "name": "stderr",
     "output_type": "stream",
     "text": [
      "\u001b[32m2024-03-13 00:48:03.168\u001b[0m | \u001b[1mINFO    \u001b[0m | \u001b[36mpose.utils\u001b[0m:\u001b[36maggregate_metrics\u001b[0m:\u001b[36m237\u001b[0m - \u001b[1mAggregating metrics over 66 unique items...\u001b[0m\n",
      "\u001b[32m2024-03-13 00:48:03.170\u001b[0m | \u001b[1mINFO    \u001b[0m | \u001b[36m__main__\u001b[0m:\u001b[36m<module>\u001b[0m:\u001b[36m70\u001b[0m - \u001b[1m\n",
      "{'AP50': 1.0,\n",
      " 'R:ACC15': 0.6060606060606061,\n",
      " 'R:ACC30': 0.9696969696969697,\n",
      " 'R:auc@15': 0.2984369333909168,\n",
      " 'R:auc@30': 0.5841621653071588,\n",
      " 'R:meanErr': 12.741589157544135,\n",
      " 'R:medianErr': 12.828962824503257,\n",
      " 't:ACC15': 0.9696969696969697,\n",
      " 't:ACC30': 1.0,\n",
      " 't:auc@15': 0.5518080398809759,\n",
      " 't:auc@30': 0.7750880579396106,\n",
      " 't:meanErr': 6.885326730929353,\n",
      " 't:medianErr': 6.655576742255706}\u001b[0m\n",
      "\u001b[32m2024-03-13 00:48:03.170\u001b[0m | \u001b[1mINFO    \u001b[0m | \u001b[36m__main__\u001b[0m:\u001b[36m<module>\u001b[0m:\u001b[36m11\u001b[0m - \u001b[1mONEPOSE++: sheep_data\u001b[0m\n"
     ]
    },
    {
     "name": "stdout",
     "output_type": "stream",
     "text": [
      "Acc: 66/66\n"
     ]
    },
    {
     "name": "stderr",
     "output_type": "stream",
     "text": [
      "\u001b[32m2024-03-13 00:48:03.433\u001b[0m | \u001b[1mINFO    \u001b[0m | \u001b[36mpose.utils\u001b[0m:\u001b[36maggregate_metrics\u001b[0m:\u001b[36m237\u001b[0m - \u001b[1mAggregating metrics over 52 unique items...\u001b[0m\n",
      "\u001b[32m2024-03-13 00:48:03.434\u001b[0m | \u001b[1mINFO    \u001b[0m | \u001b[36m__main__\u001b[0m:\u001b[36m<module>\u001b[0m:\u001b[36m70\u001b[0m - \u001b[1m\n",
      "{'AP50': 0.36538461538461536,\n",
      " 'R:ACC15': 0.5384615384615384,\n",
      " 'R:ACC30': 0.9423076923076923,\n",
      " 'R:auc@15': 0.26540674959730526,\n",
      " 'R:auc@30': 0.49370699754714614,\n",
      " 'R:meanErr': 15.876070145436223,\n",
      " 'R:medianErr': 13.945945228978177,\n",
      " 't:ACC15': 0.9423076923076923,\n",
      " 't:ACC30': 1.0,\n",
      " 't:auc@15': 0.5854631636768445,\n",
      " 't:auc@30': 0.7860240272615172,\n",
      " 't:meanErr': 6.6888499872237,\n",
      " 't:medianErr': 5.530322712702267}\u001b[0m\n",
      "\u001b[32m2024-03-13 00:48:03.435\u001b[0m | \u001b[1mINFO    \u001b[0m | \u001b[36m__main__\u001b[0m:\u001b[36m<module>\u001b[0m:\u001b[36m11\u001b[0m - \u001b[1mONEPOSE++: fakebanana_data\u001b[0m\n"
     ]
    },
    {
     "name": "stdout",
     "output_type": "stream",
     "text": [
      "Acc: 19/52\n"
     ]
    },
    {
     "name": "stderr",
     "output_type": "stream",
     "text": [
      "\u001b[32m2024-03-13 00:48:03.677\u001b[0m | \u001b[1mINFO    \u001b[0m | \u001b[36mpose.utils\u001b[0m:\u001b[36maggregate_metrics\u001b[0m:\u001b[36m237\u001b[0m - \u001b[1mAggregating metrics over 48 unique items...\u001b[0m\n",
      "\u001b[32m2024-03-13 00:48:03.678\u001b[0m | \u001b[1mINFO    \u001b[0m | \u001b[36m__main__\u001b[0m:\u001b[36m<module>\u001b[0m:\u001b[36m70\u001b[0m - \u001b[1m\n",
      "{'AP50': 0.9791666666666666,\n",
      " 'R:ACC15': 0.5,\n",
      " 'R:ACC30': 0.9375,\n",
      " 'R:auc@15': 0.17332172304937277,\n",
      " 'R:auc@30': 0.470436884023851,\n",
      " 'R:meanErr': 16.40575413574921,\n",
      " 'R:medianErr': 14.823982375801897,\n",
      " 't:ACC15': 0.9583333333333334,\n",
      " 't:ACC30': 1.0,\n",
      " 't:auc@15': 0.5192690459662292,\n",
      " 't:auc@30': 0.7587681692347599,\n",
      " 't:meanErr': 7.416296215210778,\n",
      " 't:medianErr': 6.952786227097967}\u001b[0m\n",
      "\u001b[32m2024-03-13 00:48:03.679\u001b[0m | \u001b[1mINFO    \u001b[0m | \u001b[36m__main__\u001b[0m:\u001b[36m<module>\u001b[0m:\u001b[36m11\u001b[0m - \u001b[1mONEPOSE++: teabox_data\u001b[0m\n"
     ]
    },
    {
     "name": "stdout",
     "output_type": "stream",
     "text": [
      "Acc: 47/48\n"
     ]
    },
    {
     "name": "stderr",
     "output_type": "stream",
     "text": [
      "\u001b[32m2024-03-13 00:48:04.007\u001b[0m | \u001b[1mINFO    \u001b[0m | \u001b[36mpose.utils\u001b[0m:\u001b[36maggregate_metrics\u001b[0m:\u001b[36m237\u001b[0m - \u001b[1mAggregating metrics over 65 unique items...\u001b[0m\n",
      "\u001b[32m2024-03-13 00:48:04.008\u001b[0m | \u001b[1mINFO    \u001b[0m | \u001b[36m__main__\u001b[0m:\u001b[36m<module>\u001b[0m:\u001b[36m70\u001b[0m - \u001b[1m\n",
      "{'AP50': 0.9384615384615385,\n",
      " 'R:ACC15': 0.5538461538461539,\n",
      " 'R:ACC30': 0.9692307692307692,\n",
      " 'R:auc@15': 0.29965172011741764,\n",
      " 'R:auc@30': 0.5544385138773578,\n",
      " 'R:meanErr': 13.78980077120767,\n",
      " 'R:medianErr': 13.280419293390842,\n",
      " 't:ACC15': 0.9846153846153847,\n",
      " 't:ACC30': 1.0,\n",
      " 't:auc@15': 0.4807467854717978,\n",
      " 't:auc@30': 0.7403752592078569,\n",
      " 't:meanErr': 7.904814717660415,\n",
      " 't:medianErr': 7.6722868045121}\u001b[0m\n",
      "\u001b[32m2024-03-13 00:48:04.009\u001b[0m | \u001b[1mINFO    \u001b[0m | \u001b[36m__main__\u001b[0m:\u001b[36m<module>\u001b[0m:\u001b[36m11\u001b[0m - \u001b[1mONEPOSE++: orange_data\u001b[0m\n"
     ]
    },
    {
     "name": "stdout",
     "output_type": "stream",
     "text": [
      "Acc: 61/65\n"
     ]
    },
    {
     "name": "stderr",
     "output_type": "stream",
     "text": [
      "\u001b[32m2024-03-13 00:48:04.389\u001b[0m | \u001b[1mINFO    \u001b[0m | \u001b[36mpose.utils\u001b[0m:\u001b[36maggregate_metrics\u001b[0m:\u001b[36m237\u001b[0m - \u001b[1mAggregating metrics over 75 unique items...\u001b[0m\n",
      "\u001b[32m2024-03-13 00:48:04.390\u001b[0m | \u001b[1mINFO    \u001b[0m | \u001b[36m__main__\u001b[0m:\u001b[36m<module>\u001b[0m:\u001b[36m70\u001b[0m - \u001b[1m\n",
      "{'AP50': 0.9866666666666667,\n",
      " 'R:ACC15': 0.5733333333333334,\n",
      " 'R:ACC30': 0.9733333333333334,\n",
      " 'R:auc@15': 0.23526939481390752,\n",
      " 'R:auc@30': 0.5292313588317142,\n",
      " 'R:meanErr': 14.578011954926891,\n",
      " 'R:medianErr': 13.534363443821134,\n",
      " 't:ACC15': 0.9866666666666667,\n",
      " 't:ACC30': 1.0,\n",
      " 't:auc@15': 0.6454604736085439,\n",
      " 't:auc@30': 0.8216590126350332,\n",
      " 't:meanErr': 5.490509977669284,\n",
      " 't:medianErr': 4.835217165093264}\u001b[0m\n",
      "\u001b[32m2024-03-13 00:48:04.391\u001b[0m | \u001b[1mINFO    \u001b[0m | \u001b[36m__main__\u001b[0m:\u001b[36m<module>\u001b[0m:\u001b[36m11\u001b[0m - \u001b[1mONEPOSE++: greenteapot_data\u001b[0m\n"
     ]
    },
    {
     "name": "stdout",
     "output_type": "stream",
     "text": [
      "Acc: 74/75\n"
     ]
    },
    {
     "name": "stderr",
     "output_type": "stream",
     "text": [
      "\u001b[32m2024-03-13 00:48:04.597\u001b[0m | \u001b[1mINFO    \u001b[0m | \u001b[36mpose.utils\u001b[0m:\u001b[36maggregate_metrics\u001b[0m:\u001b[36m237\u001b[0m - \u001b[1mAggregating metrics over 40 unique items...\u001b[0m\n",
      "\u001b[32m2024-03-13 00:48:04.598\u001b[0m | \u001b[1mINFO    \u001b[0m | \u001b[36m__main__\u001b[0m:\u001b[36m<module>\u001b[0m:\u001b[36m70\u001b[0m - \u001b[1m\n",
      "{'AP50': 0.925,\n",
      " 'R:ACC15': 0.5,\n",
      " 'R:ACC30': 0.95,\n",
      " 'R:auc@15': 0.22146638491559967,\n",
      " 'R:auc@30': 0.4874353741818929,\n",
      " 'R:meanErr': 15.870033111994285,\n",
      " 'R:medianErr': 15.29933426565154,\n",
      " 't:ACC15': 0.975,\n",
      " 't:ACC30': 1.0,\n",
      " 't:auc@15': 0.4493896827103111,\n",
      " 't:auc@30': 0.7248295640251455,\n",
      " 't:meanErr': 8.455589935586321,\n",
      " 't:medianErr': 8.749679991707387}\u001b[0m\n",
      "\u001b[32m2024-03-13 00:48:04.599\u001b[0m | \u001b[1mINFO    \u001b[0m | \u001b[36m__main__\u001b[0m:\u001b[36m<module>\u001b[0m:\u001b[36m11\u001b[0m - \u001b[1mONEPOSE++: lecreusetcup_data\u001b[0m\n"
     ]
    },
    {
     "name": "stdout",
     "output_type": "stream",
     "text": [
      "Acc: 37/40\n"
     ]
    },
    {
     "name": "stderr",
     "output_type": "stream",
     "text": [
      "\u001b[32m2024-03-13 00:48:04.836\u001b[0m | \u001b[1mINFO    \u001b[0m | \u001b[36mpose.utils\u001b[0m:\u001b[36maggregate_metrics\u001b[0m:\u001b[36m237\u001b[0m - \u001b[1mAggregating metrics over 47 unique items...\u001b[0m\n",
      "\u001b[32m2024-03-13 00:48:04.838\u001b[0m | \u001b[1mINFO    \u001b[0m | \u001b[36m__main__\u001b[0m:\u001b[36m<module>\u001b[0m:\u001b[36m70\u001b[0m - \u001b[1m\n",
      "{'AP50': 0.851063829787234,\n",
      " 'R:ACC15': 0.5957446808510638,\n",
      " 'R:ACC30': 0.9787234042553191,\n",
      " 'R:auc@15': 0.279969254710428,\n",
      " 'R:auc@30': 0.545231469097702,\n",
      " 'R:meanErr': 14.268790332489079,\n",
      " 'R:medianErr': 13.753004609111962,\n",
      " 't:ACC15': 0.8297872340425532,\n",
      " 't:ACC30': 1.0,\n",
      " 't:auc@15': 0.4008195398236183,\n",
      " 't:auc@30': 0.688081868702586,\n",
      " 't:meanErr': 9.562268698301692,\n",
      " 't:medianErr': 8.94957894454996}\u001b[0m\n",
      "\u001b[32m2024-03-13 00:48:04.838\u001b[0m | \u001b[1mINFO    \u001b[0m | \u001b[36m__main__\u001b[0m:\u001b[36m<module>\u001b[0m:\u001b[36m11\u001b[0m - \u001b[1mONEPOSE++: insta_data\u001b[0m\n"
     ]
    },
    {
     "name": "stdout",
     "output_type": "stream",
     "text": [
      "Acc: 40/47\n"
     ]
    },
    {
     "name": "stderr",
     "output_type": "stream",
     "text": [
      "\u001b[32m2024-03-13 00:48:05.314\u001b[0m | \u001b[1mINFO    \u001b[0m | \u001b[36mpose.utils\u001b[0m:\u001b[36maggregate_metrics\u001b[0m:\u001b[36m237\u001b[0m - \u001b[1mAggregating metrics over 94 unique items...\u001b[0m\n",
      "\u001b[32m2024-03-13 00:48:05.315\u001b[0m | \u001b[1mINFO    \u001b[0m | \u001b[36m__main__\u001b[0m:\u001b[36m<module>\u001b[0m:\u001b[36m70\u001b[0m - \u001b[1m\n",
      "{'AP50': 0.5638297872340425,\n",
      " 'R:ACC15': 0.43617021276595747,\n",
      " 'R:ACC30': 0.8829787234042553,\n",
      " 'R:auc@15': 0.19973920487606375,\n",
      " 'R:auc@30': 0.44601708260661554,\n",
      " 'R:meanErr': 17.681497734857814,\n",
      " 'R:medianErr': 17.02191408933925,\n",
      " 't:ACC15': 0.8936170212765957,\n",
      " 't:ACC30': 1.0,\n",
      " 't:auc@15': 0.44198483702584074,\n",
      " 't:auc@30': 0.7089585433221335,\n",
      " 't:meanErr': 8.879315460452167,\n",
      " 't:medianErr': 8.08998651100503}\u001b[0m\n"
     ]
    },
    {
     "name": "stdout",
     "output_type": "stream",
     "text": [
      "Acc: 53/94\n"
     ]
    }
   ],
   "source": [
    "res_table = []\n",
    "\n",
    "model_type = 'relative_r-gt_t'\n",
    "\n",
    "for key in all_data.keys():\n",
    "    if key in linemod_type:\n",
    "        logger.info(f\"LINEMOD: {key}\")\n",
    "    elif key in onepose_type:\n",
    "        logger.info(f\"ONEPOSE: {key}\")\n",
    "    elif key in oneposeplusplus_type:\n",
    "        logger.info(f\"ONEPOSE++: {key}\")\n",
    "    elif key in ycbv_type:\n",
    "        logger.info(f\"YCBV: {key}\")\n",
    "    metrics = dict()\n",
    "    metrics.update({'R_errs':[], 't_errs':[], 'inliers':[], \"identifiers\":[]})\n",
    "    recall_image, all_image = 0, 0\n",
    "    for item in all_data[key]:\n",
    "        all_image += 1\n",
    "        K0 = item['K0']\n",
    "        K1 = item['K1']\n",
    "        pose0 = item['pose0']\n",
    "        pose1 = item['pose1']\n",
    "        pre_bbox = item['pre_bbox']\n",
    "        gt_bbox = item['gt_bbox']\n",
    "        mkpts0 = item['mkpts0']\n",
    "        mkpts1 = item['mkpts1']\n",
    "        pre_K = item['pre_K']\n",
    "        name = item['name']\n",
    "        pair_name = item['pair_name']\n",
    "        # linemod\n",
    "        if 'lm' in name:\n",
    "            name = id2name_dict[int(name[2:])]\n",
    "        # ycbv\n",
    "        if name in '12345678910':\n",
    "            name = ycbv_dict[int(name)]\n",
    "\n",
    "        if name not in key:\n",
    "            print(f'name: {name}, key: {key}')\n",
    "            continue\n",
    "\n",
    "        is_recalled = recall_object(pre_bbox, gt_bbox)\n",
    "\n",
    "        recall_image = recall_image + int(is_recalled > 0.5)\n",
    "\n",
    "        batch_mkpts0 = torch.from_numpy(mkpts0).unsqueeze(0).float().to(device)\n",
    "        batch_mkpts1 = torch.from_numpy(mkpts1).unsqueeze(0).float().to(device)\n",
    "        pre_t, pre_rot = net(batch_mkpts0, batch_mkpts1)\n",
    "        pre_t = pre_t.squeeze(0).detach().cpu().numpy()\n",
    "        pre_rot = pre_rot.squeeze(0).detach().cpu().numpy()\n",
    "\n",
    "        if model_type == 'gt':\n",
    "            t_err, R_err = relative_pose_error_np(pose1, pre_rot, pre_t, ignore_gt_t_thr=0.0)\n",
    "        elif model_type == 'relative':\n",
    "            relative_pose = np.matmul(pose1, np.linalg.inv(pose0))\n",
    "            t_err, R_err = relative_pose_error_np(relative_pose, pre_rot, pre_t, ignore_gt_t_thr=0.0)\n",
    "        elif model_type == 'relative_r-gt_t':\n",
    "            relative_pose = np.matmul(pose1, np.linalg.inv(pose0))\n",
    "            gt_pose = np.zeros_like(pose1)\n",
    "            gt_pose[:3, :3] = relative_pose[:3, :3]\n",
    "            gt_pose[:3, 3] = pose1[:3, 3]\n",
    "            t_err, R_err = relative_pose_error_np(gt_pose, pre_rot, pre_t, ignore_gt_t_thr=0.0)\n",
    "\n",
    "        metrics['R_errs'].append(R_err)\n",
    "        metrics['t_errs'].append(t_err)\n",
    "        metrics['identifiers'].append(pair_name)\n",
    "\n",
    "    print(f\"Acc: {recall_image}/{all_image}\")\n",
    "    val_metrics_4tb = aggregate_metrics(metrics, 5e-4)\n",
    "    val_metrics_4tb[\"AP50\"] = recall_image / all_image\n",
    "    logger.info('\\n' + pprint.pformat(val_metrics_4tb))\n",
    "    res_table.append([f\"{name}\"] + list(val_metrics_4tb.values()))"
   ]
  },
  {
   "cell_type": "code",
   "execution_count": 10,
   "metadata": {},
   "outputs": [
    {
     "name": "stdout",
     "output_type": "stream",
     "text": [
      "ONEPOSE++\n",
      "╒══════════════╤════════════╤════════════╤═══════════╤═══════════╤═══════════════╤═════════════╤════════════╤════════════╤═══════════╤═══════════╤═══════════════╤═════════════╤══════════╕\n",
      "│ Category     │   R:auc@15 │   R:auc@30 │   R:ACC15 │   R:ACC30 │   R:medianErr │   R:meanErr │   t:auc@15 │   t:auc@30 │   t:ACC15 │   t:ACC30 │   t:medianErr │   t:meanErr │     AP50 │\n",
      "╞══════════════╪════════════╪════════════╪═══════════╪═══════════╪═══════════════╪═════════════╪════════════╪════════════╪═══════════╪═══════════╪═══════════════╪═════════════╪══════════╡\n",
      "│ toyrobot     │   0.202977 │   0.481792 │  0.508772 │  0.982456 │       14.4531 │     15.842  │   0.465703 │   0.727031 │  0.947368 │         1 │       8.01884 │     8.38362 │ 0.982456 │\n",
      "├──────────────┼────────────┼────────────┼───────────┼───────────┼───────────────┼─────────────┼────────────┼────────────┼───────────┼───────────┼───────────────┼─────────────┼──────────┤\n",
      "│ yellowduck   │   0.298437 │   0.584162 │  0.606061 │  0.969697 │       12.829  │     12.7416 │   0.551808 │   0.775088 │  0.969697 │         1 │       6.65558 │     6.88533 │ 1        │\n",
      "├──────────────┼────────────┼────────────┼───────────┼───────────┼───────────────┼─────────────┼────────────┼────────────┼───────────┼───────────┼───────────────┼─────────────┼──────────┤\n",
      "│ sheep        │   0.265407 │   0.493707 │  0.538462 │  0.942308 │       13.9459 │     15.8761 │   0.585463 │   0.786024 │  0.942308 │         1 │       5.53032 │     6.68885 │ 0.365385 │\n",
      "├──────────────┼────────────┼────────────┼───────────┼───────────┼───────────────┼─────────────┼────────────┼────────────┼───────────┼───────────┼───────────────┼─────────────┼──────────┤\n",
      "│ fakebanana   │   0.173322 │   0.470437 │  0.5      │  0.9375   │       14.824  │     16.4058 │   0.519269 │   0.758768 │  0.958333 │         1 │       6.95279 │     7.4163  │ 0.979167 │\n",
      "├──────────────┼────────────┼────────────┼───────────┼───────────┼───────────────┼─────────────┼────────────┼────────────┼───────────┼───────────┼───────────────┼─────────────┼──────────┤\n",
      "│ teabox       │   0.299652 │   0.554439 │  0.553846 │  0.969231 │       13.2804 │     13.7898 │   0.480747 │   0.740375 │  0.984615 │         1 │       7.67229 │     7.90481 │ 0.938462 │\n",
      "├──────────────┼────────────┼────────────┼───────────┼───────────┼───────────────┼─────────────┼────────────┼────────────┼───────────┼───────────┼───────────────┼─────────────┼──────────┤\n",
      "│ orange       │   0.235269 │   0.529231 │  0.573333 │  0.973333 │       13.5344 │     14.578  │   0.64546  │   0.821659 │  0.986667 │         1 │       4.83522 │     5.49051 │ 0.986667 │\n",
      "├──────────────┼────────────┼────────────┼───────────┼───────────┼───────────────┼─────────────┼────────────┼────────────┼───────────┼───────────┼───────────────┼─────────────┼──────────┤\n",
      "│ greenteapot  │   0.221466 │   0.487435 │  0.5      │  0.95     │       15.2993 │     15.87   │   0.44939  │   0.72483  │  0.975    │         1 │       8.74968 │     8.45559 │ 0.925    │\n",
      "├──────────────┼────────────┼────────────┼───────────┼───────────┼───────────────┼─────────────┼────────────┼────────────┼───────────┼───────────┼───────────────┼─────────────┼──────────┤\n",
      "│ lecreusetcup │   0.279969 │   0.545231 │  0.595745 │  0.978723 │       13.753  │     14.2688 │   0.40082  │   0.688082 │  0.829787 │         1 │       8.94958 │     9.56227 │ 0.851064 │\n",
      "├──────────────┼────────────┼────────────┼───────────┼───────────┼───────────────┼─────────────┼────────────┼────────────┼───────────┼───────────┼───────────────┼─────────────┼──────────┤\n",
      "│ insta        │   0.199739 │   0.446017 │  0.43617  │  0.882979 │       17.0219 │     17.6815 │   0.441985 │   0.708959 │  0.893617 │         1 │       8.08999 │     8.87932 │ 0.56383  │\n",
      "├──────────────┼────────────┼────────────┼───────────┼───────────┼───────────────┼─────────────┼────────────┼────────────┼───────────┼───────────┼───────────────┼─────────────┼──────────┤\n",
      "│ Avg          │   0.241804 │   0.510272 │  0.53471  │  0.954025 │       14.3268 │     15.2282 │   0.504516 │   0.747868 │  0.943044 │         1 │       7.2727  │     7.74073 │ 0.843559 │\n",
      "╘══════════════╧════════════╧════════════╧═══════════╧═══════════╧═══════════════╧═════════════╧════════════╧════════════╧═══════════╧═══════════╧═══════════════╧═════════════╧══════════╛\n"
     ]
    }
   ],
   "source": [
    "for i, key in enumerate(all_data.keys()):\n",
    "    if i == 1:\n",
    "        break\n",
    "    if key in linemod_type:\n",
    "        print(f\"LINEMOD\")\n",
    "    elif key in onepose_type:\n",
    "        print(f\"ONEPOSE\")\n",
    "    elif key in oneposeplusplus_type:\n",
    "        print(f\"ONEPOSE++\")\n",
    "    elif key in ycbv_type:\n",
    "        print(f\"YCBV\")\n",
    "\n",
    "from tabulate import tabulate\n",
    "headers = [\"Category\"] + list(val_metrics_4tb.keys())\n",
    "all_data = np.array(res_table)[:, 1:].astype(np.float32)\n",
    "res_table.append([\"Avg\"] + all_data.mean(0).tolist())\n",
    "print(tabulate(res_table, headers=headers, tablefmt='fancy_grid'))"
   ]
  },
  {
   "cell_type": "code",
   "execution_count": null,
   "metadata": {},
   "outputs": [],
   "source": []
  }
 ],
 "metadata": {
  "kernelspec": {
   "display_name": "pope",
   "language": "python",
   "name": "python3"
  },
  "language_info": {
   "codemirror_mode": {
    "name": "ipython",
    "version": 3
   },
   "file_extension": ".py",
   "mimetype": "text/x-python",
   "name": "python",
   "nbconvert_exporter": "python",
   "pygments_lexer": "ipython3",
   "version": "3.9.18"
  }
 },
 "nbformat": 4,
 "nbformat_minor": 2
}
