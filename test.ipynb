{
 "cells": [
  {
   "cell_type": "code",
   "execution_count": 1,
   "metadata": {},
   "outputs": [
    {
     "name": "stderr",
     "output_type": "stream",
     "text": [
      " 56%|█████▌    | 5/9 [00:05<00:04,  1.15s/it]"
     ]
    },
    {
     "name": "stdout",
     "output_type": "stream",
     "text": [
      "d:/git_project/POPE/data/onepose_plusplus-points/0706-teabox-box\\mkpts0\\820.png-761.png.txt does not exist\n"
     ]
    },
    {
     "name": "stderr",
     "output_type": "stream",
     "text": [
      " 89%|████████▉ | 8/9 [00:08<00:01,  1.10s/it]"
     ]
    },
    {
     "name": "stdout",
     "output_type": "stream",
     "text": [
      "d:/git_project/POPE/data/onepose_plusplus-points/0712-insta-others\\mkpts0\\1570.png-125.png.txt does not exist\n"
     ]
    },
    {
     "name": "stderr",
     "output_type": "stream",
     "text": [
      "100%|██████████| 9/9 [00:10<00:00,  1.15s/it]"
     ]
    },
    {
     "name": "stdout",
     "output_type": "stream",
     "text": [
      "d:/git_project/POPE/data/onepose_plusplus-points/0712-insta-others\\mkpts0\\1605.png-185.png.txt does not exist\n",
      "d:/git_project/POPE/data/onepose_plusplus-points/0712-insta-others\\mkpts0\\1628.png-210.png.txt does not exist\n"
     ]
    },
    {
     "name": "stderr",
     "output_type": "stream",
     "text": [
      "\n"
     ]
    }
   ],
   "source": [
    "import os\n",
    "import torch\n",
    "import random\n",
    "import pprint\n",
    "import numpy as np\n",
    "from loguru import logger\n",
    "from torch.utils.data import DataLoader\n",
    "from torch import nn\n",
    "\n",
    "from pose.dataset import pose_dataset\n",
    "from pose.utils import (\n",
    "    collate_fn,\n",
    "    geodesic_distance,\n",
    "    relative_pose_error,\n",
    "    relative_pose_error_np,\n",
    "    recall_object,\n",
    "    aggregate_metrics\n",
    ")\n",
    "from pose.model import Mkpts_Reg_Model\n",
    "from pose.animator import Animator\n",
    "\n",
    "\n",
    "if os.name == 'nt':\n",
    "    LM_dataset_path = 'd:/git_project/POPE/data/LM_dataset/'\n",
    "    LM_dataset_json_path = 'd:/git_project/POPE/data/pairs/LINEMOD-test.json'\n",
    "    LM_dataset_points_path = 'd:/git_project/POPE/data/LM_dataset-points/'\n",
    "\n",
    "    onepose_path = 'd:/git_project/POPE/data/onepose/'\n",
    "    onepose_json_path = 'd:/git_project/POPE/data/pairs/Onepose-test.json'\n",
    "    onepose_points_path = 'd:/git_project/POPE/data/onepose-points/'\n",
    "\n",
    "    onepose_plusplus_path = 'd:/git_project/POPE/data/onepose_plusplus/'\n",
    "    onepose_plusplus_json_path = 'd:/git_project/POPE/data/pairs/OneposePlusPlus-test.json'\n",
    "    onepose_plusplus_points_path = 'd:/git_project/POPE/data/onepose_plusplus-points/'\n",
    "\n",
    "    ycbv_path = 'd:/git_project/POPE/data/ycbv/'\n",
    "    ycbv_json_path = 'd:/git_project/POPE/data/pairs/YCB-VIDEO-test.json'\n",
    "    ycbv_points_path = 'd:/git_project/POPE/data/ycbv-points'\n",
    "elif os.name == 'posix':\n",
    "    LM_dataset_path = 'data/LM_dataset/'\n",
    "    LM_dataset_json_path = 'data/pairs/LINEMOD-test.json'\n",
    "    LM_dataset_points_path = 'data/LM_dataset-points/'\n",
    "\n",
    "    onepose_path = 'data/onepose/'\n",
    "    onepose_json_path = 'data/pairs/Onepose-test.json'\n",
    "    onepose_points_path = 'data/onepose-points/'\n",
    "\n",
    "    onepose_plusplus_path = 'data/oneposeplusplus/'\n",
    "    onepose_plusplus_json_path = 'data/pairs/OneposePlusPlus-test.json'\n",
    "    onepose_plusplus_points_path = 'data/onepose_plusplus-points/'\n",
    "\n",
    "    ycbv_path = 'data/ycbv/'\n",
    "    ycbv_json_path = 'data/pairs/YCB-VIDEO-test.json'\n",
    "    ycbv_points_path = 'data/ycbv-points'\n",
    "\n",
    "paths = [\n",
    "    # ('linemod', LM_dataset_path, LM_dataset_json_path, LM_dataset_points_path),\n",
    "    # ('onepose', onepose_path, onepose_json_path, onepose_points_path),\n",
    "    ('onepose_plusplus', onepose_plusplus_path, onepose_plusplus_json_path, onepose_plusplus_points_path),\n",
    "    # ('ycbv', ycbv_path, ycbv_json_path, ycbv_points_path),\n",
    "]\n",
    "\n",
    "device = torch.device('cuda' if torch.cuda.is_available() else 'cpu')\n",
    "\n",
    "dataset = pose_dataset(paths)\n",
    "mkpts_max_len, mkpts_sum_len = dataset.get_mkpts_info()"
   ]
  },
  {
   "cell_type": "code",
   "execution_count": 2,
   "metadata": {},
   "outputs": [],
   "source": [
    "random.seed(20231223)\n",
    "torch.manual_seed(20231223)\n",
    "torch.cuda.manual_seed(20231223)\n",
    "\n",
    "train_size = int(0.8 * len(dataset))\n",
    "test_size = len(dataset) - train_size\n",
    "train_dataset, test_dataset = torch.utils.data.random_split(dataset, [train_size, test_size])"
   ]
  },
  {
   "cell_type": "code",
   "execution_count": 3,
   "metadata": {},
   "outputs": [],
   "source": [
    "num_sample = 300\n",
    "train_dataloader = DataLoader(train_dataset, batch_size=8, shuffle=True, drop_last=True, collate_fn=collate_fn(num_sample))\n",
    "test_dataloader = DataLoader(test_dataset, batch_size=8, shuffle=True, drop_last=True, collate_fn=collate_fn(num_sample))"
   ]
  },
  {
   "cell_type": "code",
   "execution_count": 4,
   "metadata": {},
   "outputs": [
    {
     "data": {
      "text/plain": [
       "Mkpts_Reg_Model(\n",
       "  (embedding): Embedding()\n",
       "  (transformerlayer): TransformerEncoderLayer(\n",
       "    (self_attn): MultiheadAttention(\n",
       "      (out_proj): NonDynamicallyQuantizableLinear(in_features=76, out_features=76, bias=True)\n",
       "    )\n",
       "    (linear1): Linear(in_features=76, out_features=2048, bias=True)\n",
       "    (dropout): Dropout(p=0.1, inplace=False)\n",
       "    (linear2): Linear(in_features=2048, out_features=76, bias=True)\n",
       "    (norm1): LayerNorm((76,), eps=1e-05, elementwise_affine=True)\n",
       "    (norm2): LayerNorm((76,), eps=1e-05, elementwise_affine=True)\n",
       "    (dropout1): Dropout(p=0.1, inplace=False)\n",
       "    (dropout2): Dropout(p=0.1, inplace=False)\n",
       "  )\n",
       "  (transformer): TransformerEncoder(\n",
       "    (layers): ModuleList(\n",
       "      (0-3): 4 x TransformerEncoderLayer(\n",
       "        (self_attn): MultiheadAttention(\n",
       "          (out_proj): NonDynamicallyQuantizableLinear(in_features=76, out_features=76, bias=True)\n",
       "        )\n",
       "        (linear1): Linear(in_features=76, out_features=2048, bias=True)\n",
       "        (dropout): Dropout(p=0.1, inplace=False)\n",
       "        (linear2): Linear(in_features=2048, out_features=76, bias=True)\n",
       "        (norm1): LayerNorm((76,), eps=1e-05, elementwise_affine=True)\n",
       "        (norm2): LayerNorm((76,), eps=1e-05, elementwise_affine=True)\n",
       "        (dropout1): Dropout(p=0.1, inplace=False)\n",
       "        (dropout2): Dropout(p=0.1, inplace=False)\n",
       "      )\n",
       "    )\n",
       "  )\n",
       "  (translation_head): Linear(in_features=128, out_features=3, bias=True)\n",
       "  (rotation_head): Linear(in_features=128, out_features=6, bias=True)\n",
       "  (mlp): Sequential(\n",
       "    (0): Linear(in_features=22800, out_features=5700, bias=True)\n",
       "    (1): LeakyReLU(negative_slope=0.01)\n",
       "    (2): Linear(in_features=5700, out_features=128, bias=True)\n",
       "    (3): LeakyReLU(negative_slope=0.01)\n",
       "    (4): Linear(in_features=128, out_features=128, bias=True)\n",
       "  )\n",
       ")"
      ]
     },
     "execution_count": 4,
     "metadata": {},
     "output_type": "execute_result"
    }
   ],
   "source": [
    "# linemod\n",
    "# net = torch.load('./weights/linemod-relative_r-gt_t-quat-300-2024-03-08-16-56-16-0.2183.pth').to(device)\n",
    "# onepose\n",
    "# net = torch.load('./weights/onepose-relative_r-gt_t-6d-300-2024-03-02-16-10-39-0.2373.pth').to(device)\n",
    "# onepose++\n",
    "net = torch.load('./weights/relative_r-gt_t-6d-300-2024-03-12-11-34-40-0.2326.pth').to(device)\n",
    "# ycbv\n",
    "# net = torch.load('./weights/ycbv-relative_r-gt_t-6d-300-2024-03-02-17-01-40-6281.5225.pth').to(device)\n",
    "\n",
    "net.eval()"
   ]
  },
  {
   "cell_type": "code",
   "execution_count": 5,
   "metadata": {},
   "outputs": [],
   "source": [
    "id2name_dict = {\n",
    "    1: \"ape\",\n",
    "    2: \"benchvise\",\n",
    "    4: \"camera\",\n",
    "    5: \"can\",\n",
    "    6: \"cat\",\n",
    "    8: \"driller\",\n",
    "    9: \"duck\",\n",
    "    10: \"eggbox\",\n",
    "    11: \"glue\",\n",
    "    12: \"holepuncher\",\n",
    "    13: \"iron\",\n",
    "    14: \"lamp\",\n",
    "    15: \"phone\",\n",
    "}\n",
    "\n",
    "ycbv_dict = {\n",
    "    1: 'one',\n",
    "    2: 'two',\n",
    "    3: 'three',\n",
    "    4: 'four',\n",
    "    5: 'five',\n",
    "    6: 'six',\n",
    "    7: 'seven',\n",
    "    8: 'eight',\n",
    "    9: 'nine',\n",
    "    10: 'ten',\n",
    "}"
   ]
  },
  {
   "cell_type": "code",
   "execution_count": 6,
   "metadata": {},
   "outputs": [],
   "source": [
    "# linemod\n",
    "ape_data = []\n",
    "benchvise_data = []\n",
    "camera_data = []\n",
    "can_data = []\n",
    "cat_data = []\n",
    "driller_data = []\n",
    "duck_data = []\n",
    "eggbox_data = []\n",
    "glue_data = []\n",
    "holepuncher_data = []\n",
    "iron_data = []\n",
    "lamp_data = []\n",
    "phone_data = []\n",
    "# onepose\n",
    "aptamil_data = []\n",
    "jzhg_data = []\n",
    "minipuff_data = []\n",
    "hlyormosiapie_data = []\n",
    "brownhouse_data = []\n",
    "oreo_data = []\n",
    "mfmilkcake_data = []\n",
    "diycookies_data = []\n",
    "taipingcookies_data = []\n",
    "tee_data = []\n",
    "# onepose++\n",
    "toyrobot_data = []\n",
    "yellowduck_data = []\n",
    "sheep_data = []\n",
    "fakebanana_data = []\n",
    "teabox_data = []\n",
    "orange_data = []\n",
    "greenteapot_data = []\n",
    "lecreusetcup_data = []\n",
    "insta_data = []\n",
    "# ycbv\n",
    "one_data = []\n",
    "two_data = []\n",
    "three_data = []\n",
    "four_data = []\n",
    "five_data = []\n",
    "six_data = []\n",
    "seven_data = []\n",
    "eight_data = []\n",
    "nine_data = []\n",
    "ten_data = []\n",
    "\n",
    "all_data = {\n",
    "    # linemod\n",
    "    'ape_data': ape_data,\n",
    "    'benchvise_data': benchvise_data,\n",
    "    'camera_data': camera_data,\n",
    "    'can_data': can_data,\n",
    "    'cat_data': cat_data,\n",
    "    'driller_data': driller_data,\n",
    "    'duck_data': duck_data,\n",
    "    'eggbox_data': eggbox_data,\n",
    "    'glue_data': glue_data,\n",
    "    'holepuncher_data': holepuncher_data,\n",
    "    'iron_data': iron_data,\n",
    "    'lamp_data': lamp_data,\n",
    "    'phone_data': phone_data,\n",
    "    # onepose\n",
    "    'aptamil_data': aptamil_data,\n",
    "    'jzhg_data': jzhg_data,\n",
    "    'minipuff_data': minipuff_data,\n",
    "    'hlyormosiapie_data': hlyormosiapie_data,\n",
    "    'brownhouse_data': brownhouse_data,\n",
    "    'oreo_data': oreo_data,\n",
    "    'mfmilkcake_data': mfmilkcake_data,\n",
    "    'diycookies_data': diycookies_data,\n",
    "    'taipingcookies_data': taipingcookies_data,\n",
    "    'tee_data': tee_data,\n",
    "    # onepose++\n",
    "    'toyrobot_data': toyrobot_data,\n",
    "    'yellowduck_data': yellowduck_data,\n",
    "    'sheep_data': sheep_data,\n",
    "    'fakebanana_data': fakebanana_data,\n",
    "    'teabox_data': teabox_data,\n",
    "    'orange_data': orange_data,\n",
    "    'greenteapot_data': greenteapot_data,\n",
    "    'lecreusetcup_data': lecreusetcup_data,\n",
    "    'insta_data': insta_data,\n",
    "    # ycbv\n",
    "    'one_data': one_data,\n",
    "    'two_data': two_data,\n",
    "    'three_data': three_data,\n",
    "    'four_data': four_data,\n",
    "    'five_data': five_data,\n",
    "    'six_data': six_data,\n",
    "    'seven_data': seven_data,\n",
    "    'eight_data': eight_data,\n",
    "    'nine_data': nine_data,\n",
    "    'ten_data': ten_data,\n",
    "}"
   ]
  },
  {
   "cell_type": "code",
   "execution_count": 7,
   "metadata": {},
   "outputs": [],
   "source": [
    "linemod_type = ['ape_data', 'benchvise_data', 'camera_data', 'can_data', 'cat_data', 'driller_data', 'duck_data', 'eggbox_data', 'glue_data', 'holepuncher_data', 'iron_data', 'lamp_data', 'phone_data']\n",
    "onepose_type = ['aptamil_data', 'jzhg_data', 'minipuff_data', 'hlyormosiapie_data', 'brownhouse_data', 'oreo_data', 'mfmilkcake_data', 'diycookies_data', 'taipingcookies_data', 'tee_data']\n",
    "oneposeplusplus_type = ['toyrobot_data', 'yellowduck_data', 'sheep_data', 'fakebanana_data', 'teabox_data', 'orange_data', 'greenteapot_data', 'lecreusetcup_data', 'insta_data']\n",
    "ycbv_type = ['one_data', 'two_data', 'three_data', 'four_data', 'five_data', 'six_data', 'seven_data', 'eight_data', 'nine_data', 'ten_data']"
   ]
  },
  {
   "cell_type": "code",
   "execution_count": 8,
   "metadata": {},
   "outputs": [
    {
     "name": "stdout",
     "output_type": "stream",
     "text": [
      "toyrobot_data 57\n",
      "yellowduck_data 66\n",
      "sheep_data 52\n",
      "fakebanana_data 48\n",
      "teabox_data 65\n",
      "orange_data 75\n",
      "greenteapot_data 40\n",
      "lecreusetcup_data 47\n",
      "insta_data 94\n",
      "len(all_data): 9\n"
     ]
    }
   ],
   "source": [
    "for i, batch in enumerate(test_dataloader):\n",
    "    for data in batch:\n",
    "        if 'lm' in data['name']:\n",
    "            all_data[f\"{id2name_dict[int(data['name'][2:])]}_data\"].append(data)\n",
    "        else:\n",
    "            if data['name'] in ('12345678910'):\n",
    "                all_data[f\"{ycbv_dict[int(data['name'])]}_data\"].append(data)\n",
    "            else:\n",
    "                all_data[f\"{data['name']}_data\"].append(data)\n",
    "\n",
    "empty_keys = []\n",
    "for key in all_data.keys():\n",
    "    if len(all_data[key]) == 0:\n",
    "        empty_keys.append(key)\n",
    "\n",
    "for key in empty_keys:\n",
    "    all_data.pop(key)\n",
    "\n",
    "for key in all_data.keys():\n",
    "    print(key, len(all_data[key]))\n",
    "\n",
    "print('len(all_data):', len(all_data))"
   ]
  },
  {
   "cell_type": "code",
   "execution_count": 9,
   "metadata": {},
   "outputs": [
    {
     "name": "stderr",
     "output_type": "stream",
     "text": [
      "\u001b[32m2024-03-12 11:35:50.975\u001b[0m | \u001b[1mINFO    \u001b[0m | \u001b[36m__main__\u001b[0m:\u001b[36m<module>\u001b[0m:\u001b[36m11\u001b[0m - \u001b[1mONEPOSE++: toyrobot_data\u001b[0m\n"
     ]
    },
    {
     "name": "stderr",
     "output_type": "stream",
     "text": [
      "\u001b[32m2024-03-12 11:35:53.246\u001b[0m | \u001b[1mINFO    \u001b[0m | \u001b[36mpose.utils\u001b[0m:\u001b[36maggregate_metrics\u001b[0m:\u001b[36m237\u001b[0m - \u001b[1mAggregating metrics over 57 unique items...\u001b[0m\n",
      "\u001b[32m2024-03-12 11:35:53.248\u001b[0m | \u001b[1mINFO    \u001b[0m | \u001b[36m__main__\u001b[0m:\u001b[36m<module>\u001b[0m:\u001b[36m70\u001b[0m - \u001b[1m\n",
      "{'AP50': 0.9824561403508771,\n",
      " 'R:ACC15': 0.47368421052631576,\n",
      " 'R:ACC30': 0.9824561403508771,\n",
      " 'R:auc@15': 0.18344907412571204,\n",
      " 'R:auc@30': 0.46382076561553714,\n",
      " 'R:meanErr': 16.348149095431815,\n",
      " 'R:medianErr': 15.402956107289398,\n",
      " 't:ACC15': 0.9824561403508771,\n",
      " 't:ACC30': 1.0,\n",
      " 't:auc@15': 0.5505204620100249,\n",
      " 't:auc@30': 0.7749006944590646,\n",
      " 't:meanErr': 6.90187803329131,\n",
      " 't:medianErr': 6.669386150658583}\u001b[0m\n",
      "\u001b[32m2024-03-12 11:35:53.248\u001b[0m | \u001b[1mINFO    \u001b[0m | \u001b[36m__main__\u001b[0m:\u001b[36m<module>\u001b[0m:\u001b[36m11\u001b[0m - \u001b[1mONEPOSE++: yellowduck_data\u001b[0m\n"
     ]
    },
    {
     "name": "stdout",
     "output_type": "stream",
     "text": [
      "Acc: 56/57\n"
     ]
    },
    {
     "name": "stderr",
     "output_type": "stream",
     "text": [
      "\u001b[32m2024-03-12 11:35:53.882\u001b[0m | \u001b[1mINFO    \u001b[0m | \u001b[36mpose.utils\u001b[0m:\u001b[36maggregate_metrics\u001b[0m:\u001b[36m237\u001b[0m - \u001b[1mAggregating metrics over 66 unique items...\u001b[0m\n",
      "\u001b[32m2024-03-12 11:35:53.884\u001b[0m | \u001b[1mINFO    \u001b[0m | \u001b[36m__main__\u001b[0m:\u001b[36m<module>\u001b[0m:\u001b[36m70\u001b[0m - \u001b[1m\n",
      "{'AP50': 1.0,\n",
      " 'R:ACC15': 0.5606060606060606,\n",
      " 'R:ACC30': 1.0,\n",
      " 'R:auc@15': 0.27766620270318065,\n",
      " 'R:auc@30': 0.5615526463144423,\n",
      " 'R:meanErr': 13.378617323029673,\n",
      " 'R:medianErr': 13.22067428206968,\n",
      " 't:ACC15': 0.9696969696969697,\n",
      " 't:ACC30': 1.0,\n",
      " 't:auc@15': 0.5580346370151738,\n",
      " 't:auc@30': 0.7789683548456792,\n",
      " 't:meanErr': 6.751760028680323,\n",
      " 't:medianErr': 6.635839354050449}\u001b[0m\n",
      "\u001b[32m2024-03-12 11:35:53.885\u001b[0m | \u001b[1mINFO    \u001b[0m | \u001b[36m__main__\u001b[0m:\u001b[36m<module>\u001b[0m:\u001b[36m11\u001b[0m - \u001b[1mONEPOSE++: sheep_data\u001b[0m\n"
     ]
    },
    {
     "name": "stdout",
     "output_type": "stream",
     "text": [
      "Acc: 66/66\n"
     ]
    },
    {
     "name": "stderr",
     "output_type": "stream",
     "text": [
      "\u001b[32m2024-03-12 11:35:54.376\u001b[0m | \u001b[1mINFO    \u001b[0m | \u001b[36mpose.utils\u001b[0m:\u001b[36maggregate_metrics\u001b[0m:\u001b[36m237\u001b[0m - \u001b[1mAggregating metrics over 52 unique items...\u001b[0m\n",
      "\u001b[32m2024-03-12 11:35:54.377\u001b[0m | \u001b[1mINFO    \u001b[0m | \u001b[36m__main__\u001b[0m:\u001b[36m<module>\u001b[0m:\u001b[36m70\u001b[0m - \u001b[1m\n",
      "{'AP50': 0.36538461538461536,\n",
      " 'R:ACC15': 0.4423076923076923,\n",
      " 'R:ACC30': 0.9230769230769231,\n",
      " 'R:auc@15': 0.25420711183940786,\n",
      " 'R:auc@30': 0.47635050419153807,\n",
      " 'R:meanErr': 16.86278903644717,\n",
      " 'R:medianErr': 16.90863200004911,\n",
      " 't:ACC15': 0.9423076923076923,\n",
      " 't:ACC30': 0.9615384615384616,\n",
      " 't:auc@15': 0.6440286867879805,\n",
      " 't:auc@30': 0.8035562849043922,\n",
      " 't:meanErr': 6.210328535402204,\n",
      " 't:medianErr': 4.955207556138889}\u001b[0m\n",
      "\u001b[32m2024-03-12 11:35:54.378\u001b[0m | \u001b[1mINFO    \u001b[0m | \u001b[36m__main__\u001b[0m:\u001b[36m<module>\u001b[0m:\u001b[36m11\u001b[0m - \u001b[1mONEPOSE++: fakebanana_data\u001b[0m\n"
     ]
    },
    {
     "name": "stdout",
     "output_type": "stream",
     "text": [
      "Acc: 19/52\n"
     ]
    },
    {
     "name": "stderr",
     "output_type": "stream",
     "text": [
      "\u001b[32m2024-03-12 11:35:54.856\u001b[0m | \u001b[1mINFO    \u001b[0m | \u001b[36mpose.utils\u001b[0m:\u001b[36maggregate_metrics\u001b[0m:\u001b[36m237\u001b[0m - \u001b[1mAggregating metrics over 48 unique items...\u001b[0m\n",
      "\u001b[32m2024-03-12 11:35:54.859\u001b[0m | \u001b[1mINFO    \u001b[0m | \u001b[36m__main__\u001b[0m:\u001b[36m<module>\u001b[0m:\u001b[36m70\u001b[0m - \u001b[1m\n",
      "{'AP50': 0.9791666666666666,\n",
      " 'R:ACC15': 0.4166666666666667,\n",
      " 'R:ACC30': 1.0,\n",
      " 'R:auc@15': 0.16472710764533322,\n",
      " 'R:auc@30': 0.47049839266178056,\n",
      " 'R:meanErr': 16.193399327128876,\n",
      " 'R:medianErr': 15.545892230818854,\n",
      " 't:ACC15': 0.9791666666666666,\n",
      " 't:ACC30': 1.0,\n",
      " 't:auc@15': 0.5104183006879379,\n",
      " 't:auc@30': 0.7550044692637227,\n",
      " 't:meanErr': 7.5138364182469415,\n",
      " 't:medianErr': 7.125109877214586}\u001b[0m\n",
      "\u001b[32m2024-03-12 11:35:54.859\u001b[0m | \u001b[1mINFO    \u001b[0m | \u001b[36m__main__\u001b[0m:\u001b[36m<module>\u001b[0m:\u001b[36m11\u001b[0m - \u001b[1mONEPOSE++: teabox_data\u001b[0m\n"
     ]
    },
    {
     "name": "stdout",
     "output_type": "stream",
     "text": [
      "Acc: 47/48\n"
     ]
    },
    {
     "name": "stderr",
     "output_type": "stream",
     "text": [
      "\u001b[32m2024-03-12 11:35:55.500\u001b[0m | \u001b[1mINFO    \u001b[0m | \u001b[36mpose.utils\u001b[0m:\u001b[36maggregate_metrics\u001b[0m:\u001b[36m237\u001b[0m - \u001b[1mAggregating metrics over 65 unique items...\u001b[0m\n",
      "\u001b[32m2024-03-12 11:35:55.501\u001b[0m | \u001b[1mINFO    \u001b[0m | \u001b[36m__main__\u001b[0m:\u001b[36m<module>\u001b[0m:\u001b[36m70\u001b[0m - \u001b[1m\n",
      "{'AP50': 0.9384615384615385,\n",
      " 'R:ACC15': 0.6,\n",
      " 'R:ACC30': 0.9846153846153847,\n",
      " 'R:auc@15': 0.3001801531534118,\n",
      " 'R:auc@30': 0.5470841936020262,\n",
      " 'R:meanErr': 13.82284461633696,\n",
      " 'R:medianErr': 13.046610720655686,\n",
      " 't:ACC15': 0.9846153846153847,\n",
      " 't:ACC30': 1.0,\n",
      " 't:auc@15': 0.5513952317870557,\n",
      " 't:auc@30': 0.7756651218134406,\n",
      " 't:meanErr': 6.850209005287638,\n",
      " 't:medianErr': 6.767787687752374}\u001b[0m\n",
      "\u001b[32m2024-03-12 11:35:55.501\u001b[0m | \u001b[1mINFO    \u001b[0m | \u001b[36m__main__\u001b[0m:\u001b[36m<module>\u001b[0m:\u001b[36m11\u001b[0m - \u001b[1mONEPOSE++: orange_data\u001b[0m\n"
     ]
    },
    {
     "name": "stdout",
     "output_type": "stream",
     "text": [
      "Acc: 61/65\n"
     ]
    },
    {
     "name": "stderr",
     "output_type": "stream",
     "text": [
      "\u001b[32m2024-03-12 11:35:56.367\u001b[0m | \u001b[1mINFO    \u001b[0m | \u001b[36mpose.utils\u001b[0m:\u001b[36maggregate_metrics\u001b[0m:\u001b[36m237\u001b[0m - \u001b[1mAggregating metrics over 75 unique items...\u001b[0m\n",
      "\u001b[32m2024-03-12 11:35:56.369\u001b[0m | \u001b[1mINFO    \u001b[0m | \u001b[36m__main__\u001b[0m:\u001b[36m<module>\u001b[0m:\u001b[36m70\u001b[0m - \u001b[1m\n",
      "{'AP50': 0.9866666666666667,\n",
      " 'R:ACC15': 0.48,\n",
      " 'R:ACC30': 0.9866666666666667,\n",
      " 'R:auc@15': 0.21532320902394372,\n",
      " 'R:auc@30': 0.48658078991915665,\n",
      " 'R:meanErr': 15.597177808761941,\n",
      " 'R:medianErr': 15.295057357448199,\n",
      " 't:ACC15': 0.9866666666666667,\n",
      " 't:ACC30': 1.0,\n",
      " 't:auc@15': 0.7081991211518753,\n",
      " 't:auc@30': 0.8528045964403688,\n",
      " 't:meanErr': 4.574526731489757,\n",
      " 't:medianErr': 3.7716169471961347}\u001b[0m\n",
      "\u001b[32m2024-03-12 11:35:56.370\u001b[0m | \u001b[1mINFO    \u001b[0m | \u001b[36m__main__\u001b[0m:\u001b[36m<module>\u001b[0m:\u001b[36m11\u001b[0m - \u001b[1mONEPOSE++: greenteapot_data\u001b[0m\n"
     ]
    },
    {
     "name": "stdout",
     "output_type": "stream",
     "text": [
      "Acc: 74/75\n"
     ]
    },
    {
     "name": "stderr",
     "output_type": "stream",
     "text": [
      "\u001b[32m2024-03-12 11:35:56.807\u001b[0m | \u001b[1mINFO    \u001b[0m | \u001b[36mpose.utils\u001b[0m:\u001b[36maggregate_metrics\u001b[0m:\u001b[36m237\u001b[0m - \u001b[1mAggregating metrics over 40 unique items...\u001b[0m\n",
      "\u001b[32m2024-03-12 11:35:56.810\u001b[0m | \u001b[1mINFO    \u001b[0m | \u001b[36m__main__\u001b[0m:\u001b[36m<module>\u001b[0m:\u001b[36m70\u001b[0m - \u001b[1m\n",
      "{'AP50': 0.925,\n",
      " 'R:ACC15': 0.475,\n",
      " 'R:ACC30': 1.0,\n",
      " 'R:auc@15': 0.2373970574129197,\n",
      " 'R:auc@30': 0.501930025470896,\n",
      " 'R:meanErr': 15.307894652680517,\n",
      " 'R:medianErr': 16.15196798585137,\n",
      " 't:ACC15': 0.95,\n",
      " 't:ACC30': 1.0,\n",
      " 't:auc@15': 0.5057775117190035,\n",
      " 't:auc@30': 0.7531005693534888,\n",
      " 't:meanErr': 7.603585072979056,\n",
      " 't:medianErr': 7.508561256088333}\u001b[0m\n",
      "\u001b[32m2024-03-12 11:35:56.811\u001b[0m | \u001b[1mINFO    \u001b[0m | \u001b[36m__main__\u001b[0m:\u001b[36m<module>\u001b[0m:\u001b[36m11\u001b[0m - \u001b[1mONEPOSE++: lecreusetcup_data\u001b[0m\n"
     ]
    },
    {
     "name": "stdout",
     "output_type": "stream",
     "text": [
      "Acc: 37/40\n"
     ]
    },
    {
     "name": "stderr",
     "output_type": "stream",
     "text": [
      "\u001b[32m2024-03-12 11:35:57.351\u001b[0m | \u001b[1mINFO    \u001b[0m | \u001b[36mpose.utils\u001b[0m:\u001b[36maggregate_metrics\u001b[0m:\u001b[36m237\u001b[0m - \u001b[1mAggregating metrics over 47 unique items...\u001b[0m\n",
      "\u001b[32m2024-03-12 11:35:57.353\u001b[0m | \u001b[1mINFO    \u001b[0m | \u001b[36m__main__\u001b[0m:\u001b[36m<module>\u001b[0m:\u001b[36m70\u001b[0m - \u001b[1m\n",
      "{'AP50': 0.851063829787234,\n",
      " 'R:ACC15': 0.574468085106383,\n",
      " 'R:ACC30': 0.9787234042553191,\n",
      " 'R:auc@15': 0.3026316143294921,\n",
      " 'R:auc@30': 0.5425793541734923,\n",
      " 'R:meanErr': 14.309750019734196,\n",
      " 'R:medianErr': 12.744561110597886,\n",
      " 't:ACC15': 0.9361702127659575,\n",
      " 't:ACC30': 0.9787234042553191,\n",
      " 't:auc@15': 0.5043453458206172,\n",
      " 't:auc@30': 0.7408876966136321,\n",
      " 't:meanErr': 7.977139003147025,\n",
      " 't:medianErr': 7.834804933988915}\u001b[0m\n",
      "\u001b[32m2024-03-12 11:35:57.353\u001b[0m | \u001b[1mINFO    \u001b[0m | \u001b[36m__main__\u001b[0m:\u001b[36m<module>\u001b[0m:\u001b[36m11\u001b[0m - \u001b[1mONEPOSE++: insta_data\u001b[0m\n"
     ]
    },
    {
     "name": "stdout",
     "output_type": "stream",
     "text": [
      "Acc: 40/47\n"
     ]
    },
    {
     "name": "stderr",
     "output_type": "stream",
     "text": [
      "\u001b[32m2024-03-12 11:35:58.555\u001b[0m | \u001b[1mINFO    \u001b[0m | \u001b[36mpose.utils\u001b[0m:\u001b[36maggregate_metrics\u001b[0m:\u001b[36m237\u001b[0m - \u001b[1mAggregating metrics over 94 unique items...\u001b[0m\n",
      "\u001b[32m2024-03-12 11:35:58.557\u001b[0m | \u001b[1mINFO    \u001b[0m | \u001b[36m__main__\u001b[0m:\u001b[36m<module>\u001b[0m:\u001b[36m70\u001b[0m - \u001b[1m\n",
      "{'AP50': 0.5638297872340425,\n",
      " 'R:ACC15': 0.4574468085106383,\n",
      " 'R:ACC30': 0.8936170212765957,\n",
      " 'R:auc@15': 0.20766420306816186,\n",
      " 'R:auc@30': 0.4455821454438348,\n",
      " 'R:meanErr': 18.17409857594756,\n",
      " 'R:medianErr': 17.01620111775686,\n",
      " 't:ACC15': 0.925531914893617,\n",
      " 't:ACC30': 0.9468085106382979,\n",
      " 't:auc@15': 0.6048325142071836,\n",
      " 't:auc@30': 0.772483767690792,\n",
      " 't:meanErr': 7.917751815760798,\n",
      " 't:medianErr': 4.685330818966257}\u001b[0m\n"
     ]
    },
    {
     "name": "stdout",
     "output_type": "stream",
     "text": [
      "Acc: 53/94\n"
     ]
    }
   ],
   "source": [
    "res_table = []\n",
    "\n",
    "model_type = 'relative_r-gt_t'\n",
    "\n",
    "for key in all_data.keys():\n",
    "    if key in linemod_type:\n",
    "        logger.info(f\"LINEMOD: {key}\")\n",
    "    elif key in onepose_type:\n",
    "        logger.info(f\"ONEPOSE: {key}\")\n",
    "    elif key in oneposeplusplus_type:\n",
    "        logger.info(f\"ONEPOSE++: {key}\")\n",
    "    elif key in ycbv_type:\n",
    "        logger.info(f\"YCBV: {key}\")\n",
    "    metrics = dict()\n",
    "    metrics.update({'R_errs':[], 't_errs':[], 'inliers':[], \"identifiers\":[]})\n",
    "    recall_image, all_image = 0, 0\n",
    "    for item in all_data[key]:\n",
    "        all_image += 1\n",
    "        K0 = item['K0']\n",
    "        K1 = item['K1']\n",
    "        pose0 = item['pose0']\n",
    "        pose1 = item['pose1']\n",
    "        pre_bbox = item['pre_bbox']\n",
    "        gt_bbox = item['gt_bbox']\n",
    "        mkpts0 = item['mkpts0']\n",
    "        mkpts1 = item['mkpts1']\n",
    "        pre_K = item['pre_K']\n",
    "        name = item['name']\n",
    "        pair_name = item['pair_name']\n",
    "        # linemod\n",
    "        if 'lm' in name:\n",
    "            name = id2name_dict[int(name[2:])]\n",
    "        # ycbv\n",
    "        if name in '12345678910':\n",
    "            name = ycbv_dict[int(name)]\n",
    "\n",
    "        if name not in key:\n",
    "            print(f'name: {name}, key: {key}')\n",
    "            continue\n",
    "\n",
    "        is_recalled = recall_object(pre_bbox, gt_bbox)\n",
    "\n",
    "        recall_image = recall_image + int(is_recalled > 0.5)\n",
    "\n",
    "        batch_mkpts0 = torch.from_numpy(mkpts0).unsqueeze(0).float().to(device)\n",
    "        batch_mkpts1 = torch.from_numpy(mkpts1).unsqueeze(0).float().to(device)\n",
    "        pre_t, pre_rot = net(batch_mkpts0, batch_mkpts1)\n",
    "        pre_t = pre_t.squeeze(0).detach().cpu().numpy()\n",
    "        pre_rot = pre_rot.squeeze(0).detach().cpu().numpy()\n",
    "\n",
    "        if model_type == 'gt':\n",
    "            t_err, R_err = relative_pose_error_np(pose1, pre_rot, pre_t, ignore_gt_t_thr=0.0)\n",
    "        elif model_type == 'relative':\n",
    "            relative_pose = np.matmul(pose1, np.linalg.inv(pose0))\n",
    "            t_err, R_err = relative_pose_error_np(relative_pose, pre_rot, pre_t, ignore_gt_t_thr=0.0)\n",
    "        elif model_type == 'relative_r-gt_t':\n",
    "            relative_pose = np.matmul(pose1, np.linalg.inv(pose0))\n",
    "            gt_pose = np.zeros_like(pose1)\n",
    "            gt_pose[:3, :3] = relative_pose[:3, :3]\n",
    "            gt_pose[:3, 3] = pose1[:3, 3]\n",
    "            t_err, R_err = relative_pose_error_np(gt_pose, pre_rot, pre_t, ignore_gt_t_thr=0.0)\n",
    "\n",
    "        metrics['R_errs'].append(R_err)\n",
    "        metrics['t_errs'].append(t_err)\n",
    "        metrics['identifiers'].append(pair_name)\n",
    "\n",
    "    print(f\"Acc: {recall_image}/{all_image}\")\n",
    "    val_metrics_4tb = aggregate_metrics(metrics, 5e-4)\n",
    "    val_metrics_4tb[\"AP50\"] = recall_image / all_image\n",
    "    logger.info('\\n' + pprint.pformat(val_metrics_4tb))\n",
    "    res_table.append([f\"{name}\"] + list(val_metrics_4tb.values()))"
   ]
  },
  {
   "cell_type": "code",
   "execution_count": 10,
   "metadata": {},
   "outputs": [
    {
     "name": "stdout",
     "output_type": "stream",
     "text": [
      "ONEPOSE++\n",
      "╒══════════════╤════════════╤════════════╤═══════════╤═══════════╤═══════════════╤═════════════╤════════════╤════════════╤═══════════╤═══════════╤═══════════════╤═════════════╤══════════╕\n",
      "│ Category     │   R:auc@15 │   R:auc@30 │   R:ACC15 │   R:ACC30 │   R:medianErr │   R:meanErr │   t:auc@15 │   t:auc@30 │   t:ACC15 │   t:ACC30 │   t:medianErr │   t:meanErr │     AP50 │\n",
      "╞══════════════╪════════════╪════════════╪═══════════╪═══════════╪═══════════════╪═════════════╪════════════╪════════════╪═══════════╪═══════════╪═══════════════╪═════════════╪══════════╡\n",
      "│ toyrobot     │   0.183449 │   0.463821 │  0.473684 │  0.982456 │       15.403  │     16.3481 │   0.55052  │   0.774901 │  0.982456 │  1        │       6.66939 │     6.90188 │ 0.982456 │\n",
      "├──────────────┼────────────┼────────────┼───────────┼───────────┼───────────────┼─────────────┼────────────┼────────────┼───────────┼───────────┼───────────────┼─────────────┼──────────┤\n",
      "│ yellowduck   │   0.277666 │   0.561553 │  0.560606 │  1        │       13.2207 │     13.3786 │   0.558035 │   0.778968 │  0.969697 │  1        │       6.63584 │     6.75176 │ 1        │\n",
      "├──────────────┼────────────┼────────────┼───────────┼───────────┼───────────────┼─────────────┼────────────┼────────────┼───────────┼───────────┼───────────────┼─────────────┼──────────┤\n",
      "│ sheep        │   0.254207 │   0.476351 │  0.442308 │  0.923077 │       16.9086 │     16.8628 │   0.644029 │   0.803556 │  0.942308 │  0.961538 │       4.95521 │     6.21033 │ 0.365385 │\n",
      "├──────────────┼────────────┼────────────┼───────────┼───────────┼───────────────┼─────────────┼────────────┼────────────┼───────────┼───────────┼───────────────┼─────────────┼──────────┤\n",
      "│ fakebanana   │   0.164727 │   0.470498 │  0.416667 │  1        │       15.5459 │     16.1934 │   0.510418 │   0.755004 │  0.979167 │  1        │       7.12511 │     7.51384 │ 0.979167 │\n",
      "├──────────────┼────────────┼────────────┼───────────┼───────────┼───────────────┼─────────────┼────────────┼────────────┼───────────┼───────────┼───────────────┼─────────────┼──────────┤\n",
      "│ teabox       │   0.30018  │   0.547084 │  0.6      │  0.984615 │       13.0466 │     13.8228 │   0.551395 │   0.775665 │  0.984615 │  1        │       6.76779 │     6.85021 │ 0.938462 │\n",
      "├──────────────┼────────────┼────────────┼───────────┼───────────┼───────────────┼─────────────┼────────────┼────────────┼───────────┼───────────┼───────────────┼─────────────┼──────────┤\n",
      "│ orange       │   0.215323 │   0.486581 │  0.48     │  0.986667 │       15.2951 │     15.5972 │   0.708199 │   0.852805 │  0.986667 │  1        │       3.77162 │     4.57453 │ 0.986667 │\n",
      "├──────────────┼────────────┼────────────┼───────────┼───────────┼───────────────┼─────────────┼────────────┼────────────┼───────────┼───────────┼───────────────┼─────────────┼──────────┤\n",
      "│ greenteapot  │   0.237397 │   0.50193  │  0.475    │  1        │       16.152  │     15.3079 │   0.505778 │   0.753101 │  0.95     │  1        │       7.50856 │     7.60359 │ 0.925    │\n",
      "├──────────────┼────────────┼────────────┼───────────┼───────────┼───────────────┼─────────────┼────────────┼────────────┼───────────┼───────────┼───────────────┼─────────────┼──────────┤\n",
      "│ lecreusetcup │   0.302632 │   0.542579 │  0.574468 │  0.978723 │       12.7446 │     14.3098 │   0.504345 │   0.740888 │  0.93617  │  0.978723 │       7.8348  │     7.97714 │ 0.851064 │\n",
      "├──────────────┼────────────┼────────────┼───────────┼───────────┼───────────────┼─────────────┼────────────┼────────────┼───────────┼───────────┼───────────────┼─────────────┼──────────┤\n",
      "│ insta        │   0.207664 │   0.445582 │  0.457447 │  0.893617 │       17.0162 │     18.1741 │   0.604833 │   0.772484 │  0.925532 │  0.946809 │       4.68533 │     7.91775 │ 0.56383  │\n",
      "├──────────────┼────────────┼────────────┼───────────┼───────────┼───────────────┼─────────────┼────────────┼────────────┼───────────┼───────────┼───────────────┼─────────────┼──────────┤\n",
      "│ Avg          │   0.238138 │   0.499553 │  0.497798 │  0.972128 │       15.037  │     15.555  │   0.570839 │   0.778597 │  0.961846 │  0.987452 │       6.21707 │     6.92233 │ 0.843559 │\n",
      "╘══════════════╧════════════╧════════════╧═══════════╧═══════════╧═══════════════╧═════════════╧════════════╧════════════╧═══════════╧═══════════╧═══════════════╧═════════════╧══════════╛\n"
     ]
    }
   ],
   "source": [
    "for i, key in enumerate(all_data.keys()):\n",
    "    if i == 1:\n",
    "        break\n",
    "    if key in linemod_type:\n",
    "        print(f\"LINEMOD\")\n",
    "    elif key in onepose_type:\n",
    "        print(f\"ONEPOSE\")\n",
    "    elif key in oneposeplusplus_type:\n",
    "        print(f\"ONEPOSE++\")\n",
    "    elif key in ycbv_type:\n",
    "        print(f\"YCBV\")\n",
    "\n",
    "from tabulate import tabulate\n",
    "headers = [\"Category\"] + list(val_metrics_4tb.keys())\n",
    "all_data = np.array(res_table)[:, 1:].astype(np.float32)\n",
    "res_table.append([\"Avg\"] + all_data.mean(0).tolist())\n",
    "print(tabulate(res_table, headers=headers, tablefmt='fancy_grid'))"
   ]
  },
  {
   "cell_type": "code",
   "execution_count": null,
   "metadata": {},
   "outputs": [],
   "source": []
  }
 ],
 "metadata": {
  "kernelspec": {
   "display_name": "pope",
   "language": "python",
   "name": "python3"
  },
  "language_info": {
   "codemirror_mode": {
    "name": "ipython",
    "version": 3
   },
   "file_extension": ".py",
   "mimetype": "text/x-python",
   "name": "python",
   "nbconvert_exporter": "python",
   "pygments_lexer": "ipython3",
   "version": "3.8.18"
  }
 },
 "nbformat": 4,
 "nbformat_minor": 2
}
