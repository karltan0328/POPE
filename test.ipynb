{
 "cells": [
  {
   "cell_type": "code",
   "execution_count": 1,
   "metadata": {},
   "outputs": [
    {
     "name": "stderr",
     "output_type": "stream",
     "text": [
      " 44%|████▍     | 4/9 [00:41<00:52, 10.44s/it]"
     ]
    },
    {
     "name": "stdout",
     "output_type": "stream",
     "text": [
      "d:/git_project/POPE/data/oneposeplusplus-points/0706-teabox-box\\mkpts0\\820.png-761.png.txt does not exist\n"
     ]
    },
    {
     "name": "stderr",
     "output_type": "stream",
     "text": [
      " 89%|████████▉ | 8/9 [01:25<00:10, 10.22s/it]"
     ]
    },
    {
     "name": "stdout",
     "output_type": "stream",
     "text": [
      "d:/git_project/POPE/data/oneposeplusplus-points/0712-insta-others\\mkpts0\\1570.png-125.png.txt does not exist\n",
      "d:/git_project/POPE/data/oneposeplusplus-points/0712-insta-others\\mkpts0\\1605.png-185.png.txt does not exist\n",
      "d:/git_project/POPE/data/oneposeplusplus-points/0712-insta-others\\mkpts0\\1628.png-210.png.txt does not exist\n"
     ]
    },
    {
     "name": "stderr",
     "output_type": "stream",
     "text": [
      "100%|██████████| 9/9 [01:45<00:00, 11.70s/it]\n"
     ]
    }
   ],
   "source": [
    "import os\n",
    "import torch\n",
    "import random\n",
    "import pprint\n",
    "import numpy as np\n",
    "from loguru import logger\n",
    "from torch.utils.data import DataLoader\n",
    "from torch import nn\n",
    "\n",
    "from pose.dataset import pose_dataset\n",
    "from pose.utils import (\n",
    "    collate_fn,\n",
    "    geodesic_distance,\n",
    "    relative_pose_error,\n",
    "    relative_pose_error_np,\n",
    "    recall_object,\n",
    "    aggregate_metrics\n",
    ")\n",
    "from pose.model import Mkpts_Reg_Model\n",
    "from pose.animator import Animator\n",
    "\n",
    "\n",
    "if os.name == 'nt':\n",
    "    LM_dataset_path = 'd:/git_project/POPE/data/LM_dataset/'\n",
    "    LM_dataset_json_path = 'd:/git_project/POPE/data/pairs/LINEMOD-test.json'\n",
    "    LM_dataset_points_path = 'd:/git_project/POPE/data/LM_dataset-points/'\n",
    "\n",
    "    onepose_path = 'e:/datasets/OnePose/test_data/'\n",
    "    onepose_json_path = 'd:/git_project/POPE/data/pairs/Onepose-test.json'\n",
    "    onepose_points_path = 'd:/git_project/POPE/data/onepose-points/'\n",
    "\n",
    "    oneposeplusplus_path = 'e:/datasets/OnePose++/lowtexture_test_data/'\n",
    "    oneposeplusplus_json_path = 'd:/git_project/POPE/data/pairs/OneposePlusPlus-test.json'\n",
    "    oneposeplusplus_points_path = 'd:/git_project/POPE/data/oneposeplusplus-points/'\n",
    "elif os.name == 'posix':\n",
    "    LM_dataset_path = 'data/LM_dataset/'\n",
    "    LM_dataset_json_path = 'data/pairs/LINEMOD-test.json'\n",
    "    LM_dataset_points_path = 'data/LM_dataset-points/'\n",
    "\n",
    "    onepose_path = 'data/onepose/'\n",
    "    onepose_json_path = 'data/pairs/Onepose-test.json'\n",
    "    onepose_points_path = 'data/onepose-points/'\n",
    "\n",
    "    oneposeplusplus_path = 'data/oneposeplusplus/'\n",
    "    oneposeplusplus_json_path = 'data/pairs/OneposePlusPlus-test.json'\n",
    "    oneposeplusplus_points_path = 'data/oneposeplusplus-points/'\n",
    "\n",
    "paths = [\n",
    "    # ('linemod', LM_dataset_path, LM_dataset_json_path, LM_dataset_points_path),\n",
    "    # ('onepose', onepose_path, onepose_json_path, onepose_points_path),\n",
    "    ('oneposeplusplus', oneposeplusplus_path, oneposeplusplus_json_path, oneposeplusplus_points_path),\n",
    "]\n",
    "\n",
    "device = torch.device('cuda' if torch.cuda.is_available() else 'cpu')\n",
    "\n",
    "dataset = pose_dataset(paths)\n",
    "mkpts_max_len, mkpts_sum_len = dataset.get_mkpts_info()"
   ]
  },
  {
   "cell_type": "code",
   "execution_count": 2,
   "metadata": {},
   "outputs": [],
   "source": [
    "random.seed(20231223)\n",
    "torch.manual_seed(20231223)\n",
    "torch.cuda.manual_seed(20231223)\n",
    "\n",
    "train_size = int(0.8 * len(dataset))\n",
    "test_size = len(dataset) - train_size\n",
    "train_dataset, test_dataset = torch.utils.data.random_split(dataset, [train_size, test_size])"
   ]
  },
  {
   "cell_type": "code",
   "execution_count": 3,
   "metadata": {},
   "outputs": [],
   "source": [
    "num_sample = 500\n",
    "train_dataloader = DataLoader(train_dataset, batch_size=8, shuffle=True, drop_last=True, collate_fn=collate_fn(num_sample))\n",
    "test_dataloader = DataLoader(test_dataset, batch_size=8, shuffle=True, drop_last=True, collate_fn=collate_fn(num_sample))"
   ]
  },
  {
   "cell_type": "code",
   "execution_count": 4,
   "metadata": {},
   "outputs": [
    {
     "data": {
      "text/plain": [
       "Mkpts_Reg_Model(\n",
       "  (embedding): Embedding()\n",
       "  (transformerlayer): TransformerEncoderLayer(\n",
       "    (self_attn): MultiheadAttention(\n",
       "      (out_proj): NonDynamicallyQuantizableLinear(in_features=76, out_features=76, bias=True)\n",
       "    )\n",
       "    (linear1): Linear(in_features=76, out_features=2048, bias=True)\n",
       "    (dropout): Dropout(p=0.1, inplace=False)\n",
       "    (linear2): Linear(in_features=2048, out_features=76, bias=True)\n",
       "    (norm1): LayerNorm((76,), eps=1e-05, elementwise_affine=True)\n",
       "    (norm2): LayerNorm((76,), eps=1e-05, elementwise_affine=True)\n",
       "    (dropout1): Dropout(p=0.1, inplace=False)\n",
       "    (dropout2): Dropout(p=0.1, inplace=False)\n",
       "  )\n",
       "  (transformer): TransformerEncoder(\n",
       "    (layers): ModuleList(\n",
       "      (0-3): 4 x TransformerEncoderLayer(\n",
       "        (self_attn): MultiheadAttention(\n",
       "          (out_proj): NonDynamicallyQuantizableLinear(in_features=76, out_features=76, bias=True)\n",
       "        )\n",
       "        (linear1): Linear(in_features=76, out_features=2048, bias=True)\n",
       "        (dropout): Dropout(p=0.1, inplace=False)\n",
       "        (linear2): Linear(in_features=2048, out_features=76, bias=True)\n",
       "        (norm1): LayerNorm((76,), eps=1e-05, elementwise_affine=True)\n",
       "        (norm2): LayerNorm((76,), eps=1e-05, elementwise_affine=True)\n",
       "        (dropout1): Dropout(p=0.1, inplace=False)\n",
       "        (dropout2): Dropout(p=0.1, inplace=False)\n",
       "      )\n",
       "    )\n",
       "  )\n",
       "  (translation_head): Linear(in_features=128, out_features=3, bias=True)\n",
       "  (rotation_head): Linear(in_features=128, out_features=6, bias=True)\n",
       "  (mlp): Sequential(\n",
       "    (0): Linear(in_features=38000, out_features=128, bias=True)\n",
       "    (1): LeakyReLU(negative_slope=0.01)\n",
       "    (2): Linear(in_features=128, out_features=128, bias=True)\n",
       "  )\n",
       ")"
      ]
     },
     "execution_count": 4,
     "metadata": {},
     "output_type": "execute_result"
    }
   ],
   "source": [
    "net = torch.load('./weights/oneposeplusplus-relative_r-gt_t-6d-500-2024-01-08-12-54-48-0.2991.pth').to(device)\n",
    "\n",
    "net.eval()"
   ]
  },
  {
   "cell_type": "code",
   "execution_count": 5,
   "metadata": {},
   "outputs": [],
   "source": [
    "id2name_dict = {\n",
    "    1: \"ape\",\n",
    "    2: \"benchvise\",\n",
    "    4: \"camera\",\n",
    "    5: \"can\",\n",
    "    6: \"cat\",\n",
    "    8: \"driller\",\n",
    "    9: \"duck\",\n",
    "    10: \"eggbox\",\n",
    "    11: \"glue\",\n",
    "    12: \"holepuncher\",\n",
    "    13: \"iron\",\n",
    "    14: \"lamp\",\n",
    "    15: \"phone\",\n",
    "}"
   ]
  },
  {
   "cell_type": "code",
   "execution_count": 6,
   "metadata": {},
   "outputs": [],
   "source": [
    "# linemod\n",
    "ape_data = []\n",
    "benchvise_data = []\n",
    "camera_data = []\n",
    "can_data = []\n",
    "cat_data = []\n",
    "driller_data = []\n",
    "duck_data = []\n",
    "eggbox_data = []\n",
    "glue_data = []\n",
    "holepuncher_data = []\n",
    "iron_data = []\n",
    "lamp_data = []\n",
    "phone_data = []\n",
    "# onepose\n",
    "aptamil_data = []\n",
    "jzhg_data = []\n",
    "minipuff_data = []\n",
    "hlyormosiapie_data = []\n",
    "brownhouse_data = []\n",
    "oreo_data = []\n",
    "mfmilkcake_data = []\n",
    "diycookies_data = []\n",
    "taipingcookies_data = []\n",
    "tee_data = []\n",
    "# onepose++\n",
    "toyrobot_data = []\n",
    "yellowduck_data = []\n",
    "sheep_data = []\n",
    "fakebanana_data = []\n",
    "teabox_data = []\n",
    "orange_data = []\n",
    "greenteapot_data = []\n",
    "lecreusetcup_data = []\n",
    "insta_data = []\n",
    "\n",
    "all_data = {\n",
    "    # linemod\n",
    "    'ape_data': ape_data,\n",
    "    'benchvise_data': benchvise_data,\n",
    "    'camera_data': camera_data,\n",
    "    'can_data': can_data,\n",
    "    'cat_data': cat_data,\n",
    "    'driller_data': driller_data,\n",
    "    'duck_data': duck_data,\n",
    "    'eggbox_data': eggbox_data,\n",
    "    'glue_data': glue_data,\n",
    "    'holepuncher_data': holepuncher_data,\n",
    "    'iron_data': iron_data,\n",
    "    'lamp_data': lamp_data,\n",
    "    'phone_data': phone_data,\n",
    "    # onepose\n",
    "    'aptamil_data': aptamil_data,\n",
    "    'jzhg_data': jzhg_data,\n",
    "    'minipuff_data': minipuff_data,\n",
    "    'hlyormosiapie_data': hlyormosiapie_data,\n",
    "    'brownhouse_data': brownhouse_data,\n",
    "    'oreo_data': oreo_data,\n",
    "    'mfmilkcake_data': mfmilkcake_data,\n",
    "    'diycookies_data': diycookies_data,\n",
    "    'taipingcookies_data': taipingcookies_data,\n",
    "    'tee_data': tee_data,\n",
    "    # onepose++\n",
    "    'toyrobot_data': toyrobot_data,\n",
    "    'yellowduck_data': yellowduck_data,\n",
    "    'sheep_data': sheep_data,\n",
    "    'fakebanana_data': fakebanana_data,\n",
    "    'teabox_data': teabox_data,\n",
    "    'orange_data': orange_data,\n",
    "    'greenteapot_data': greenteapot_data,\n",
    "    'lecreusetcup_data': lecreusetcup_data,\n",
    "    'insta_data': insta_data,\n",
    "}"
   ]
  },
  {
   "cell_type": "code",
   "execution_count": 7,
   "metadata": {},
   "outputs": [],
   "source": [
    "linemod_type = ['ape_data', 'benchvise_data', 'camera_data', 'can_data', 'cat_data', 'driller_data', 'duck_data', 'eggbox_data', 'glue_data', 'holepuncher_data', 'iron_data', 'lamp_data', 'phone_data']\n",
    "onepose_type = ['aptamil_data', 'jzhg_data', 'minipuff_data', 'hlyormosiapie_data', 'brownhouse_data', 'oreo_data', 'mfmilkcake_data', 'diycookies_data', 'taipingcookies_data', 'tee_data']\n",
    "oneposeplusplus_type = ['toyrobot_data', 'yellowduck_data', 'sheep_data', 'fakebanana_data', 'teabox_data', 'orange_data', 'greenteapot_data', 'lecreusetcup_data', 'insta_data']"
   ]
  },
  {
   "cell_type": "code",
   "execution_count": 8,
   "metadata": {},
   "outputs": [
    {
     "name": "stdout",
     "output_type": "stream",
     "text": [
      "toyrobot_data 57\n",
      "yellowduck_data 66\n",
      "sheep_data 52\n",
      "fakebanana_data 48\n",
      "teabox_data 65\n",
      "orange_data 75\n",
      "greenteapot_data 40\n",
      "lecreusetcup_data 47\n",
      "insta_data 94\n",
      "len(all_data): 9\n"
     ]
    }
   ],
   "source": [
    "for i, batch in enumerate(test_dataloader):\n",
    "    for data in batch:\n",
    "        if 'lm' in data['name']:\n",
    "            all_data[f\"{id2name_dict[int(data['name'][2:])]}_data\"].append(data)\n",
    "        else:\n",
    "            all_data[f\"{data['name']}_data\"].append(data)\n",
    "\n",
    "empty_keys = []\n",
    "for key in all_data.keys():\n",
    "    if len(all_data[key]) == 0:\n",
    "        empty_keys.append(key)\n",
    "\n",
    "for key in empty_keys:\n",
    "    all_data.pop(key)\n",
    "\n",
    "for key in all_data.keys():\n",
    "    print(key, len(all_data[key]))\n",
    "\n",
    "print('len(all_data):', len(all_data))"
   ]
  },
  {
   "cell_type": "code",
   "execution_count": 9,
   "metadata": {},
   "outputs": [
    {
     "name": "stderr",
     "output_type": "stream",
     "text": [
      "\u001b[32m2024-01-09 18:46:34.078\u001b[0m | \u001b[1mINFO    \u001b[0m | \u001b[36m__main__\u001b[0m:\u001b[36m<module>\u001b[0m:\u001b[36m11\u001b[0m - \u001b[1mONEPOSE++: toyrobot_data\u001b[0m\n"
     ]
    },
    {
     "name": "stderr",
     "output_type": "stream",
     "text": [
      "\u001b[32m2024-01-09 18:46:36.505\u001b[0m | \u001b[1mINFO    \u001b[0m | \u001b[36mpose.utils\u001b[0m:\u001b[36maggregate_metrics\u001b[0m:\u001b[36m237\u001b[0m - \u001b[1mAggregating metrics over 57 unique items...\u001b[0m\n",
      "\u001b[32m2024-01-09 18:46:36.507\u001b[0m | \u001b[1mINFO    \u001b[0m | \u001b[36m__main__\u001b[0m:\u001b[36m<module>\u001b[0m:\u001b[36m63\u001b[0m - \u001b[1m\n",
      "{'AP50': 0.9824561403508771,\n",
      " 'R:ACC15': 0.42105263157894735,\n",
      " 'R:ACC30': 1.0,\n",
      " 'R:auc@15': 0.17441816157479478,\n",
      " 'R:auc@30': 0.45039877170968623,\n",
      " 'R:meanErr': 16.746686732132154,\n",
      " 'R:medianErr': 16.910678289008633,\n",
      " 't:ACC15': 0.9122807017543859,\n",
      " 't:ACC30': 1.0,\n",
      " 't:auc@15': 0.4860189299902005,\n",
      " 't:auc@30': 0.7326261309560894,\n",
      " 't:meanErr': 8.210698529548818,\n",
      " 't:medianErr': 7.001649781412204}\u001b[0m\n",
      "\u001b[32m2024-01-09 18:46:36.508\u001b[0m | \u001b[1mINFO    \u001b[0m | \u001b[36m__main__\u001b[0m:\u001b[36m<module>\u001b[0m:\u001b[36m11\u001b[0m - \u001b[1mONEPOSE++: yellowduck_data\u001b[0m\n"
     ]
    },
    {
     "name": "stdout",
     "output_type": "stream",
     "text": [
      "Acc: 56/57\n"
     ]
    },
    {
     "name": "stderr",
     "output_type": "stream",
     "text": [
      "\u001b[32m2024-01-09 18:46:37.060\u001b[0m | \u001b[1mINFO    \u001b[0m | \u001b[36mpose.utils\u001b[0m:\u001b[36maggregate_metrics\u001b[0m:\u001b[36m237\u001b[0m - \u001b[1mAggregating metrics over 66 unique items...\u001b[0m\n",
      "\u001b[32m2024-01-09 18:46:37.061\u001b[0m | \u001b[1mINFO    \u001b[0m | \u001b[36m__main__\u001b[0m:\u001b[36m<module>\u001b[0m:\u001b[36m63\u001b[0m - \u001b[1m\n",
      "{'AP50': 1.0,\n",
      " 'R:ACC15': 0.5909090909090909,\n",
      " 'R:ACC30': 0.9848484848484849,\n",
      " 'R:auc@15': 0.2765160081798727,\n",
      " 'R:auc@30': 0.5564451853669257,\n",
      " 'R:meanErr': 13.587550045729929,\n",
      " 'R:medianErr': 12.99495717049,\n",
      " 't:ACC15': 0.8484848484848485,\n",
      " 't:ACC30': 1.0,\n",
      " 't:auc@15': 0.381567459568012,\n",
      " 't:auc@30': 0.6805587330374812,\n",
      " 't:meanErr': 9.741439352180862,\n",
      " 't:medianErr': 8.871546270649084}\u001b[0m\n",
      "\u001b[32m2024-01-09 18:46:37.062\u001b[0m | \u001b[1mINFO    \u001b[0m | \u001b[36m__main__\u001b[0m:\u001b[36m<module>\u001b[0m:\u001b[36m11\u001b[0m - \u001b[1mONEPOSE++: sheep_data\u001b[0m\n"
     ]
    },
    {
     "name": "stdout",
     "output_type": "stream",
     "text": [
      "Acc: 66/66\n"
     ]
    },
    {
     "name": "stderr",
     "output_type": "stream",
     "text": [
      "\u001b[32m2024-01-09 18:46:37.499\u001b[0m | \u001b[1mINFO    \u001b[0m | \u001b[36mpose.utils\u001b[0m:\u001b[36maggregate_metrics\u001b[0m:\u001b[36m237\u001b[0m - \u001b[1mAggregating metrics over 52 unique items...\u001b[0m\n",
      "\u001b[32m2024-01-09 18:46:37.501\u001b[0m | \u001b[1mINFO    \u001b[0m | \u001b[36m__main__\u001b[0m:\u001b[36m<module>\u001b[0m:\u001b[36m63\u001b[0m - \u001b[1m\n",
      "{'AP50': 0.36538461538461536,\n",
      " 'R:ACC15': 0.4807692307692308,\n",
      " 'R:ACC30': 0.9423076923076923,\n",
      " 'R:auc@15': 0.26698720127905856,\n",
      " 'R:auc@30': 0.48839144596287204,\n",
      " 'R:meanErr': 16.54961828413549,\n",
      " 'R:medianErr': 15.751907093999314,\n",
      " 't:ACC15': 0.8653846153846154,\n",
      " 't:ACC30': 0.9615384615384616,\n",
      " 't:auc@15': 0.4891064703521516,\n",
      " 't:auc@30': 0.7133443335622872,\n",
      " 't:meanErr': 9.249308320796477,\n",
      " 't:medianErr': 7.284670053653413}\u001b[0m\n",
      "\u001b[32m2024-01-09 18:46:37.502\u001b[0m | \u001b[1mINFO    \u001b[0m | \u001b[36m__main__\u001b[0m:\u001b[36m<module>\u001b[0m:\u001b[36m11\u001b[0m - \u001b[1mONEPOSE++: fakebanana_data\u001b[0m\n"
     ]
    },
    {
     "name": "stdout",
     "output_type": "stream",
     "text": [
      "Acc: 19/52\n"
     ]
    },
    {
     "name": "stderr",
     "output_type": "stream",
     "text": [
      "\u001b[32m2024-01-09 18:46:37.931\u001b[0m | \u001b[1mINFO    \u001b[0m | \u001b[36mpose.utils\u001b[0m:\u001b[36maggregate_metrics\u001b[0m:\u001b[36m237\u001b[0m - \u001b[1mAggregating metrics over 48 unique items...\u001b[0m\n",
      "\u001b[32m2024-01-09 18:46:37.932\u001b[0m | \u001b[1mINFO    \u001b[0m | \u001b[36m__main__\u001b[0m:\u001b[36m<module>\u001b[0m:\u001b[36m63\u001b[0m - \u001b[1m\n",
      "{'AP50': 0.9791666666666666,\n",
      " 'R:ACC15': 0.4583333333333333,\n",
      " 'R:ACC30': 0.9791666666666666,\n",
      " 'R:auc@15': 0.17004019232694242,\n",
      " 'R:auc@30': 0.4723171283854175,\n",
      " 'R:meanErr': 16.14300129286243,\n",
      " 'R:medianErr': 16.2673991395759,\n",
      " 't:ACC15': 0.8333333333333334,\n",
      " 't:ACC30': 1.0,\n",
      " 't:auc@15': 0.37851097769017006,\n",
      " 't:auc@30': 0.6749347872327565,\n",
      " 't:meanErr': 10.048648565956848,\n",
      " 't:medianErr': 9.575894216131594}\u001b[0m\n",
      "\u001b[32m2024-01-09 18:46:37.932\u001b[0m | \u001b[1mINFO    \u001b[0m | \u001b[36m__main__\u001b[0m:\u001b[36m<module>\u001b[0m:\u001b[36m11\u001b[0m - \u001b[1mONEPOSE++: teabox_data\u001b[0m\n"
     ]
    },
    {
     "name": "stdout",
     "output_type": "stream",
     "text": [
      "Acc: 47/48\n"
     ]
    },
    {
     "name": "stderr",
     "output_type": "stream",
     "text": [
      "\u001b[32m2024-01-09 18:46:38.484\u001b[0m | \u001b[1mINFO    \u001b[0m | \u001b[36mpose.utils\u001b[0m:\u001b[36maggregate_metrics\u001b[0m:\u001b[36m237\u001b[0m - \u001b[1mAggregating metrics over 65 unique items...\u001b[0m\n",
      "\u001b[32m2024-01-09 18:46:38.485\u001b[0m | \u001b[1mINFO    \u001b[0m | \u001b[36m__main__\u001b[0m:\u001b[36m<module>\u001b[0m:\u001b[36m63\u001b[0m - \u001b[1m\n",
      "{'AP50': 0.9538461538461539,\n",
      " 'R:ACC15': 0.5846153846153846,\n",
      " 'R:ACC30': 0.9692307692307692,\n",
      " 'R:auc@15': 0.2952544465009674,\n",
      " 'R:auc@30': 0.5425873659278255,\n",
      " 'R:meanErr': 14.019385777084452,\n",
      " 'R:medianErr': 13.036377316456589,\n",
      " 't:ACC15': 0.8461538461538461,\n",
      " 't:ACC30': 1.0,\n",
      " 't:auc@15': 0.40097474640438296,\n",
      " 't:auc@30': 0.6870902322417695,\n",
      " 't:meanErr': 9.55057130682673,\n",
      " 't:medianErr': 8.005827965965667}\u001b[0m\n",
      "\u001b[32m2024-01-09 18:46:38.486\u001b[0m | \u001b[1mINFO    \u001b[0m | \u001b[36m__main__\u001b[0m:\u001b[36m<module>\u001b[0m:\u001b[36m11\u001b[0m - \u001b[1mONEPOSE++: orange_data\u001b[0m\n"
     ]
    },
    {
     "name": "stdout",
     "output_type": "stream",
     "text": [
      "Acc: 62/65\n"
     ]
    },
    {
     "name": "stderr",
     "output_type": "stream",
     "text": [
      "\u001b[32m2024-01-09 18:46:39.131\u001b[0m | \u001b[1mINFO    \u001b[0m | \u001b[36mpose.utils\u001b[0m:\u001b[36maggregate_metrics\u001b[0m:\u001b[36m237\u001b[0m - \u001b[1mAggregating metrics over 75 unique items...\u001b[0m\n",
      "\u001b[32m2024-01-09 18:46:39.133\u001b[0m | \u001b[1mINFO    \u001b[0m | \u001b[36m__main__\u001b[0m:\u001b[36m<module>\u001b[0m:\u001b[36m63\u001b[0m - \u001b[1m\n",
      "{'AP50': 0.9866666666666667,\n",
      " 'R:ACC15': 0.4266666666666667,\n",
      " 'R:ACC30': 0.9733333333333334,\n",
      " 'R:auc@15': 0.21006696667742955,\n",
      " 'R:auc@30': 0.4702857812312772,\n",
      " 'R:meanErr': 16.152388619565446,\n",
      " 'R:medianErr': 15.782031879196564,\n",
      " 't:ACC15': 0.9466666666666667,\n",
      " 't:ACC30': 0.9866666666666667,\n",
      " 't:auc@15': 0.4963366165880925,\n",
      " 't:auc@30': 0.7365126366257913,\n",
      " 't:meanErr': 8.205684904915957,\n",
      " 't:medianErr': 7.504364951294381}\u001b[0m\n",
      "\u001b[32m2024-01-09 18:46:39.134\u001b[0m | \u001b[1mINFO    \u001b[0m | \u001b[36m__main__\u001b[0m:\u001b[36m<module>\u001b[0m:\u001b[36m11\u001b[0m - \u001b[1mONEPOSE++: greenteapot_data\u001b[0m\n"
     ]
    },
    {
     "name": "stdout",
     "output_type": "stream",
     "text": [
      "Acc: 74/75\n"
     ]
    },
    {
     "name": "stderr",
     "output_type": "stream",
     "text": [
      "\u001b[32m2024-01-09 18:46:39.472\u001b[0m | \u001b[1mINFO    \u001b[0m | \u001b[36mpose.utils\u001b[0m:\u001b[36maggregate_metrics\u001b[0m:\u001b[36m237\u001b[0m - \u001b[1mAggregating metrics over 40 unique items...\u001b[0m\n",
      "\u001b[32m2024-01-09 18:46:39.474\u001b[0m | \u001b[1mINFO    \u001b[0m | \u001b[36m__main__\u001b[0m:\u001b[36m<module>\u001b[0m:\u001b[36m63\u001b[0m - \u001b[1m\n",
      "{'AP50': 0.925,\n",
      " 'R:ACC15': 0.45,\n",
      " 'R:ACC30': 0.975,\n",
      " 'R:auc@15': 0.24792726908893983,\n",
      " 'R:auc@30': 0.497338270481018,\n",
      " 'R:meanErr': 15.471956317318307,\n",
      " 'R:medianErr': 16.52800862766831,\n",
      " 't:ACC15': 0.65,\n",
      " 't:ACC30': 1.0,\n",
      " 't:auc@15': 0.34094300949045003,\n",
      " 't:auc@30': 0.6377749247147259,\n",
      " 't:meanErr': 11.123970178345344,\n",
      " 't:medianErr': 10.496113477478195}\u001b[0m\n",
      "\u001b[32m2024-01-09 18:46:39.474\u001b[0m | \u001b[1mINFO    \u001b[0m | \u001b[36m__main__\u001b[0m:\u001b[36m<module>\u001b[0m:\u001b[36m11\u001b[0m - \u001b[1mONEPOSE++: lecreusetcup_data\u001b[0m\n"
     ]
    },
    {
     "name": "stdout",
     "output_type": "stream",
     "text": [
      "Acc: 37/40\n"
     ]
    },
    {
     "name": "stderr",
     "output_type": "stream",
     "text": [
      "\u001b[32m2024-01-09 18:46:39.880\u001b[0m | \u001b[1mINFO    \u001b[0m | \u001b[36mpose.utils\u001b[0m:\u001b[36maggregate_metrics\u001b[0m:\u001b[36m237\u001b[0m - \u001b[1mAggregating metrics over 47 unique items...\u001b[0m\n",
      "\u001b[32m2024-01-09 18:46:39.882\u001b[0m | \u001b[1mINFO    \u001b[0m | \u001b[36m__main__\u001b[0m:\u001b[36m<module>\u001b[0m:\u001b[36m63\u001b[0m - \u001b[1m\n",
      "{'AP50': 0.8297872340425532,\n",
      " 'R:ACC15': 0.5319148936170213,\n",
      " 'R:ACC30': 1.0,\n",
      " 'R:auc@15': 0.3021982389868752,\n",
      " 'R:auc@30': 0.5438976496853016,\n",
      " 'R:meanErr': 13.996661578413418,\n",
      " 'R:medianErr': 12.11751671267035,\n",
      " 't:ACC15': 0.723404255319149,\n",
      " 't:ACC30': 0.9787234042553191,\n",
      " 't:auc@15': 0.3355227267020558,\n",
      " 't:auc@30': 0.6291141161580183,\n",
      " 't:meanErr': 11.781983064644159,\n",
      " 't:medianErr': 9.633321072300133}\u001b[0m\n",
      "\u001b[32m2024-01-09 18:46:39.883\u001b[0m | \u001b[1mINFO    \u001b[0m | \u001b[36m__main__\u001b[0m:\u001b[36m<module>\u001b[0m:\u001b[36m11\u001b[0m - \u001b[1mONEPOSE++: insta_data\u001b[0m\n"
     ]
    },
    {
     "name": "stdout",
     "output_type": "stream",
     "text": [
      "Acc: 39/47\n"
     ]
    },
    {
     "name": "stderr",
     "output_type": "stream",
     "text": [
      "\u001b[32m2024-01-09 18:46:40.682\u001b[0m | \u001b[1mINFO    \u001b[0m | \u001b[36mpose.utils\u001b[0m:\u001b[36maggregate_metrics\u001b[0m:\u001b[36m237\u001b[0m - \u001b[1mAggregating metrics over 94 unique items...\u001b[0m\n",
      "\u001b[32m2024-01-09 18:46:40.684\u001b[0m | \u001b[1mINFO    \u001b[0m | \u001b[36m__main__\u001b[0m:\u001b[36m<module>\u001b[0m:\u001b[36m63\u001b[0m - \u001b[1m\n",
      "{'AP50': 0.5638297872340425,\n",
      " 'R:ACC15': 0.425531914893617,\n",
      " 'R:ACC30': 0.9148936170212766,\n",
      " 'R:auc@15': 0.19249210014402962,\n",
      " 'R:auc@30': 0.43140082592587065,\n",
      " 'R:meanErr': 20.29240936292988,\n",
      " 'R:medianErr': 17.55420453460684,\n",
      " 't:ACC15': 0.8297872340425532,\n",
      " 't:ACC30': 0.9468085106382979,\n",
      " 't:auc@15': 0.41311574965308573,\n",
      " 't:auc@30': 0.6625310291437257,\n",
      " 't:meanErr': 12.372718798740152,\n",
      " 't:medianErr': 8.693510440130208}\u001b[0m\n"
     ]
    },
    {
     "name": "stdout",
     "output_type": "stream",
     "text": [
      "Acc: 53/94\n"
     ]
    }
   ],
   "source": [
    "res_table = []\n",
    "\n",
    "model_type = 'relative_r-gt_t'\n",
    "\n",
    "for key in all_data.keys():\n",
    "    if key in linemod_type:\n",
    "        logger.info(f\"LINEMOD: {key}\")\n",
    "    elif key in onepose_type:\n",
    "        logger.info(f\"ONEPOSE: {key}\")\n",
    "    elif key in oneposeplusplus_type:\n",
    "        logger.info(f\"ONEPOSE++: {key}\")\n",
    "    metrics = dict()\n",
    "    metrics.update({'R_errs':[], 't_errs':[], 'inliers':[], \"identifiers\":[]})\n",
    "    recall_image, all_image = 0, 0\n",
    "    for item in all_data[key]:\n",
    "        all_image += 1\n",
    "        K0 = item['K0']\n",
    "        K1 = item['K1']\n",
    "        pose0 = item['pose0']\n",
    "        pose1 = item['pose1']\n",
    "        pre_bbox = item['pre_bbox']\n",
    "        gt_bbox = item['gt_bbox']\n",
    "        mkpts0 = item['mkpts0']\n",
    "        mkpts1 = item['mkpts1']\n",
    "        pre_K = item['pre_K']\n",
    "        name = item['name']\n",
    "        pair_name = item['pair_name']\n",
    "        if 'lm' in name:\n",
    "            name = id2name_dict[int(name[2:])]\n",
    "        if name not in key:\n",
    "            print(f'name: {name}, key: {key}')\n",
    "            continue\n",
    "\n",
    "        is_recalled = recall_object(pre_bbox, gt_bbox)\n",
    "\n",
    "        recall_image = recall_image + int(is_recalled > 0.5)\n",
    "\n",
    "        batch_mkpts0 = torch.from_numpy(mkpts0).unsqueeze(0).float().to(device)\n",
    "        batch_mkpts1 = torch.from_numpy(mkpts1).unsqueeze(0).float().to(device)\n",
    "        pre_t, pre_rot = net(batch_mkpts0, batch_mkpts1)\n",
    "        pre_t = pre_t.squeeze(0).detach().cpu().numpy()\n",
    "        pre_rot = pre_rot.squeeze(0).detach().cpu().numpy()\n",
    "\n",
    "        if model_type == 'gt':\n",
    "            t_err, R_err = relative_pose_error_np(pose1, pre_rot, pre_t, ignore_gt_t_thr=0.0)\n",
    "        elif model_type == 'relative':\n",
    "            relative_pose = np.matmul(pose1, np.linalg.inv(pose0))\n",
    "            t_err, R_err = relative_pose_error_np(relative_pose, pre_rot, pre_t, ignore_gt_t_thr=0.0)\n",
    "        elif model_type == 'relative_r-gt_t':\n",
    "            relative_pose = np.matmul(pose1, np.linalg.inv(pose0))\n",
    "            gt_pose = np.zeros_like(pose1)\n",
    "            gt_pose[:3, :3] = relative_pose[:3, :3]\n",
    "            gt_pose[:3, 3] = pose1[:3, 3]\n",
    "            t_err, R_err = relative_pose_error_np(gt_pose, pre_rot, pre_t, ignore_gt_t_thr=0.0)\n",
    "\n",
    "        metrics['R_errs'].append(R_err)\n",
    "        metrics['t_errs'].append(t_err)\n",
    "        metrics['identifiers'].append(pair_name)\n",
    "\n",
    "    print(f\"Acc: {recall_image}/{all_image}\")\n",
    "    val_metrics_4tb = aggregate_metrics(metrics, 5e-4)\n",
    "    val_metrics_4tb[\"AP50\"] = recall_image / all_image\n",
    "    logger.info('\\n' + pprint.pformat(val_metrics_4tb))\n",
    "    res_table.append([f\"{name}\"] + list(val_metrics_4tb.values()))"
   ]
  },
  {
   "cell_type": "code",
   "execution_count": 10,
   "metadata": {},
   "outputs": [
    {
     "name": "stdout",
     "output_type": "stream",
     "text": [
      "╒══════════════╤════════════╤════════════╤═══════════╤═══════════╤═══════════════╤═════════════╤════════════╤════════════╤═══════════╤═══════════╤═══════════════╤═════════════╤══════════╕\n",
      "│ Category     │   R:auc@15 │   R:auc@30 │   R:ACC15 │   R:ACC30 │   R:medianErr │   R:meanErr │   t:auc@15 │   t:auc@30 │   t:ACC15 │   t:ACC30 │   t:medianErr │   t:meanErr │     AP50 │\n",
      "╞══════════════╪════════════╪════════════╪═══════════╪═══════════╪═══════════════╪═════════════╪════════════╪════════════╪═══════════╪═══════════╪═══════════════╪═════════════╪══════════╡\n",
      "│ toyrobot     │   0.174418 │   0.450399 │  0.421053 │  1        │       16.9107 │     16.7467 │   0.486019 │   0.732626 │  0.912281 │  1        │       7.00165 │     8.2107  │ 0.982456 │\n",
      "├──────────────┼────────────┼────────────┼───────────┼───────────┼───────────────┼─────────────┼────────────┼────────────┼───────────┼───────────┼───────────────┼─────────────┼──────────┤\n",
      "│ yellowduck   │   0.276516 │   0.556445 │  0.590909 │  0.984848 │       12.995  │     13.5876 │   0.381567 │   0.680559 │  0.848485 │  1        │       8.87155 │     9.74144 │ 1        │\n",
      "├──────────────┼────────────┼────────────┼───────────┼───────────┼───────────────┼─────────────┼────────────┼────────────┼───────────┼───────────┼───────────────┼─────────────┼──────────┤\n",
      "│ sheep        │   0.266987 │   0.488391 │  0.480769 │  0.942308 │       15.7519 │     16.5496 │   0.489106 │   0.713344 │  0.865385 │  0.961538 │       7.28467 │     9.24931 │ 0.365385 │\n",
      "├──────────────┼────────────┼────────────┼───────────┼───────────┼───────────────┼─────────────┼────────────┼────────────┼───────────┼───────────┼───────────────┼─────────────┼──────────┤\n",
      "│ fakebanana   │   0.17004  │   0.472317 │  0.458333 │  0.979167 │       16.2674 │     16.143  │   0.378511 │   0.674935 │  0.833333 │  1        │       9.57589 │    10.0486  │ 0.979167 │\n",
      "├──────────────┼────────────┼────────────┼───────────┼───────────┼───────────────┼─────────────┼────────────┼────────────┼───────────┼───────────┼───────────────┼─────────────┼──────────┤\n",
      "│ teabox       │   0.295254 │   0.542587 │  0.584615 │  0.969231 │       13.0364 │     14.0194 │   0.400975 │   0.68709  │  0.846154 │  1        │       8.00583 │     9.55057 │ 0.953846 │\n",
      "├──────────────┼────────────┼────────────┼───────────┼───────────┼───────────────┼─────────────┼────────────┼────────────┼───────────┼───────────┼───────────────┼─────────────┼──────────┤\n",
      "│ orange       │   0.210067 │   0.470286 │  0.426667 │  0.973333 │       15.782  │     16.1524 │   0.496337 │   0.736513 │  0.946667 │  0.986667 │       7.50436 │     8.20568 │ 0.986667 │\n",
      "├──────────────┼────────────┼────────────┼───────────┼───────────┼───────────────┼─────────────┼────────────┼────────────┼───────────┼───────────┼───────────────┼─────────────┼──────────┤\n",
      "│ greenteapot  │   0.247927 │   0.497338 │  0.45     │  0.975    │       16.528  │     15.472  │   0.340943 │   0.637775 │  0.65     │  1        │      10.4961  │    11.124   │ 0.925    │\n",
      "├──────────────┼────────────┼────────────┼───────────┼───────────┼───────────────┼─────────────┼────────────┼────────────┼───────────┼───────────┼───────────────┼─────────────┼──────────┤\n",
      "│ lecreusetcup │   0.302198 │   0.543898 │  0.531915 │  1        │       12.1175 │     13.9967 │   0.335523 │   0.629114 │  0.723404 │  0.978723 │       9.63332 │    11.782   │ 0.829787 │\n",
      "├──────────────┼────────────┼────────────┼───────────┼───────────┼───────────────┼─────────────┼────────────┼────────────┼───────────┼───────────┼───────────────┼─────────────┼──────────┤\n",
      "│ insta        │   0.192492 │   0.431401 │  0.425532 │  0.914894 │       17.5542 │     20.2924 │   0.413116 │   0.662531 │  0.829787 │  0.946809 │       8.69351 │    12.3727  │ 0.56383  │\n",
      "├──────────────┼────────────┼────────────┼───────────┼───────────┼───────────────┼─────────────┼────────────┼────────────┼───────────┼───────────┼───────────────┼─────────────┼──────────┤\n",
      "│ Avg          │   0.237322 │   0.494785 │  0.485533 │  0.970976 │       15.2159 │     15.8844 │   0.413566 │   0.683832 │  0.828388 │  0.985971 │       8.56299 │    10.0317  │ 0.842904 │\n",
      "╘══════════════╧════════════╧════════════╧═══════════╧═══════════╧═══════════════╧═════════════╧════════════╧════════════╧═══════════╧═══════════╧═══════════════╧═════════════╧══════════╛\n"
     ]
    }
   ],
   "source": [
    "from tabulate import tabulate\n",
    "headers = [\"Category\"] + list(val_metrics_4tb.keys())\n",
    "all_data = np.array(res_table)[:, 1:].astype(np.float32)\n",
    "res_table.append([\"Avg\"] + all_data.mean(0).tolist())\n",
    "print(tabulate(res_table, \\\n",
    "    headers=headers, tablefmt='fancy_grid'))"
   ]
  },
  {
   "cell_type": "code",
   "execution_count": null,
   "metadata": {},
   "outputs": [],
   "source": []
  }
 ],
 "metadata": {
  "kernelspec": {
   "display_name": "pope",
   "language": "python",
   "name": "python3"
  },
  "language_info": {
   "codemirror_mode": {
    "name": "ipython",
    "version": 3
   },
   "file_extension": ".py",
   "mimetype": "text/x-python",
   "name": "python",
   "nbconvert_exporter": "python",
   "pygments_lexer": "ipython3",
   "version": "3.8.18"
  }
 },
 "nbformat": 4,
 "nbformat_minor": 2
}
