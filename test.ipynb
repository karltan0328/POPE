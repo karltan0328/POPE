{
 "cells": [
  {
   "cell_type": "code",
   "execution_count": 1,
   "metadata": {},
   "outputs": [
    {
     "name": "stderr",
     "output_type": "stream",
     "text": [
      "  0%|          | 0/10 [00:00<?, ?it/s]"
     ]
    },
    {
     "name": "stdout",
     "output_type": "stream",
     "text": [
      "data/onepose-points/0409-aptamil-box/mkpts0/566.png-581.png.txt does not exist\n",
      "data/onepose-points/0409-aptamil-box/mkpts0/544.png-557.png.txt does not exist\n",
      "data/onepose-points/0409-aptamil-box/mkpts0/562.png-621.png.txt does not exist\n",
      "data/onepose-points/0409-aptamil-box/mkpts0/620.png-562.png.txt does not exist\n",
      "data/onepose-points/0409-aptamil-box/mkpts0/579.png-561.png.txt does not exist\n"
     ]
    },
    {
     "name": "stderr",
     "output_type": "stream",
     "text": [
      " 10%|█         | 1/10 [00:00<00:08,  1.07it/s]"
     ]
    },
    {
     "name": "stdout",
     "output_type": "stream",
     "text": [
      "data/onepose-points/0409-aptamil-box/mkpts0/564.png-543.png.txt does not exist\n",
      "data/onepose-points/0409-aptamil-box/mkpts0/607.png-553.png.txt does not exist\n",
      "data/onepose-points/0409-aptamil-box/mkpts0/601.png-549.png.txt does not exist\n",
      "data/onepose-points/0409-aptamil-box/mkpts0/606.png-547.png.txt does not exist\n"
     ]
    },
    {
     "name": "stderr",
     "output_type": "stream",
     "text": [
      "100%|██████████| 10/10 [00:05<00:00,  1.67it/s]\n"
     ]
    }
   ],
   "source": [
    "import os\n",
    "import torch\n",
    "import random\n",
    "import pprint\n",
    "import numpy as np\n",
    "from loguru import logger\n",
    "from torch.utils.data import DataLoader\n",
    "from torch import nn\n",
    "\n",
    "from pose.dataset import pose_dataset\n",
    "from pose.utils import (\n",
    "    collate_fn,\n",
    "    geodesic_distance,\n",
    "    relative_pose_error,\n",
    "    relative_pose_error_np,\n",
    "    recall_object,\n",
    "    aggregate_metrics\n",
    ")\n",
    "from pose.model import Mkpts_Reg_Model\n",
    "from pose.animator import Animator\n",
    "\n",
    "\n",
    "if os.name == 'nt':\n",
    "    LM_dataset_path = 'd:/git_project/POPE/data/LM_dataset/'\n",
    "    LM_dataset_json_path = 'd:/git_project/POPE/data/pairs/LINEMOD-test.json'\n",
    "    LM_dataset_points_path = 'd:/git_project/POPE/data/LM_dataset-points/'\n",
    "\n",
    "    onepose_path = 'd:/git_project/POPE/data/onepose/'\n",
    "    onepose_json_path = 'd:/git_project/POPE/data/pairs/Onepose-test.json'\n",
    "    onepose_points_path = 'd:/git_project/POPE/data/onepose-points/'\n",
    "\n",
    "    onepose_plusplus_path = 'd:/git_project/POPE/data/onepose_plusplus/'\n",
    "    onepose_plusplus_json_path = 'd:/git_project/POPE/data/pairs/OneposePlusPlus-test.json'\n",
    "    onepose_plusplus_points_path = 'd:/git_project/POPE/data/onepose_plusplus-points/'\n",
    "\n",
    "    ycbv_path = 'd:/git_project/POPE/data/ycbv/'\n",
    "    ycbv_json_path = 'd:/git_project/POPE/data/pairs/YCB-VIDEO-test.json'\n",
    "    ycbv_points_path = 'd:/git_project/POPE/data/ycbv-points'\n",
    "elif os.name == 'posix':\n",
    "    LM_dataset_path = 'data/LM_dataset/'\n",
    "    LM_dataset_json_path = 'data/pairs/LINEMOD-test.json'\n",
    "    LM_dataset_points_path = 'data/LM_dataset-points/'\n",
    "\n",
    "    onepose_path = 'data/onepose/'\n",
    "    onepose_json_path = 'data/pairs/Onepose-test.json'\n",
    "    onepose_points_path = 'data/onepose-points/'\n",
    "\n",
    "    onepose_plusplus_path = 'data/onepose_plusplus/'\n",
    "    onepose_plusplus_json_path = 'data/pairs/OneposePlusPlus-test.json'\n",
    "    onepose_plusplus_points_path = 'data/onepose_plusplus-points/'\n",
    "\n",
    "    ycbv_path = 'data/ycbv/'\n",
    "    ycbv_json_path = 'data/pairs/YCB-VIDEO-test.json'\n",
    "    ycbv_points_path = 'data/ycbv-points'\n",
    "\n",
    "paths = [\n",
    "    # ('linemod', LM_dataset_path, LM_dataset_json_path, LM_dataset_points_path),\n",
    "    ('onepose', onepose_path, onepose_json_path, onepose_points_path),\n",
    "    # ('onepose_plusplus', onepose_plusplus_path, onepose_plusplus_json_path, onepose_plusplus_points_path),\n",
    "    # ('ycbv', ycbv_path, ycbv_json_path, ycbv_points_path),\n",
    "]\n",
    "\n",
    "device = torch.device('cuda' if torch.cuda.is_available() else 'cpu')\n",
    "\n",
    "dataset = pose_dataset(paths)\n",
    "mkpts_max_len, mkpts_sum_len = dataset.get_mkpts_info()"
   ]
  },
  {
   "cell_type": "code",
   "execution_count": 2,
   "metadata": {},
   "outputs": [],
   "source": [
    "random.seed(20231223)\n",
    "torch.manual_seed(20231223)\n",
    "torch.cuda.manual_seed(20231223)\n",
    "\n",
    "train_size = int(0.8 * len(dataset))\n",
    "test_size = len(dataset) - train_size\n",
    "train_dataset, test_dataset = torch.utils.data.random_split(dataset, [train_size, test_size])"
   ]
  },
  {
   "cell_type": "code",
   "execution_count": 3,
   "metadata": {},
   "outputs": [],
   "source": [
    "num_sample = 300\n",
    "train_dataloader = DataLoader(train_dataset, batch_size=8, shuffle=True, drop_last=True, collate_fn=collate_fn(num_sample))\n",
    "test_dataloader = DataLoader(test_dataset, batch_size=8, shuffle=True, drop_last=True, collate_fn=collate_fn(num_sample))"
   ]
  },
  {
   "cell_type": "code",
   "execution_count": 4,
   "metadata": {},
   "outputs": [
    {
     "data": {
      "text/plain": [
       "Mkpts_Reg_Model(\n",
       "  (embedding): Embedding()\n",
       "  (transformerlayer): TransformerEncoderLayer(\n",
       "    (self_attn): MultiheadAttention(\n",
       "      (out_proj): NonDynamicallyQuantizableLinear(in_features=76, out_features=76, bias=True)\n",
       "    )\n",
       "    (linear1): Linear(in_features=76, out_features=2048, bias=True)\n",
       "    (dropout): Dropout(p=0.1, inplace=False)\n",
       "    (linear2): Linear(in_features=2048, out_features=76, bias=True)\n",
       "    (norm1): LayerNorm((76,), eps=1e-05, elementwise_affine=True)\n",
       "    (norm2): LayerNorm((76,), eps=1e-05, elementwise_affine=True)\n",
       "    (dropout1): Dropout(p=0.1, inplace=False)\n",
       "    (dropout2): Dropout(p=0.1, inplace=False)\n",
       "  )\n",
       "  (transformer): TransformerEncoder(\n",
       "    (layers): ModuleList(\n",
       "      (0-3): 4 x TransformerEncoderLayer(\n",
       "        (self_attn): MultiheadAttention(\n",
       "          (out_proj): NonDynamicallyQuantizableLinear(in_features=76, out_features=76, bias=True)\n",
       "        )\n",
       "        (linear1): Linear(in_features=76, out_features=2048, bias=True)\n",
       "        (dropout): Dropout(p=0.1, inplace=False)\n",
       "        (linear2): Linear(in_features=2048, out_features=76, bias=True)\n",
       "        (norm1): LayerNorm((76,), eps=1e-05, elementwise_affine=True)\n",
       "        (norm2): LayerNorm((76,), eps=1e-05, elementwise_affine=True)\n",
       "        (dropout1): Dropout(p=0.1, inplace=False)\n",
       "        (dropout2): Dropout(p=0.1, inplace=False)\n",
       "      )\n",
       "    )\n",
       "  )\n",
       "  (translation_head): Linear(in_features=32, out_features=3, bias=True)\n",
       "  (rotation_head): Linear(in_features=32, out_features=6, bias=True)\n",
       "  (mlp): Sequential(\n",
       "    (0): Linear(in_features=22800, out_features=5700, bias=True)\n",
       "    (1): LeakyReLU(negative_slope=0.01)\n",
       "    (2): Dropout(p=0.5, inplace=False)\n",
       "    (3): Linear(in_features=5700, out_features=300, bias=True)\n",
       "    (4): LeakyReLU(negative_slope=0.01)\n",
       "    (5): Dropout(p=0.2, inplace=False)\n",
       "    (6): Linear(in_features=300, out_features=256, bias=True)\n",
       "    (7): LeakyReLU(negative_slope=0.01)\n",
       "    (8): Dropout(p=0.2, inplace=False)\n",
       "    (9): Linear(in_features=256, out_features=128, bias=True)\n",
       "    (10): LeakyReLU(negative_slope=0.01)\n",
       "    (11): Dropout(p=0.1, inplace=False)\n",
       "    (12): Linear(in_features=128, out_features=64, bias=True)\n",
       "    (13): LeakyReLU(negative_slope=0.01)\n",
       "    (14): Dropout(p=0.1, inplace=False)\n",
       "    (15): Linear(in_features=64, out_features=32, bias=True)\n",
       "    (16): LeakyReLU(negative_slope=0.01)\n",
       "    (17): Dropout(p=0.1, inplace=False)\n",
       "    (18): Linear(in_features=32, out_features=32, bias=True)\n",
       "    (19): LeakyReLU(negative_slope=0.01)\n",
       "    (20): Dropout(p=0.1, inplace=False)\n",
       "  )\n",
       ")"
      ]
     },
     "execution_count": 4,
     "metadata": {},
     "output_type": "execute_result"
    }
   ],
   "source": [
    "# linemod\n",
    "# net = torch.load('./weights/relative_r-gt_t-6d-300-2024-03-17-23-57-28-0.1786.pth').to(device)\n",
    "# onepose\n",
    "net = torch.load('./weights/relative_r-gt_t-6d-300-2024-03-18-12-02-18-0.1764.pth').to(device)\n",
    "# onepose++\n",
    "# net = torch.load('./weights/relative_r-gt_t-6d-300-2024-03-17-20-39-50-0.1319.pth').to(device)\n",
    "# ycbv\n",
    "# net = torch.load('./weights/ycbv-relative_r-gt_t-6d-300-2024-03-02-17-01-40-6281.5225.pth').to(device)\n",
    "\n",
    "net.eval()"
   ]
  },
  {
   "cell_type": "code",
   "execution_count": 5,
   "metadata": {},
   "outputs": [],
   "source": [
    "id2name_dict = {\n",
    "    1: \"ape\",\n",
    "    2: \"benchvise\",\n",
    "    4: \"camera\",\n",
    "    5: \"can\",\n",
    "    6: \"cat\",\n",
    "    8: \"driller\",\n",
    "    9: \"duck\",\n",
    "    10: \"eggbox\",\n",
    "    11: \"glue\",\n",
    "    12: \"holepuncher\",\n",
    "    13: \"iron\",\n",
    "    14: \"lamp\",\n",
    "    15: \"phone\",\n",
    "}\n",
    "\n",
    "ycbv_dict = {\n",
    "    1: 'one',\n",
    "    2: 'two',\n",
    "    3: 'three',\n",
    "    4: 'four',\n",
    "    5: 'five',\n",
    "    6: 'six',\n",
    "    7: 'seven',\n",
    "    8: 'eight',\n",
    "    9: 'nine',\n",
    "    10: 'ten',\n",
    "}"
   ]
  },
  {
   "cell_type": "code",
   "execution_count": 6,
   "metadata": {},
   "outputs": [],
   "source": [
    "# linemod\n",
    "ape_data = []\n",
    "benchvise_data = []\n",
    "camera_data = []\n",
    "can_data = []\n",
    "cat_data = []\n",
    "driller_data = []\n",
    "duck_data = []\n",
    "eggbox_data = []\n",
    "glue_data = []\n",
    "holepuncher_data = []\n",
    "iron_data = []\n",
    "lamp_data = []\n",
    "phone_data = []\n",
    "# onepose\n",
    "aptamil_data = []\n",
    "jzhg_data = []\n",
    "minipuff_data = []\n",
    "hlyormosiapie_data = []\n",
    "brownhouse_data = []\n",
    "oreo_data = []\n",
    "mfmilkcake_data = []\n",
    "diycookies_data = []\n",
    "taipingcookies_data = []\n",
    "tee_data = []\n",
    "# onepose++\n",
    "toyrobot_data = []\n",
    "yellowduck_data = []\n",
    "sheep_data = []\n",
    "fakebanana_data = []\n",
    "teabox_data = []\n",
    "orange_data = []\n",
    "greenteapot_data = []\n",
    "lecreusetcup_data = []\n",
    "insta_data = []\n",
    "# ycbv\n",
    "one_data = []\n",
    "two_data = []\n",
    "three_data = []\n",
    "four_data = []\n",
    "five_data = []\n",
    "six_data = []\n",
    "seven_data = []\n",
    "eight_data = []\n",
    "nine_data = []\n",
    "ten_data = []\n",
    "\n",
    "all_data = {\n",
    "    # linemod\n",
    "    'ape_data': ape_data,\n",
    "    'benchvise_data': benchvise_data,\n",
    "    'camera_data': camera_data,\n",
    "    'can_data': can_data,\n",
    "    'cat_data': cat_data,\n",
    "    'driller_data': driller_data,\n",
    "    'duck_data': duck_data,\n",
    "    'eggbox_data': eggbox_data,\n",
    "    'glue_data': glue_data,\n",
    "    'holepuncher_data': holepuncher_data,\n",
    "    'iron_data': iron_data,\n",
    "    'lamp_data': lamp_data,\n",
    "    'phone_data': phone_data,\n",
    "    # onepose\n",
    "    'aptamil_data': aptamil_data,\n",
    "    'jzhg_data': jzhg_data,\n",
    "    'minipuff_data': minipuff_data,\n",
    "    'hlyormosiapie_data': hlyormosiapie_data,\n",
    "    'brownhouse_data': brownhouse_data,\n",
    "    'oreo_data': oreo_data,\n",
    "    'mfmilkcake_data': mfmilkcake_data,\n",
    "    'diycookies_data': diycookies_data,\n",
    "    'taipingcookies_data': taipingcookies_data,\n",
    "    'tee_data': tee_data,\n",
    "    # onepose++\n",
    "    'toyrobot_data': toyrobot_data,\n",
    "    'yellowduck_data': yellowduck_data,\n",
    "    'sheep_data': sheep_data,\n",
    "    'fakebanana_data': fakebanana_data,\n",
    "    'teabox_data': teabox_data,\n",
    "    'orange_data': orange_data,\n",
    "    'greenteapot_data': greenteapot_data,\n",
    "    'lecreusetcup_data': lecreusetcup_data,\n",
    "    'insta_data': insta_data,\n",
    "    # ycbv\n",
    "    'one_data': one_data,\n",
    "    'two_data': two_data,\n",
    "    'three_data': three_data,\n",
    "    'four_data': four_data,\n",
    "    'five_data': five_data,\n",
    "    'six_data': six_data,\n",
    "    'seven_data': seven_data,\n",
    "    'eight_data': eight_data,\n",
    "    'nine_data': nine_data,\n",
    "    'ten_data': ten_data,\n",
    "}"
   ]
  },
  {
   "cell_type": "code",
   "execution_count": 7,
   "metadata": {},
   "outputs": [],
   "source": [
    "linemod_type = ['ape_data', 'benchvise_data', 'camera_data', 'can_data', 'cat_data', 'driller_data', 'duck_data', 'eggbox_data', 'glue_data', 'holepuncher_data', 'iron_data', 'lamp_data', 'phone_data']\n",
    "onepose_type = ['aptamil_data', 'jzhg_data', 'minipuff_data', 'hlyormosiapie_data', 'brownhouse_data', 'oreo_data', 'mfmilkcake_data', 'diycookies_data', 'taipingcookies_data', 'tee_data']\n",
    "oneposeplusplus_type = ['toyrobot_data', 'yellowduck_data', 'sheep_data', 'fakebanana_data', 'teabox_data', 'orange_data', 'greenteapot_data', 'lecreusetcup_data', 'insta_data']\n",
    "ycbv_type = ['one_data', 'two_data', 'three_data', 'four_data', 'five_data', 'six_data', 'seven_data', 'eight_data', 'nine_data', 'ten_data']"
   ]
  },
  {
   "cell_type": "code",
   "execution_count": 8,
   "metadata": {},
   "outputs": [
    {
     "name": "stdout",
     "output_type": "stream",
     "text": [
      "aptamil_data 77\n",
      "jzhg_data 73\n",
      "minipuff_data 41\n",
      "hlyormosiapie_data 59\n",
      "brownhouse_data 55\n",
      "oreo_data 55\n",
      "mfmilkcake_data 59\n",
      "diycookies_data 68\n",
      "taipingcookies_data 56\n",
      "tee_data 89\n",
      "len(all_data): 10\n"
     ]
    }
   ],
   "source": [
    "for i, batch in enumerate(test_dataloader):\n",
    "    for data in batch:\n",
    "        if 'lm' in data['name']:\n",
    "            all_data[f\"{id2name_dict[int(data['name'][2:])]}_data\"].append(data)\n",
    "        else:\n",
    "            if data['name'] in ('12345678910'):\n",
    "                all_data[f\"{ycbv_dict[int(data['name'])]}_data\"].append(data)\n",
    "            else:\n",
    "                all_data[f\"{data['name']}_data\"].append(data)\n",
    "\n",
    "empty_keys = []\n",
    "for key in all_data.keys():\n",
    "    if len(all_data[key]) == 0:\n",
    "        empty_keys.append(key)\n",
    "\n",
    "for key in empty_keys:\n",
    "    all_data.pop(key)\n",
    "\n",
    "for key in all_data.keys():\n",
    "    print(key, len(all_data[key]))\n",
    "\n",
    "print('len(all_data):', len(all_data))"
   ]
  },
  {
   "cell_type": "code",
   "execution_count": 9,
   "metadata": {},
   "outputs": [
    {
     "name": "stderr",
     "output_type": "stream",
     "text": [
      "\u001b[32m2024-03-18 12:04:52.025\u001b[0m | \u001b[1mINFO    \u001b[0m | \u001b[36m__main__\u001b[0m:\u001b[36m<module>\u001b[0m:\u001b[36m9\u001b[0m - \u001b[1mONEPOSE: aptamil_data\u001b[0m\n"
     ]
    },
    {
     "name": "stderr",
     "output_type": "stream",
     "text": [
      "\u001b[32m2024-03-18 12:04:52.425\u001b[0m | \u001b[1mINFO    \u001b[0m | \u001b[36mpose.utils\u001b[0m:\u001b[36maggregate_metrics\u001b[0m:\u001b[36m237\u001b[0m - \u001b[1mAggregating metrics over 77 unique items...\u001b[0m\n",
      "\u001b[32m2024-03-18 12:04:52.427\u001b[0m | \u001b[1mINFO    \u001b[0m | \u001b[36m__main__\u001b[0m:\u001b[36m<module>\u001b[0m:\u001b[36m9\u001b[0m - \u001b[1mONEPOSE: jzhg_data\u001b[0m\n"
     ]
    },
    {
     "name": "stdout",
     "output_type": "stream",
     "text": [
      "Acc: 73/77\n"
     ]
    },
    {
     "name": "stderr",
     "output_type": "stream",
     "text": [
      "\u001b[32m2024-03-18 12:04:52.705\u001b[0m | \u001b[1mINFO    \u001b[0m | \u001b[36mpose.utils\u001b[0m:\u001b[36maggregate_metrics\u001b[0m:\u001b[36m237\u001b[0m - \u001b[1mAggregating metrics over 73 unique items...\u001b[0m\n",
      "\u001b[32m2024-03-18 12:04:52.706\u001b[0m | \u001b[1mINFO    \u001b[0m | \u001b[36m__main__\u001b[0m:\u001b[36m<module>\u001b[0m:\u001b[36m9\u001b[0m - \u001b[1mONEPOSE: minipuff_data\u001b[0m\n",
      "\u001b[32m2024-03-18 12:04:52.864\u001b[0m | \u001b[1mINFO    \u001b[0m | \u001b[36mpose.utils\u001b[0m:\u001b[36maggregate_metrics\u001b[0m:\u001b[36m237\u001b[0m - \u001b[1mAggregating metrics over 41 unique items...\u001b[0m\n",
      "\u001b[32m2024-03-18 12:04:52.865\u001b[0m | \u001b[1mINFO    \u001b[0m | \u001b[36m__main__\u001b[0m:\u001b[36m<module>\u001b[0m:\u001b[36m9\u001b[0m - \u001b[1mONEPOSE: hlyormosiapie_data\u001b[0m\n"
     ]
    },
    {
     "name": "stdout",
     "output_type": "stream",
     "text": [
      "Acc: 63/73\n",
      "Acc: 39/41\n"
     ]
    },
    {
     "name": "stderr",
     "output_type": "stream",
     "text": [
      "\u001b[32m2024-03-18 12:04:53.092\u001b[0m | \u001b[1mINFO    \u001b[0m | \u001b[36mpose.utils\u001b[0m:\u001b[36maggregate_metrics\u001b[0m:\u001b[36m237\u001b[0m - \u001b[1mAggregating metrics over 59 unique items...\u001b[0m\n",
      "\u001b[32m2024-03-18 12:04:53.094\u001b[0m | \u001b[1mINFO    \u001b[0m | \u001b[36m__main__\u001b[0m:\u001b[36m<module>\u001b[0m:\u001b[36m9\u001b[0m - \u001b[1mONEPOSE: brownhouse_data\u001b[0m\n"
     ]
    },
    {
     "name": "stdout",
     "output_type": "stream",
     "text": [
      "Acc: 53/59\n"
     ]
    },
    {
     "name": "stderr",
     "output_type": "stream",
     "text": [
      "\u001b[32m2024-03-18 12:04:53.305\u001b[0m | \u001b[1mINFO    \u001b[0m | \u001b[36mpose.utils\u001b[0m:\u001b[36maggregate_metrics\u001b[0m:\u001b[36m237\u001b[0m - \u001b[1mAggregating metrics over 55 unique items...\u001b[0m\n",
      "\u001b[32m2024-03-18 12:04:53.306\u001b[0m | \u001b[1mINFO    \u001b[0m | \u001b[36m__main__\u001b[0m:\u001b[36m<module>\u001b[0m:\u001b[36m9\u001b[0m - \u001b[1mONEPOSE: oreo_data\u001b[0m\n"
     ]
    },
    {
     "name": "stdout",
     "output_type": "stream",
     "text": [
      "Acc: 42/55\n"
     ]
    },
    {
     "name": "stderr",
     "output_type": "stream",
     "text": [
      "\u001b[32m2024-03-18 12:04:53.515\u001b[0m | \u001b[1mINFO    \u001b[0m | \u001b[36mpose.utils\u001b[0m:\u001b[36maggregate_metrics\u001b[0m:\u001b[36m237\u001b[0m - \u001b[1mAggregating metrics over 55 unique items...\u001b[0m\n",
      "\u001b[32m2024-03-18 12:04:53.517\u001b[0m | \u001b[1mINFO    \u001b[0m | \u001b[36m__main__\u001b[0m:\u001b[36m<module>\u001b[0m:\u001b[36m9\u001b[0m - \u001b[1mONEPOSE: mfmilkcake_data\u001b[0m\n"
     ]
    },
    {
     "name": "stdout",
     "output_type": "stream",
     "text": [
      "Acc: 50/55\n"
     ]
    },
    {
     "name": "stderr",
     "output_type": "stream",
     "text": [
      "\u001b[32m2024-03-18 12:04:53.765\u001b[0m | \u001b[1mINFO    \u001b[0m | \u001b[36mpose.utils\u001b[0m:\u001b[36maggregate_metrics\u001b[0m:\u001b[36m237\u001b[0m - \u001b[1mAggregating metrics over 59 unique items...\u001b[0m\n",
      "\u001b[32m2024-03-18 12:04:53.766\u001b[0m | \u001b[1mINFO    \u001b[0m | \u001b[36m__main__\u001b[0m:\u001b[36m<module>\u001b[0m:\u001b[36m9\u001b[0m - \u001b[1mONEPOSE: diycookies_data\u001b[0m\n"
     ]
    },
    {
     "name": "stdout",
     "output_type": "stream",
     "text": [
      "Acc: 48/59\n"
     ]
    },
    {
     "name": "stderr",
     "output_type": "stream",
     "text": [
      "\u001b[32m2024-03-18 12:04:54.026\u001b[0m | \u001b[1mINFO    \u001b[0m | \u001b[36mpose.utils\u001b[0m:\u001b[36maggregate_metrics\u001b[0m:\u001b[36m237\u001b[0m - \u001b[1mAggregating metrics over 68 unique items...\u001b[0m\n",
      "\u001b[32m2024-03-18 12:04:54.028\u001b[0m | \u001b[1mINFO    \u001b[0m | \u001b[36m__main__\u001b[0m:\u001b[36m<module>\u001b[0m:\u001b[36m9\u001b[0m - \u001b[1mONEPOSE: taipingcookies_data\u001b[0m\n"
     ]
    },
    {
     "name": "stdout",
     "output_type": "stream",
     "text": [
      "Acc: 55/68\n"
     ]
    },
    {
     "name": "stderr",
     "output_type": "stream",
     "text": [
      "\u001b[32m2024-03-18 12:04:54.243\u001b[0m | \u001b[1mINFO    \u001b[0m | \u001b[36mpose.utils\u001b[0m:\u001b[36maggregate_metrics\u001b[0m:\u001b[36m237\u001b[0m - \u001b[1mAggregating metrics over 56 unique items...\u001b[0m\n",
      "\u001b[32m2024-03-18 12:04:54.245\u001b[0m | \u001b[1mINFO    \u001b[0m | \u001b[36m__main__\u001b[0m:\u001b[36m<module>\u001b[0m:\u001b[36m9\u001b[0m - \u001b[1mONEPOSE: tee_data\u001b[0m\n"
     ]
    },
    {
     "name": "stdout",
     "output_type": "stream",
     "text": [
      "Acc: 35/56\n"
     ]
    },
    {
     "name": "stderr",
     "output_type": "stream",
     "text": [
      "\u001b[32m2024-03-18 12:04:54.593\u001b[0m | \u001b[1mINFO    \u001b[0m | \u001b[36mpose.utils\u001b[0m:\u001b[36maggregate_metrics\u001b[0m:\u001b[36m237\u001b[0m - \u001b[1mAggregating metrics over 89 unique items...\u001b[0m\n"
     ]
    },
    {
     "name": "stdout",
     "output_type": "stream",
     "text": [
      "Acc: 65/89\n"
     ]
    }
   ],
   "source": [
    "res_table = []\n",
    "\n",
    "model_type = 'relative_r-gt_t'\n",
    "\n",
    "for key in all_data.keys():\n",
    "    if key in linemod_type:\n",
    "        logger.info(f\"LINEMOD: {key}\")\n",
    "    elif key in onepose_type:\n",
    "        logger.info(f\"ONEPOSE: {key}\")\n",
    "    elif key in oneposeplusplus_type:\n",
    "        logger.info(f\"ONEPOSE++: {key}\")\n",
    "    elif key in ycbv_type:\n",
    "        logger.info(f\"YCBV: {key}\")\n",
    "    metrics = dict()\n",
    "    metrics.update({'R_errs':[], 't_errs':[], 'inliers':[], \"identifiers\":[]})\n",
    "    recall_image, all_image = 0, 0\n",
    "    for item in all_data[key]:\n",
    "        all_image += 1\n",
    "        K0 = item['K0']\n",
    "        K1 = item['K1']\n",
    "        pose0 = item['pose0']\n",
    "        pose1 = item['pose1']\n",
    "        pre_bbox = item['pre_bbox']\n",
    "        gt_bbox = item['gt_bbox']\n",
    "        mkpts0 = item['mkpts0']\n",
    "        mkpts1 = item['mkpts1']\n",
    "        pre_K = item['pre_K']\n",
    "        name = item['name']\n",
    "        pair_name = item['pair_name']\n",
    "        # linemod\n",
    "        if 'lm' in name:\n",
    "            name = id2name_dict[int(name[2:])]\n",
    "        # ycbv\n",
    "        if name in '12345678910':\n",
    "            name = ycbv_dict[int(name)]\n",
    "\n",
    "        if name not in key:\n",
    "            print(f'name: {name}, key: {key}')\n",
    "            continue\n",
    "\n",
    "        is_recalled = recall_object(pre_bbox, gt_bbox)\n",
    "\n",
    "        recall_image = recall_image + int(is_recalled > 0.5)\n",
    "\n",
    "        batch_mkpts0 = torch.from_numpy(mkpts0).unsqueeze(0).float().to(device)\n",
    "        batch_mkpts1 = torch.from_numpy(mkpts1).unsqueeze(0).float().to(device)\n",
    "        pre_t, pre_rot = net(batch_mkpts0, batch_mkpts1)\n",
    "        pre_t = pre_t.squeeze(0).detach().cpu().numpy()\n",
    "        pre_rot = pre_rot.squeeze(0).detach().cpu().numpy()\n",
    "\n",
    "        if model_type == 'gt':\n",
    "            t_err, R_err = relative_pose_error_np(pose1, pre_rot, pre_t, ignore_gt_t_thr=0.0)\n",
    "        elif model_type == 'relative':\n",
    "            relative_pose = np.matmul(pose1, np.linalg.inv(pose0))\n",
    "            t_err, R_err = relative_pose_error_np(relative_pose, pre_rot, pre_t, ignore_gt_t_thr=0.0)\n",
    "        elif model_type == 'relative_r-gt_t':\n",
    "            relative_pose = np.matmul(pose1, np.linalg.inv(pose0))\n",
    "            gt_pose = np.zeros_like(pose1)\n",
    "            gt_pose[:3, :3] = relative_pose[:3, :3]\n",
    "            gt_pose[:3, 3] = pose1[:3, 3]\n",
    "            t_err, R_err = relative_pose_error_np(gt_pose, pre_rot, pre_t, ignore_gt_t_thr=0.0)\n",
    "\n",
    "        metrics['R_errs'].append(R_err)\n",
    "        metrics['t_errs'].append(t_err)\n",
    "        metrics['identifiers'].append(pair_name)\n",
    "\n",
    "    print(f\"Acc: {recall_image}/{all_image}\")\n",
    "    val_metrics_4tb = aggregate_metrics(metrics, 5e-4)\n",
    "    val_metrics_4tb[\"AP50\"] = recall_image / all_image\n",
    "    # logger.info('\\n' + pprint.pformat(val_metrics_4tb))\n",
    "    res_table.append([f\"{name}\"] + list(val_metrics_4tb.values()))"
   ]
  },
  {
   "cell_type": "code",
   "execution_count": 10,
   "metadata": {},
   "outputs": [
    {
     "name": "stdout",
     "output_type": "stream",
     "text": [
      "ONEPOSE\n",
      "╒════════════════╤════════════╤════════════╤═══════════╤═══════════╤═══════════════╤═════════════╤════════════╤════════════╤═══════════╤═══════════╤═══════════════╤═════════════╤══════════╕\n",
      "│ Category       │   R:auc@15 │   R:auc@30 │   R:ACC15 │   R:ACC30 │   R:medianErr │   R:meanErr │   t:auc@15 │   t:auc@30 │   t:ACC15 │   t:ACC30 │   t:medianErr │   t:meanErr │     AP50 │\n",
      "╞════════════════╪════════════╪════════════╪═══════════╪═══════════╪═══════════════╪═════════════╪════════════╪════════════╪═══════════╪═══════════╪═══════════════╪═════════════╪══════════╡\n",
      "│ aptamil        │   0.380811 │   0.652897 │  0.766234 │  0.987013 │       9.60369 │     10.6588 │   0.492206 │   0.737836 │  0.961039 │  0.987013 │       8.113   │     8.00063 │ 0.948052 │\n",
      "├────────────────┼────────────┼────────────┼───────────┼───────────┼───────────────┼─────────────┼────────────┼────────────┼───────────┼───────────┼───────────────┼─────────────┼──────────┤\n",
      "│ jzhg           │   0.336469 │   0.60459  │  0.753425 │  0.958904 │      10.2219  │     12.0916 │   0.450889 │   0.714018 │  0.917808 │  1        │       8.47888 │     8.74722 │ 0.863014 │\n",
      "├────────────────┼────────────┼────────────┼───────────┼───────────┼───────────────┼─────────────┼────────────┼────────────┼───────────┼───────────┼───────────────┼─────────────┼──────────┤\n",
      "│ minipuff       │   0.262256 │   0.527429 │  0.609756 │  0.97561  │      12.6048  │     14.7096 │   0.440175 │   0.720087 │  1        │  1        │       9.12085 │     8.56844 │ 0.95122  │\n",
      "├────────────────┼────────────┼────────────┼───────────┼───────────┼───────────────┼─────────────┼────────────┼────────────┼───────────┼───────────┼───────────────┼─────────────┼──────────┤\n",
      "│ hlyormosiapie  │   0.312733 │   0.58503  │  0.677966 │  0.932203 │      11.4266  │     12.891  │   0.302619 │   0.644283 │  0.79661  │  1        │      10.3995  │    10.8273  │ 0.898305 │\n",
      "├────────────────┼────────────┼────────────┼───────────┼───────────┼───────────────┼─────────────┼────────────┼────────────┼───────────┼───────────┼───────────────┼─────────────┼──────────┤\n",
      "│ brownhouse     │   0.273708 │   0.557878 │  0.6      │  0.963636 │      11.6614  │     13.8263 │   0.320046 │   0.648407 │  0.836364 │  1        │      10.784   │    10.7634  │ 0.763636 │\n",
      "├────────────────┼────────────┼────────────┼───────────┼───────────┼───────────────┼─────────────┼────────────┼────────────┼───────────┼───────────┼───────────────┼─────────────┼──────────┤\n",
      "│ oreo           │   0.360903 │   0.607282 │  0.636364 │  0.927273 │       9.94588 │     12.4556 │   0.384977 │   0.682093 │  0.854545 │  1        │       9.29364 │     9.72212 │ 0.909091 │\n",
      "├────────────────┼────────────┼────────────┼───────────┼───────────┼───────────────┼─────────────┼────────────┼────────────┼───────────┼───────────┼───────────────┼─────────────┼──────────┤\n",
      "│ mfmilkcake     │   0.313839 │   0.618012 │  0.762712 │  1        │      12.0047  │     11.6983 │   0.378862 │   0.687428 │  0.932203 │  1        │      10.6415  │     9.51697 │ 0.813559 │\n",
      "├────────────────┼────────────┼────────────┼───────────┼───────────┼───────────────┼─────────────┼────────────┼────────────┼───────────┼───────────┼───────────────┼─────────────┼──────────┤\n",
      "│ diycookies     │   0.325079 │   0.58124  │  0.691176 │  0.926471 │      11.034   │     13.0954 │   0.446877 │   0.718042 │  0.911765 │  1        │       8.28807 │     8.5992  │ 0.808824 │\n",
      "├────────────────┼────────────┼────────────┼───────────┼───────────┼───────────────┼─────────────┼────────────┼────────────┼───────────┼───────────┼───────────────┼─────────────┼──────────┤\n",
      "│ taipingcookies │   0.286545 │   0.583141 │  0.571429 │  1        │      13.0379  │     12.7449 │   0.541653 │   0.770728 │  0.982143 │  1        │       6.77624 │     7.01858 │ 0.625    │\n",
      "├────────────────┼────────────┼────────────┼───────────┼───────────┼───────────────┼─────────────┼────────────┼────────────┼───────────┼───────────┼───────────────┼─────────────┼──────────┤\n",
      "│ tee            │   0.354536 │   0.614401 │  0.685393 │  0.966292 │       9.18625 │     11.9832 │   0.379604 │   0.681575 │  0.876404 │  1        │       9.29435 │     9.66443 │ 0.730337 │\n",
      "├────────────────┼────────────┼────────────┼───────────┼───────────┼───────────────┼─────────────┼────────────┼────────────┼───────────┼───────────┼───────────────┼─────────────┼──────────┤\n",
      "│ Avg            │   0.320688 │   0.59319  │  0.675445 │  0.96374  │      11.0727  │     12.6155 │   0.413791 │   0.70045  │  0.906888 │  0.998701 │       9.11901 │     9.14283 │ 0.831104 │\n",
      "╘════════════════╧════════════╧════════════╧═══════════╧═══════════╧═══════════════╧═════════════╧════════════╧════════════╧═══════════╧═══════════╧═══════════════╧═════════════╧══════════╛\n"
     ]
    }
   ],
   "source": [
    "for i, key in enumerate(all_data.keys()):\n",
    "    if i == 1:\n",
    "        break\n",
    "    if key in linemod_type:\n",
    "        print(f\"LINEMOD\")\n",
    "    elif key in onepose_type:\n",
    "        print(f\"ONEPOSE\")\n",
    "    elif key in oneposeplusplus_type:\n",
    "        print(f\"ONEPOSE++\")\n",
    "    elif key in ycbv_type:\n",
    "        print(f\"YCBV\")\n",
    "\n",
    "from tabulate import tabulate\n",
    "headers = [\"Category\"] + list(val_metrics_4tb.keys())\n",
    "all_data = np.array(res_table)[:, 1:].astype(np.float32)\n",
    "res_table.append([\"Avg\"] + all_data.mean(0).tolist())\n",
    "print(tabulate(res_table, headers=headers, tablefmt='fancy_grid'))"
   ]
  },
  {
   "cell_type": "code",
   "execution_count": null,
   "metadata": {},
   "outputs": [],
   "source": []
  }
 ],
 "metadata": {
  "kernelspec": {
   "display_name": "pope",
   "language": "python",
   "name": "python3"
  },
  "language_info": {
   "codemirror_mode": {
    "name": "ipython",
    "version": 3
   },
   "file_extension": ".py",
   "mimetype": "text/x-python",
   "name": "python",
   "nbconvert_exporter": "python",
   "pygments_lexer": "ipython3",
   "version": "3.9.18"
  }
 },
 "nbformat": 4,
 "nbformat_minor": 2
}
