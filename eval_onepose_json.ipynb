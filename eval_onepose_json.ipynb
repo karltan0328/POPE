{
 "cells": [
  {
   "cell_type": "code",
   "execution_count": 1,
   "metadata": {},
   "outputs": [
    {
     "name": "stdout",
     "output_type": "stream",
     "text": [
      "layer_name: ['self', 'cross', 'self', 'cross', 'self', 'cross', 'self', 'cross']\n",
      "layer_name: ['self', 'cross']\n"
     ]
    },
    {
     "name": "stderr",
     "output_type": "stream",
     "text": [
      "\u001b[32m2023-12-22 10:52:56.828\u001b[0m | \u001b[1mINFO    \u001b[0m | \u001b[36mpope_model_api\u001b[0m:\u001b[36m<module>\u001b[0m:\u001b[36m182\u001b[0m - \u001b[1mload Matcher successfully\u001b[0m\n"
     ]
    }
   ],
   "source": [
    "from pope_model_api import *"
   ]
  },
  {
   "cell_type": "code",
   "execution_count": 2,
   "metadata": {},
   "outputs": [
    {
     "name": "stderr",
     "output_type": "stream",
     "text": [
      "\u001b[32m2023-12-22 10:53:06.300\u001b[0m | \u001b[1mINFO    \u001b[0m | \u001b[36m__main__\u001b[0m:\u001b[36m<module>\u001b[0m:\u001b[36m6\u001b[0m - \u001b[1mload SAM model from weights/sam_vit_h_4b8939.pth\u001b[0m\n"
     ]
    },
    {
     "data": {
      "text/plain": [
       "DinoVisionTransformer(\n",
       "  (patch_embed): PatchEmbed(\n",
       "    (proj): Conv2d(3, 384, kernel_size=(14, 14), stride=(14, 14))\n",
       "    (norm): Identity()\n",
       "  )\n",
       "  (blocks): ModuleList(\n",
       "    (0-11): 12 x NestedTensorBlock(\n",
       "      (norm1): LayerNorm((384,), eps=1e-06, elementwise_affine=True)\n",
       "      (attn): MemEffAttention(\n",
       "        (qkv): Linear(in_features=384, out_features=1152, bias=True)\n",
       "        (attn_drop): Dropout(p=0.0, inplace=False)\n",
       "        (proj): Linear(in_features=384, out_features=384, bias=True)\n",
       "        (proj_drop): Dropout(p=0.0, inplace=False)\n",
       "      )\n",
       "      (ls1): LayerScale()\n",
       "      (drop_path1): DropPath()\n",
       "      (norm2): LayerNorm((384,), eps=1e-06, elementwise_affine=True)\n",
       "      (mlp): Mlp(\n",
       "        (fc1): Linear(in_features=384, out_features=1536, bias=True)\n",
       "        (act): GELU(approximate='none')\n",
       "        (fc2): Linear(in_features=1536, out_features=384, bias=True)\n",
       "        (drop): Dropout(p=0.0, inplace=False)\n",
       "      )\n",
       "      (ls2): LayerScale()\n",
       "      (drop_path2): DropPath()\n",
       "    )\n",
       "  )\n",
       "  (norm): LayerNorm((384,), eps=1e-06, elementwise_affine=True)\n",
       "  (head): Identity()\n",
       ")"
      ]
     },
     "execution_count": 2,
     "metadata": {},
     "output_type": "execute_result"
    }
   ],
   "source": [
    "ckpt, model_type = get_model_info(\"h\")\n",
    "sam = sam_model_registry[model_type](checkpoint=ckpt)\n",
    "DEVICE = \"cuda\"\n",
    "sam.to(device=DEVICE)\n",
    "MASK_GEN = SamAutomaticMaskGenerator(sam)\n",
    "logger.info(f\"load SAM model from {ckpt}\")\n",
    "crop_tool = CropImage()\n",
    "dinov2_model = load_dinov2_model()\n",
    "dinov2_model.to(\"cuda:0\")"
   ]
  },
  {
   "cell_type": "code",
   "execution_count": 3,
   "metadata": {},
   "outputs": [],
   "source": [
    "metrics = dict()\n",
    "metrics.update({'R_errs':[], 't_errs':[], 'inliers':[], \"identifiers\":[]})"
   ]
  },
  {
   "cell_type": "code",
   "execution_count": 4,
   "metadata": {},
   "outputs": [],
   "source": [
    "ROOT_DIR = \"data/onepose/\""
   ]
  },
  {
   "cell_type": "code",
   "execution_count": 5,
   "metadata": {},
   "outputs": [],
   "source": [
    "id2name_dict = {\n",
    "    1: \"ape\",\n",
    "    2: \"benchvise\",\n",
    "    4: \"camera\",\n",
    "    5: \"can\",\n",
    "    6: \"cat\",\n",
    "    8: \"driller\",\n",
    "    9: \"duck\",\n",
    "    10: \"eggbox\",\n",
    "    11: \"glue\",\n",
    "    12: \"holepuncher\",\n",
    "    13: \"iron\",\n",
    "    14: \"lamp\",\n",
    "    15: \"phone\",\n",
    "}"
   ]
  },
  {
   "cell_type": "code",
   "execution_count": 6,
   "metadata": {},
   "outputs": [],
   "source": [
    "res_table = []"
   ]
  },
  {
   "cell_type": "code",
   "execution_count": 7,
   "metadata": {},
   "outputs": [],
   "source": [
    "import json\n",
    "with open(\"data/pairs/Onepose-test.json\") as f:\n",
    "    dir_list = json.load(f)"
   ]
  },
  {
   "cell_type": "code",
   "execution_count": 8,
   "metadata": {},
   "outputs": [
    {
     "name": "stderr",
     "output_type": "stream",
     "text": [
      "\u001b[32m2023-12-22 10:53:08.111\u001b[0m | \u001b[1mINFO    \u001b[0m | \u001b[36m__main__\u001b[0m:\u001b[36m<module>\u001b[0m:\u001b[36m2\u001b[0m - \u001b[1mOnepose: 0\u001b[0m\n",
      "100%|██████████| 66/66 [04:29<00:00,  4.08s/it]\n",
      "100%|██████████| 120/120 [08:15<00:00,  4.13s/it]\n",
      "100%|██████████| 107/107 [07:18<00:00,  4.10s/it]\n",
      "100%|██████████| 59/59 [04:03<00:00,  4.13s/it]\n",
      "100%|██████████| 41/41 [02:45<00:00,  4.03s/it]\n",
      "100%|██████████| 46/46 [03:03<00:00,  3.98s/it]\n",
      "\u001b[32m2023-12-22 11:23:04.028\u001b[0m | \u001b[1mINFO    \u001b[0m | \u001b[36msrc.utils.metrics\u001b[0m:\u001b[36maggregate_metrics\u001b[0m:\u001b[36m192\u001b[0m - \u001b[1mAggregating metrics over 437 unique items...\u001b[0m\n",
      "\u001b[32m2023-12-22 11:23:04.043\u001b[0m | \u001b[1mINFO    \u001b[0m | \u001b[36m__main__\u001b[0m:\u001b[36m<module>\u001b[0m:\u001b[36m144\u001b[0m - \u001b[1m\n",
      "{'AP50': 0.9157175398633257,\n",
      " 'R:ACC15': 0.8924485125858124,\n",
      " 'R:ACC30': 0.9473684210526315,\n",
      " 'R:auc@15': 0.6724567117927808,\n",
      " 'R:auc@30': 0.7992823940520922,\n",
      " 'R:medianErr': 3.031618772478778,\n",
      " 't:ACC15': 0.7208237986270023,\n",
      " 't:ACC30': 0.8375286041189931,\n",
      " 't:auc@15': 0.46158968009051476,\n",
      " 't:auc@30': 0.6261763158769159,\n",
      " 't:medianErr': 6.864875770558522}\u001b[0m\n",
      "\u001b[32m2023-12-22 11:23:04.044\u001b[0m | \u001b[1mINFO    \u001b[0m | \u001b[36m__main__\u001b[0m:\u001b[36m<module>\u001b[0m:\u001b[36m2\u001b[0m - \u001b[1mOnepose: 1\u001b[0m\n"
     ]
    },
    {
     "name": "stdout",
     "output_type": "stream",
     "text": [
      "Acc: 402/439\n"
     ]
    },
    {
     "name": "stderr",
     "output_type": "stream",
     "text": [
      "100%|██████████| 45/45 [02:59<00:00,  3.99s/it]\n",
      "100%|██████████| 91/91 [06:04<00:00,  4.00s/it]\n",
      "100%|██████████| 62/62 [04:06<00:00,  3.98s/it]\n",
      "100%|██████████| 28/28 [01:52<00:00,  4.04s/it]\n",
      "100%|██████████| 34/34 [02:17<00:00,  4.05s/it]\n",
      "100%|██████████| 34/34 [02:15<00:00,  3.99s/it]\n",
      "\u001b[32m2023-12-22 11:42:40.679\u001b[0m | \u001b[1mINFO    \u001b[0m | \u001b[36msrc.utils.metrics\u001b[0m:\u001b[36maggregate_metrics\u001b[0m:\u001b[36m192\u001b[0m - \u001b[1mAggregating metrics over 293 unique items...\u001b[0m\n",
      "\u001b[32m2023-12-22 11:42:40.684\u001b[0m | \u001b[1mINFO    \u001b[0m | \u001b[36m__main__\u001b[0m:\u001b[36m<module>\u001b[0m:\u001b[36m144\u001b[0m - \u001b[1m\n",
      "{'AP50': 0.9149659863945578,\n",
      " 'R:ACC15': 0.9523809523809523,\n",
      " 'R:ACC30': 0.9897959183673469,\n",
      " 'R:auc@15': 0.818061042178066,\n",
      " 'R:auc@30': 0.8959128294560712,\n",
      " 'R:medianErr': 1.5641893073570556,\n",
      " 't:ACC15': 0.9251700680272109,\n",
      " 't:ACC30': 0.9489795918367347,\n",
      " 't:auc@15': 0.6950977592186868,\n",
      " 't:auc@30': 0.8183236592466585,\n",
      " 't:medianErr': 3.093133254731688}\u001b[0m\n",
      "\u001b[32m2023-12-22 11:42:40.685\u001b[0m | \u001b[1mINFO    \u001b[0m | \u001b[36m__main__\u001b[0m:\u001b[36m<module>\u001b[0m:\u001b[36m2\u001b[0m - \u001b[1mOnepose: 2\u001b[0m\n"
     ]
    },
    {
     "name": "stdout",
     "output_type": "stream",
     "text": [
      "Acc: 269/294\n"
     ]
    },
    {
     "name": "stderr",
     "output_type": "stream",
     "text": [
      "100%|██████████| 30/30 [01:59<00:00,  3.99s/it]\n",
      "100%|██████████| 40/40 [02:40<00:00,  4.00s/it]\n",
      "100%|██████████| 43/43 [02:54<00:00,  4.06s/it]\n",
      "100%|██████████| 39/39 [02:37<00:00,  4.03s/it]\n",
      "100%|██████████| 45/45 [03:00<00:00,  4.01s/it]\n",
      "100%|██████████| 30/30 [02:02<00:00,  4.07s/it]\n",
      "\u001b[32m2023-12-22 11:57:54.934\u001b[0m | \u001b[1mINFO    \u001b[0m | \u001b[36msrc.utils.metrics\u001b[0m:\u001b[36maggregate_metrics\u001b[0m:\u001b[36m192\u001b[0m - \u001b[1mAggregating metrics over 227 unique items...\u001b[0m\n",
      "\u001b[32m2023-12-22 11:57:54.938\u001b[0m | \u001b[1mINFO    \u001b[0m | \u001b[36m__main__\u001b[0m:\u001b[36m<module>\u001b[0m:\u001b[36m144\u001b[0m - \u001b[1m\n",
      "{'AP50': 0.8986784140969163,\n",
      " 'R:ACC15': 0.9295154185022027,\n",
      " 'R:ACC30': 0.9779735682819384,\n",
      " 'R:auc@15': 0.7721895057872487,\n",
      " 'R:auc@30': 0.8601383003919311,\n",
      " 'R:medianErr': 1.619130975753751,\n",
      " 't:ACC15': 0.8898678414096917,\n",
      " 't:ACC30': 0.9427312775330396,\n",
      " 't:auc@15': 0.6724174502213219,\n",
      " 't:auc@30': 0.7999073206844854,\n",
      " 't:medianErr': 3.084918218399967}\u001b[0m\n",
      "\u001b[32m2023-12-22 11:57:54.939\u001b[0m | \u001b[1mINFO    \u001b[0m | \u001b[36m__main__\u001b[0m:\u001b[36m<module>\u001b[0m:\u001b[36m2\u001b[0m - \u001b[1mOnepose: 3\u001b[0m\n"
     ]
    },
    {
     "name": "stdout",
     "output_type": "stream",
     "text": [
      "Acc: 204/227\n"
     ]
    },
    {
     "name": "stderr",
     "output_type": "stream",
     "text": [
      "100%|██████████| 48/48 [03:12<00:00,  4.00s/it]\n",
      "100%|██████████| 51/51 [03:26<00:00,  4.05s/it]\n",
      "100%|██████████| 66/66 [04:29<00:00,  4.08s/it]\n",
      "100%|██████████| 39/39 [02:42<00:00,  4.16s/it]\n",
      "100%|██████████| 41/41 [02:46<00:00,  4.06s/it]\n",
      "100%|██████████| 29/29 [01:56<00:00,  4.02s/it]\n",
      "\u001b[32m2023-12-22 12:16:27.957\u001b[0m | \u001b[1mINFO    \u001b[0m | \u001b[36msrc.utils.metrics\u001b[0m:\u001b[36maggregate_metrics\u001b[0m:\u001b[36m192\u001b[0m - \u001b[1mAggregating metrics over 274 unique items...\u001b[0m\n",
      "\u001b[32m2023-12-22 12:16:27.963\u001b[0m | \u001b[1mINFO    \u001b[0m | \u001b[36m__main__\u001b[0m:\u001b[36m<module>\u001b[0m:\u001b[36m144\u001b[0m - \u001b[1m\n",
      "{'AP50': 0.9562043795620438,\n",
      " 'R:ACC15': 0.864963503649635,\n",
      " 'R:ACC30': 0.9635036496350365,\n",
      " 'R:auc@15': 0.7177093251292916,\n",
      " 'R:auc@30': 0.8185294642863589,\n",
      " 'R:medianErr': 1.8508307256032877,\n",
      " 't:ACC15': 0.7883211678832117,\n",
      " 't:ACC30': 0.8248175182481752,\n",
      " 't:auc@15': 0.5889170317039977,\n",
      " 't:auc@30': 0.7000365944286813,\n",
      " 't:medianErr': 3.945537273135196}\u001b[0m\n",
      "\u001b[32m2023-12-22 12:16:27.964\u001b[0m | \u001b[1mINFO    \u001b[0m | \u001b[36m__main__\u001b[0m:\u001b[36m<module>\u001b[0m:\u001b[36m2\u001b[0m - \u001b[1mOnepose: 4\u001b[0m\n"
     ]
    },
    {
     "name": "stdout",
     "output_type": "stream",
     "text": [
      "Acc: 262/274\n"
     ]
    },
    {
     "name": "stderr",
     "output_type": "stream",
     "text": [
      "100%|██████████| 37/37 [02:26<00:00,  3.95s/it]\n",
      "100%|██████████| 30/30 [01:59<00:00,  3.99s/it]\n",
      "100%|██████████| 41/41 [02:43<00:00,  4.00s/it]\n",
      "100%|██████████| 48/48 [03:11<00:00,  3.99s/it]\n",
      "100%|██████████| 34/34 [02:16<00:00,  4.00s/it]\n",
      "100%|██████████| 60/60 [03:58<00:00,  3.98s/it]\n",
      "\u001b[32m2023-12-22 12:33:04.561\u001b[0m | \u001b[1mINFO    \u001b[0m | \u001b[36msrc.utils.metrics\u001b[0m:\u001b[36maggregate_metrics\u001b[0m:\u001b[36m192\u001b[0m - \u001b[1mAggregating metrics over 250 unique items...\u001b[0m\n",
      "\u001b[32m2023-12-22 12:33:04.564\u001b[0m | \u001b[1mINFO    \u001b[0m | \u001b[36m__main__\u001b[0m:\u001b[36m<module>\u001b[0m:\u001b[36m144\u001b[0m - \u001b[1m\n",
      "{'AP50': 0.796,\n",
      " 'R:ACC15': 0.976,\n",
      " 'R:ACC30': 0.988,\n",
      " 'R:auc@15': 0.8410912839977498,\n",
      " 'R:auc@30': 0.9105969066152237,\n",
      " 'R:medianErr': 1.5134287897225223,\n",
      " 't:ACC15': 0.924,\n",
      " 't:ACC30': 0.964,\n",
      " 't:auc@15': 0.7336894291641844,\n",
      " 't:auc@30': 0.8439493222107916,\n",
      " 't:medianErr': 2.4852690876830836}\u001b[0m\n",
      "\u001b[32m2023-12-22 12:33:04.565\u001b[0m | \u001b[1mINFO    \u001b[0m | \u001b[36m__main__\u001b[0m:\u001b[36m<module>\u001b[0m:\u001b[36m2\u001b[0m - \u001b[1mOnepose: 5\u001b[0m\n"
     ]
    },
    {
     "name": "stdout",
     "output_type": "stream",
     "text": [
      "Acc: 199/250\n"
     ]
    },
    {
     "name": "stderr",
     "output_type": "stream",
     "text": [
      "100%|██████████| 63/63 [04:11<00:00,  4.00s/it]\n",
      "100%|██████████| 53/53 [03:35<00:00,  4.07s/it]\n",
      "100%|██████████| 45/45 [03:02<00:00,  4.06s/it]\n",
      "100%|██████████| 50/50 [03:22<00:00,  4.06s/it]\n",
      "100%|██████████| 35/35 [02:23<00:00,  4.11s/it]\n",
      "100%|██████████| 36/36 [02:26<00:00,  4.07s/it]\n",
      "\u001b[32m2023-12-22 12:52:08.459\u001b[0m | \u001b[1mINFO    \u001b[0m | \u001b[36msrc.utils.metrics\u001b[0m:\u001b[36maggregate_metrics\u001b[0m:\u001b[36m192\u001b[0m - \u001b[1mAggregating metrics over 281 unique items...\u001b[0m\n",
      "\u001b[32m2023-12-22 12:52:08.466\u001b[0m | \u001b[1mINFO    \u001b[0m | \u001b[36m__main__\u001b[0m:\u001b[36m<module>\u001b[0m:\u001b[36m144\u001b[0m - \u001b[1m\n",
      "{'AP50': 0.9148936170212766,\n",
      " 'R:ACC15': 0.9539007092198581,\n",
      " 'R:ACC30': 0.9893617021276596,\n",
      " 'R:auc@15': 0.8416848319248155,\n",
      " 'R:auc@30': 0.9079651214681401,\n",
      " 'R:medianErr': 1.2106910269003088,\n",
      " 't:ACC15': 0.9078014184397163,\n",
      " 't:ACC30': 0.9326241134751773,\n",
      " 't:auc@15': 0.7088729344188295,\n",
      " 't:auc@30': 0.816049723659414,\n",
      " 't:medianErr': 2.900713056508978}\u001b[0m\n",
      "\u001b[32m2023-12-22 12:52:08.467\u001b[0m | \u001b[1mINFO    \u001b[0m | \u001b[36m__main__\u001b[0m:\u001b[36m<module>\u001b[0m:\u001b[36m2\u001b[0m - \u001b[1mOnepose: 6\u001b[0m\n"
     ]
    },
    {
     "name": "stdout",
     "output_type": "stream",
     "text": [
      "Acc: 258/282\n"
     ]
    },
    {
     "name": "stderr",
     "output_type": "stream",
     "text": [
      "100%|██████████| 37/37 [02:25<00:00,  3.94s/it]\n",
      "100%|██████████| 80/80 [05:19<00:00,  3.99s/it]\n",
      "100%|██████████| 109/109 [07:14<00:00,  3.98s/it]\n",
      "100%|██████████| 55/55 [03:40<00:00,  4.00s/it]\n",
      "100%|██████████| 43/43 [02:52<00:00,  4.00s/it]\n",
      "100%|██████████| 40/40 [02:38<00:00,  3.95s/it]\n",
      "\u001b[32m2023-12-22 13:16:17.842\u001b[0m | \u001b[1mINFO    \u001b[0m | \u001b[36msrc.utils.metrics\u001b[0m:\u001b[36maggregate_metrics\u001b[0m:\u001b[36m192\u001b[0m - \u001b[1mAggregating metrics over 364 unique items...\u001b[0m\n",
      "\u001b[32m2023-12-22 13:16:17.848\u001b[0m | \u001b[1mINFO    \u001b[0m | \u001b[36m__main__\u001b[0m:\u001b[36m<module>\u001b[0m:\u001b[36m144\u001b[0m - \u001b[1m\n",
      "{'AP50': 0.9065934065934066,\n",
      " 'R:ACC15': 0.9175824175824175,\n",
      " 'R:ACC30': 0.9615384615384616,\n",
      " 'R:auc@15': 0.764919553876854,\n",
      " 'R:auc@30': 0.8570924713889111,\n",
      " 'R:medianErr': 1.9122833643344637,\n",
      " 't:ACC15': 0.8956043956043956,\n",
      " 't:ACC30': 0.9148351648351648,\n",
      " 't:auc@15': 0.682122726269297,\n",
      " 't:auc@30': 0.7935365467251766,\n",
      " 't:medianErr': 2.9703732753066396}\u001b[0m\n",
      "\u001b[32m2023-12-22 13:16:17.848\u001b[0m | \u001b[1mINFO    \u001b[0m | \u001b[36m__main__\u001b[0m:\u001b[36m<module>\u001b[0m:\u001b[36m2\u001b[0m - \u001b[1mOnepose: 7\u001b[0m\n"
     ]
    },
    {
     "name": "stdout",
     "output_type": "stream",
     "text": [
      "Acc: 330/364\n"
     ]
    },
    {
     "name": "stderr",
     "output_type": "stream",
     "text": [
      "100%|██████████| 76/76 [05:33<00:00,  4.38s/it]\n",
      "100%|██████████| 55/55 [04:06<00:00,  4.48s/it]\n",
      "100%|██████████| 62/62 [04:36<00:00,  4.46s/it]\n",
      "100%|██████████| 44/44 [03:11<00:00,  4.35s/it]\n",
      "100%|██████████| 43/43 [03:06<00:00,  4.34s/it]\n",
      "100%|██████████| 25/25 [01:47<00:00,  4.31s/it]\n",
      "\u001b[32m2023-12-22 13:38:39.762\u001b[0m | \u001b[1mINFO    \u001b[0m | \u001b[36msrc.utils.metrics\u001b[0m:\u001b[36maggregate_metrics\u001b[0m:\u001b[36m192\u001b[0m - \u001b[1mAggregating metrics over 305 unique items...\u001b[0m\n",
      "\u001b[32m2023-12-22 13:38:39.767\u001b[0m | \u001b[1mINFO    \u001b[0m | \u001b[36m__main__\u001b[0m:\u001b[36m<module>\u001b[0m:\u001b[36m144\u001b[0m - \u001b[1m\n",
      "{'AP50': 0.8459016393442623,\n",
      " 'R:ACC15': 0.819672131147541,\n",
      " 'R:ACC30': 0.9016393442622951,\n",
      " 'R:auc@15': 0.6603135395279636,\n",
      " 'R:auc@30': 0.7650326114818706,\n",
      " 'R:medianErr': 2.6355272335751914,\n",
      " 't:ACC15': 0.7377049180327869,\n",
      " 't:ACC30': 0.8065573770491803,\n",
      " 't:auc@15': 0.5134514780630144,\n",
      " 't:auc@30': 0.648118739787228,\n",
      " 't:medianErr': 5.812358346187958}\u001b[0m\n",
      "\u001b[32m2023-12-22 13:38:39.767\u001b[0m | \u001b[1mINFO    \u001b[0m | \u001b[36m__main__\u001b[0m:\u001b[36m<module>\u001b[0m:\u001b[36m2\u001b[0m - \u001b[1mOnepose: 8\u001b[0m\n"
     ]
    },
    {
     "name": "stdout",
     "output_type": "stream",
     "text": [
      "Acc: 258/305\n"
     ]
    },
    {
     "name": "stderr",
     "output_type": "stream",
     "text": [
      "100%|██████████| 45/45 [02:57<00:00,  3.94s/it]\n",
      "100%|██████████| 65/65 [04:20<00:00,  4.01s/it]\n",
      "100%|██████████| 59/59 [03:56<00:00,  4.01s/it]\n",
      "100%|██████████| 67/67 [04:27<00:00,  3.99s/it]\n",
      "100%|██████████| 57/57 [03:47<00:00,  3.99s/it]\n",
      "100%|██████████| 34/34 [02:16<00:00,  4.00s/it]\n",
      "\u001b[32m2023-12-22 14:00:25.527\u001b[0m | \u001b[1mINFO    \u001b[0m | \u001b[36msrc.utils.metrics\u001b[0m:\u001b[36maggregate_metrics\u001b[0m:\u001b[36m192\u001b[0m - \u001b[1mAggregating metrics over 327 unique items...\u001b[0m\n",
      "\u001b[32m2023-12-22 14:00:25.534\u001b[0m | \u001b[1mINFO    \u001b[0m | \u001b[36m__main__\u001b[0m:\u001b[36m<module>\u001b[0m:\u001b[36m144\u001b[0m - \u001b[1m\n",
      "{'AP50': 0.5535168195718655,\n",
      " 'R:ACC15': 0.9541284403669725,\n",
      " 'R:ACC30': 0.9908256880733946,\n",
      " 'R:auc@15': 0.7600014343188971,\n",
      " 'R:auc@30': 0.8680396930093818,\n",
      " 'R:medianErr': 2.092557509963824,\n",
      " 't:ACC15': 0.8899082568807339,\n",
      " 't:ACC30': 0.9388379204892966,\n",
      " 't:auc@15': 0.6765830760898394,\n",
      " 't:auc@30': 0.7998774046735577,\n",
      " 't:medianErr': 3.232856482420301}\u001b[0m\n",
      "\u001b[32m2023-12-22 14:00:25.535\u001b[0m | \u001b[1mINFO    \u001b[0m | \u001b[36m__main__\u001b[0m:\u001b[36m<module>\u001b[0m:\u001b[36m2\u001b[0m - \u001b[1mOnepose: 9\u001b[0m\n"
     ]
    },
    {
     "name": "stdout",
     "output_type": "stream",
     "text": [
      "Acc: 181/327\n"
     ]
    },
    {
     "name": "stderr",
     "output_type": "stream",
     "text": [
      "100%|██████████| 55/55 [03:40<00:00,  4.02s/it]\n",
      "100%|██████████| 98/98 [06:36<00:00,  4.05s/it]\n",
      "100%|██████████| 87/87 [05:48<00:00,  4.01s/it]\n",
      "100%|██████████| 87/87 [05:47<00:00,  4.00s/it]\n",
      "100%|██████████| 45/45 [03:01<00:00,  4.03s/it]\n",
      "100%|██████████| 32/32 [02:09<00:00,  4.05s/it]\n",
      "\u001b[32m2023-12-22 14:27:30.652\u001b[0m | \u001b[1mINFO    \u001b[0m | \u001b[36msrc.utils.metrics\u001b[0m:\u001b[36maggregate_metrics\u001b[0m:\u001b[36m192\u001b[0m - \u001b[1mAggregating metrics over 404 unique items...\u001b[0m\n",
      "\u001b[32m2023-12-22 14:27:30.659\u001b[0m | \u001b[1mINFO    \u001b[0m | \u001b[36m__main__\u001b[0m:\u001b[36m<module>\u001b[0m:\u001b[36m144\u001b[0m - \u001b[1m\n",
      "{'AP50': 0.7475247524752475,\n",
      " 'R:ACC15': 0.8589108910891089,\n",
      " 'R:ACC30': 0.9306930693069307,\n",
      " 'R:auc@15': 0.6165718156915662,\n",
      " 'R:auc@30': 0.758987874682682,\n",
      " 'R:medianErr': 3.800889599710521,\n",
      " 't:ACC15': 0.6633663366336634,\n",
      " 't:ACC30': 0.8143564356435643,\n",
      " 't:auc@15': 0.4208170469084095,\n",
      " 't:auc@30': 0.5891807791464241,\n",
      " 't:medianErr': 7.851929138773217}\u001b[0m\n"
     ]
    },
    {
     "name": "stdout",
     "output_type": "stream",
     "text": [
      "Acc: 302/404\n"
     ]
    }
   ],
   "source": [
    "for label_idx, test_dict in enumerate(dir_list):\n",
    "    logger.info(f\"Onepose: {label_idx}\")\n",
    "    metrics = dict()\n",
    "    metrics.update({'R_errs':[], 't_errs':[], 'inliers':[], \"identifiers\":[]})\n",
    "    sample_data = dir_list[label_idx][\"0\"][0]\n",
    "    label = sample_data.split(\"/\")[0]\n",
    "    name = label.split(\"-\")[1]\n",
    "    dir_name = os.path.dirname(sample_data)\n",
    "    FULL_ROOT_DIR = os.path.join(ROOT_DIR, dir_name)\n",
    "    recall_image, all_image = 0, 0\n",
    "    for rotation_key, rotation_list in zip(test_dict.keys(), test_dict.values()):\n",
    "        for pair_idx,pair_name in enumerate(tqdm(rotation_list)):\n",
    "            all_image = all_image + 1\n",
    "            base_name = os.path.basename(pair_name)\n",
    "            idx0_name = base_name.split(\"-\")[0]\n",
    "            idx1_name = base_name.split(\"-\")[1]\n",
    "            image0_name = os.path.join(FULL_ROOT_DIR, idx0_name)\n",
    "            image1_name = os.path.join(FULL_ROOT_DIR.replace(\"color\", \"color\"), idx1_name)\n",
    "            intrinsic_path = image0_name.replace(\"color\", \"intrin_ba\").replace(\"png\", \"txt\")\n",
    "            K0 = np.loadtxt(intrinsic_path, delimiter=' ')\n",
    "            intrinsic_path = image1_name.replace(\"color\", \"intrin_ba\").replace(\"png\", \"txt\")\n",
    "            K1 = np.loadtxt(intrinsic_path, delimiter=' ')\n",
    "            image0 = cv2.imread(image0_name)\n",
    "            ref_torch_image = set_torch_image(image0, center_crop=True)\n",
    "            ref_fea = get_cls_token_torch(dinov2_model, ref_torch_image)\n",
    "            image1 = cv2.imread(image1_name)\n",
    "            image_h, image_w, _ = image1.shape\n",
    "            t1 = time.time()\n",
    "            masks = MASK_GEN.generate(image1)\n",
    "            t2 = time.time()\n",
    "            similarity_score, top_images  = np.array([0, 0, 0], np.float32), [[], [], []]\n",
    "            t3 = time.time()\n",
    "            compact_percent = 0.3\n",
    "            for xxx, mask in enumerate(masks):\n",
    "                object_mask = np.expand_dims(mask[\"segmentation\"], -1)\n",
    "                x0, y0, w, h = mask[\"bbox\"]\n",
    "                x1, y1 = x0 + w, y0 + h\n",
    "                x0 -= int(w * compact_percent)\n",
    "                y0 -= int(h * compact_percent)\n",
    "                x1 += int(w * compact_percent)\n",
    "                y1 += int(h * compact_percent)\n",
    "                box = np.array([x0, y0, x1, y1])\n",
    "                resize_shape = np.array([y1 - y0, x1 - x0])\n",
    "                K_crop, K_crop_homo = get_K_crop_resize(box, K1, resize_shape)\n",
    "                image_crop, _ = get_image_crop_resize(image1, box, resize_shape)\n",
    "                # object_mask, _ = get_image_crop_resize(object_mask, box, resize_shape)\n",
    "                box_new = np.array([0, 0, x1 - x0, y1 - y0])\n",
    "                resize_shape = np.array([512, 512])\n",
    "                K_crop, K_crop_homo = get_K_crop_resize(box_new, K_crop, resize_shape)\n",
    "                image_crop, _ = get_image_crop_resize(image_crop, box_new, resize_shape)\n",
    "                crop_tensor = set_torch_image(image_crop, center_crop=True)\n",
    "                with torch.no_grad():\n",
    "                    fea = get_cls_token_torch(dinov2_model, crop_tensor)\n",
    "                score = F.cosine_similarity(ref_fea, fea, dim=1, eps=1e-8)\n",
    "                if  (score.item() > similarity_score).any():\n",
    "                    mask[\"crop_image\"] = image_crop\n",
    "                    mask[\"K\"] = K_crop\n",
    "                    mask[\"bbox\"] = box\n",
    "                    min_idx = np.argmin(similarity_score)\n",
    "                    similarity_score[min_idx] = score.item()\n",
    "                    top_images[min_idx] = mask.copy()\n",
    "\n",
    "            img0 = cv2.cvtColor(image0, cv2.COLOR_BGR2GRAY)\n",
    "            img0 = torch.from_numpy(img0).float()[None] / 255.\n",
    "            img0 = img0.unsqueeze(0).cuda()\n",
    "\n",
    "            matching_score = [[0] for _ in range(len(top_images))]\n",
    "            for top_idx in range(len(top_images)):\n",
    "                if \"crop_image\" not in top_images[top_idx]:\n",
    "                    continue\n",
    "                img1 = cv2.cvtColor(top_images[top_idx][\"crop_image\"], cv2.COLOR_BGR2GRAY)\n",
    "                img1 = torch.from_numpy(img1).float()[None] / 255.\n",
    "                img1 = img1.unsqueeze(0).cuda()\n",
    "                batch = {'image0':img0, 'image1':img1}\n",
    "                with torch.no_grad():\n",
    "                    matcher(batch)\n",
    "                    mkpts0 = batch['mkpts0_f'].cpu().numpy()\n",
    "                    mkpts1 = batch['mkpts1_f'].cpu().numpy()\n",
    "                    confidences = batch[\"mconf\"].cpu().numpy()\n",
    "                conf_mask = np.where(confidences > 0.9)\n",
    "                matching_score[top_idx] = conf_mask[0].shape[0]\n",
    "                top_images[top_idx][\"mkpts0\"] = mkpts0\n",
    "                top_images[top_idx][\"mkpts1\"] = mkpts1\n",
    "                top_images[top_idx][\"mconf\"] = confidences\n",
    "            #---------------------------------------------------\n",
    "            # crop_image = cv2.resize(top_images[np.argmax(matching_score)][\"crop_image\"], (256, 256))\n",
    "            # que_image = cv2.resize(image0, (256, 256))\n",
    "            # image = np.hstack((que_image, crop_image))\n",
    "            # for top_idx in range(len(top_images)):\n",
    "            #     crop_image = top_images[top_idx][\"crop_image\"]\n",
    "            #     score = matching_score[top_idx]\n",
    "            #     crop_image = cv2.resize(crop_image, (256, 256))\n",
    "            #     cv2.putText(crop_image,f'{score}', (100, 100), cv2.FONT_HERSHEY_COMPLEX, 1, (0, 0, 255), 1)\n",
    "            #     image = np.hstack((image, crop_image))\n",
    "            # cv2.imwrite(f\"segment_anything/crop_images/{idx}.jpg\", image)\n",
    "            #---------------------------------------------------\n",
    "            t4 = time.time()\n",
    "            # print(f\"t4-t3: object detection:{1000*(t4-t3)} ms\")\n",
    "            pose0_name = image0_name.replace(\"color\", \"poses_ba\").replace(\"png\", \"txt\")\n",
    "            pose1_name = image1_name.replace(\"color\", \"poses_ba\").replace(\"png\", \"txt\")\n",
    "            pose0 = np.loadtxt(pose0_name)\n",
    "            pose1 = np.loadtxt(pose1_name)\n",
    "            # pose0 = np.vstack((pose0, np.array([[0, 0, 0, 1]])))\n",
    "            # pose1 = np.vstack((pose1, np.array([[0, 0, 0, 1]])))\n",
    "            relative_pose = np.matmul(pose1, inv(pose0))\n",
    "            t = relative_pose[:3, -1].reshape(1, 3)\n",
    "\n",
    "            if \"crop_image\" not in top_images[top_idx]:\n",
    "                continue\n",
    "            max_match_idx = np.argmax(matching_score)\n",
    "            pre_bbox = top_images[max_match_idx][\"bbox\"]\n",
    "            mkpts0 = top_images[max_match_idx][\"mkpts0\"]\n",
    "            mkpts1 = top_images[max_match_idx][\"mkpts1\"]\n",
    "            pre_K = top_images[max_match_idx][\"K\"]\n",
    "\n",
    "            _3d_bbox = np.loadtxt(f\"{os.path.join(ROOT_DIR, label)}/box3d_corners.txt\")\n",
    "            bbox_pts_3d, _ = project_points(_3d_bbox, pose1[:3,:4], K1)\n",
    "            bbox_pts_3d = bbox_pts_3d.astype(np.int32)\n",
    "            x0, y0, w, h = cv2.boundingRect(bbox_pts_3d)\n",
    "            x1, y1 = x0 + w, y0 + h\n",
    "            gt_bbox = np.array([x0, y0, x1, y1])\n",
    "            is_recalled = recall_object(pre_bbox , gt_bbox)\n",
    "            recall_image = recall_image + int(is_recalled>0.5)\n",
    "            ret = estimate_pose(mkpts0, mkpts1, K0, pre_K, 0.5, 0.99)\n",
    "            if ret is not None:\n",
    "                Rot, t, inliers = ret\n",
    "                t_err, R_err = relative_pose_error(relative_pose, Rot, t, ignore_gt_t_thr=0.0)\n",
    "                metrics['R_errs'].append(R_err)\n",
    "                metrics['t_errs'].append(t_err)\n",
    "            else:\n",
    "                metrics['R_errs'].append(90)\n",
    "                metrics['t_errs'].append(90)\n",
    "            metrics[\"identifiers\"].append( pair_name )\n",
    "\n",
    "\n",
    "    print(f\"Acc: {recall_image}/{all_image}\")\n",
    "    import pprint\n",
    "    from src.utils.metrics import (\n",
    "        aggregate_metrics\n",
    "    )\n",
    "    from loguru import logger\n",
    "    val_metrics_4tb = aggregate_metrics(metrics, 5e-4)\n",
    "    val_metrics_4tb[\"AP50\"] = recall_image/all_image\n",
    "    logger.info('\\n' + pprint.pformat(val_metrics_4tb))\n",
    "\n",
    "    res_table.append([f\"{name }\"] + list(val_metrics_4tb.values()))"
   ]
  },
  {
   "cell_type": "code",
   "execution_count": 9,
   "metadata": {},
   "outputs": [
    {
     "name": "stdout",
     "output_type": "stream",
     "text": [
      "╒════════════════╤════════════╤════════════╤═══════════╤═══════════╤═══════════════╤════════════╤════════════╤═══════════╤═══════════╤═══════════════╤══════════╕\n",
      "│ Category       │   R:auc@15 │   R:auc@30 │   R:ACC15 │   R:ACC30 │   R:medianErr │   t:auc@15 │   t:auc@30 │   t:ACC15 │   t:ACC30 │   t:medianErr │     AP50 │\n",
      "╞════════════════╪════════════╪════════════╪═══════════╪═══════════╪═══════════════╪════════════╪════════════╪═══════════╪═══════════╪═══════════════╪══════════╡\n",
      "│ aptamil        │   0.672457 │   0.799282 │  0.892449 │  0.947368 │       3.03162 │   0.46159  │   0.626176 │  0.720824 │  0.837529 │       6.86488 │ 0.915718 │\n",
      "├────────────────┼────────────┼────────────┼───────────┼───────────┼───────────────┼────────────┼────────────┼───────────┼───────────┼───────────────┼──────────┤\n",
      "│ jzhg           │   0.818061 │   0.895913 │  0.952381 │  0.989796 │       1.56419 │   0.695098 │   0.818324 │  0.92517  │  0.94898  │       3.09313 │ 0.914966 │\n",
      "├────────────────┼────────────┼────────────┼───────────┼───────────┼───────────────┼────────────┼────────────┼───────────┼───────────┼───────────────┼──────────┤\n",
      "│ minipuff       │   0.77219  │   0.860138 │  0.929515 │  0.977974 │       1.61913 │   0.672417 │   0.799907 │  0.889868 │  0.942731 │       3.08492 │ 0.898678 │\n",
      "├────────────────┼────────────┼────────────┼───────────┼───────────┼───────────────┼────────────┼────────────┼───────────┼───────────┼───────────────┼──────────┤\n",
      "│ hlyormosiapie  │   0.717709 │   0.818529 │  0.864964 │  0.963504 │       1.85083 │   0.588917 │   0.700037 │  0.788321 │  0.824818 │       3.94554 │ 0.956204 │\n",
      "├────────────────┼────────────┼────────────┼───────────┼───────────┼───────────────┼────────────┼────────────┼───────────┼───────────┼───────────────┼──────────┤\n",
      "│ brownhouse     │   0.841091 │   0.910597 │  0.976    │  0.988    │       1.51343 │   0.733689 │   0.843949 │  0.924    │  0.964    │       2.48527 │ 0.796    │\n",
      "├────────────────┼────────────┼────────────┼───────────┼───────────┼───────────────┼────────────┼────────────┼───────────┼───────────┼───────────────┼──────────┤\n",
      "│ oreo           │   0.841685 │   0.907965 │  0.953901 │  0.989362 │       1.21069 │   0.708873 │   0.81605  │  0.907801 │  0.932624 │       2.90071 │ 0.914894 │\n",
      "├────────────────┼────────────┼────────────┼───────────┼───────────┼───────────────┼────────────┼────────────┼───────────┼───────────┼───────────────┼──────────┤\n",
      "│ mfmilkcake     │   0.76492  │   0.857092 │  0.917582 │  0.961538 │       1.91228 │   0.682123 │   0.793537 │  0.895604 │  0.914835 │       2.97037 │ 0.906593 │\n",
      "├────────────────┼────────────┼────────────┼───────────┼───────────┼───────────────┼────────────┼────────────┼───────────┼───────────┼───────────────┼──────────┤\n",
      "│ diycookies     │   0.660314 │   0.765033 │  0.819672 │  0.901639 │       2.63553 │   0.513451 │   0.648119 │  0.737705 │  0.806557 │       5.81236 │ 0.845902 │\n",
      "├────────────────┼────────────┼────────────┼───────────┼───────────┼───────────────┼────────────┼────────────┼───────────┼───────────┼───────────────┼──────────┤\n",
      "│ taipingcookies │   0.760001 │   0.86804  │  0.954128 │  0.990826 │       2.09256 │   0.676583 │   0.799877 │  0.889908 │  0.938838 │       3.23286 │ 0.553517 │\n",
      "├────────────────┼────────────┼────────────┼───────────┼───────────┼───────────────┼────────────┼────────────┼───────────┼───────────┼───────────────┼──────────┤\n",
      "│ tee            │   0.616572 │   0.758988 │  0.858911 │  0.930693 │       3.80089 │   0.420817 │   0.589181 │  0.663366 │  0.814356 │       7.85193 │ 0.747525 │\n",
      "├────────────────┼────────────┼────────────┼───────────┼───────────┼───────────────┼────────────┼────────────┼───────────┼───────────┼───────────────┼──────────┤\n",
      "│ Avg            │   0.7465   │   0.844158 │  0.91195  │  0.96407  │       2.12311 │   0.615356 │   0.743516 │  0.834257 │  0.892527 │       4.2242  │ 0.845    │\n",
      "╘════════════════╧════════════╧════════════╧═══════════╧═══════════╧═══════════════╧════════════╧════════════╧═══════════╧═══════════╧═══════════════╧══════════╛\n"
     ]
    }
   ],
   "source": [
    "from tabulate import tabulate\n",
    "headers = [\"Category\"] + list(val_metrics_4tb.keys())\n",
    "all_data = np.array(res_table)[:, 1:].astype(np.float32)\n",
    "res_table.append([\"Avg\"] + all_data.mean(0).tolist())\n",
    "print(tabulate(res_table, \\\n",
    "    headers=headers, tablefmt='fancy_grid'))"
   ]
  },
  {
   "cell_type": "code",
   "execution_count": null,
   "metadata": {},
   "outputs": [],
   "source": []
  }
 ],
 "metadata": {
  "kernelspec": {
   "display_name": "pope",
   "language": "python",
   "name": "python3"
  },
  "language_info": {
   "codemirror_mode": {
    "name": "ipython",
    "version": 3
   },
   "file_extension": ".py",
   "mimetype": "text/x-python",
   "name": "python",
   "nbconvert_exporter": "python",
   "pygments_lexer": "ipython3",
   "version": "3.10.13"
  }
 },
 "nbformat": 4,
 "nbformat_minor": 2
}
