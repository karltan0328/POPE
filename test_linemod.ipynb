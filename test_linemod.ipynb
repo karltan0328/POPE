{
 "cells": [
  {
   "cell_type": "code",
   "execution_count": 1,
   "metadata": {},
   "outputs": [],
   "source": [
    "import os\n",
    "import cv2\n",
    "import json\n",
    "import torch\n",
    "import pprint\n",
    "import numpy as np\n",
    "from tqdm import tqdm\n",
    "from loguru import logger\n",
    "from tabulate import tabulate\n",
    "\n",
    "from pose.utils import collate_fn, geodesic_distance, relative_pose_error, aggregate_metrics, recall_object, project_points"
   ]
  },
  {
   "cell_type": "code",
   "execution_count": 2,
   "metadata": {},
   "outputs": [],
   "source": [
    "LM_id2name_dict = {\n",
    "    1: 'ape',\n",
    "    2: 'benchvise',\n",
    "    4: 'camera',\n",
    "    5: 'can',\n",
    "    6: 'cat',\n",
    "    8: 'driller',\n",
    "    9: 'duck',\n",
    "    10: 'eggbox',\n",
    "    11: 'glue',\n",
    "    12: 'holepuncher',\n",
    "    13: 'iron',\n",
    "    14: 'lamp',\n",
    "    15: 'phone',\n",
    "}"
   ]
  },
  {
   "cell_type": "code",
   "execution_count": 3,
   "metadata": {},
   "outputs": [
    {
     "data": {
      "text/plain": [
       "13"
      ]
     },
     "execution_count": 3,
     "metadata": {},
     "output_type": "execute_result"
    }
   ],
   "source": [
    "with open(\"data/pairs/LINEMOD-test.json\") as f:\n",
    "    dir_list = json.load(f)\n",
    "len(dir_list)"
   ]
  },
  {
   "cell_type": "code",
   "execution_count": 4,
   "metadata": {},
   "outputs": [],
   "source": [
    "ROOT_DIR = 'data/LM_dataset/'"
   ]
  },
  {
   "cell_type": "code",
   "execution_count": 5,
   "metadata": {},
   "outputs": [],
   "source": [
    "res_table = []"
   ]
  },
  {
   "cell_type": "code",
   "execution_count": 6,
   "metadata": {},
   "outputs": [
    {
     "data": {
      "text/plain": [
       "Mkpts_Reg_Model(\n",
       "  (embedding): Embedding()\n",
       "  (transformerlayer): TransformerEncoderLayer(\n",
       "    (self_attn): MultiheadAttention(\n",
       "      (out_proj): NonDynamicallyQuantizableLinear(in_features=76, out_features=76, bias=True)\n",
       "    )\n",
       "    (linear1): Linear(in_features=76, out_features=2048, bias=True)\n",
       "    (dropout): Dropout(p=0.1, inplace=False)\n",
       "    (linear2): Linear(in_features=2048, out_features=76, bias=True)\n",
       "    (norm1): LayerNorm((76,), eps=1e-05, elementwise_affine=True)\n",
       "    (norm2): LayerNorm((76,), eps=1e-05, elementwise_affine=True)\n",
       "    (dropout1): Dropout(p=0.1, inplace=False)\n",
       "    (dropout2): Dropout(p=0.1, inplace=False)\n",
       "  )\n",
       "  (transformer): TransformerEncoder(\n",
       "    (layers): ModuleList(\n",
       "      (0-3): 4 x TransformerEncoderLayer(\n",
       "        (self_attn): MultiheadAttention(\n",
       "          (out_proj): NonDynamicallyQuantizableLinear(in_features=76, out_features=76, bias=True)\n",
       "        )\n",
       "        (linear1): Linear(in_features=76, out_features=2048, bias=True)\n",
       "        (dropout): Dropout(p=0.1, inplace=False)\n",
       "        (linear2): Linear(in_features=2048, out_features=76, bias=True)\n",
       "        (norm1): LayerNorm((76,), eps=1e-05, elementwise_affine=True)\n",
       "        (norm2): LayerNorm((76,), eps=1e-05, elementwise_affine=True)\n",
       "        (dropout1): Dropout(p=0.1, inplace=False)\n",
       "        (dropout2): Dropout(p=0.1, inplace=False)\n",
       "      )\n",
       "    )\n",
       "  )\n",
       "  (translation_head): Linear(in_features=128, out_features=3, bias=True)\n",
       "  (rotation_head): Linear(in_features=128, out_features=6, bias=True)\n",
       "  (mlp): Sequential(\n",
       "    (0): Linear(in_features=30400, out_features=128, bias=True)\n",
       "    (1): LeakyReLU(negative_slope=0.01)\n",
       "    (2): Linear(in_features=128, out_features=128, bias=True)\n",
       "  )\n",
       ")"
      ]
     },
     "execution_count": 6,
     "metadata": {},
     "output_type": "execute_result"
    }
   ],
   "source": [
    "device = torch.device('cuda' if torch.cuda.is_available() else 'cpu')\n",
    "# device = 'cpu'\n",
    "\n",
    "num_sample = 400\n",
    "\n",
    "net = torch.load('./weights/linemod-6d-400-2024-01-06-00-40-26-1.7288.pth').to(device)\n",
    "\n",
    "net.eval()"
   ]
  },
  {
   "cell_type": "code",
   "execution_count": 7,
   "metadata": {},
   "outputs": [
    {
     "name": "stderr",
     "output_type": "stream",
     "text": [
      "\u001b[32m2024-01-06 00:41:34.548\u001b[0m | \u001b[1mINFO    \u001b[0m | \u001b[36m__main__\u001b[0m:\u001b[36m<module>\u001b[0m:\u001b[36m2\u001b[0m - \u001b[1mLINEMOD: 1/13\u001b[0m\n",
      "  0%|          | 0/80 [00:00<?, ?it/s]"
     ]
    },
    {
     "name": "stderr",
     "output_type": "stream",
     "text": [
      "100%|██████████| 80/80 [00:04<00:00, 16.67it/s]\n",
      "100%|██████████| 80/80 [00:01<00:00, 78.79it/s]\n",
      "100%|██████████| 80/80 [00:01<00:00, 75.44it/s]\n",
      "100%|██████████| 80/80 [00:01<00:00, 75.95it/s]\n",
      "100%|██████████| 80/80 [00:01<00:00, 56.99it/s]\n",
      "100%|██████████| 80/80 [00:01<00:00, 70.13it/s]\n",
      "\u001b[32m2024-01-06 00:41:45.043\u001b[0m | \u001b[1mINFO    \u001b[0m | \u001b[36m__main__\u001b[0m:\u001b[36m<module>\u001b[0m:\u001b[36m88\u001b[0m - \u001b[1m\n",
      "{'AP50': 0.63125,\n",
      " 'R:ACC15': 0.03333333333333333,\n",
      " 'R:ACC30': 0.17083333333333334,\n",
      " 'R:auc@15': 0.010899127788013881,\n",
      " 'R:auc@30': 0.053468079533841875,\n",
      " 'R:medianErr': 65.81129455566406,\n",
      " 't:ACC15': 0.13125,\n",
      " 't:ACC30': 0.36666666666666664,\n",
      " 't:auc@15': 0.050399127966827814,\n",
      " 't:auc@30': 0.1493361373576853,\n",
      " 't:medianErr': 37.89562225341797}\u001b[0m\n",
      "\u001b[32m2024-01-06 00:41:45.044\u001b[0m | \u001b[1mINFO    \u001b[0m | \u001b[36m__main__\u001b[0m:\u001b[36m<module>\u001b[0m:\u001b[36m2\u001b[0m - \u001b[1mLINEMOD: 2/13\u001b[0m\n"
     ]
    },
    {
     "name": "stdout",
     "output_type": "stream",
     "text": [
      "Acc: 303/480\n"
     ]
    },
    {
     "name": "stderr",
     "output_type": "stream",
     "text": [
      "100%|██████████| 61/61 [00:00<00:00, 75.70it/s]\n",
      "100%|██████████| 61/61 [00:00<00:00, 85.99it/s]\n",
      "100%|██████████| 61/61 [00:00<00:00, 85.89it/s]\n",
      "100%|██████████| 61/61 [00:00<00:00, 79.89it/s]\n",
      "100%|██████████| 61/61 [00:00<00:00, 79.40it/s]\n",
      "100%|██████████| 61/61 [00:00<00:00, 82.03it/s]\n",
      "\u001b[32m2024-01-06 00:41:49.561\u001b[0m | \u001b[1mINFO    \u001b[0m | \u001b[36m__main__\u001b[0m:\u001b[36m<module>\u001b[0m:\u001b[36m88\u001b[0m - \u001b[1m\n",
      "{'AP50': 0.32786885245901637,\n",
      " 'R:ACC15': 0.03278688524590164,\n",
      " 'R:ACC30': 0.12021857923497267,\n",
      " 'R:auc@15': 0.011905582007597486,\n",
      " 'R:auc@30': 0.041365558679855155,\n",
      " 'R:medianErr': 80.86316299438477,\n",
      " 't:ACC15': 0.12568306010928962,\n",
      " 't:ACC30': 0.3879781420765027,\n",
      " 't:auc@15': 0.048798732863966444,\n",
      " 't:auc@30': 0.1580640145175444,\n",
      " 't:medianErr': 37.23520469665527}\u001b[0m\n",
      "\u001b[32m2024-01-06 00:41:49.561\u001b[0m | \u001b[1mINFO    \u001b[0m | \u001b[36m__main__\u001b[0m:\u001b[36m<module>\u001b[0m:\u001b[36m2\u001b[0m - \u001b[1mLINEMOD: 3/13\u001b[0m\n"
     ]
    },
    {
     "name": "stdout",
     "output_type": "stream",
     "text": [
      "Acc: 120/366\n"
     ]
    },
    {
     "name": "stderr",
     "output_type": "stream",
     "text": [
      "100%|██████████| 101/101 [00:01<00:00, 81.19it/s]\n",
      "100%|██████████| 101/101 [00:01<00:00, 78.55it/s]\n",
      "100%|██████████| 101/101 [00:01<00:00, 80.39it/s]\n",
      "100%|██████████| 101/101 [00:01<00:00, 81.40it/s]\n",
      "100%|██████████| 101/101 [00:01<00:00, 82.29it/s]\n",
      "100%|██████████| 101/101 [00:01<00:00, 84.15it/s]\n",
      "\u001b[32m2024-01-06 00:41:57.035\u001b[0m | \u001b[1mINFO    \u001b[0m | \u001b[36m__main__\u001b[0m:\u001b[36m<module>\u001b[0m:\u001b[36m88\u001b[0m - \u001b[1m\n",
      "{'AP50': 0.4768976897689769,\n",
      " 'R:ACC15': 0.028052805280528052,\n",
      " 'R:ACC30': 0.15016501650165018,\n",
      " 'R:auc@15': 0.006539872901798999,\n",
      " 'R:auc@30': 0.043940353747641686,\n",
      " 'R:medianErr': 77.86083602905273,\n",
      " 't:ACC15': 0.132013201320132,\n",
      " 't:ACC30': 0.3333333333333333,\n",
      " 't:auc@15': 0.046939248902307225,\n",
      " 't:auc@30': 0.13734039158710942,\n",
      " 't:medianErr': 39.97389793395996}\u001b[0m\n",
      "\u001b[32m2024-01-06 00:41:57.035\u001b[0m | \u001b[1mINFO    \u001b[0m | \u001b[36m__main__\u001b[0m:\u001b[36m<module>\u001b[0m:\u001b[36m2\u001b[0m - \u001b[1mLINEMOD: 4/13\u001b[0m\n"
     ]
    },
    {
     "name": "stdout",
     "output_type": "stream",
     "text": [
      "Acc: 289/606\n"
     ]
    },
    {
     "name": "stderr",
     "output_type": "stream",
     "text": [
      "100%|██████████| 69/69 [00:00<00:00, 84.54it/s]\n",
      "100%|██████████| 69/69 [00:00<00:00, 87.03it/s]\n",
      "100%|██████████| 69/69 [00:00<00:00, 79.69it/s]\n",
      "100%|██████████| 69/69 [00:00<00:00, 80.70it/s]\n",
      "100%|██████████| 69/69 [00:00<00:00, 88.68it/s]\n",
      "100%|██████████| 69/69 [00:00<00:00, 86.67it/s]\n",
      "\u001b[32m2024-01-06 00:42:01.956\u001b[0m | \u001b[1mINFO    \u001b[0m | \u001b[36m__main__\u001b[0m:\u001b[36m<module>\u001b[0m:\u001b[36m88\u001b[0m - \u001b[1m\n",
      "{'AP50': 0.7270531400966184,\n",
      " 'R:ACC15': 0.03864734299516908,\n",
      " 'R:ACC30': 0.14251207729468598,\n",
      " 'R:auc@15': 0.012479938439508951,\n",
      " 'R:auc@30': 0.04959659906593115,\n",
      " 'R:medianErr': 76.78071594238281,\n",
      " 't:ACC15': 0.0893719806763285,\n",
      " 't:ACC30': 0.3357487922705314,\n",
      " 't:auc@15': 0.03809923208086195,\n",
      " 't:auc@30': 0.1309620882002052,\n",
      " 't:medianErr': 40.46369934082031}\u001b[0m\n",
      "\u001b[32m2024-01-06 00:42:01.956\u001b[0m | \u001b[1mINFO    \u001b[0m | \u001b[36m__main__\u001b[0m:\u001b[36m<module>\u001b[0m:\u001b[36m2\u001b[0m - \u001b[1mLINEMOD: 5/13\u001b[0m\n"
     ]
    },
    {
     "name": "stdout",
     "output_type": "stream",
     "text": [
      "Acc: 301/414\n"
     ]
    },
    {
     "name": "stderr",
     "output_type": "stream",
     "text": [
      "100%|██████████| 93/93 [00:01<00:00, 80.00it/s]\n",
      "100%|██████████| 93/93 [00:01<00:00, 83.98it/s]\n",
      "100%|██████████| 93/93 [00:01<00:00, 83.32it/s]\n",
      "100%|██████████| 93/93 [00:01<00:00, 78.40it/s]\n",
      "100%|██████████| 93/93 [00:01<00:00, 81.36it/s]\n",
      "100%|██████████| 93/93 [00:01<00:00, 79.41it/s]\n",
      "\u001b[32m2024-01-06 00:42:08.862\u001b[0m | \u001b[1mINFO    \u001b[0m | \u001b[36m__main__\u001b[0m:\u001b[36m<module>\u001b[0m:\u001b[36m88\u001b[0m - \u001b[1m\n",
      "{'AP50': 0.5645161290322581,\n",
      " 'R:ACC15': 0.04659498207885305,\n",
      " 'R:ACC30': 0.16845878136200718,\n",
      " 'R:auc@15': 0.013144616043838264,\n",
      " 'R:auc@30': 0.05974304396903928,\n",
      " 'R:medianErr': 69.39533615112305,\n",
      " 't:ACC15': 0.12544802867383512,\n",
      " 't:ACC30': 0.30824372759856633,\n",
      " 't:auc@15': 0.043700795824524886,\n",
      " 't:auc@30': 0.12834716757921905,\n",
      " 't:medianErr': 41.68965530395508}\u001b[0m\n",
      "\u001b[32m2024-01-06 00:42:08.862\u001b[0m | \u001b[1mINFO    \u001b[0m | \u001b[36m__main__\u001b[0m:\u001b[36m<module>\u001b[0m:\u001b[36m2\u001b[0m - \u001b[1mLINEMOD: 6/13\u001b[0m\n"
     ]
    },
    {
     "name": "stdout",
     "output_type": "stream",
     "text": [
      "Acc: 315/558\n"
     ]
    },
    {
     "name": "stderr",
     "output_type": "stream",
     "text": [
      "100%|██████████| 88/88 [00:01<00:00, 81.44it/s]\n",
      "100%|██████████| 88/88 [00:01<00:00, 83.33it/s]\n",
      "100%|██████████| 88/88 [00:01<00:00, 83.35it/s]\n",
      "100%|██████████| 88/88 [00:01<00:00, 80.00it/s]\n",
      "100%|██████████| 88/88 [00:00<00:00, 88.09it/s]\n",
      "100%|██████████| 88/88 [00:01<00:00, 85.76it/s]\n",
      "\u001b[32m2024-01-06 00:42:15.197\u001b[0m | \u001b[1mINFO    \u001b[0m | \u001b[36m__main__\u001b[0m:\u001b[36m<module>\u001b[0m:\u001b[36m88\u001b[0m - \u001b[1m\n",
      "{'AP50': 0.3522727272727273,\n",
      " 'R:ACC15': 0.015151515151515152,\n",
      " 'R:ACC30': 0.10606060606060606,\n",
      " 'R:auc@15': 0.005743599660468824,\n",
      " 'R:auc@30': 0.034580594271120396,\n",
      " 'R:medianErr': 83.32339477539062,\n",
      " 't:ACC15': 0.13446969696969696,\n",
      " 't:ACC30': 0.3333333333333333,\n",
      " 't:auc@15': 0.045681845810678266,\n",
      " 't:auc@30': 0.13966323186953863,\n",
      " 't:medianErr': 42.454607009887695}\u001b[0m\n",
      "\u001b[32m2024-01-06 00:42:15.197\u001b[0m | \u001b[1mINFO    \u001b[0m | \u001b[36m__main__\u001b[0m:\u001b[36m<module>\u001b[0m:\u001b[36m2\u001b[0m - \u001b[1mLINEMOD: 7/13\u001b[0m\n"
     ]
    },
    {
     "name": "stdout",
     "output_type": "stream",
     "text": [
      "Acc: 186/528\n"
     ]
    },
    {
     "name": "stderr",
     "output_type": "stream",
     "text": [
      "100%|██████████| 85/85 [00:00<00:00, 85.36it/s]\n",
      "100%|██████████| 85/85 [00:01<00:00, 78.30it/s]\n",
      "100%|██████████| 85/85 [00:01<00:00, 82.10it/s]\n",
      "100%|██████████| 85/85 [00:00<00:00, 85.46it/s]\n",
      "100%|██████████| 85/85 [00:00<00:00, 86.59it/s]\n",
      "100%|██████████| 85/85 [00:01<00:00, 84.27it/s]\n",
      "\u001b[32m2024-01-06 00:42:21.316\u001b[0m | \u001b[1mINFO    \u001b[0m | \u001b[36m__main__\u001b[0m:\u001b[36m<module>\u001b[0m:\u001b[36m88\u001b[0m - \u001b[1m\n",
      "{'AP50': 0.6607843137254902,\n",
      " 'R:ACC15': 0.01764705882352941,\n",
      " 'R:ACC30': 0.10784313725490197,\n",
      " 'R:auc@15': 0.0035923702264922894,\n",
      " 'R:auc@30': 0.03136181619432237,\n",
      " 'R:medianErr': 73.53946685791016,\n",
      " 't:ACC15': 0.11568627450980393,\n",
      " 't:ACC30': 0.3764705882352941,\n",
      " 't:auc@15': 0.0430785601435144,\n",
      " 't:auc@30': 0.14378914021199043,\n",
      " 't:medianErr': 38.16595268249512}\u001b[0m\n",
      "\u001b[32m2024-01-06 00:42:21.316\u001b[0m | \u001b[1mINFO    \u001b[0m | \u001b[36m__main__\u001b[0m:\u001b[36m<module>\u001b[0m:\u001b[36m2\u001b[0m - \u001b[1mLINEMOD: 8/13\u001b[0m\n"
     ]
    },
    {
     "name": "stdout",
     "output_type": "stream",
     "text": [
      "Acc: 337/510\n"
     ]
    },
    {
     "name": "stderr",
     "output_type": "stream",
     "text": [
      "100%|██████████| 45/45 [00:00<00:00, 88.88it/s]\n",
      "100%|██████████| 45/45 [00:00<00:00, 83.17it/s]\n",
      "100%|██████████| 45/45 [00:00<00:00, 90.70it/s]\n",
      "100%|██████████| 45/45 [00:00<00:00, 87.50it/s]\n",
      "100%|██████████| 45/45 [00:00<00:00, 89.02it/s]\n",
      "100%|██████████| 45/45 [00:00<00:00, 86.27it/s]\n",
      "\u001b[32m2024-01-06 00:42:24.418\u001b[0m | \u001b[1mINFO    \u001b[0m | \u001b[36m__main__\u001b[0m:\u001b[36m<module>\u001b[0m:\u001b[36m88\u001b[0m - \u001b[1m\n",
      "{'AP50': 0.7148148148148148,\n",
      " 'R:ACC15': 0.007407407407407408,\n",
      " 'R:ACC30': 0.1111111111111111,\n",
      " 'R:auc@15': 0.0047018203028926136,\n",
      " 'R:auc@30': 0.029774437598240232,\n",
      " 'R:medianErr': 90.97961044311523,\n",
      " 't:ACC15': 0.08888888888888889,\n",
      " 't:ACC30': 0.32222222222222224,\n",
      " 't:auc@15': 0.031299203884454424,\n",
      " 't:auc@30': 0.12109569687902191,\n",
      " 't:medianErr': 40.61825752258301}\u001b[0m\n",
      "\u001b[32m2024-01-06 00:42:24.419\u001b[0m | \u001b[1mINFO    \u001b[0m | \u001b[36m__main__\u001b[0m:\u001b[36m<module>\u001b[0m:\u001b[36m2\u001b[0m - \u001b[1mLINEMOD: 9/13\u001b[0m\n"
     ]
    },
    {
     "name": "stdout",
     "output_type": "stream",
     "text": [
      "Acc: 193/270\n"
     ]
    },
    {
     "name": "stderr",
     "output_type": "stream",
     "text": [
      "100%|██████████| 77/77 [00:00<00:00, 94.37it/s]\n",
      "100%|██████████| 77/77 [00:00<00:00, 85.64it/s]\n",
      "100%|██████████| 77/77 [00:00<00:00, 94.12it/s] \n",
      "100%|██████████| 77/77 [00:00<00:00, 91.41it/s]\n",
      "100%|██████████| 77/77 [00:00<00:00, 85.45it/s]\n",
      "100%|██████████| 77/77 [00:00<00:00, 81.26it/s]\n",
      "\u001b[32m2024-01-06 00:42:29.660\u001b[0m | \u001b[1mINFO    \u001b[0m | \u001b[36m__main__\u001b[0m:\u001b[36m<module>\u001b[0m:\u001b[36m88\u001b[0m - \u001b[1m\n",
      "{'AP50': 0.5216450216450217,\n",
      " 'R:ACC15': 0.02188183807439825,\n",
      " 'R:ACC30': 0.13129102844638948,\n",
      " 'R:auc@15': 0.005594753123477459,\n",
      " 'R:auc@30': 0.04017991915312587,\n",
      " 'R:medianErr': 79.3906021118164,\n",
      " 't:ACC15': 0.1050328227571116,\n",
      " 't:ACC30': 0.33698030634573306,\n",
      " 't:auc@15': 0.03198130080336467,\n",
      " 't:auc@30': 0.1195633879723469,\n",
      " 't:medianErr': 39.97518539428711}\u001b[0m\n",
      "\u001b[32m2024-01-06 00:42:29.661\u001b[0m | \u001b[1mINFO    \u001b[0m | \u001b[36m__main__\u001b[0m:\u001b[36m<module>\u001b[0m:\u001b[36m2\u001b[0m - \u001b[1mLINEMOD: 10/13\u001b[0m\n"
     ]
    },
    {
     "name": "stdout",
     "output_type": "stream",
     "text": [
      "Acc: 241/462\n"
     ]
    },
    {
     "name": "stderr",
     "output_type": "stream",
     "text": [
      "100%|██████████| 77/77 [00:00<00:00, 80.49it/s]\n",
      "100%|██████████| 77/77 [00:00<00:00, 78.72it/s]\n",
      "100%|██████████| 77/77 [00:00<00:00, 79.20it/s]\n",
      "100%|██████████| 77/77 [00:00<00:00, 85.92it/s]\n",
      "100%|██████████| 77/77 [00:00<00:00, 80.23it/s]\n",
      "100%|██████████| 77/77 [00:00<00:00, 86.30it/s]\n",
      "\u001b[32m2024-01-06 00:42:35.335\u001b[0m | \u001b[1mINFO    \u001b[0m | \u001b[36m__main__\u001b[0m:\u001b[36m<module>\u001b[0m:\u001b[36m88\u001b[0m - \u001b[1m\n",
      "{'AP50': 0.6341991341991342,\n",
      " 'R:ACC15': 0.01735357917570499,\n",
      " 'R:ACC30': 0.10629067245119306,\n",
      " 'R:auc@15': 0.005410953681708589,\n",
      " 'R:auc@30': 0.034803371436339055,\n",
      " 'R:medianErr': 74.52654266357422,\n",
      " 't:ACC15': 0.0911062906724512,\n",
      " 't:ACC30': 0.34273318872017355,\n",
      " 't:auc@15': 0.03965478160634735,\n",
      " 't:auc@30': 0.11988089079453475,\n",
      " 't:medianErr': 40.82653045654297}\u001b[0m\n",
      "\u001b[32m2024-01-06 00:42:35.336\u001b[0m | \u001b[1mINFO    \u001b[0m | \u001b[36m__main__\u001b[0m:\u001b[36m<module>\u001b[0m:\u001b[36m2\u001b[0m - \u001b[1mLINEMOD: 11/13\u001b[0m\n"
     ]
    },
    {
     "name": "stdout",
     "output_type": "stream",
     "text": [
      "Acc: 293/462\n"
     ]
    },
    {
     "name": "stderr",
     "output_type": "stream",
     "text": [
      "100%|██████████| 49/49 [00:00<00:00, 72.32it/s]\n",
      "100%|██████████| 49/49 [00:00<00:00, 79.41it/s]\n",
      "100%|██████████| 49/49 [00:00<00:00, 79.76it/s]\n",
      "100%|██████████| 49/49 [00:00<00:00, 82.03it/s]\n",
      "100%|██████████| 49/49 [00:00<00:00, 78.14it/s]\n",
      "100%|██████████| 49/49 [00:00<00:00, 71.46it/s]\n",
      "\u001b[32m2024-01-06 00:42:39.175\u001b[0m | \u001b[1mINFO    \u001b[0m | \u001b[36m__main__\u001b[0m:\u001b[36m<module>\u001b[0m:\u001b[36m88\u001b[0m - \u001b[1m\n",
      "{'AP50': 0.564625850340136,\n",
      " 'R:ACC15': 0.030612244897959183,\n",
      " 'R:ACC30': 0.14965986394557823,\n",
      " 'R:auc@15': 0.0099981723188543,\n",
      " 'R:auc@30': 0.04873191975141599,\n",
      " 'R:medianErr': 90.47774124145508,\n",
      " 't:ACC15': 0.11564625850340136,\n",
      " 't:ACC30': 0.30272108843537415,\n",
      " 't:auc@15': 0.04551286573042404,\n",
      " 't:auc@30': 0.12630316413719367,\n",
      " 't:medianErr': 42.273977279663086}\u001b[0m\n",
      "\u001b[32m2024-01-06 00:42:39.176\u001b[0m | \u001b[1mINFO    \u001b[0m | \u001b[36m__main__\u001b[0m:\u001b[36m<module>\u001b[0m:\u001b[36m2\u001b[0m - \u001b[1mLINEMOD: 12/13\u001b[0m\n"
     ]
    },
    {
     "name": "stdout",
     "output_type": "stream",
     "text": [
      "Acc: 166/294\n"
     ]
    },
    {
     "name": "stderr",
     "output_type": "stream",
     "text": [
      "100%|██████████| 67/67 [00:00<00:00, 77.65it/s]\n",
      "100%|██████████| 67/67 [00:00<00:00, 76.23it/s]\n",
      "100%|██████████| 67/67 [00:00<00:00, 77.72it/s]\n",
      "100%|██████████| 67/67 [00:00<00:00, 78.91it/s]\n",
      "100%|██████████| 67/67 [00:00<00:00, 77.28it/s]\n",
      "100%|██████████| 67/67 [00:00<00:00, 76.06it/s]\n",
      "\u001b[32m2024-01-06 00:42:44.395\u001b[0m | \u001b[1mINFO    \u001b[0m | \u001b[36m__main__\u001b[0m:\u001b[36m<module>\u001b[0m:\u001b[36m88\u001b[0m - \u001b[1m\n",
      "{'AP50': 0.44527363184079605,\n",
      " 'R:ACC15': 0.01990049751243781,\n",
      " 'R:ACC30': 0.11691542288557213,\n",
      " 'R:auc@15': 0.00526581016148303,\n",
      " 'R:auc@30': 0.03712153596862236,\n",
      " 'R:medianErr': 80.24980163574219,\n",
      " 't:ACC15': 0.10696517412935323,\n",
      " 't:ACC30': 0.34577114427860695,\n",
      " 't:auc@15': 0.034933946816680043,\n",
      " 't:auc@30': 0.1322745702950713,\n",
      " 't:medianErr': 40.84038543701172}\u001b[0m\n",
      "\u001b[32m2024-01-06 00:42:44.396\u001b[0m | \u001b[1mINFO    \u001b[0m | \u001b[36m__main__\u001b[0m:\u001b[36m<module>\u001b[0m:\u001b[36m2\u001b[0m - \u001b[1mLINEMOD: 13/13\u001b[0m\n"
     ]
    },
    {
     "name": "stdout",
     "output_type": "stream",
     "text": [
      "Acc: 179/402\n"
     ]
    },
    {
     "name": "stderr",
     "output_type": "stream",
     "text": [
      "100%|██████████| 74/74 [00:00<00:00, 77.99it/s]\n",
      "100%|██████████| 74/74 [00:00<00:00, 79.60it/s]\n",
      "100%|██████████| 74/74 [00:01<00:00, 68.70it/s]\n",
      "100%|██████████| 74/74 [00:01<00:00, 72.56it/s]\n",
      "100%|██████████| 74/74 [00:00<00:00, 74.97it/s]\n",
      "100%|██████████| 74/74 [00:00<00:00, 84.32it/s]\n",
      "\u001b[32m2024-01-06 00:42:50.258\u001b[0m | \u001b[1mINFO    \u001b[0m | \u001b[36m__main__\u001b[0m:\u001b[36m<module>\u001b[0m:\u001b[36m88\u001b[0m - \u001b[1m\n",
      "{'AP50': 0.34234234234234234,\n",
      " 'R:ACC15': 0.02927927927927928,\n",
      " 'R:ACC30': 0.10810810810810811,\n",
      " 'R:auc@15': 0.010476198282327737,\n",
      " 'R:auc@30': 0.035823216058828454,\n",
      " 'R:medianErr': 71.86189270019531,\n",
      " 't:ACC15': 0.0990990990990991,\n",
      " 't:ACC30': 0.32882882882882886,\n",
      " 't:auc@15': 0.033737520699028495,\n",
      " 't:auc@30': 0.12567272608702604,\n",
      " 't:medianErr': 40.43362045288086}\u001b[0m\n"
     ]
    },
    {
     "name": "stdout",
     "output_type": "stream",
     "text": [
      "Acc: 152/444\n"
     ]
    }
   ],
   "source": [
    "for label_idx, test_dict in enumerate(dir_list):\n",
    "    logger.info(f\"LINEMOD: {label_idx + 1}/{len(dir_list)}\")\n",
    "    metrics = dict()\n",
    "    metrics.update({'R_errs':[], 't_errs':[], 'inliers':[], \"identifiers\":[]})\n",
    "    sample_data = dir_list[label_idx][\"0\"][0]\n",
    "    label = sample_data.split(\"/\")[0]\n",
    "    name = label.split(\"-\")[1]\n",
    "    dir_name = os.path.dirname(sample_data)\n",
    "    FULL_ROOT_DIR = os.path.join(ROOT_DIR, dir_name)\n",
    "    recall_image, all_image = 0, 0\n",
    "    for rotation_key, rotation_list in zip(test_dict.keys(), test_dict.values()):\n",
    "        for pair_idx, pair_name in enumerate(tqdm(rotation_list)):\n",
    "            all_image = all_image + 1\n",
    "            base_name = os.path.basename(pair_name)\n",
    "            idx0_name = base_name.split(\"-\")[0]\n",
    "            idx1_name = base_name.split(\"-\")[1]\n",
    "            image0_name = os.path.join(FULL_ROOT_DIR, idx0_name)\n",
    "            image1_name = os.path.join(FULL_ROOT_DIR.replace(\"color\", \"color_full\"), idx1_name)\n",
    "\n",
    "            K0_path = image0_name.replace(\"color\", \"intrin_ba\").replace(\"png\", \"txt\")\n",
    "            K1_path = image1_name.replace(\"color_full\", \"intrin\").replace(\"png\", \"txt\")\n",
    "            K0 = np.loadtxt(K0_path)\n",
    "            K1 = np.loadtxt(K1_path)\n",
    "\n",
    "            pose0_path = image0_name.replace(\"color\", \"poses_ba\").replace(\"png\", \"txt\")\n",
    "            pose1_path = image1_name.replace(\"color_full\", \"poses_ba\").replace(\"png\", \"txt\")\n",
    "            pose0 = np.loadtxt(pose0_path)\n",
    "            pose1 = np.loadtxt(pose1_path)\n",
    "            if pose0.shape[0] == 3:\n",
    "                pose0 = np.concatenate([pose0, np.array([[0, 0, 0, 1]])], axis=0)\n",
    "                pose1 = np.concatenate([pose1, np.array([[0, 0, 0, 1]])], axis=0)\n",
    "\n",
    "            points_file_path = os.path.join('d:/git_project/POPE/data/LM_dataset-points/', pair_name.split(\"/\")[0])\n",
    "            pre_bbox_path = os.path.join(points_file_path, \"pre_bbox\")\n",
    "            mkpts0_path = os.path.join(points_file_path, \"mkpts0\")\n",
    "            mkpts1_path = os.path.join(points_file_path, \"mkpts1\")\n",
    "            pre_K_path = os.path.join(points_file_path, \"pre_K\")\n",
    "            points_name = pair_name.split(\"/\")[-1]\n",
    "            pre_bbox_path = os.path.join(pre_bbox_path, f'{points_name}.txt')\n",
    "            mkpts0_path = os.path.join(mkpts0_path, f'{points_name}.txt')\n",
    "            mkpts1_path = os.path.join(mkpts1_path, f'{points_name}.txt')\n",
    "            pre_K_path = os.path.join(pre_K_path, f'{points_name}.txt')\n",
    "\n",
    "            if not os.path.exists(pre_bbox_path):\n",
    "                continue\n",
    "            pre_bbox = np.loadtxt(pre_bbox_path)\n",
    "            mkpts0 = np.loadtxt(mkpts0_path)\n",
    "            mkpts1 = np.loadtxt(mkpts1_path)\n",
    "            pre_K = np.loadtxt(pre_K_path)\n",
    "\n",
    "            if mkpts0.shape[0] > num_sample:\n",
    "                rand_idx = np.random.choice(mkpts0.shape[0], num_sample, replace=False)\n",
    "                mkpts0 = mkpts0[rand_idx]\n",
    "                mkpts1 = mkpts1[rand_idx]\n",
    "            else:\n",
    "                mkpts0 = np.concatenate([mkpts0, np.zeros((num_sample - mkpts0.shape[0], 2))], axis=0)\n",
    "                mkpts1 = np.concatenate([mkpts1, np.zeros((num_sample - mkpts1.shape[0], 2))], axis=0)\n",
    "\n",
    "            _3d_bbox = np.loadtxt(f\"{os.path.join(ROOT_DIR, label)}/box3d_corners.txt\")\n",
    "            bbox_pts_3d, _ = project_points(_3d_bbox, pose1[:3, :4], K1)\n",
    "            bbox_pts_3d = bbox_pts_3d.astype(np.int32)\n",
    "            x0, y0, w, h = cv2.boundingRect(bbox_pts_3d)\n",
    "            x1, y1 = x0 + w, y0 + h\n",
    "            gt_bbox = np.array([x0, y0, x1, y1])\n",
    "            is_recalled = recall_object(pre_bbox, gt_bbox)\n",
    "            recall_image = recall_image + int(is_recalled > 0.5)\n",
    "\n",
    "            batch_mkpts0 = torch.from_numpy(mkpts0).unsqueeze(0).float().to(device)\n",
    "            batch_mkpts1 = torch.from_numpy(mkpts1).unsqueeze(0).float().to(device)\n",
    "            pre_t, pre_rot = net(batch_mkpts0, batch_mkpts1)\n",
    "            # pre_t = pre_t.cpu()\n",
    "            # pre_rot = pre_rot.cpu()\n",
    "\n",
    "            # batch_pose0 = torch.from_numpy(pose0).unsqueeze(0).float().to(device)\n",
    "            # batch_pose1 = torch.from_numpy(pose1).unsqueeze(0).float().to(device)\n",
    "            # batch_relative_pose = torch.matmul(batch_pose1, batch_pose0.permute(0, 2, 1))\n",
    "            batch_relative_pose = np.matmul(pose1, np.linalg.inv(pose0))\n",
    "            batch_relative_pose = torch.from_numpy(batch_relative_pose).unsqueeze(0).float().to(device)\n",
    "            t_err, R_err = relative_pose_error(batch_relative_pose, pre_rot, pre_t, ignore_gt_t_thr=0.0)\n",
    "\n",
    "            metrics['t_errs'] = metrics['t_errs'] + np.array(t_err.reshape(-1).cpu().detach().numpy()).tolist()\n",
    "            metrics['R_errs'] = metrics['R_errs'] + np.array(R_err.reshape(-1).cpu().detach().numpy()).tolist()\n",
    "            metrics['identifiers'].append(pair_name)\n",
    "\n",
    "    print(f'Acc: {recall_image}/{all_image}')\n",
    "    val_metrics_4tb = aggregate_metrics(metrics, 5e-4)\n",
    "    val_metrics_4tb['AP50'] = recall_image / all_image\n",
    "    logger.info('\\n' + pprint.pformat(val_metrics_4tb))\n",
    "\n",
    "    obj_name = int(name[2:])\n",
    "\n",
    "    res_table.append([f\"{LM_id2name_dict[obj_name]}\"] + list(val_metrics_4tb.values()))"
   ]
  },
  {
   "cell_type": "code",
   "execution_count": 8,
   "metadata": {},
   "outputs": [
    {
     "name": "stdout",
     "output_type": "stream",
     "text": [
      "╒═════════════╤════════════╤════════════╤════════════╤═══════════╤═══════════════╤════════════╤════════════╤═══════════╤═══════════╤═══════════════╤══════════╕\n",
      "│ Category    │   R:auc@15 │   R:auc@30 │    R:ACC15 │   R:ACC30 │   R:medianErr │   t:auc@15 │   t:auc@30 │   t:ACC15 │   t:ACC30 │   t:medianErr │     AP50 │\n",
      "╞═════════════╪════════════╪════════════╪════════════╪═══════════╪═══════════════╪════════════╪════════════╪═══════════╪═══════════╪═══════════════╪══════════╡\n",
      "│ ape         │ 0.0108991  │  0.0534681 │ 0.0333333  │  0.170833 │       65.8113 │  0.0503991 │   0.149336 │ 0.13125   │  0.366667 │       37.8956 │ 0.63125  │\n",
      "├─────────────┼────────────┼────────────┼────────────┼───────────┼───────────────┼────────────┼────────────┼───────────┼───────────┼───────────────┼──────────┤\n",
      "│ benchvise   │ 0.0119056  │  0.0413656 │ 0.0327869  │  0.120219 │       80.8632 │  0.0487987 │   0.158064 │ 0.125683  │  0.387978 │       37.2352 │ 0.327869 │\n",
      "├─────────────┼────────────┼────────────┼────────────┼───────────┼───────────────┼────────────┼────────────┼───────────┼───────────┼───────────────┼──────────┤\n",
      "│ camera      │ 0.00653987 │  0.0439404 │ 0.0280528  │  0.150165 │       77.8608 │  0.0469392 │   0.13734  │ 0.132013  │  0.333333 │       39.9739 │ 0.476898 │\n",
      "├─────────────┼────────────┼────────────┼────────────┼───────────┼───────────────┼────────────┼────────────┼───────────┼───────────┼───────────────┼──────────┤\n",
      "│ can         │ 0.0124799  │  0.0495966 │ 0.0386473  │  0.142512 │       76.7807 │  0.0380992 │   0.130962 │ 0.089372  │  0.335749 │       40.4637 │ 0.727053 │\n",
      "├─────────────┼────────────┼────────────┼────────────┼───────────┼───────────────┼────────────┼────────────┼───────────┼───────────┼───────────────┼──────────┤\n",
      "│ cat         │ 0.0131446  │  0.059743  │ 0.046595   │  0.168459 │       69.3953 │  0.0437008 │   0.128347 │ 0.125448  │  0.308244 │       41.6897 │ 0.564516 │\n",
      "├─────────────┼────────────┼────────────┼────────────┼───────────┼───────────────┼────────────┼────────────┼───────────┼───────────┼───────────────┼──────────┤\n",
      "│ driller     │ 0.0057436  │  0.0345806 │ 0.0151515  │  0.106061 │       83.3234 │  0.0456818 │   0.139663 │ 0.13447   │  0.333333 │       42.4546 │ 0.352273 │\n",
      "├─────────────┼────────────┼────────────┼────────────┼───────────┼───────────────┼────────────┼────────────┼───────────┼───────────┼───────────────┼──────────┤\n",
      "│ duck        │ 0.00359237 │  0.0313618 │ 0.0176471  │  0.107843 │       73.5395 │  0.0430786 │   0.143789 │ 0.115686  │  0.376471 │       38.166  │ 0.660784 │\n",
      "├─────────────┼────────────┼────────────┼────────────┼───────────┼───────────────┼────────────┼────────────┼───────────┼───────────┼───────────────┼──────────┤\n",
      "│ eggbox      │ 0.00470182 │  0.0297744 │ 0.00740741 │  0.111111 │       90.9796 │  0.0312992 │   0.121096 │ 0.0888889 │  0.322222 │       40.6183 │ 0.714815 │\n",
      "├─────────────┼────────────┼────────────┼────────────┼───────────┼───────────────┼────────────┼────────────┼───────────┼───────────┼───────────────┼──────────┤\n",
      "│ glue        │ 0.00559475 │  0.0401799 │ 0.0218818  │  0.131291 │       79.3906 │  0.0319813 │   0.119563 │ 0.105033  │  0.33698  │       39.9752 │ 0.521645 │\n",
      "├─────────────┼────────────┼────────────┼────────────┼───────────┼───────────────┼────────────┼────────────┼───────────┼───────────┼───────────────┼──────────┤\n",
      "│ holepuncher │ 0.00541095 │  0.0348034 │ 0.0173536  │  0.106291 │       74.5265 │  0.0396548 │   0.119881 │ 0.0911063 │  0.342733 │       40.8265 │ 0.634199 │\n",
      "├─────────────┼────────────┼────────────┼────────────┼───────────┼───────────────┼────────────┼────────────┼───────────┼───────────┼───────────────┼──────────┤\n",
      "│ iron        │ 0.00999817 │  0.0487319 │ 0.0306122  │  0.14966  │       90.4777 │  0.0455129 │   0.126303 │ 0.115646  │  0.302721 │       42.274  │ 0.564626 │\n",
      "├─────────────┼────────────┼────────────┼────────────┼───────────┼───────────────┼────────────┼────────────┼───────────┼───────────┼───────────────┼──────────┤\n",
      "│ lamp        │ 0.00526581 │  0.0371215 │ 0.0199005  │  0.116915 │       80.2498 │  0.0349339 │   0.132275 │ 0.106965  │  0.345771 │       40.8404 │ 0.445274 │\n",
      "├─────────────┼────────────┼────────────┼────────────┼───────────┼───────────────┼────────────┼────────────┼───────────┼───────────┼───────────────┼──────────┤\n",
      "│ phone       │ 0.0104762  │  0.0358232 │ 0.0292793  │  0.108108 │       71.8619 │  0.0337375 │   0.125673 │ 0.0990991 │  0.328829 │       40.4336 │ 0.342342 │\n",
      "├─────────────┼────────────┼────────────┼────────────┼───────────┼───────────────┼────────────┼────────────┼───────────┼───────────┼───────────────┼──────────┤\n",
      "│ Avg         │ 0.00813483 │  0.0415762 │ 0.0260499  │  0.129959 │       78.0816 │  0.0410629 │   0.133253 │ 0.112359  │  0.340079 │       40.219  │ 0.535657 │\n",
      "╘═════════════╧════════════╧════════════╧════════════╧═══════════╧═══════════════╧════════════╧════════════╧═══════════╧═══════════╧═══════════════╧══════════╛\n"
     ]
    }
   ],
   "source": [
    "headers = [\"Category\"] + list(val_metrics_4tb.keys())\n",
    "all_data = np.array(res_table)[:, 1:].astype(np.float32)\n",
    "res_table.append([\"Avg\"] + all_data.mean(0).tolist())\n",
    "print(tabulate(res_table, headers=headers, tablefmt='fancy_grid'))"
   ]
  },
  {
   "cell_type": "code",
   "execution_count": null,
   "metadata": {},
   "outputs": [],
   "source": []
  }
 ],
 "metadata": {
  "kernelspec": {
   "display_name": "pope",
   "language": "python",
   "name": "python3"
  },
  "language_info": {
   "codemirror_mode": {
    "name": "ipython",
    "version": 3
   },
   "file_extension": ".py",
   "mimetype": "text/x-python",
   "name": "python",
   "nbconvert_exporter": "python",
   "pygments_lexer": "ipython3",
   "version": "3.8.18"
  }
 },
 "nbformat": 4,
 "nbformat_minor": 2
}
