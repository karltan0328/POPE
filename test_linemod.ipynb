{
 "cells": [
  {
   "cell_type": "code",
   "execution_count": 1,
   "metadata": {},
   "outputs": [],
   "source": [
    "import os\n",
    "import cv2\n",
    "import json\n",
    "import torch\n",
    "import pprint\n",
    "import numpy as np\n",
    "from tqdm import tqdm\n",
    "from loguru import logger\n",
    "from tabulate import tabulate\n",
    "\n",
    "from pose.utils import collate_fn, geodesic_distance, relative_pose_error, aggregate_metrics, recall_object, project_points"
   ]
  },
  {
   "cell_type": "code",
   "execution_count": 2,
   "metadata": {},
   "outputs": [],
   "source": [
    "LM_id2name_dict = {\n",
    "    1: 'ape',\n",
    "    2: 'benchvise',\n",
    "    4: 'camera',\n",
    "    5: 'can',\n",
    "    6: 'cat',\n",
    "    8: 'driller',\n",
    "    9: 'duck',\n",
    "    10: 'eggbox',\n",
    "    11: 'glue',\n",
    "    12: 'holepuncher',\n",
    "    13: 'iron',\n",
    "    14: 'lamp',\n",
    "    15: 'phone',\n",
    "}"
   ]
  },
  {
   "cell_type": "code",
   "execution_count": 3,
   "metadata": {},
   "outputs": [
    {
     "data": {
      "text/plain": [
       "13"
      ]
     },
     "execution_count": 3,
     "metadata": {},
     "output_type": "execute_result"
    }
   ],
   "source": [
    "with open(\"data/pairs/LINEMOD-test.json\") as f:\n",
    "    dir_list = json.load(f)\n",
    "len(dir_list)"
   ]
  },
  {
   "cell_type": "code",
   "execution_count": 4,
   "metadata": {},
   "outputs": [],
   "source": [
    "ROOT_DIR = 'data/LM_dataset/'"
   ]
  },
  {
   "cell_type": "code",
   "execution_count": 5,
   "metadata": {},
   "outputs": [],
   "source": [
    "res_table = []"
   ]
  },
  {
   "cell_type": "code",
   "execution_count": 6,
   "metadata": {},
   "outputs": [
    {
     "data": {
      "text/plain": [
       "Mkpts_Reg_Model(\n",
       "  (embedding): Embedding()\n",
       "  (transformerlayer): TransformerEncoderLayer(\n",
       "    (self_attn): MultiheadAttention(\n",
       "      (out_proj): NonDynamicallyQuantizableLinear(in_features=76, out_features=76, bias=True)\n",
       "    )\n",
       "    (linear1): Linear(in_features=76, out_features=2048, bias=True)\n",
       "    (dropout): Dropout(p=0.1, inplace=False)\n",
       "    (linear2): Linear(in_features=2048, out_features=76, bias=True)\n",
       "    (norm1): LayerNorm((76,), eps=1e-05, elementwise_affine=True)\n",
       "    (norm2): LayerNorm((76,), eps=1e-05, elementwise_affine=True)\n",
       "    (dropout1): Dropout(p=0.1, inplace=False)\n",
       "    (dropout2): Dropout(p=0.1, inplace=False)\n",
       "  )\n",
       "  (transformer): TransformerEncoder(\n",
       "    (layers): ModuleList(\n",
       "      (0-3): 4 x TransformerEncoderLayer(\n",
       "        (self_attn): MultiheadAttention(\n",
       "          (out_proj): NonDynamicallyQuantizableLinear(in_features=76, out_features=76, bias=True)\n",
       "        )\n",
       "        (linear1): Linear(in_features=76, out_features=2048, bias=True)\n",
       "        (dropout): Dropout(p=0.1, inplace=False)\n",
       "        (linear2): Linear(in_features=2048, out_features=76, bias=True)\n",
       "        (norm1): LayerNorm((76,), eps=1e-05, elementwise_affine=True)\n",
       "        (norm2): LayerNorm((76,), eps=1e-05, elementwise_affine=True)\n",
       "        (dropout1): Dropout(p=0.1, inplace=False)\n",
       "        (dropout2): Dropout(p=0.1, inplace=False)\n",
       "      )\n",
       "    )\n",
       "  )\n",
       "  (translation_head): Linear(in_features=128, out_features=3, bias=True)\n",
       "  (rotation_head): Linear(in_features=128, out_features=6, bias=True)\n",
       "  (mlp): Sequential(\n",
       "    (0): Linear(in_features=30400, out_features=128, bias=True)\n",
       "    (1): LeakyReLU(negative_slope=0.01)\n",
       "    (2): Linear(in_features=128, out_features=128, bias=True)\n",
       "  )\n",
       ")"
      ]
     },
     "execution_count": 6,
     "metadata": {},
     "output_type": "execute_result"
    }
   ],
   "source": [
    "device = torch.device('cuda' if torch.cuda.is_available() else 'cpu')\n",
    "# device = 'cpu'\n",
    "\n",
    "num_sample = 400\n",
    "\n",
    "net = torch.load('./weights/linemod-6d-400-2024-01-05-21-45-39-1.9666.pth').to(device)\n",
    "\n",
    "net.eval()"
   ]
  },
  {
   "cell_type": "code",
   "execution_count": 7,
   "metadata": {},
   "outputs": [
    {
     "name": "stderr",
     "output_type": "stream",
     "text": [
      "\u001b[32m2024-01-05 21:46:12.736\u001b[0m | \u001b[1mINFO    \u001b[0m | \u001b[36m__main__\u001b[0m:\u001b[36m<module>\u001b[0m:\u001b[36m2\u001b[0m - \u001b[1mLINEMOD: 1/13\u001b[0m\n",
      "  0%|          | 0/80 [00:00<?, ?it/s]"
     ]
    },
    {
     "name": "stderr",
     "output_type": "stream",
     "text": [
      "100%|██████████| 80/80 [00:04<00:00, 16.28it/s]\n",
      "100%|██████████| 80/80 [00:01<00:00, 76.26it/s]\n",
      "100%|██████████| 80/80 [00:01<00:00, 74.85it/s]\n",
      "100%|██████████| 80/80 [00:01<00:00, 77.52it/s]\n",
      "100%|██████████| 80/80 [00:01<00:00, 73.72it/s]\n",
      "100%|██████████| 80/80 [00:01<00:00, 74.80it/s]\n",
      "\u001b[32m2024-01-05 21:46:22.978\u001b[0m | \u001b[1mINFO    \u001b[0m | \u001b[36m__main__\u001b[0m:\u001b[36m<module>\u001b[0m:\u001b[36m86\u001b[0m - \u001b[1m\n",
      "{'AP50': 0.63125,\n",
      " 'R:ACC15': 0.01875,\n",
      " 'R:ACC30': 0.09375,\n",
      " 'R:auc@15': 0.005295795268482632,\n",
      " 'R:auc@30': 0.025064684318171607,\n",
      " 'R:medianErr': 88.1587905883789,\n",
      " 't:ACC15': 0.95625,\n",
      " 't:ACC30': 1.0,\n",
      " 't:auc@15': 0.4750029647515881,\n",
      " 't:auc@30': 0.7340223073048724,\n",
      " 't:medianErr': 7.582124710083008}\u001b[0m\n",
      "\u001b[32m2024-01-05 21:46:22.979\u001b[0m | \u001b[1mINFO    \u001b[0m | \u001b[36m__main__\u001b[0m:\u001b[36m<module>\u001b[0m:\u001b[36m2\u001b[0m - \u001b[1mLINEMOD: 2/13\u001b[0m\n"
     ]
    },
    {
     "name": "stdout",
     "output_type": "stream",
     "text": [
      "Acc: 303/480\n"
     ]
    },
    {
     "name": "stderr",
     "output_type": "stream",
     "text": [
      "100%|██████████| 61/61 [00:00<00:00, 78.53it/s]\n",
      "100%|██████████| 61/61 [00:00<00:00, 81.24it/s]\n",
      "100%|██████████| 61/61 [00:00<00:00, 79.50it/s]\n",
      "100%|██████████| 61/61 [00:00<00:00, 80.33it/s]\n",
      "100%|██████████| 61/61 [00:00<00:00, 73.09it/s]\n",
      "100%|██████████| 61/61 [00:00<00:00, 77.01it/s]\n",
      "\u001b[32m2024-01-05 21:46:27.682\u001b[0m | \u001b[1mINFO    \u001b[0m | \u001b[36m__main__\u001b[0m:\u001b[36m<module>\u001b[0m:\u001b[36m86\u001b[0m - \u001b[1m\n",
      "{'AP50': 0.32786885245901637,\n",
      " 'R:ACC15': 0.03551912568306011,\n",
      " 'R:ACC30': 0.10655737704918032,\n",
      " 'R:auc@15': 0.010499224463012918,\n",
      " 'R:auc@30': 0.04005874128289561,\n",
      " 'R:medianErr': 95.23422622680664,\n",
      " 't:ACC15': 0.9808743169398907,\n",
      " 't:ACC30': 1.0,\n",
      " 't:auc@15': 0.5606923790143054,\n",
      " 't:auc@30': 0.7790772041879281,\n",
      " 't:medianErr': 6.495914697647095}\u001b[0m\n",
      "\u001b[32m2024-01-05 21:46:27.683\u001b[0m | \u001b[1mINFO    \u001b[0m | \u001b[36m__main__\u001b[0m:\u001b[36m<module>\u001b[0m:\u001b[36m2\u001b[0m - \u001b[1mLINEMOD: 3/13\u001b[0m\n"
     ]
    },
    {
     "name": "stdout",
     "output_type": "stream",
     "text": [
      "Acc: 120/366\n"
     ]
    },
    {
     "name": "stderr",
     "output_type": "stream",
     "text": [
      "100%|██████████| 101/101 [00:01<00:00, 82.66it/s]\n",
      "100%|██████████| 101/101 [00:01<00:00, 80.56it/s]\n",
      "100%|██████████| 101/101 [00:01<00:00, 79.26it/s]\n",
      "100%|██████████| 101/101 [00:01<00:00, 81.58it/s]\n",
      "100%|██████████| 101/101 [00:01<00:00, 73.86it/s]\n",
      "100%|██████████| 101/101 [00:01<00:00, 74.69it/s]\n",
      "\u001b[32m2024-01-05 21:46:35.411\u001b[0m | \u001b[1mINFO    \u001b[0m | \u001b[36m__main__\u001b[0m:\u001b[36m<module>\u001b[0m:\u001b[36m86\u001b[0m - \u001b[1m\n",
      "{'AP50': 0.4768976897689769,\n",
      " 'R:ACC15': 0.02145214521452145,\n",
      " 'R:ACC30': 0.14356435643564355,\n",
      " 'R:auc@15': 0.007765572089435505,\n",
      " 'R:auc@30': 0.04404662720309888,\n",
      " 'R:medianErr': 88.75039672851562,\n",
      " 't:ACC15': 1.0,\n",
      " 't:ACC30': 1.0,\n",
      " 't:auc@15': 0.6435770281257539,\n",
      " 't:auc@30': 0.821788514062877,\n",
      " 't:medianErr': 4.947458267211914}\u001b[0m\n",
      "\u001b[32m2024-01-05 21:46:35.412\u001b[0m | \u001b[1mINFO    \u001b[0m | \u001b[36m__main__\u001b[0m:\u001b[36m<module>\u001b[0m:\u001b[36m2\u001b[0m - \u001b[1mLINEMOD: 4/13\u001b[0m\n"
     ]
    },
    {
     "name": "stdout",
     "output_type": "stream",
     "text": [
      "Acc: 289/606\n"
     ]
    },
    {
     "name": "stderr",
     "output_type": "stream",
     "text": [
      "100%|██████████| 69/69 [00:00<00:00, 76.51it/s]\n",
      "100%|██████████| 69/69 [00:00<00:00, 70.68it/s]\n",
      "100%|██████████| 69/69 [00:00<00:00, 77.05it/s]\n",
      "100%|██████████| 69/69 [00:00<00:00, 74.11it/s]\n",
      "100%|██████████| 69/69 [00:00<00:00, 78.18it/s]\n",
      "100%|██████████| 69/69 [00:00<00:00, 75.59it/s]\n",
      "\u001b[32m2024-01-05 21:46:40.931\u001b[0m | \u001b[1mINFO    \u001b[0m | \u001b[36m__main__\u001b[0m:\u001b[36m<module>\u001b[0m:\u001b[36m86\u001b[0m - \u001b[1m\n",
      "{'AP50': 0.7270531400966184,\n",
      " 'R:ACC15': 0.036231884057971016,\n",
      " 'R:ACC30': 0.1473429951690821,\n",
      " 'R:auc@15': 0.012834122215492138,\n",
      " 'R:auc@30': 0.05077854452501749,\n",
      " 'R:medianErr': 91.33964920043945,\n",
      " 't:ACC15': 0.9734299516908212,\n",
      " 't:ACC30': 1.0,\n",
      " 't:auc@15': 0.5460605313428549,\n",
      " 't:auc@30': 0.7713807477659266,\n",
      " 't:medianErr': 6.436015605926514}\u001b[0m\n",
      "\u001b[32m2024-01-05 21:46:40.932\u001b[0m | \u001b[1mINFO    \u001b[0m | \u001b[36m__main__\u001b[0m:\u001b[36m<module>\u001b[0m:\u001b[36m2\u001b[0m - \u001b[1mLINEMOD: 5/13\u001b[0m\n"
     ]
    },
    {
     "name": "stdout",
     "output_type": "stream",
     "text": [
      "Acc: 301/414\n"
     ]
    },
    {
     "name": "stderr",
     "output_type": "stream",
     "text": [
      "100%|██████████| 93/93 [00:01<00:00, 78.05it/s]\n",
      "100%|██████████| 93/93 [00:01<00:00, 79.29it/s]\n",
      "100%|██████████| 93/93 [00:01<00:00, 81.65it/s]\n",
      "100%|██████████| 93/93 [00:01<00:00, 80.60it/s]\n",
      "100%|██████████| 93/93 [00:01<00:00, 79.75it/s]\n",
      "100%|██████████| 93/93 [00:01<00:00, 78.78it/s]\n",
      "\u001b[32m2024-01-05 21:46:47.955\u001b[0m | \u001b[1mINFO    \u001b[0m | \u001b[36m__main__\u001b[0m:\u001b[36m<module>\u001b[0m:\u001b[36m86\u001b[0m - \u001b[1m\n",
      "{'AP50': 0.5645161290322581,\n",
      " 'R:ACC15': 0.035842293906810034,\n",
      " 'R:ACC30': 0.17383512544802868,\n",
      " 'R:auc@15': 0.01110523422131829,\n",
      " 'R:auc@30': 0.06525177841687858,\n",
      " 'R:medianErr': 88.76055908203125,\n",
      " 't:ACC15': 0.982078853046595,\n",
      " 't:ACC30': 1.0,\n",
      " 't:auc@15': 0.5450710769871798,\n",
      " 't:auc@30': 0.7717238295943507,\n",
      " 't:medianErr': 6.477291584014893}\u001b[0m\n",
      "\u001b[32m2024-01-05 21:46:47.955\u001b[0m | \u001b[1mINFO    \u001b[0m | \u001b[36m__main__\u001b[0m:\u001b[36m<module>\u001b[0m:\u001b[36m2\u001b[0m - \u001b[1mLINEMOD: 6/13\u001b[0m\n"
     ]
    },
    {
     "name": "stdout",
     "output_type": "stream",
     "text": [
      "Acc: 315/558\n"
     ]
    },
    {
     "name": "stderr",
     "output_type": "stream",
     "text": [
      "100%|██████████| 88/88 [00:01<00:00, 82.45it/s]\n",
      "100%|██████████| 88/88 [00:01<00:00, 80.65it/s]\n",
      "100%|██████████| 88/88 [00:01<00:00, 83.31it/s]\n",
      "100%|██████████| 88/88 [00:01<00:00, 80.85it/s]\n",
      "100%|██████████| 88/88 [00:01<00:00, 83.48it/s]\n",
      "100%|██████████| 88/88 [00:01<00:00, 83.06it/s]\n",
      "\u001b[32m2024-01-05 21:46:54.390\u001b[0m | \u001b[1mINFO    \u001b[0m | \u001b[36m__main__\u001b[0m:\u001b[36m<module>\u001b[0m:\u001b[36m86\u001b[0m - \u001b[1m\n",
      "{'AP50': 0.3522727272727273,\n",
      " 'R:ACC15': 0.015151515151515152,\n",
      " 'R:ACC30': 0.09659090909090909,\n",
      " 'R:auc@15': 0.008323995061595032,\n",
      " 'R:auc@30': 0.034494303347486446,\n",
      " 'R:medianErr': 97.37102890014648,\n",
      " 't:ACC15': 0.9753787878787878,\n",
      " 't:ACC30': 1.0,\n",
      " 't:auc@15': 0.5571176249496262,\n",
      " 't:auc@30': 0.7773485152671733,\n",
      " 't:medianErr': 6.318819999694824}\u001b[0m\n",
      "\u001b[32m2024-01-05 21:46:54.391\u001b[0m | \u001b[1mINFO    \u001b[0m | \u001b[36m__main__\u001b[0m:\u001b[36m<module>\u001b[0m:\u001b[36m2\u001b[0m - \u001b[1mLINEMOD: 7/13\u001b[0m\n"
     ]
    },
    {
     "name": "stdout",
     "output_type": "stream",
     "text": [
      "Acc: 186/528\n"
     ]
    },
    {
     "name": "stderr",
     "output_type": "stream",
     "text": [
      "100%|██████████| 85/85 [00:01<00:00, 77.75it/s]\n",
      "100%|██████████| 85/85 [00:01<00:00, 81.61it/s]\n",
      "100%|██████████| 85/85 [00:01<00:00, 82.34it/s]\n",
      "100%|██████████| 85/85 [00:01<00:00, 81.87it/s]\n",
      "100%|██████████| 85/85 [00:01<00:00, 84.60it/s]\n",
      "100%|██████████| 85/85 [00:01<00:00, 79.59it/s]\n",
      "\u001b[32m2024-01-05 21:47:00.693\u001b[0m | \u001b[1mINFO    \u001b[0m | \u001b[36m__main__\u001b[0m:\u001b[36m<module>\u001b[0m:\u001b[36m86\u001b[0m - \u001b[1m\n",
      "{'AP50': 0.6607843137254902,\n",
      " 'R:ACC15': 0.029411764705882353,\n",
      " 'R:ACC30': 0.12156862745098039,\n",
      " 'R:auc@15': 0.00729269027709961,\n",
      " 'R:auc@30': 0.040776235449547865,\n",
      " 'R:medianErr': 88.48440170288086,\n",
      " 't:ACC15': 0.9784313725490196,\n",
      " 't:ACC30': 1.0,\n",
      " 't:auc@15': 0.5822575974483896,\n",
      " 't:auc@30': 0.7901426961151213,\n",
      " 't:medianErr': 6.022115707397461}\u001b[0m\n",
      "\u001b[32m2024-01-05 21:47:00.694\u001b[0m | \u001b[1mINFO    \u001b[0m | \u001b[36m__main__\u001b[0m:\u001b[36m<module>\u001b[0m:\u001b[36m2\u001b[0m - \u001b[1mLINEMOD: 8/13\u001b[0m\n"
     ]
    },
    {
     "name": "stdout",
     "output_type": "stream",
     "text": [
      "Acc: 337/510\n"
     ]
    },
    {
     "name": "stderr",
     "output_type": "stream",
     "text": [
      "100%|██████████| 45/45 [00:00<00:00, 83.12it/s]\n",
      "100%|██████████| 45/45 [00:00<00:00, 73.28it/s]\n",
      "100%|██████████| 45/45 [00:00<00:00, 81.72it/s]\n",
      "100%|██████████| 45/45 [00:00<00:00, 82.10it/s]\n",
      "100%|██████████| 45/45 [00:00<00:00, 82.68it/s]\n",
      "100%|██████████| 45/45 [00:00<00:00, 82.22it/s]\n",
      "\u001b[32m2024-01-05 21:47:04.057\u001b[0m | \u001b[1mINFO    \u001b[0m | \u001b[36m__main__\u001b[0m:\u001b[36m<module>\u001b[0m:\u001b[36m86\u001b[0m - \u001b[1m\n",
      "{'AP50': 0.7148148148148148,\n",
      " 'R:ACC15': 0.011111111111111112,\n",
      " 'R:ACC30': 0.09259259259259259,\n",
      " 'R:auc@15': 0.0030683350268705394,\n",
      " 'R:auc@30': 0.02668148711875633,\n",
      " 'R:medianErr': 97.3950424194336,\n",
      " 't:ACC15': 0.9962962962962963,\n",
      " 't:ACC30': 1.0,\n",
      " 't:auc@15': 0.6419129662528451,\n",
      " 't:auc@30': 0.8209601704316376,\n",
      " 't:medianErr': 5.02350115776062}\u001b[0m\n",
      "\u001b[32m2024-01-05 21:47:04.058\u001b[0m | \u001b[1mINFO    \u001b[0m | \u001b[36m__main__\u001b[0m:\u001b[36m<module>\u001b[0m:\u001b[36m2\u001b[0m - \u001b[1mLINEMOD: 9/13\u001b[0m\n"
     ]
    },
    {
     "name": "stdout",
     "output_type": "stream",
     "text": [
      "Acc: 193/270\n"
     ]
    },
    {
     "name": "stderr",
     "output_type": "stream",
     "text": [
      "100%|██████████| 77/77 [00:00<00:00, 84.59it/s]\n",
      "100%|██████████| 77/77 [00:00<00:00, 82.49it/s]\n",
      "100%|██████████| 77/77 [00:00<00:00, 81.02it/s]\n",
      "100%|██████████| 77/77 [00:00<00:00, 80.67it/s]\n",
      "100%|██████████| 77/77 [00:00<00:00, 81.81it/s]\n",
      "100%|██████████| 77/77 [00:00<00:00, 81.73it/s]\n",
      "\u001b[32m2024-01-05 21:47:09.708\u001b[0m | \u001b[1mINFO    \u001b[0m | \u001b[36m__main__\u001b[0m:\u001b[36m<module>\u001b[0m:\u001b[36m86\u001b[0m - \u001b[1m\n",
      "{'AP50': 0.5216450216450217,\n",
      " 'R:ACC15': 0.0350109409190372,\n",
      " 'R:ACC30': 0.1050328227571116,\n",
      " 'R:auc@15': 0.011995401528523318,\n",
      " 'R:auc@30': 0.04358183855909573,\n",
      " 'R:medianErr': 94.2540512084961,\n",
      " 't:ACC15': 0.9890590809628009,\n",
      " 't:ACC30': 1.0,\n",
      " 't:auc@15': 0.5754338071195858,\n",
      " 't:auc@30': 0.7871170050260101,\n",
      " 't:medianErr': 6.137373924255371}\u001b[0m\n",
      "\u001b[32m2024-01-05 21:47:09.709\u001b[0m | \u001b[1mINFO    \u001b[0m | \u001b[36m__main__\u001b[0m:\u001b[36m<module>\u001b[0m:\u001b[36m2\u001b[0m - \u001b[1mLINEMOD: 10/13\u001b[0m\n"
     ]
    },
    {
     "name": "stdout",
     "output_type": "stream",
     "text": [
      "Acc: 241/462\n"
     ]
    },
    {
     "name": "stderr",
     "output_type": "stream",
     "text": [
      "100%|██████████| 77/77 [00:00<00:00, 80.13it/s]\n",
      "100%|██████████| 77/77 [00:00<00:00, 83.94it/s]\n",
      "100%|██████████| 77/77 [00:00<00:00, 83.59it/s]\n",
      "100%|██████████| 77/77 [00:00<00:00, 85.41it/s]\n",
      "100%|██████████| 77/77 [00:00<00:00, 80.20it/s]\n",
      "100%|██████████| 77/77 [00:00<00:00, 79.85it/s]\n",
      "\u001b[32m2024-01-05 21:47:15.355\u001b[0m | \u001b[1mINFO    \u001b[0m | \u001b[36m__main__\u001b[0m:\u001b[36m<module>\u001b[0m:\u001b[36m86\u001b[0m - \u001b[1m\n",
      "{'AP50': 0.6341991341991342,\n",
      " 'R:ACC15': 0.013015184381778741,\n",
      " 'R:ACC30': 0.09544468546637744,\n",
      " 'R:auc@15': 0.005337905952745992,\n",
      " 'R:auc@30': 0.027043385240192102,\n",
      " 'R:medianErr': 92.3025131225586,\n",
      " 't:ACC15': 0.9869848156182213,\n",
      " 't:ACC30': 1.0,\n",
      " 't:auc@15': 0.5891146801988543,\n",
      " 't:auc@30': 0.7942051053866044,\n",
      " 't:medianErr': 5.384960174560547}\u001b[0m\n",
      "\u001b[32m2024-01-05 21:47:15.355\u001b[0m | \u001b[1mINFO    \u001b[0m | \u001b[36m__main__\u001b[0m:\u001b[36m<module>\u001b[0m:\u001b[36m2\u001b[0m - \u001b[1mLINEMOD: 11/13\u001b[0m\n"
     ]
    },
    {
     "name": "stdout",
     "output_type": "stream",
     "text": [
      "Acc: 293/462\n"
     ]
    },
    {
     "name": "stderr",
     "output_type": "stream",
     "text": [
      "100%|██████████| 49/49 [00:00<00:00, 78.06it/s]\n",
      "100%|██████████| 49/49 [00:00<00:00, 76.59it/s]\n",
      "100%|██████████| 49/49 [00:00<00:00, 84.21it/s]\n",
      "100%|██████████| 49/49 [00:00<00:00, 81.40it/s]\n",
      "100%|██████████| 49/49 [00:00<00:00, 79.36it/s]\n",
      "100%|██████████| 49/49 [00:00<00:00, 77.43it/s]\n",
      "\u001b[32m2024-01-05 21:47:19.075\u001b[0m | \u001b[1mINFO    \u001b[0m | \u001b[36m__main__\u001b[0m:\u001b[36m<module>\u001b[0m:\u001b[36m86\u001b[0m - \u001b[1m\n",
      "{'AP50': 0.564625850340136,\n",
      " 'R:ACC15': 0.02040816326530612,\n",
      " 'R:ACC30': 0.08503401360544217,\n",
      " 'R:auc@15': 0.0069293977992604915,\n",
      " 'R:auc@30': 0.024188929890829422,\n",
      " 'R:medianErr': 96.76837158203125,\n",
      " 't:ACC15': 0.9863945578231292,\n",
      " 't:ACC30': 1.0,\n",
      " 't:auc@15': 0.5902371693394081,\n",
      " 't:auc@30': 0.7944156242488059,\n",
      " 't:medianErr': 5.733076572418213}\u001b[0m\n",
      "\u001b[32m2024-01-05 21:47:19.075\u001b[0m | \u001b[1mINFO    \u001b[0m | \u001b[36m__main__\u001b[0m:\u001b[36m<module>\u001b[0m:\u001b[36m2\u001b[0m - \u001b[1mLINEMOD: 12/13\u001b[0m\n"
     ]
    },
    {
     "name": "stdout",
     "output_type": "stream",
     "text": [
      "Acc: 166/294\n"
     ]
    },
    {
     "name": "stderr",
     "output_type": "stream",
     "text": [
      "100%|██████████| 67/67 [00:00<00:00, 84.51it/s]\n",
      "100%|██████████| 67/67 [00:00<00:00, 81.52it/s]\n",
      "100%|██████████| 67/67 [00:00<00:00, 86.38it/s]\n",
      "100%|██████████| 67/67 [00:00<00:00, 83.30it/s]\n",
      "100%|██████████| 67/67 [00:00<00:00, 85.13it/s]\n",
      "100%|██████████| 67/67 [00:00<00:00, 84.86it/s]\n",
      "\u001b[32m2024-01-05 21:47:23.865\u001b[0m | \u001b[1mINFO    \u001b[0m | \u001b[36m__main__\u001b[0m:\u001b[36m<module>\u001b[0m:\u001b[36m86\u001b[0m - \u001b[1m\n",
      "{'AP50': 0.44527363184079605,\n",
      " 'R:ACC15': 0.009950248756218905,\n",
      " 'R:ACC30': 0.09950248756218906,\n",
      " 'R:auc@15': 0.002531596163216713,\n",
      " 'R:auc@30': 0.029770550403626597,\n",
      " 'R:medianErr': 96.11017227172852,\n",
      " 't:ACC15': 0.9850746268656716,\n",
      " 't:ACC30': 1.0,\n",
      " 't:auc@15': 0.5580043015491902,\n",
      " 't:auc@30': 0.7780822944927769,\n",
      " 't:medianErr': 6.474613666534424}\u001b[0m\n",
      "\u001b[32m2024-01-05 21:47:23.866\u001b[0m | \u001b[1mINFO    \u001b[0m | \u001b[36m__main__\u001b[0m:\u001b[36m<module>\u001b[0m:\u001b[36m2\u001b[0m - \u001b[1mLINEMOD: 13/13\u001b[0m\n"
     ]
    },
    {
     "name": "stdout",
     "output_type": "stream",
     "text": [
      "Acc: 179/402\n"
     ]
    },
    {
     "name": "stderr",
     "output_type": "stream",
     "text": [
      "100%|██████████| 74/74 [00:00<00:00, 78.92it/s]\n",
      "100%|██████████| 74/74 [00:00<00:00, 84.55it/s]\n",
      "100%|██████████| 74/74 [00:00<00:00, 85.62it/s]\n",
      "100%|██████████| 74/74 [00:00<00:00, 82.96it/s]\n",
      "100%|██████████| 74/74 [00:00<00:00, 85.14it/s]\n",
      "100%|██████████| 74/74 [00:00<00:00, 81.11it/s]\n",
      "\u001b[32m2024-01-05 21:47:29.238\u001b[0m | \u001b[1mINFO    \u001b[0m | \u001b[36m__main__\u001b[0m:\u001b[36m<module>\u001b[0m:\u001b[36m86\u001b[0m - \u001b[1m\n",
      "{'AP50': 0.34234234234234234,\n",
      " 'R:ACC15': 0.02027027027027027,\n",
      " 'R:ACC30': 0.09009009009009009,\n",
      " 'R:auc@15': 0.00745122332472701,\n",
      " 'R:auc@30': 0.028199763734777412,\n",
      " 'R:medianErr': 92.22212219238281,\n",
      " 't:ACC15': 0.990990990990991,\n",
      " 't:ACC30': 1.0,\n",
      " 't:auc@15': 0.5698052230360988,\n",
      " 't:auc@30': 0.7846415997714967,\n",
      " 't:medianErr': 5.97463059425354}\u001b[0m\n"
     ]
    },
    {
     "name": "stdout",
     "output_type": "stream",
     "text": [
      "Acc: 152/444\n"
     ]
    }
   ],
   "source": [
    "for label_idx, test_dict in enumerate(dir_list):\n",
    "    logger.info(f\"LINEMOD: {label_idx + 1}/{len(dir_list)}\")\n",
    "    metrics = dict()\n",
    "    metrics.update({'R_errs':[], 't_errs':[], 'inliers':[], \"identifiers\":[]})\n",
    "    sample_data = dir_list[label_idx][\"0\"][0]\n",
    "    label = sample_data.split(\"/\")[0]\n",
    "    name = label.split(\"-\")[1]\n",
    "    dir_name = os.path.dirname(sample_data)\n",
    "    FULL_ROOT_DIR = os.path.join(ROOT_DIR, dir_name)\n",
    "    recall_image, all_image = 0, 0\n",
    "    for rotation_key, rotation_list in zip(test_dict.keys(), test_dict.values()):\n",
    "        for pair_idx, pair_name in enumerate(tqdm(rotation_list)):\n",
    "            all_image = all_image + 1\n",
    "            base_name = os.path.basename(pair_name)\n",
    "            idx0_name = base_name.split(\"-\")[0]\n",
    "            idx1_name = base_name.split(\"-\")[1]\n",
    "            image0_name = os.path.join(FULL_ROOT_DIR, idx0_name)\n",
    "            image1_name = os.path.join(FULL_ROOT_DIR.replace(\"color\", \"color_full\"), idx1_name)\n",
    "\n",
    "            K0_path = image0_name.replace(\"color\", \"intrin_ba\").replace(\"png\", \"txt\")\n",
    "            K1_path = image1_name.replace(\"color_full\", \"intrin\").replace(\"png\", \"txt\")\n",
    "            K0 = np.loadtxt(K0_path)\n",
    "            K1 = np.loadtxt(K1_path)\n",
    "\n",
    "            pose0_path = image0_name.replace(\"color\", \"poses_ba\").replace(\"png\", \"txt\")\n",
    "            pose1_path = image1_name.replace(\"color_full\", \"poses_ba\").replace(\"png\", \"txt\")\n",
    "            pose0 = np.loadtxt(pose0_path)\n",
    "            pose1 = np.loadtxt(pose1_path)\n",
    "            if pose0.shape[0] == 3:\n",
    "                pose0 = np.concatenate([pose0, np.array([[0, 0, 0, 1]])], axis=0)\n",
    "                pose1 = np.concatenate([pose1, np.array([[0, 0, 0, 1]])], axis=0)\n",
    "\n",
    "            points_file_path = os.path.join('d:/git_project/POPE/data/LM_dataset-points/', pair_name.split(\"/\")[0])\n",
    "            pre_bbox_path = os.path.join(points_file_path, \"pre_bbox\")\n",
    "            mkpts0_path = os.path.join(points_file_path, \"mkpts0\")\n",
    "            mkpts1_path = os.path.join(points_file_path, \"mkpts1\")\n",
    "            pre_K_path = os.path.join(points_file_path, \"pre_K\")\n",
    "            points_name = pair_name.split(\"/\")[-1]\n",
    "            pre_bbox_path = os.path.join(pre_bbox_path, f'{points_name}.txt')\n",
    "            mkpts0_path = os.path.join(mkpts0_path, f'{points_name}.txt')\n",
    "            mkpts1_path = os.path.join(mkpts1_path, f'{points_name}.txt')\n",
    "            pre_K_path = os.path.join(pre_K_path, f'{points_name}.txt')\n",
    "\n",
    "            if not os.path.exists(pre_bbox_path):\n",
    "                continue\n",
    "            pre_bbox = np.loadtxt(pre_bbox_path)\n",
    "            mkpts0 = np.loadtxt(mkpts0_path)\n",
    "            mkpts1 = np.loadtxt(mkpts1_path)\n",
    "            pre_K = np.loadtxt(pre_K_path)\n",
    "\n",
    "            if mkpts0.shape[0] > num_sample:\n",
    "                rand_idx = np.random.choice(mkpts0.shape[0], num_sample, replace=False)\n",
    "                mkpts0 = mkpts0[rand_idx]\n",
    "                mkpts1 = mkpts1[rand_idx]\n",
    "            else:\n",
    "                mkpts0 = np.concatenate([mkpts0, np.zeros((num_sample - mkpts0.shape[0], 2))], axis=0)\n",
    "                mkpts1 = np.concatenate([mkpts1, np.zeros((num_sample - mkpts1.shape[0], 2))], axis=0)\n",
    "\n",
    "            _3d_bbox = np.loadtxt(f\"{os.path.join(ROOT_DIR, label)}/box3d_corners.txt\")\n",
    "            bbox_pts_3d, _ = project_points(_3d_bbox, pose1[:3, :4], K1)\n",
    "            bbox_pts_3d = bbox_pts_3d.astype(np.int32)\n",
    "            x0, y0, w, h = cv2.boundingRect(bbox_pts_3d)\n",
    "            x1, y1 = x0 + w, y0 + h\n",
    "            gt_bbox = np.array([x0, y0, x1, y1])\n",
    "            is_recalled = recall_object(pre_bbox, gt_bbox)\n",
    "            recall_image = recall_image + int(is_recalled > 0.5)\n",
    "\n",
    "            batch_mkpts0 = torch.from_numpy(mkpts0).unsqueeze(0).float().to(device)\n",
    "            batch_mkpts1 = torch.from_numpy(mkpts1).unsqueeze(0).float().to(device)\n",
    "            pre_t, pre_rot = net(batch_mkpts0, batch_mkpts1)\n",
    "            # pre_t = pre_t.cpu()\n",
    "            # pre_rot = pre_rot.cpu()\n",
    "\n",
    "            batch_pose0 = torch.from_numpy(pose0).unsqueeze(0).float().to(device)\n",
    "            batch_pose1 = torch.from_numpy(pose1).unsqueeze(0).float().to(device)\n",
    "            # batch_relative_pose = torch.matmul(batch_pose1, batch_pose0.permute(0, 2, 1))\n",
    "            t_err, R_err = relative_pose_error(batch_pose1, pre_rot, pre_t, ignore_gt_t_thr=0.0)\n",
    "\n",
    "            metrics['t_errs'] = metrics['t_errs'] + np.array(t_err.reshape(-1).cpu().detach().numpy()).tolist()\n",
    "            metrics['R_errs'] = metrics['R_errs'] + np.array(R_err.reshape(-1).cpu().detach().numpy()).tolist()\n",
    "            metrics['identifiers'].append(pair_name)\n",
    "\n",
    "    print(f'Acc: {recall_image}/{all_image}')\n",
    "    val_metrics_4tb = aggregate_metrics(metrics, 5e-4)\n",
    "    val_metrics_4tb['AP50'] = recall_image / all_image\n",
    "    logger.info('\\n' + pprint.pformat(val_metrics_4tb))\n",
    "\n",
    "    obj_name = int(name[2:])\n",
    "\n",
    "    res_table.append([f\"{LM_id2name_dict[obj_name]}\"] + list(val_metrics_4tb.values()))"
   ]
  },
  {
   "cell_type": "code",
   "execution_count": 8,
   "metadata": {},
   "outputs": [
    {
     "name": "stdout",
     "output_type": "stream",
     "text": [
      "╒═════════════╤════════════╤════════════╤════════════╤═══════════╤═══════════════╤════════════╤════════════╤═══════════╤═══════════╤═══════════════╤══════════╕\n",
      "│ Category    │   R:auc@15 │   R:auc@30 │    R:ACC15 │   R:ACC30 │   R:medianErr │   t:auc@15 │   t:auc@30 │   t:ACC15 │   t:ACC30 │   t:medianErr │     AP50 │\n",
      "╞═════════════╪════════════╪════════════╪════════════╪═══════════╪═══════════════╪════════════╪════════════╪═══════════╪═══════════╪═══════════════╪══════════╡\n",
      "│ ape         │ 0.0052958  │  0.0250647 │ 0.01875    │ 0.09375   │       88.1588 │   0.475003 │   0.734022 │  0.95625  │         1 │       7.58212 │ 0.63125  │\n",
      "├─────────────┼────────────┼────────────┼────────────┼───────────┼───────────────┼────────────┼────────────┼───────────┼───────────┼───────────────┼──────────┤\n",
      "│ benchvise   │ 0.0104992  │  0.0400587 │ 0.0355191  │ 0.106557  │       95.2342 │   0.560692 │   0.779077 │  0.980874 │         1 │       6.49591 │ 0.327869 │\n",
      "├─────────────┼────────────┼────────────┼────────────┼───────────┼───────────────┼────────────┼────────────┼───────────┼───────────┼───────────────┼──────────┤\n",
      "│ camera      │ 0.00776557 │  0.0440466 │ 0.0214521  │ 0.143564  │       88.7504 │   0.643577 │   0.821789 │  1        │         1 │       4.94746 │ 0.476898 │\n",
      "├─────────────┼────────────┼────────────┼────────────┼───────────┼───────────────┼────────────┼────────────┼───────────┼───────────┼───────────────┼──────────┤\n",
      "│ can         │ 0.0128341  │  0.0507785 │ 0.0362319  │ 0.147343  │       91.3396 │   0.546061 │   0.771381 │  0.97343  │         1 │       6.43602 │ 0.727053 │\n",
      "├─────────────┼────────────┼────────────┼────────────┼───────────┼───────────────┼────────────┼────────────┼───────────┼───────────┼───────────────┼──────────┤\n",
      "│ cat         │ 0.0111052  │  0.0652518 │ 0.0358423  │ 0.173835  │       88.7606 │   0.545071 │   0.771724 │  0.982079 │         1 │       6.47729 │ 0.564516 │\n",
      "├─────────────┼────────────┼────────────┼────────────┼───────────┼───────────────┼────────────┼────────────┼───────────┼───────────┼───────────────┼──────────┤\n",
      "│ driller     │ 0.008324   │  0.0344943 │ 0.0151515  │ 0.0965909 │       97.371  │   0.557118 │   0.777349 │  0.975379 │         1 │       6.31882 │ 0.352273 │\n",
      "├─────────────┼────────────┼────────────┼────────────┼───────────┼───────────────┼────────────┼────────────┼───────────┼───────────┼───────────────┼──────────┤\n",
      "│ duck        │ 0.00729269 │  0.0407762 │ 0.0294118  │ 0.121569  │       88.4844 │   0.582258 │   0.790143 │  0.978431 │         1 │       6.02212 │ 0.660784 │\n",
      "├─────────────┼────────────┼────────────┼────────────┼───────────┼───────────────┼────────────┼────────────┼───────────┼───────────┼───────────────┼──────────┤\n",
      "│ eggbox      │ 0.00306834 │  0.0266815 │ 0.0111111  │ 0.0925926 │       97.395  │   0.641913 │   0.82096  │  0.996296 │         1 │       5.0235  │ 0.714815 │\n",
      "├─────────────┼────────────┼────────────┼────────────┼───────────┼───────────────┼────────────┼────────────┼───────────┼───────────┼───────────────┼──────────┤\n",
      "│ glue        │ 0.0119954  │  0.0435818 │ 0.0350109  │ 0.105033  │       94.2541 │   0.575434 │   0.787117 │  0.989059 │         1 │       6.13737 │ 0.521645 │\n",
      "├─────────────┼────────────┼────────────┼────────────┼───────────┼───────────────┼────────────┼────────────┼───────────┼───────────┼───────────────┼──────────┤\n",
      "│ holepuncher │ 0.00533791 │  0.0270434 │ 0.0130152  │ 0.0954447 │       92.3025 │   0.589115 │   0.794205 │  0.986985 │         1 │       5.38496 │ 0.634199 │\n",
      "├─────────────┼────────────┼────────────┼────────────┼───────────┼───────────────┼────────────┼────────────┼───────────┼───────────┼───────────────┼──────────┤\n",
      "│ iron        │ 0.0069294  │  0.0241889 │ 0.0204082  │ 0.085034  │       96.7684 │   0.590237 │   0.794416 │  0.986395 │         1 │       5.73308 │ 0.564626 │\n",
      "├─────────────┼────────────┼────────────┼────────────┼───────────┼───────────────┼────────────┼────────────┼───────────┼───────────┼───────────────┼──────────┤\n",
      "│ lamp        │ 0.0025316  │  0.0297706 │ 0.00995025 │ 0.0995025 │       96.1102 │   0.558004 │   0.778082 │  0.985075 │         1 │       6.47461 │ 0.445274 │\n",
      "├─────────────┼────────────┼────────────┼────────────┼───────────┼───────────────┼────────────┼────────────┼───────────┼───────────┼───────────────┼──────────┤\n",
      "│ phone       │ 0.00745122 │  0.0281998 │ 0.0202703  │ 0.0900901 │       92.2221 │   0.569805 │   0.784642 │  0.990991 │         1 │       5.97463 │ 0.342342 │\n",
      "├─────────────┼────────────┼────────────┼────────────┼───────────┼───────────────┼────────────┼────────────┼───────────┼───────────┼───────────────┼──────────┤\n",
      "│ Avg         │ 0.00772542 │  0.0369182 │ 0.0232404  │ 0.111608  │       92.8578 │   0.571868 │   0.784993 │  0.983173 │         1 │       6.07753 │ 0.535657 │\n",
      "╘═════════════╧════════════╧════════════╧════════════╧═══════════╧═══════════════╧════════════╧════════════╧═══════════╧═══════════╧═══════════════╧══════════╛\n"
     ]
    }
   ],
   "source": [
    "headers = [\"Category\"] + list(val_metrics_4tb.keys())\n",
    "all_data = np.array(res_table)[:, 1:].astype(np.float32)\n",
    "res_table.append([\"Avg\"] + all_data.mean(0).tolist())\n",
    "print(tabulate(res_table, headers=headers, tablefmt='fancy_grid'))"
   ]
  },
  {
   "cell_type": "code",
   "execution_count": null,
   "metadata": {},
   "outputs": [],
   "source": []
  }
 ],
 "metadata": {
  "kernelspec": {
   "display_name": "pope",
   "language": "python",
   "name": "python3"
  },
  "language_info": {
   "codemirror_mode": {
    "name": "ipython",
    "version": 3
   },
   "file_extension": ".py",
   "mimetype": "text/x-python",
   "name": "python",
   "nbconvert_exporter": "python",
   "pygments_lexer": "ipython3",
   "version": "3.8.18"
  }
 },
 "nbformat": 4,
 "nbformat_minor": 2
}
