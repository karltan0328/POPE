{
 "cells": [
  {
   "cell_type": "code",
   "execution_count": 1,
   "metadata": {},
   "outputs": [],
   "source": [
    "import os\n",
    "import cv2\n",
    "import json\n",
    "import torch\n",
    "import pprint\n",
    "import numpy as np\n",
    "from tqdm import tqdm\n",
    "from loguru import logger\n",
    "from tabulate import tabulate\n",
    "\n",
    "from pose.utils import collate_fn, geodesic_distance, relative_pose_error, aggregate_metrics, recall_object, project_points"
   ]
  },
  {
   "cell_type": "code",
   "execution_count": 2,
   "metadata": {},
   "outputs": [],
   "source": [
    "LM_id2name_dict = {\n",
    "    1: 'ape',\n",
    "    2: 'benchvise',\n",
    "    4: 'camera',\n",
    "    5: 'can',\n",
    "    6: 'cat',\n",
    "    8: 'driller',\n",
    "    9: 'duck',\n",
    "    10: 'eggbox',\n",
    "    11: 'glue',\n",
    "    12: 'holepuncher',\n",
    "    13: 'iron',\n",
    "    14: 'lamp',\n",
    "    15: 'phone',\n",
    "}"
   ]
  },
  {
   "cell_type": "code",
   "execution_count": 3,
   "metadata": {},
   "outputs": [
    {
     "data": {
      "text/plain": [
       "13"
      ]
     },
     "execution_count": 3,
     "metadata": {},
     "output_type": "execute_result"
    }
   ],
   "source": [
    "with open(\"data/pairs/LINEMOD-test.json\") as f:\n",
    "    dir_list = json.load(f)\n",
    "len(dir_list)"
   ]
  },
  {
   "cell_type": "code",
   "execution_count": 4,
   "metadata": {},
   "outputs": [],
   "source": [
    "ROOT_DIR = 'data/LM_dataset/'"
   ]
  },
  {
   "cell_type": "code",
   "execution_count": 5,
   "metadata": {},
   "outputs": [],
   "source": [
    "res_table = []"
   ]
  },
  {
   "cell_type": "code",
   "execution_count": 6,
   "metadata": {},
   "outputs": [
    {
     "data": {
      "text/plain": [
       "Mkpts_Reg_Model(\n",
       "  (embedding): Embedding()\n",
       "  (transformerlayer): TransformerEncoderLayer(\n",
       "    (self_attn): MultiheadAttention(\n",
       "      (out_proj): NonDynamicallyQuantizableLinear(in_features=76, out_features=76, bias=True)\n",
       "    )\n",
       "    (linear1): Linear(in_features=76, out_features=2048, bias=True)\n",
       "    (dropout): Dropout(p=0.1, inplace=False)\n",
       "    (linear2): Linear(in_features=2048, out_features=76, bias=True)\n",
       "    (norm1): LayerNorm((76,), eps=1e-05, elementwise_affine=True)\n",
       "    (norm2): LayerNorm((76,), eps=1e-05, elementwise_affine=True)\n",
       "    (dropout1): Dropout(p=0.1, inplace=False)\n",
       "    (dropout2): Dropout(p=0.1, inplace=False)\n",
       "  )\n",
       "  (transformer): TransformerEncoder(\n",
       "    (layers): ModuleList(\n",
       "      (0-3): 4 x TransformerEncoderLayer(\n",
       "        (self_attn): MultiheadAttention(\n",
       "          (out_proj): NonDynamicallyQuantizableLinear(in_features=76, out_features=76, bias=True)\n",
       "        )\n",
       "        (linear1): Linear(in_features=76, out_features=2048, bias=True)\n",
       "        (dropout): Dropout(p=0.1, inplace=False)\n",
       "        (linear2): Linear(in_features=2048, out_features=76, bias=True)\n",
       "        (norm1): LayerNorm((76,), eps=1e-05, elementwise_affine=True)\n",
       "        (norm2): LayerNorm((76,), eps=1e-05, elementwise_affine=True)\n",
       "        (dropout1): Dropout(p=0.1, inplace=False)\n",
       "        (dropout2): Dropout(p=0.1, inplace=False)\n",
       "      )\n",
       "    )\n",
       "  )\n",
       "  (translation_head): Linear(in_features=128, out_features=3, bias=True)\n",
       "  (rotation_head): Linear(in_features=128, out_features=6, bias=True)\n",
       "  (mlp): Sequential(\n",
       "    (0): Linear(in_features=30400, out_features=128, bias=True)\n",
       "    (1): LeakyReLU(negative_slope=0.01)\n",
       "    (2): Linear(in_features=128, out_features=128, bias=True)\n",
       "  )\n",
       ")"
      ]
     },
     "execution_count": 6,
     "metadata": {},
     "output_type": "execute_result"
    }
   ],
   "source": [
    "device = torch.device('cuda' if torch.cuda.is_available() else 'cpu')\n",
    "# device = 'cpu'\n",
    "\n",
    "num_sample = 400\n",
    "\n",
    "net = torch.load('./weights/6d-2023-12-28-20-34-25-0.4200.pth').to(device)\n",
    "\n",
    "net.eval()"
   ]
  },
  {
   "cell_type": "code",
   "execution_count": 7,
   "metadata": {},
   "outputs": [
    {
     "name": "stderr",
     "output_type": "stream",
     "text": [
      "\u001b[32m2023-12-31 15:21:43.089\u001b[0m | \u001b[1mINFO    \u001b[0m | \u001b[36m__main__\u001b[0m:\u001b[36m<module>\u001b[0m:\u001b[36m2\u001b[0m - \u001b[1mLINEMOD: 1/13\u001b[0m\n",
      "  0%|          | 0/80 [00:00<?, ?it/s]"
     ]
    },
    {
     "name": "stderr",
     "output_type": "stream",
     "text": [
      "100%|██████████| 80/80 [00:02<00:00, 28.41it/s]\n",
      "100%|██████████| 80/80 [00:00<00:00, 80.10it/s]\n",
      "100%|██████████| 80/80 [00:01<00:00, 77.89it/s]\n",
      "100%|██████████| 80/80 [00:01<00:00, 76.40it/s]\n",
      "100%|██████████| 80/80 [00:01<00:00, 77.98it/s]\n",
      "100%|██████████| 80/80 [00:00<00:00, 80.81it/s]\n",
      "\u001b[32m2023-12-31 15:21:51.017\u001b[0m | \u001b[1mINFO    \u001b[0m | \u001b[36m__main__\u001b[0m:\u001b[36m<module>\u001b[0m:\u001b[36m86\u001b[0m - \u001b[1m\n",
      "{'AP50': 0.63125,\n",
      " 'R:ACC15': 0.24375,\n",
      " 'R:ACC30': 0.28958333333333336,\n",
      " 'R:auc@15': 0.23179413063658608,\n",
      " 'R:auc@30': 0.24973386110530962,\n",
      " 'R:medianErr': 76.86666107177734,\n",
      " 't:ACC15': 0.45,\n",
      " 't:ACC30': 0.9729166666666667,\n",
      " 't:auc@15': 0.12969979469974835,\n",
      " 't:auc@30': 0.46249421397017104,\n",
      " 't:medianErr': 16.02840518951416}\u001b[0m\n",
      "\u001b[32m2023-12-31 15:21:51.018\u001b[0m | \u001b[1mINFO    \u001b[0m | \u001b[36m__main__\u001b[0m:\u001b[36m<module>\u001b[0m:\u001b[36m2\u001b[0m - \u001b[1mLINEMOD: 2/13\u001b[0m\n"
     ]
    },
    {
     "name": "stdout",
     "output_type": "stream",
     "text": [
      "Acc: 303/480\n"
     ]
    },
    {
     "name": "stderr",
     "output_type": "stream",
     "text": [
      "100%|██████████| 61/61 [00:00<00:00, 79.69it/s]\n",
      "100%|██████████| 61/61 [00:02<00:00, 27.62it/s]\n",
      "100%|██████████| 61/61 [00:02<00:00, 21.46it/s]\n",
      "100%|██████████| 61/61 [00:02<00:00, 21.60it/s]\n",
      "100%|██████████| 61/61 [00:02<00:00, 22.46it/s]\n",
      "100%|██████████| 61/61 [00:02<00:00, 23.13it/s]\n",
      "\u001b[32m2023-12-31 15:22:05.030\u001b[0m | \u001b[1mINFO    \u001b[0m | \u001b[36m__main__\u001b[0m:\u001b[36m<module>\u001b[0m:\u001b[36m86\u001b[0m - \u001b[1m\n",
      "{'AP50': 0.32786885245901637,\n",
      " 'R:ACC15': 0.1721311475409836,\n",
      " 'R:ACC30': 0.2103825136612022,\n",
      " 'R:auc@15': 0.16680320494813344,\n",
      " 'R:auc@30': 0.17886978177207846,\n",
      " 'R:medianErr': 86.61799621582031,\n",
      " 't:ACC15': 0.6311475409836066,\n",
      " 't:ACC30': 0.9918032786885246,\n",
      " 't:auc@15': 0.23754500279878227,\n",
      " 't:auc@30': 0.5712620103131226,\n",
      " 't:medianErr': 12.97579574584961}\u001b[0m\n",
      "\u001b[32m2023-12-31 15:22:05.031\u001b[0m | \u001b[1mINFO    \u001b[0m | \u001b[36m__main__\u001b[0m:\u001b[36m<module>\u001b[0m:\u001b[36m2\u001b[0m - \u001b[1mLINEMOD: 3/13\u001b[0m\n"
     ]
    },
    {
     "name": "stdout",
     "output_type": "stream",
     "text": [
      "Acc: 120/366\n"
     ]
    },
    {
     "name": "stderr",
     "output_type": "stream",
     "text": [
      "100%|██████████| 101/101 [00:04<00:00, 21.41it/s]\n",
      "100%|██████████| 101/101 [00:04<00:00, 21.14it/s]\n",
      "100%|██████████| 101/101 [00:04<00:00, 21.79it/s]\n",
      "100%|██████████| 101/101 [00:04<00:00, 23.50it/s]\n",
      "100%|██████████| 101/101 [00:04<00:00, 23.35it/s]\n",
      "100%|██████████| 101/101 [00:04<00:00, 23.71it/s]\n",
      "\u001b[32m2023-12-31 15:22:32.064\u001b[0m | \u001b[1mINFO    \u001b[0m | \u001b[36m__main__\u001b[0m:\u001b[36m<module>\u001b[0m:\u001b[36m86\u001b[0m - \u001b[1m\n",
      "{'AP50': 0.4768976897689769,\n",
      " 'R:ACC15': 0.21287128712871287,\n",
      " 'R:ACC30': 0.2508250825082508,\n",
      " 'R:auc@15': 0.20562884797095202,\n",
      " 'R:auc@30': 0.21786760907493147,\n",
      " 'R:medianErr': 82.42386245727539,\n",
      " 't:ACC15': 0.7970297029702971,\n",
      " 't:ACC30': 1.0,\n",
      " 't:auc@15': 0.3126462292094173,\n",
      " 't:auc@30': 0.6383773557882759,\n",
      " 't:medianErr': 10.889058589935303}\u001b[0m\n",
      "\u001b[32m2023-12-31 15:22:32.065\u001b[0m | \u001b[1mINFO    \u001b[0m | \u001b[36m__main__\u001b[0m:\u001b[36m<module>\u001b[0m:\u001b[36m2\u001b[0m - \u001b[1mLINEMOD: 4/13\u001b[0m\n"
     ]
    },
    {
     "name": "stdout",
     "output_type": "stream",
     "text": [
      "Acc: 289/606\n"
     ]
    },
    {
     "name": "stderr",
     "output_type": "stream",
     "text": [
      "100%|██████████| 69/69 [00:03<00:00, 20.43it/s]\n",
      "100%|██████████| 69/69 [00:03<00:00, 20.48it/s]\n",
      "100%|██████████| 69/69 [00:03<00:00, 21.81it/s]\n",
      "100%|██████████| 69/69 [00:03<00:00, 22.16it/s]\n",
      "100%|██████████| 69/69 [00:02<00:00, 23.71it/s]\n",
      "100%|██████████| 69/69 [00:02<00:00, 23.71it/s]\n",
      "\u001b[32m2023-12-31 15:22:50.924\u001b[0m | \u001b[1mINFO    \u001b[0m | \u001b[36m__main__\u001b[0m:\u001b[36m<module>\u001b[0m:\u001b[36m86\u001b[0m - \u001b[1m\n",
      "{'AP50': 0.7270531400966184,\n",
      " 'R:ACC15': 0.19806763285024154,\n",
      " 'R:ACC30': 0.2463768115942029,\n",
      " 'R:auc@15': 0.1926806952066467,\n",
      " 'R:auc@30': 0.20663985991055647,\n",
      " 'R:medianErr': 78.64070892333984,\n",
      " 't:ACC15': 0.6932367149758454,\n",
      " 't:ACC30': 1.0,\n",
      " 't:auc@15': 0.269058325190859,\n",
      " 't:auc@30': 0.5955146241591173,\n",
      " 't:medianErr': 11.899787902832031}\u001b[0m\n",
      "\u001b[32m2023-12-31 15:22:50.925\u001b[0m | \u001b[1mINFO    \u001b[0m | \u001b[36m__main__\u001b[0m:\u001b[36m<module>\u001b[0m:\u001b[36m2\u001b[0m - \u001b[1mLINEMOD: 5/13\u001b[0m\n"
     ]
    },
    {
     "name": "stdout",
     "output_type": "stream",
     "text": [
      "Acc: 301/414\n"
     ]
    },
    {
     "name": "stderr",
     "output_type": "stream",
     "text": [
      "100%|██████████| 93/93 [00:04<00:00, 19.93it/s]\n",
      "100%|██████████| 93/93 [00:04<00:00, 20.88it/s]\n",
      "100%|██████████| 93/93 [00:04<00:00, 21.45it/s]\n",
      "100%|██████████| 93/93 [00:04<00:00, 23.04it/s]\n",
      "100%|██████████| 93/93 [00:03<00:00, 23.85it/s]\n",
      "100%|██████████| 93/93 [00:03<00:00, 24.64it/s]\n",
      "\u001b[32m2023-12-31 15:23:16.109\u001b[0m | \u001b[1mINFO    \u001b[0m | \u001b[36m__main__\u001b[0m:\u001b[36m<module>\u001b[0m:\u001b[36m86\u001b[0m - \u001b[1m\n",
      "{'AP50': 0.5645161290322581,\n",
      " 'R:ACC15': 0.24910394265232974,\n",
      " 'R:ACC30': 0.2831541218637993,\n",
      " 'R:auc@15': 0.23874872024198873,\n",
      " 'R:auc@30': 0.25004956129773687,\n",
      " 'R:medianErr': 76.53632736206055,\n",
      " 't:ACC15': 0.6774193548387096,\n",
      " 't:ACC30': 0.9982078853046595,\n",
      " 't:auc@15': 0.24985921460525393,\n",
      " 't:auc@30': 0.582896486950177,\n",
      " 't:medianErr': 12.11104965209961}\u001b[0m\n",
      "\u001b[32m2023-12-31 15:23:16.110\u001b[0m | \u001b[1mINFO    \u001b[0m | \u001b[36m__main__\u001b[0m:\u001b[36m<module>\u001b[0m:\u001b[36m2\u001b[0m - \u001b[1mLINEMOD: 6/13\u001b[0m\n"
     ]
    },
    {
     "name": "stdout",
     "output_type": "stream",
     "text": [
      "Acc: 315/558\n"
     ]
    },
    {
     "name": "stderr",
     "output_type": "stream",
     "text": [
      "100%|██████████| 88/88 [00:04<00:00, 20.71it/s]\n",
      "100%|██████████| 88/88 [00:04<00:00, 21.34it/s]\n",
      "100%|██████████| 88/88 [00:03<00:00, 22.19it/s]\n",
      "100%|██████████| 88/88 [00:03<00:00, 22.75it/s]\n",
      "100%|██████████| 88/88 [00:03<00:00, 24.06it/s]\n",
      "100%|██████████| 88/88 [00:03<00:00, 22.99it/s]\n",
      "\u001b[32m2023-12-31 15:23:39.823\u001b[0m | \u001b[1mINFO    \u001b[0m | \u001b[36m__main__\u001b[0m:\u001b[36m<module>\u001b[0m:\u001b[36m86\u001b[0m - \u001b[1m\n",
      "{'AP50': 0.3522727272727273,\n",
      " 'R:ACC15': 0.20265151515151514,\n",
      " 'R:ACC30': 0.24242424242424243,\n",
      " 'R:auc@15': 0.1877782632004131,\n",
      " 'R:auc@30': 0.2062790595220797,\n",
      " 'R:medianErr': 80.10454940795898,\n",
      " 't:ACC15': 0.5681818181818182,\n",
      " 't:ACC30': 0.9886363636363636,\n",
      " 't:auc@15': 0.18685998338641543,\n",
      " 't:auc@30': 0.5312141222183151,\n",
      " 't:medianErr': 13.761402130126953}\u001b[0m\n",
      "\u001b[32m2023-12-31 15:23:39.824\u001b[0m | \u001b[1mINFO    \u001b[0m | \u001b[36m__main__\u001b[0m:\u001b[36m<module>\u001b[0m:\u001b[36m2\u001b[0m - \u001b[1mLINEMOD: 7/13\u001b[0m\n"
     ]
    },
    {
     "name": "stdout",
     "output_type": "stream",
     "text": [
      "Acc: 186/528\n"
     ]
    },
    {
     "name": "stderr",
     "output_type": "stream",
     "text": [
      "100%|██████████| 85/85 [00:04<00:00, 18.66it/s]\n",
      "100%|██████████| 85/85 [00:04<00:00, 20.60it/s]\n",
      "100%|██████████| 85/85 [00:04<00:00, 21.23it/s]\n",
      "100%|██████████| 85/85 [00:03<00:00, 22.40it/s]\n",
      "100%|██████████| 85/85 [00:03<00:00, 22.60it/s]\n",
      "100%|██████████| 85/85 [00:03<00:00, 23.63it/s]\n",
      "\u001b[32m2023-12-31 15:24:03.686\u001b[0m | \u001b[1mINFO    \u001b[0m | \u001b[36m__main__\u001b[0m:\u001b[36m<module>\u001b[0m:\u001b[36m86\u001b[0m - \u001b[1m\n",
      "{'AP50': 0.6607843137254902,\n",
      " 'R:ACC15': 0.19411764705882353,\n",
      " 'R:ACC30': 0.23921568627450981,\n",
      " 'R:auc@15': 0.183912147571838,\n",
      " 'R:auc@30': 0.19873764025619603,\n",
      " 'R:medianErr': 78.43517684936523,\n",
      " 't:ACC15': 0.692156862745098,\n",
      " 't:ACC30': 1.0,\n",
      " 't:auc@15': 0.25066194454828894,\n",
      " 't:auc@30': 0.5900558475497503,\n",
      " 't:medianErr': 12.060132503509521}\u001b[0m\n",
      "\u001b[32m2023-12-31 15:24:03.687\u001b[0m | \u001b[1mINFO    \u001b[0m | \u001b[36m__main__\u001b[0m:\u001b[36m<module>\u001b[0m:\u001b[36m2\u001b[0m - \u001b[1mLINEMOD: 8/13\u001b[0m\n"
     ]
    },
    {
     "name": "stdout",
     "output_type": "stream",
     "text": [
      "Acc: 337/510\n"
     ]
    },
    {
     "name": "stderr",
     "output_type": "stream",
     "text": [
      "100%|██████████| 45/45 [00:02<00:00, 19.44it/s]\n",
      "100%|██████████| 45/45 [00:02<00:00, 19.84it/s]\n",
      "100%|██████████| 45/45 [00:02<00:00, 19.65it/s]\n",
      "100%|██████████| 45/45 [00:02<00:00, 20.46it/s]\n",
      "100%|██████████| 45/45 [00:02<00:00, 21.25it/s]\n",
      "100%|██████████| 45/45 [00:02<00:00, 20.42it/s]\n",
      "\u001b[32m2023-12-31 15:24:17.099\u001b[0m | \u001b[1mINFO    \u001b[0m | \u001b[36m__main__\u001b[0m:\u001b[36m<module>\u001b[0m:\u001b[36m86\u001b[0m - \u001b[1m\n",
      "{'AP50': 0.7148148148148148,\n",
      " 'R:ACC15': 0.2,\n",
      " 'R:ACC30': 0.24814814814814815,\n",
      " 'R:auc@15': 0.19463373419679242,\n",
      " 'R:auc@30': 0.21208475477901506,\n",
      " 'R:medianErr': 84.54711532592773,\n",
      " 't:ACC15': 0.8296296296296296,\n",
      " 't:ACC30': 0.9962962962962963,\n",
      " 't:auc@15': 0.35638351200539387,\n",
      " 't:auc@30': 0.6556920562335004,\n",
      " 't:medianErr': 9.606907844543457}\u001b[0m\n",
      "\u001b[32m2023-12-31 15:24:17.100\u001b[0m | \u001b[1mINFO    \u001b[0m | \u001b[36m__main__\u001b[0m:\u001b[36m<module>\u001b[0m:\u001b[36m2\u001b[0m - \u001b[1mLINEMOD: 9/13\u001b[0m\n"
     ]
    },
    {
     "name": "stdout",
     "output_type": "stream",
     "text": [
      "Acc: 193/270\n"
     ]
    },
    {
     "name": "stderr",
     "output_type": "stream",
     "text": [
      "100%|██████████| 77/77 [00:03<00:00, 19.49it/s]\n",
      "100%|██████████| 77/77 [00:03<00:00, 20.97it/s]\n",
      "100%|██████████| 77/77 [00:03<00:00, 21.42it/s]\n",
      "100%|██████████| 77/77 [00:03<00:00, 22.50it/s]\n",
      "100%|██████████| 77/77 [00:03<00:00, 23.33it/s]\n",
      "100%|██████████| 77/77 [00:03<00:00, 22.71it/s]\n",
      "\u001b[32m2023-12-31 15:24:38.449\u001b[0m | \u001b[1mINFO    \u001b[0m | \u001b[36m__main__\u001b[0m:\u001b[36m<module>\u001b[0m:\u001b[36m86\u001b[0m - \u001b[1m\n",
      "{'AP50': 0.5216450216450217,\n",
      " 'R:ACC15': 0.2188183807439825,\n",
      " 'R:ACC30': 0.24070021881838075,\n",
      " 'R:auc@15': 0.211887511747932,\n",
      " 'R:auc@30': 0.21994526457560495,\n",
      " 'R:medianErr': 86.04644012451172,\n",
      " 't:ACC15': 0.6980306345733042,\n",
      " 't:ACC30': 0.9890590809628009,\n",
      " 't:auc@15': 0.24744392744734892,\n",
      " 't:auc@30': 0.5836854915519772,\n",
      " 't:medianErr': 12.304258346557617}\u001b[0m\n",
      "\u001b[32m2023-12-31 15:24:38.450\u001b[0m | \u001b[1mINFO    \u001b[0m | \u001b[36m__main__\u001b[0m:\u001b[36m<module>\u001b[0m:\u001b[36m2\u001b[0m - \u001b[1mLINEMOD: 10/13\u001b[0m\n"
     ]
    },
    {
     "name": "stdout",
     "output_type": "stream",
     "text": [
      "Acc: 241/462\n"
     ]
    },
    {
     "name": "stderr",
     "output_type": "stream",
     "text": [
      "100%|██████████| 77/77 [00:03<00:00, 19.74it/s]\n",
      "100%|██████████| 77/77 [00:03<00:00, 21.04it/s]\n",
      "100%|██████████| 77/77 [00:03<00:00, 21.32it/s]\n",
      "100%|██████████| 77/77 [00:03<00:00, 23.11it/s]\n",
      "100%|██████████| 77/77 [00:03<00:00, 22.97it/s]\n",
      "100%|██████████| 77/77 [00:03<00:00, 23.83it/s]\n",
      "\u001b[32m2023-12-31 15:24:59.560\u001b[0m | \u001b[1mINFO    \u001b[0m | \u001b[36m__main__\u001b[0m:\u001b[36m<module>\u001b[0m:\u001b[36m86\u001b[0m - \u001b[1m\n",
      "{'AP50': 0.6341991341991342,\n",
      " 'R:ACC15': 0.210412147505423,\n",
      " 'R:ACC30': 0.23644251626898047,\n",
      " 'R:auc@15': 0.20800671911894716,\n",
      " 'R:auc@30': 0.21548052020290148,\n",
      " 'R:medianErr': 80.71763610839844,\n",
      " 't:ACC15': 0.5813449023861171,\n",
      " 't:ACC30': 0.9891540130151844,\n",
      " 't:auc@15': 0.1931504742959575,\n",
      " 't:auc@30': 0.5423660070587567,\n",
      " 't:medianErr': 13.849287986755371}\u001b[0m\n",
      "\u001b[32m2023-12-31 15:24:59.561\u001b[0m | \u001b[1mINFO    \u001b[0m | \u001b[36m__main__\u001b[0m:\u001b[36m<module>\u001b[0m:\u001b[36m2\u001b[0m - \u001b[1mLINEMOD: 11/13\u001b[0m\n"
     ]
    },
    {
     "name": "stdout",
     "output_type": "stream",
     "text": [
      "Acc: 293/462\n"
     ]
    },
    {
     "name": "stderr",
     "output_type": "stream",
     "text": [
      "100%|██████████| 49/49 [00:02<00:00, 18.70it/s]\n",
      "100%|██████████| 49/49 [00:02<00:00, 19.41it/s]\n",
      "100%|██████████| 49/49 [00:02<00:00, 21.67it/s]\n",
      "100%|██████████| 49/49 [00:02<00:00, 21.25it/s]\n",
      "100%|██████████| 49/49 [00:02<00:00, 21.83it/s]\n",
      "100%|██████████| 49/49 [00:02<00:00, 20.94it/s]\n",
      "\u001b[32m2023-12-31 15:25:13.874\u001b[0m | \u001b[1mINFO    \u001b[0m | \u001b[36m__main__\u001b[0m:\u001b[36m<module>\u001b[0m:\u001b[36m86\u001b[0m - \u001b[1m\n",
      "{'AP50': 0.564625850340136,\n",
      " 'R:ACC15': 0.25170068027210885,\n",
      " 'R:ACC30': 0.2857142857142857,\n",
      " 'R:auc@15': 0.23935355480566048,\n",
      " 'R:auc@30': 0.25398368613790223,\n",
      " 'R:medianErr': 76.4009780883789,\n",
      " 't:ACC15': 0.8197278911564626,\n",
      " 't:ACC30': 0.9931972789115646,\n",
      " 't:auc@15': 0.3679553422527789,\n",
      " 't:auc@30': 0.662258932393154,\n",
      " 't:medianErr': 9.196101188659668}\u001b[0m\n",
      "\u001b[32m2023-12-31 15:25:13.875\u001b[0m | \u001b[1mINFO    \u001b[0m | \u001b[36m__main__\u001b[0m:\u001b[36m<module>\u001b[0m:\u001b[36m2\u001b[0m - \u001b[1mLINEMOD: 12/13\u001b[0m\n"
     ]
    },
    {
     "name": "stdout",
     "output_type": "stream",
     "text": [
      "Acc: 166/294\n"
     ]
    },
    {
     "name": "stderr",
     "output_type": "stream",
     "text": [
      "100%|██████████| 67/67 [00:03<00:00, 19.88it/s]\n",
      "100%|██████████| 67/67 [00:03<00:00, 20.25it/s]\n",
      "100%|██████████| 67/67 [00:03<00:00, 20.95it/s]\n",
      "100%|██████████| 67/67 [00:03<00:00, 22.21it/s]\n",
      "100%|██████████| 67/67 [00:03<00:00, 22.08it/s]\n",
      "100%|██████████| 67/67 [00:02<00:00, 22.58it/s]\n",
      "\u001b[32m2023-12-31 15:25:32.790\u001b[0m | \u001b[1mINFO    \u001b[0m | \u001b[36m__main__\u001b[0m:\u001b[36m<module>\u001b[0m:\u001b[36m86\u001b[0m - \u001b[1m\n",
      "{'AP50': 0.44527363184079605,\n",
      " 'R:ACC15': 0.19651741293532338,\n",
      " 'R:ACC30': 0.23134328358208955,\n",
      " 'R:auc@15': 0.19094838265755876,\n",
      " 'R:auc@30': 0.20181730469660975,\n",
      " 'R:medianErr': 85.05020523071289,\n",
      " 't:ACC15': 0.6616915422885572,\n",
      " 't:ACC30': 1.0,\n",
      " 't:auc@15': 0.23170418494178682,\n",
      " 't:auc@30': 0.5746836587959656,\n",
      " 't:medianErr': 12.617372989654541}\u001b[0m\n",
      "\u001b[32m2023-12-31 15:25:32.790\u001b[0m | \u001b[1mINFO    \u001b[0m | \u001b[36m__main__\u001b[0m:\u001b[36m<module>\u001b[0m:\u001b[36m2\u001b[0m - \u001b[1mLINEMOD: 13/13\u001b[0m\n"
     ]
    },
    {
     "name": "stdout",
     "output_type": "stream",
     "text": [
      "Acc: 179/402\n"
     ]
    },
    {
     "name": "stderr",
     "output_type": "stream",
     "text": [
      "100%|██████████| 74/74 [00:03<00:00, 19.95it/s]\n",
      "100%|██████████| 74/74 [00:03<00:00, 20.41it/s]\n",
      "100%|██████████| 74/74 [00:03<00:00, 21.22it/s]\n",
      "100%|██████████| 74/74 [00:03<00:00, 20.03it/s]\n",
      "100%|██████████| 74/74 [00:03<00:00, 20.77it/s]\n",
      "100%|██████████| 74/74 [00:03<00:00, 21.41it/s]\n",
      "\u001b[32m2023-12-31 15:25:54.345\u001b[0m | \u001b[1mINFO    \u001b[0m | \u001b[36m__main__\u001b[0m:\u001b[36m<module>\u001b[0m:\u001b[36m86\u001b[0m - \u001b[1m\n",
      "{'AP50': 0.34234234234234234,\n",
      " 'R:ACC15': 0.21396396396396397,\n",
      " 'R:ACC30': 0.2545045045045045,\n",
      " 'R:auc@15': 0.20787893379772748,\n",
      " 'R:auc@30': 0.22144781530082405,\n",
      " 'R:medianErr': 85.05636978149414,\n",
      " 't:ACC15': 0.7184684684684685,\n",
      " 't:ACC30': 0.9932432432432432,\n",
      " 't:auc@15': 0.25866697107528425,\n",
      " 't:auc@30': 0.5945103303492963,\n",
      " 't:medianErr': 11.539241790771484}\u001b[0m\n"
     ]
    },
    {
     "name": "stdout",
     "output_type": "stream",
     "text": [
      "Acc: 152/444\n"
     ]
    }
   ],
   "source": [
    "for label_idx, test_dict in enumerate(dir_list):\n",
    "    logger.info(f\"LINEMOD: {label_idx + 1}/{len(dir_list)}\")\n",
    "    metrics = dict()\n",
    "    metrics.update({'R_errs':[], 't_errs':[], 'inliers':[], \"identifiers\":[]})\n",
    "    sample_data = dir_list[label_idx][\"0\"][0]\n",
    "    label = sample_data.split(\"/\")[0]\n",
    "    name = label.split(\"-\")[1]\n",
    "    dir_name = os.path.dirname(sample_data)\n",
    "    FULL_ROOT_DIR = os.path.join(ROOT_DIR, dir_name)\n",
    "    recall_image, all_image = 0, 0\n",
    "    for rotation_key, rotation_list in zip(test_dict.keys(), test_dict.values()):\n",
    "        for pair_idx, pair_name in enumerate(tqdm(rotation_list)):\n",
    "            all_image = all_image + 1\n",
    "            base_name = os.path.basename(pair_name)\n",
    "            idx0_name = base_name.split(\"-\")[0]\n",
    "            idx1_name = base_name.split(\"-\")[1]\n",
    "            image0_name = os.path.join(FULL_ROOT_DIR, idx0_name)\n",
    "            image1_name = os.path.join(FULL_ROOT_DIR.replace(\"color\", \"color_full\"), idx1_name)\n",
    "\n",
    "            K0_path = image0_name.replace(\"color\", \"intrin_ba\").replace(\"png\", \"txt\")\n",
    "            K1_path = image1_name.replace(\"color_full\", \"intrin\").replace(\"png\", \"txt\")\n",
    "            K0 = np.loadtxt(K0_path)\n",
    "            K1 = np.loadtxt(K1_path)\n",
    "\n",
    "            pose0_path = image0_name.replace(\"color\", \"poses_ba\").replace(\"png\", \"txt\")\n",
    "            pose1_path = image1_name.replace(\"color_full\", \"poses_ba\").replace(\"png\", \"txt\")\n",
    "            pose0 = np.loadtxt(pose0_path)\n",
    "            pose1 = np.loadtxt(pose1_path)\n",
    "            if pose0.shape[0] == 3:\n",
    "                pose0 = np.concatenate([pose0, np.array([[0, 0, 0, 1]])], axis=0)\n",
    "                pose1 = np.concatenate([pose1, np.array([[0, 0, 0, 1]])], axis=0)\n",
    "\n",
    "            points_file_path = os.path.join('d:/git_project/POPE/data/LM_dataset-points/', pair_name.split(\"/\")[0])\n",
    "            pre_bbox_path = os.path.join(points_file_path, \"pre_bbox\")\n",
    "            mkpts0_path = os.path.join(points_file_path, \"mkpts0\")\n",
    "            mkpts1_path = os.path.join(points_file_path, \"mkpts1\")\n",
    "            pre_K_path = os.path.join(points_file_path, \"pre_K\")\n",
    "            points_name = pair_name.split(\"/\")[-1]\n",
    "            pre_bbox_path = os.path.join(pre_bbox_path, f'{points_name}.txt')\n",
    "            mkpts0_path = os.path.join(mkpts0_path, f'{points_name}.txt')\n",
    "            mkpts1_path = os.path.join(mkpts1_path, f'{points_name}.txt')\n",
    "            pre_K_path = os.path.join(pre_K_path, f'{points_name}.txt')\n",
    "\n",
    "            if not os.path.exists(pre_bbox_path):\n",
    "                continue\n",
    "            pre_bbox = np.loadtxt(pre_bbox_path)\n",
    "            mkpts0 = np.loadtxt(mkpts0_path)\n",
    "            mkpts1 = np.loadtxt(mkpts1_path)\n",
    "            pre_K = np.loadtxt(pre_K_path)\n",
    "\n",
    "            if mkpts0.shape[0] > num_sample:\n",
    "                rand_idx = np.random.choice(mkpts0.shape[0], num_sample, replace=False)\n",
    "                mkpts0 = mkpts0[rand_idx]\n",
    "                mkpts1 = mkpts1[rand_idx]\n",
    "            else:\n",
    "                mkpts0 = np.concatenate([mkpts0, np.zeros((num_sample - mkpts0.shape[0], 2))], axis=0)\n",
    "                mkpts1 = np.concatenate([mkpts1, np.zeros((num_sample - mkpts1.shape[0], 2))], axis=0)\n",
    "\n",
    "            _3d_bbox = np.loadtxt(f\"{os.path.join(ROOT_DIR, label)}/box3d_corners.txt\")\n",
    "            bbox_pts_3d, _ = project_points(_3d_bbox, pose1[:3, :4], K1)\n",
    "            bbox_pts_3d = bbox_pts_3d.astype(np.int32)\n",
    "            x0, y0, w, h = cv2.boundingRect(bbox_pts_3d)\n",
    "            x1, y1 = x0 + w, y0 + h\n",
    "            gt_bbox = np.array([x0, y0, x1, y1])\n",
    "            is_recalled = recall_object(pre_bbox, gt_bbox)\n",
    "            recall_image = recall_image + int(is_recalled > 0.5)\n",
    "\n",
    "            batch_mkpts0 = torch.from_numpy(mkpts0).unsqueeze(0).float().to(device)\n",
    "            batch_mkpts1 = torch.from_numpy(mkpts1).unsqueeze(0).float().to(device)\n",
    "            pre_t, pre_rot = net(batch_mkpts0, batch_mkpts1)\n",
    "            # pre_t = pre_t.cpu()\n",
    "            # pre_rot = pre_rot.cpu()\n",
    "\n",
    "            batch_pose0 = torch.from_numpy(pose0).unsqueeze(0).float().to(device)\n",
    "            batch_pose1 = torch.from_numpy(pose1).unsqueeze(0).float().to(device)\n",
    "            batch_relative_pose = torch.matmul(batch_pose1, batch_pose0.permute(0, 2, 1))\n",
    "            t_err, R_err = relative_pose_error(batch_relative_pose, pre_rot, pre_t, ignore_gt_t_thr=0.0)\n",
    "\n",
    "            metrics['t_errs'] = metrics['t_errs'] + np.array(t_err.reshape(-1).cpu().detach().numpy()).tolist()\n",
    "            metrics['R_errs'] = metrics['R_errs'] + np.array(R_err.reshape(-1).cpu().detach().numpy()).tolist()\n",
    "            metrics['identifiers'].append(pair_name)\n",
    "\n",
    "    print(f'Acc: {recall_image}/{all_image}')\n",
    "    val_metrics_4tb = aggregate_metrics(metrics, 5e-4)\n",
    "    val_metrics_4tb['AP50'] = recall_image / all_image\n",
    "    logger.info('\\n' + pprint.pformat(val_metrics_4tb))\n",
    "\n",
    "    obj_name = int(name[2:])\n",
    "\n",
    "    res_table.append([f\"{LM_id2name_dict[obj_name]}\"] + list(val_metrics_4tb.values()))"
   ]
  },
  {
   "cell_type": "code",
   "execution_count": 8,
   "metadata": {},
   "outputs": [
    {
     "name": "stdout",
     "output_type": "stream",
     "text": [
      "╒═════════════╤════════════╤════════════╤═══════════╤═══════════╤═══════════════╤════════════╤════════════╤═══════════╤═══════════╤═══════════════╤══════════╕\n",
      "│ Category    │   R:auc@15 │   R:auc@30 │   R:ACC15 │   R:ACC30 │   R:medianErr │   t:auc@15 │   t:auc@30 │   t:ACC15 │   t:ACC30 │   t:medianErr │     AP50 │\n",
      "╞═════════════╪════════════╪════════════╪═══════════╪═══════════╪═══════════════╪════════════╪════════════╪═══════════╪═══════════╪═══════════════╪══════════╡\n",
      "│ ape         │   0.231794 │   0.249734 │  0.24375  │  0.289583 │       76.8667 │   0.1297   │   0.462494 │  0.45     │  0.972917 │      16.0284  │ 0.63125  │\n",
      "├─────────────┼────────────┼────────────┼───────────┼───────────┼───────────────┼────────────┼────────────┼───────────┼───────────┼───────────────┼──────────┤\n",
      "│ benchvise   │   0.166803 │   0.17887  │  0.172131 │  0.210383 │       86.618  │   0.237545 │   0.571262 │  0.631148 │  0.991803 │      12.9758  │ 0.327869 │\n",
      "├─────────────┼────────────┼────────────┼───────────┼───────────┼───────────────┼────────────┼────────────┼───────────┼───────────┼───────────────┼──────────┤\n",
      "│ camera      │   0.205629 │   0.217868 │  0.212871 │  0.250825 │       82.4239 │   0.312646 │   0.638377 │  0.79703  │  1        │      10.8891  │ 0.476898 │\n",
      "├─────────────┼────────────┼────────────┼───────────┼───────────┼───────────────┼────────────┼────────────┼───────────┼───────────┼───────────────┼──────────┤\n",
      "│ can         │   0.192681 │   0.20664  │  0.198068 │  0.246377 │       78.6407 │   0.269058 │   0.595515 │  0.693237 │  1        │      11.8998  │ 0.727053 │\n",
      "├─────────────┼────────────┼────────────┼───────────┼───────────┼───────────────┼────────────┼────────────┼───────────┼───────────┼───────────────┼──────────┤\n",
      "│ cat         │   0.238749 │   0.25005  │  0.249104 │  0.283154 │       76.5363 │   0.249859 │   0.582896 │  0.677419 │  0.998208 │      12.111   │ 0.564516 │\n",
      "├─────────────┼────────────┼────────────┼───────────┼───────────┼───────────────┼────────────┼────────────┼───────────┼───────────┼───────────────┼──────────┤\n",
      "│ driller     │   0.187778 │   0.206279 │  0.202652 │  0.242424 │       80.1045 │   0.18686  │   0.531214 │  0.568182 │  0.988636 │      13.7614  │ 0.352273 │\n",
      "├─────────────┼────────────┼────────────┼───────────┼───────────┼───────────────┼────────────┼────────────┼───────────┼───────────┼───────────────┼──────────┤\n",
      "│ duck        │   0.183912 │   0.198738 │  0.194118 │  0.239216 │       78.4352 │   0.250662 │   0.590056 │  0.692157 │  1        │      12.0601  │ 0.660784 │\n",
      "├─────────────┼────────────┼────────────┼───────────┼───────────┼───────────────┼────────────┼────────────┼───────────┼───────────┼───────────────┼──────────┤\n",
      "│ eggbox      │   0.194634 │   0.212085 │  0.2      │  0.248148 │       84.5471 │   0.356384 │   0.655692 │  0.82963  │  0.996296 │       9.60691 │ 0.714815 │\n",
      "├─────────────┼────────────┼────────────┼───────────┼───────────┼───────────────┼────────────┼────────────┼───────────┼───────────┼───────────────┼──────────┤\n",
      "│ glue        │   0.211888 │   0.219945 │  0.218818 │  0.2407   │       86.0464 │   0.247444 │   0.583685 │  0.698031 │  0.989059 │      12.3043  │ 0.521645 │\n",
      "├─────────────┼────────────┼────────────┼───────────┼───────────┼───────────────┼────────────┼────────────┼───────────┼───────────┼───────────────┼──────────┤\n",
      "│ holepuncher │   0.208007 │   0.215481 │  0.210412 │  0.236443 │       80.7176 │   0.19315  │   0.542366 │  0.581345 │  0.989154 │      13.8493  │ 0.634199 │\n",
      "├─────────────┼────────────┼────────────┼───────────┼───────────┼───────────────┼────────────┼────────────┼───────────┼───────────┼───────────────┼──────────┤\n",
      "│ iron        │   0.239354 │   0.253984 │  0.251701 │  0.285714 │       76.401  │   0.367955 │   0.662259 │  0.819728 │  0.993197 │       9.1961  │ 0.564626 │\n",
      "├─────────────┼────────────┼────────────┼───────────┼───────────┼───────────────┼────────────┼────────────┼───────────┼───────────┼───────────────┼──────────┤\n",
      "│ lamp        │   0.190948 │   0.201817 │  0.196517 │  0.231343 │       85.0502 │   0.231704 │   0.574684 │  0.661692 │  1        │      12.6174  │ 0.445274 │\n",
      "├─────────────┼────────────┼────────────┼───────────┼───────────┼───────────────┼────────────┼────────────┼───────────┼───────────┼───────────────┼──────────┤\n",
      "│ phone       │   0.207879 │   0.221448 │  0.213964 │  0.254505 │       85.0564 │   0.258667 │   0.59451  │  0.718468 │  0.993243 │      11.5392  │ 0.342342 │\n",
      "├─────────────┼────────────┼────────────┼───────────┼───────────┼───────────────┼────────────┼────────────┼───────────┼───────────┼───────────────┼──────────┤\n",
      "│ Avg         │   0.20462  │   0.217918 │  0.212624 │  0.250678 │       81.3419 │   0.253203 │   0.583462 │  0.678313 │  0.99327  │      12.2184  │ 0.535657 │\n",
      "╘═════════════╧════════════╧════════════╧═══════════╧═══════════╧═══════════════╧════════════╧════════════╧═══════════╧═══════════╧═══════════════╧══════════╛\n"
     ]
    }
   ],
   "source": [
    "headers = [\"Category\"] + list(val_metrics_4tb.keys())\n",
    "all_data = np.array(res_table)[:, 1:].astype(np.float32)\n",
    "res_table.append([\"Avg\"] + all_data.mean(0).tolist())\n",
    "print(tabulate(res_table, headers=headers, tablefmt='fancy_grid'))"
   ]
  },
  {
   "cell_type": "code",
   "execution_count": null,
   "metadata": {},
   "outputs": [],
   "source": []
  }
 ],
 "metadata": {
  "kernelspec": {
   "display_name": "pope",
   "language": "python",
   "name": "python3"
  },
  "language_info": {
   "codemirror_mode": {
    "name": "ipython",
    "version": 3
   },
   "file_extension": ".py",
   "mimetype": "text/x-python",
   "name": "python",
   "nbconvert_exporter": "python",
   "pygments_lexer": "ipython3",
   "version": "3.8.18"
  }
 },
 "nbformat": 4,
 "nbformat_minor": 2
}
