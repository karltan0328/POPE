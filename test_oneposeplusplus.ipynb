{
 "cells": [
  {
   "cell_type": "code",
   "execution_count": 1,
   "metadata": {},
   "outputs": [],
   "source": [
    "import os\n",
    "import cv2\n",
    "import json\n",
    "import torch\n",
    "import pprint\n",
    "import numpy as np\n",
    "from tqdm import tqdm\n",
    "from loguru import logger\n",
    "from tabulate import tabulate\n",
    "\n",
    "from pose.utils import collate_fn, geodesic_distance, relative_pose_error, aggregate_metrics, recall_object, project_points"
   ]
  },
  {
   "cell_type": "code",
   "execution_count": 2,
   "metadata": {},
   "outputs": [
    {
     "data": {
      "text/plain": [
       "9"
      ]
     },
     "execution_count": 2,
     "metadata": {},
     "output_type": "execute_result"
    }
   ],
   "source": [
    "with open(\"data/pairs/OneposePlusPlus-test.json\") as f:\n",
    "    dir_list = json.load(f)\n",
    "len(dir_list)"
   ]
  },
  {
   "cell_type": "code",
   "execution_count": 3,
   "metadata": {},
   "outputs": [],
   "source": [
    "if os.name == 'unix':\n",
    "    ROOT_DIR = 'data/oneposeplusplus/'\n",
    "elif os.name == 'nt':\n",
    "    ROOT_DIR = 'e:/datasets/OnePose++/lowtexture_test_data/'"
   ]
  },
  {
   "cell_type": "code",
   "execution_count": 4,
   "metadata": {},
   "outputs": [],
   "source": [
    "res_table = []"
   ]
  },
  {
   "cell_type": "code",
   "execution_count": 5,
   "metadata": {},
   "outputs": [
    {
     "data": {
      "text/plain": [
       "Mkpts_Reg_Model(\n",
       "  (embedding): Embedding()\n",
       "  (transformerlayer): TransformerEncoderLayer(\n",
       "    (self_attn): MultiheadAttention(\n",
       "      (out_proj): NonDynamicallyQuantizableLinear(in_features=76, out_features=76, bias=True)\n",
       "    )\n",
       "    (linear1): Linear(in_features=76, out_features=2048, bias=True)\n",
       "    (dropout): Dropout(p=0.1, inplace=False)\n",
       "    (linear2): Linear(in_features=2048, out_features=76, bias=True)\n",
       "    (norm1): LayerNorm((76,), eps=1e-05, elementwise_affine=True)\n",
       "    (norm2): LayerNorm((76,), eps=1e-05, elementwise_affine=True)\n",
       "    (dropout1): Dropout(p=0.1, inplace=False)\n",
       "    (dropout2): Dropout(p=0.1, inplace=False)\n",
       "  )\n",
       "  (transformer): TransformerEncoder(\n",
       "    (layers): ModuleList(\n",
       "      (0-3): 4 x TransformerEncoderLayer(\n",
       "        (self_attn): MultiheadAttention(\n",
       "          (out_proj): NonDynamicallyQuantizableLinear(in_features=76, out_features=76, bias=True)\n",
       "        )\n",
       "        (linear1): Linear(in_features=76, out_features=2048, bias=True)\n",
       "        (dropout): Dropout(p=0.1, inplace=False)\n",
       "        (linear2): Linear(in_features=2048, out_features=76, bias=True)\n",
       "        (norm1): LayerNorm((76,), eps=1e-05, elementwise_affine=True)\n",
       "        (norm2): LayerNorm((76,), eps=1e-05, elementwise_affine=True)\n",
       "        (dropout1): Dropout(p=0.1, inplace=False)\n",
       "        (dropout2): Dropout(p=0.1, inplace=False)\n",
       "      )\n",
       "    )\n",
       "  )\n",
       "  (translation_head): Linear(in_features=128, out_features=3, bias=True)\n",
       "  (rotation_head): Linear(in_features=128, out_features=6, bias=True)\n",
       "  (mlp): Sequential(\n",
       "    (0): Linear(in_features=228000, out_features=128, bias=True)\n",
       "    (1): LeakyReLU(negative_slope=0.01)\n",
       "    (2): Linear(in_features=128, out_features=128, bias=True)\n",
       "  )\n",
       ")"
      ]
     },
     "execution_count": 5,
     "metadata": {},
     "output_type": "execute_result"
    }
   ],
   "source": [
    "device = torch.device('cuda' if torch.cuda.is_available() else 'cpu')\n",
    "# device = 'cpu'\n",
    "\n",
    "num_sample = 3000\n",
    "\n",
    "net = torch.load('./weights/oneposeplusplus-6d-3000-2024-01-05-22-32-30-0.6725.pth').to(device)\n",
    "\n",
    "net.eval()"
   ]
  },
  {
   "cell_type": "code",
   "execution_count": 6,
   "metadata": {},
   "outputs": [
    {
     "name": "stderr",
     "output_type": "stream",
     "text": [
      "\u001b[32m2024-01-05 22:33:07.152\u001b[0m | \u001b[1mINFO    \u001b[0m | \u001b[36m__main__\u001b[0m:\u001b[36m<module>\u001b[0m:\u001b[36m2\u001b[0m - \u001b[1mOneposePlusPlus: 1/9\u001b[0m\n",
      "  0%|          | 0/26 [00:00<?, ?it/s]"
     ]
    },
    {
     "name": "stderr",
     "output_type": "stream",
     "text": [
      "100%|██████████| 26/26 [00:03<00:00,  8.59it/s]\n",
      "100%|██████████| 32/32 [00:00<00:00, 34.00it/s]\n",
      "100%|██████████| 34/34 [00:00<00:00, 44.40it/s]\n",
      "100%|██████████| 52/52 [00:01<00:00, 48.81it/s]\n",
      "100%|██████████| 48/48 [00:00<00:00, 49.69it/s]\n",
      "100%|██████████| 47/47 [00:00<00:00, 48.13it/s]\n",
      "\u001b[32m2024-01-05 22:33:14.914\u001b[0m | \u001b[1mINFO    \u001b[0m | \u001b[36m__main__\u001b[0m:\u001b[36m<module>\u001b[0m:\u001b[36m86\u001b[0m - \u001b[1m\n",
      "{'AP50': 0.9623430962343096,\n",
      " 'R:ACC15': 0.1087866108786611,\n",
      " 'R:ACC30': 0.2719665271966527,\n",
      " 'R:auc@15': 0.03451553501677147,\n",
      " 'R:auc@30': 0.12195973888434458,\n",
      " 'R:medianErr': 62.464759826660156,\n",
      " 't:ACC15': 0.602510460251046,\n",
      " 't:ACC30': 0.9748953974895398,\n",
      " 't:auc@15': 0.25251178172841726,\n",
      " 't:auc@30': 0.5520701828195792,\n",
      " 't:medianErr': 12.85515022277832}\u001b[0m\n",
      "\u001b[32m2024-01-05 22:33:14.915\u001b[0m | \u001b[1mINFO    \u001b[0m | \u001b[36m__main__\u001b[0m:\u001b[36m<module>\u001b[0m:\u001b[36m2\u001b[0m - \u001b[1mOneposePlusPlus: 2/9\u001b[0m\n"
     ]
    },
    {
     "name": "stdout",
     "output_type": "stream",
     "text": [
      "Acc: 230/239\n"
     ]
    },
    {
     "name": "stderr",
     "output_type": "stream",
     "text": [
      "100%|██████████| 45/45 [00:00<00:00, 45.94it/s]\n",
      "100%|██████████| 50/50 [00:01<00:00, 44.24it/s]\n",
      "100%|██████████| 73/73 [00:01<00:00, 45.85it/s]\n",
      "100%|██████████| 55/55 [00:01<00:00, 47.99it/s]\n",
      "100%|██████████| 50/50 [00:01<00:00, 48.85it/s]\n",
      "100%|██████████| 42/42 [00:00<00:00, 47.86it/s]\n",
      "\u001b[32m2024-01-05 22:33:21.683\u001b[0m | \u001b[1mINFO    \u001b[0m | \u001b[36m__main__\u001b[0m:\u001b[36m<module>\u001b[0m:\u001b[36m86\u001b[0m - \u001b[1m\n",
      "{'AP50': 0.9809523809523809,\n",
      " 'R:ACC15': 0.09841269841269841,\n",
      " 'R:ACC30': 0.30793650793650795,\n",
      " 'R:auc@15': 0.031863383237647,\n",
      " 'R:auc@30': 0.10726497776293882,\n",
      " 'R:medianErr': 66.31877899169922,\n",
      " 't:ACC15': 0.5746031746031746,\n",
      " 't:ACC30': 0.9555555555555556,\n",
      " 't:auc@15': 0.20212582961592096,\n",
      " 't:auc@30': 0.5164435279937017,\n",
      " 't:medianErr': 13.520074844360352}\u001b[0m\n",
      "\u001b[32m2024-01-05 22:33:21.683\u001b[0m | \u001b[1mINFO    \u001b[0m | \u001b[36m__main__\u001b[0m:\u001b[36m<module>\u001b[0m:\u001b[36m2\u001b[0m - \u001b[1mOneposePlusPlus: 3/9\u001b[0m\n"
     ]
    },
    {
     "name": "stdout",
     "output_type": "stream",
     "text": [
      "Acc: 309/315\n"
     ]
    },
    {
     "name": "stderr",
     "output_type": "stream",
     "text": [
      "100%|██████████| 38/38 [00:00<00:00, 44.59it/s]\n",
      "100%|██████████| 44/44 [00:00<00:00, 47.09it/s]\n",
      "100%|██████████| 43/43 [00:00<00:00, 45.70it/s]\n",
      "100%|██████████| 35/35 [00:00<00:00, 48.16it/s]\n",
      "100%|██████████| 35/35 [00:00<00:00, 47.00it/s]\n",
      "100%|██████████| 38/38 [00:00<00:00, 48.14it/s]\n",
      "\u001b[32m2024-01-05 22:33:26.691\u001b[0m | \u001b[1mINFO    \u001b[0m | \u001b[36m__main__\u001b[0m:\u001b[36m<module>\u001b[0m:\u001b[36m86\u001b[0m - \u001b[1m\n",
      "{'AP50': 0.3562231759656652,\n",
      " 'R:ACC15': 0.18025751072961374,\n",
      " 'R:ACC30': 0.4334763948497854,\n",
      " 'R:auc@15': 0.06667075082126776,\n",
      " 'R:auc@30': 0.1917784851166994,\n",
      " 'R:medianErr': 43.071685791015625,\n",
      " 't:ACC15': 0.6351931330472103,\n",
      " 't:ACC30': 0.9613733905579399,\n",
      " 't:auc@15': 0.2515329505837868,\n",
      " 't:auc@30': 0.5509272870203968,\n",
      " 't:medianErr': 12.06449031829834}\u001b[0m\n",
      "\u001b[32m2024-01-05 22:33:26.691\u001b[0m | \u001b[1mINFO    \u001b[0m | \u001b[36m__main__\u001b[0m:\u001b[36m<module>\u001b[0m:\u001b[36m2\u001b[0m - \u001b[1mOneposePlusPlus: 4/9\u001b[0m\n"
     ]
    },
    {
     "name": "stdout",
     "output_type": "stream",
     "text": [
      "Acc: 83/233\n"
     ]
    },
    {
     "name": "stderr",
     "output_type": "stream",
     "text": [
      "100%|██████████| 42/42 [00:00<00:00, 45.04it/s]\n",
      "100%|██████████| 62/62 [00:01<00:00, 46.23it/s]\n",
      "100%|██████████| 58/58 [00:01<00:00, 46.63it/s]\n",
      "100%|██████████| 45/45 [00:00<00:00, 48.62it/s]\n",
      "100%|██████████| 44/44 [00:00<00:00, 48.85it/s]\n",
      "100%|██████████| 49/49 [00:01<00:00, 48.52it/s]\n",
      "\u001b[32m2024-01-05 22:33:33.065\u001b[0m | \u001b[1mINFO    \u001b[0m | \u001b[36m__main__\u001b[0m:\u001b[36m<module>\u001b[0m:\u001b[36m86\u001b[0m - \u001b[1m\n",
      "{'AP50': 0.97,\n",
      " 'R:ACC15': 0.31333333333333335,\n",
      " 'R:ACC30': 0.6166666666666667,\n",
      " 'R:auc@15': 0.09135766355196637,\n",
      " 'R:auc@30': 0.29378231958548234,\n",
      " 'R:medianErr': 22.373433113098145,\n",
      " 't:ACC15': 0.6133333333333333,\n",
      " 't:ACC30': 0.9566666666666667,\n",
      " 't:auc@15': 0.21850223999553256,\n",
      " 't:auc@30': 0.532270859307713,\n",
      " 't:medianErr': 13.304278373718262}\u001b[0m\n",
      "\u001b[32m2024-01-05 22:33:33.066\u001b[0m | \u001b[1mINFO    \u001b[0m | \u001b[36m__main__\u001b[0m:\u001b[36m<module>\u001b[0m:\u001b[36m2\u001b[0m - \u001b[1mOneposePlusPlus: 5/9\u001b[0m\n"
     ]
    },
    {
     "name": "stdout",
     "output_type": "stream",
     "text": [
      "Acc: 291/300\n"
     ]
    },
    {
     "name": "stderr",
     "output_type": "stream",
     "text": [
      "100%|██████████| 63/63 [00:01<00:00, 42.88it/s]\n",
      "100%|██████████| 66/66 [00:01<00:00, 45.88it/s]\n",
      "100%|██████████| 58/58 [00:01<00:00, 45.32it/s]\n",
      "100%|██████████| 57/57 [00:01<00:00, 46.37it/s]\n",
      "100%|██████████| 67/67 [00:01<00:00, 46.14it/s]\n",
      "100%|██████████| 61/61 [00:01<00:00, 47.64it/s]\n",
      "\u001b[32m2024-01-05 22:33:41.237\u001b[0m | \u001b[1mINFO    \u001b[0m | \u001b[36m__main__\u001b[0m:\u001b[36m<module>\u001b[0m:\u001b[36m86\u001b[0m - \u001b[1m\n",
      "{'AP50': 0.9758064516129032,\n",
      " 'R:ACC15': 0.1725067385444744,\n",
      " 'R:ACC30': 0.5202156334231806,\n",
      " 'R:auc@15': 0.04114066678344507,\n",
      " 'R:auc@30': 0.21923154387941043,\n",
      " 'R:medianErr': 26.466848373413086,\n",
      " 't:ACC15': 0.6226415094339622,\n",
      " 't:ACC30': 0.9514824797843666,\n",
      " 't:auc@15': 0.23740427458704,\n",
      " 't:auc@30': 0.5371776792077685,\n",
      " 't:medianErr': 12.727354049682617}\u001b[0m\n",
      "\u001b[32m2024-01-05 22:33:41.238\u001b[0m | \u001b[1mINFO    \u001b[0m | \u001b[36m__main__\u001b[0m:\u001b[36m<module>\u001b[0m:\u001b[36m2\u001b[0m - \u001b[1mOneposePlusPlus: 6/9\u001b[0m\n"
     ]
    },
    {
     "name": "stdout",
     "output_type": "stream",
     "text": [
      "Acc: 363/372\n"
     ]
    },
    {
     "name": "stderr",
     "output_type": "stream",
     "text": [
      "100%|██████████| 32/32 [00:00<00:00, 40.10it/s]\n",
      "100%|██████████| 63/63 [00:01<00:00, 44.19it/s]\n",
      "100%|██████████| 59/59 [00:01<00:00, 45.34it/s]\n",
      "100%|██████████| 53/53 [00:01<00:00, 46.59it/s]\n",
      "100%|██████████| 66/66 [00:01<00:00, 48.94it/s]\n",
      "100%|██████████| 67/67 [00:01<00:00, 48.13it/s]\n",
      "\u001b[32m2024-01-05 22:33:48.662\u001b[0m | \u001b[1mINFO    \u001b[0m | \u001b[36m__main__\u001b[0m:\u001b[36m<module>\u001b[0m:\u001b[36m86\u001b[0m - \u001b[1m\n",
      "{'AP50': 0.9823529411764705,\n",
      " 'R:ACC15': 0.23823529411764705,\n",
      " 'R:ACC30': 0.5411764705882353,\n",
      " 'R:auc@15': 0.08280155006576986,\n",
      " 'R:auc@30': 0.24531423476396824,\n",
      " 'R:medianErr': 26.61244297027588,\n",
      " 't:ACC15': 0.5941176470588235,\n",
      " 't:ACC30': 0.9647058823529412,\n",
      " 't:auc@15': 0.22853704711385803,\n",
      " 't:auc@30': 0.5377343470763927,\n",
      " 't:medianErr': 13.011532306671143}\u001b[0m\n",
      "\u001b[32m2024-01-05 22:33:48.663\u001b[0m | \u001b[1mINFO    \u001b[0m | \u001b[36m__main__\u001b[0m:\u001b[36m<module>\u001b[0m:\u001b[36m2\u001b[0m - \u001b[1mOneposePlusPlus: 7/9\u001b[0m\n"
     ]
    },
    {
     "name": "stdout",
     "output_type": "stream",
     "text": [
      "Acc: 334/340\n"
     ]
    },
    {
     "name": "stderr",
     "output_type": "stream",
     "text": [
      "100%|██████████| 25/25 [00:00<00:00, 40.39it/s]\n",
      "100%|██████████| 41/41 [00:00<00:00, 45.04it/s]\n",
      "100%|██████████| 30/30 [00:00<00:00, 45.70it/s]\n",
      "100%|██████████| 32/32 [00:00<00:00, 47.16it/s]\n",
      "100%|██████████| 32/32 [00:00<00:00, 43.74it/s]\n",
      "100%|██████████| 34/34 [00:00<00:00, 46.29it/s]\n",
      "\u001b[32m2024-01-05 22:33:53.011\u001b[0m | \u001b[1mINFO    \u001b[0m | \u001b[36m__main__\u001b[0m:\u001b[36m<module>\u001b[0m:\u001b[36m86\u001b[0m - \u001b[1m\n",
      "{'AP50': 0.9742268041237113,\n",
      " 'R:ACC15': 0.22164948453608246,\n",
      " 'R:ACC30': 0.4329896907216495,\n",
      " 'R:auc@15': 0.08364895381468677,\n",
      " 'R:auc@30': 0.21879707693643996,\n",
      " 'R:medianErr': 36.587724685668945,\n",
      " 't:ACC15': 0.4896907216494845,\n",
      " 't:ACC30': 0.9536082474226805,\n",
      " 't:auc@15': 0.16319452495509407,\n",
      " 't:auc@30': 0.4783638288065331,\n",
      " 't:medianErr': 15.199914932250977}\u001b[0m\n",
      "\u001b[32m2024-01-05 22:33:53.012\u001b[0m | \u001b[1mINFO    \u001b[0m | \u001b[36m__main__\u001b[0m:\u001b[36m<module>\u001b[0m:\u001b[36m2\u001b[0m - \u001b[1mOneposePlusPlus: 8/9\u001b[0m\n"
     ]
    },
    {
     "name": "stdout",
     "output_type": "stream",
     "text": [
      "Acc: 189/194\n"
     ]
    },
    {
     "name": "stderr",
     "output_type": "stream",
     "text": [
      "100%|██████████| 32/32 [00:00<00:00, 44.38it/s]\n",
      "100%|██████████| 35/35 [00:00<00:00, 46.16it/s]\n",
      "100%|██████████| 38/38 [00:00<00:00, 46.92it/s]\n",
      "100%|██████████| 59/59 [00:01<00:00, 46.76it/s]\n",
      "100%|██████████| 30/30 [00:00<00:00, 45.88it/s]\n",
      "100%|██████████| 43/43 [00:00<00:00, 48.56it/s]\n",
      "\u001b[32m2024-01-05 22:33:58.120\u001b[0m | \u001b[1mINFO    \u001b[0m | \u001b[36m__main__\u001b[0m:\u001b[36m<module>\u001b[0m:\u001b[36m86\u001b[0m - \u001b[1m\n",
      "{'AP50': 0.8312236286919831,\n",
      " 'R:ACC15': 0.10126582278481013,\n",
      " 'R:ACC30': 0.2911392405063291,\n",
      " 'R:auc@15': 0.030620758375873372,\n",
      " 'R:auc@30': 0.11713980069140342,\n",
      " 'R:medianErr': 62.32282638549805,\n",
      " 't:ACC15': 0.6371308016877637,\n",
      " 't:ACC30': 0.9578059071729957,\n",
      " 't:auc@15': 0.27030009988658704,\n",
      " 't:auc@30': 0.5722385585894899,\n",
      " 't:medianErr': 12.29082202911377}\u001b[0m\n",
      "\u001b[32m2024-01-05 22:33:58.120\u001b[0m | \u001b[1mINFO    \u001b[0m | \u001b[36m__main__\u001b[0m:\u001b[36m<module>\u001b[0m:\u001b[36m2\u001b[0m - \u001b[1mOneposePlusPlus: 9/9\u001b[0m\n"
     ]
    },
    {
     "name": "stdout",
     "output_type": "stream",
     "text": [
      "Acc: 197/237\n"
     ]
    },
    {
     "name": "stderr",
     "output_type": "stream",
     "text": [
      "100%|██████████| 36/36 [00:00<00:00, 45.70it/s]\n",
      "100%|██████████| 74/74 [00:01<00:00, 41.58it/s]\n",
      "100%|██████████| 103/103 [00:02<00:00, 47.90it/s]\n",
      "100%|██████████| 100/100 [00:02<00:00, 48.87it/s]\n",
      "100%|██████████| 96/96 [00:02<00:00, 43.72it/s]\n",
      "100%|██████████| 112/112 [00:02<00:00, 46.43it/s]\n",
      "\u001b[32m2024-01-05 22:34:09.513\u001b[0m | \u001b[1mINFO    \u001b[0m | \u001b[36m__main__\u001b[0m:\u001b[36m<module>\u001b[0m:\u001b[36m86\u001b[0m - \u001b[1m\n",
      "{'AP50': 0.6238003838771593,\n",
      " 'R:ACC15': 0.09073359073359073,\n",
      " 'R:ACC30': 0.24903474903474904,\n",
      " 'R:auc@15': 0.03302566244181826,\n",
      " 'R:auc@30': 0.10194875087823953,\n",
      " 'R:medianErr': 59.61122131347656,\n",
      " 't:ACC15': 0.7664092664092664,\n",
      " 't:ACC30': 0.9961389961389961,\n",
      " 't:auc@15': 0.3375624334183132,\n",
      " 't:auc@30': 0.6330972001512691,\n",
      " 't:medianErr': 10.084470272064209}\u001b[0m\n"
     ]
    },
    {
     "name": "stdout",
     "output_type": "stream",
     "text": [
      "Acc: 325/521\n"
     ]
    }
   ],
   "source": [
    "for label_idx, test_dict in enumerate(dir_list):\n",
    "    logger.info(f\"OneposePlusPlus: {label_idx + 1}/{len(dir_list)}\")\n",
    "    metrics = dict()\n",
    "    metrics.update({'R_errs':[], 't_errs':[], 'inliers':[], \"identifiers\":[]})\n",
    "    sample_data = dir_list[label_idx][\"0\"][0]\n",
    "    label = sample_data.split(\"/\")[0]\n",
    "    name = label.split(\"-\")[1]\n",
    "    dir_name = os.path.dirname(sample_data)\n",
    "    FULL_ROOT_DIR = os.path.join(ROOT_DIR, dir_name)\n",
    "    recall_image, all_image = 0, 0\n",
    "    for rotation_key, rotation_list in zip(test_dict.keys(), test_dict.values()):\n",
    "        for pair_idx, pair_name in enumerate(tqdm(rotation_list)):\n",
    "            all_image = all_image + 1\n",
    "            base_name = os.path.basename(pair_name)\n",
    "            idx0_name = base_name.split(\"-\")[0]\n",
    "            idx1_name = base_name.split(\"-\")[1]\n",
    "            image0_name = os.path.join(FULL_ROOT_DIR, idx0_name)\n",
    "            image1_name = os.path.join(FULL_ROOT_DIR.replace(\"color\", \"color\"), idx1_name)\n",
    "\n",
    "            K0_path = image0_name.replace(\"color\", \"intrin_ba\").replace(\"png\", \"txt\")\n",
    "            K1_path = image1_name.replace(\"color\", \"intrin_ba\").replace(\"png\", \"txt\")\n",
    "            K0 = np.loadtxt(K0_path)\n",
    "            K1 = np.loadtxt(K1_path)\n",
    "\n",
    "            pose0_path = image0_name.replace(\"color\", \"poses_ba\").replace(\"png\", \"txt\")\n",
    "            pose1_path = image1_name.replace(\"color\", \"poses_ba\").replace(\"png\", \"txt\")\n",
    "            pose0 = np.loadtxt(pose0_path)\n",
    "            pose1 = np.loadtxt(pose1_path)\n",
    "            if pose0.shape[0] == 3:\n",
    "                pose0 = np.concatenate([pose0, np.array([[0, 0, 0, 1]])], axis=0)\n",
    "                pose1 = np.concatenate([pose1, np.array([[0, 0, 0, 1]])], axis=0)\n",
    "\n",
    "            points_file_path = os.path.join('d:/git_project/POPE/data/oneposeplusplus-points/', pair_name.split(\"/\")[0])\n",
    "            pre_bbox_path = os.path.join(points_file_path, \"pre_bbox\")\n",
    "            mkpts0_path = os.path.join(points_file_path, \"mkpts0\")\n",
    "            mkpts1_path = os.path.join(points_file_path, \"mkpts1\")\n",
    "            pre_K_path = os.path.join(points_file_path, \"pre_K\")\n",
    "            points_name = pair_name.split(\"/\")[-1]\n",
    "            pre_bbox_path = os.path.join(pre_bbox_path, f'{points_name}.txt')\n",
    "            mkpts0_path = os.path.join(mkpts0_path, f'{points_name}.txt')\n",
    "            mkpts1_path = os.path.join(mkpts1_path, f'{points_name}.txt')\n",
    "            pre_K_path = os.path.join(pre_K_path, f'{points_name}.txt')\n",
    "\n",
    "            if not os.path.exists(pre_bbox_path):\n",
    "                continue\n",
    "            pre_bbox = np.loadtxt(pre_bbox_path)\n",
    "            mkpts0 = np.loadtxt(mkpts0_path)\n",
    "            mkpts1 = np.loadtxt(mkpts1_path)\n",
    "            pre_K = np.loadtxt(pre_K_path)\n",
    "\n",
    "            if mkpts0.shape[0] > num_sample:\n",
    "                rand_idx = np.random.choice(mkpts0.shape[0], num_sample, replace=False)\n",
    "                mkpts0 = mkpts0[rand_idx]\n",
    "                mkpts1 = mkpts1[rand_idx]\n",
    "            else:\n",
    "                mkpts0 = np.concatenate([mkpts0, np.zeros((num_sample - mkpts0.shape[0], 2))], axis=0)\n",
    "                mkpts1 = np.concatenate([mkpts1, np.zeros((num_sample - mkpts1.shape[0], 2))], axis=0)\n",
    "\n",
    "            _3d_bbox = np.loadtxt(f\"{os.path.join(ROOT_DIR, label)}/box3d_corners.txt\")\n",
    "            bbox_pts_3d, _ = project_points(_3d_bbox, pose1[:3, :4], K1)\n",
    "            bbox_pts_3d = bbox_pts_3d.astype(np.int32)\n",
    "            x0, y0, w, h = cv2.boundingRect(bbox_pts_3d)\n",
    "            x1, y1 = x0 + w, y0 + h\n",
    "            gt_bbox = np.array([x0, y0, x1, y1])\n",
    "            is_recalled = recall_object(pre_bbox, gt_bbox)\n",
    "            recall_image = recall_image + int(is_recalled > 0.5)\n",
    "\n",
    "            batch_mkpts0 = torch.from_numpy(mkpts0).unsqueeze(0).float().to(device)\n",
    "            batch_mkpts1 = torch.from_numpy(mkpts1).unsqueeze(0).float().to(device)\n",
    "            pre_t, pre_rot = net(batch_mkpts0, batch_mkpts1)\n",
    "            # pre_t = pre_t.cpu()\n",
    "            # pre_rot = pre_rot.cpu()\n",
    "\n",
    "            batch_pose0 = torch.from_numpy(pose0).unsqueeze(0).float().to(device)\n",
    "            batch_pose1 = torch.from_numpy(pose1).unsqueeze(0).float().to(device)\n",
    "            # batch_relative_pose = torch.matmul(batch_pose1, batch_pose0.permute(0, 2, 1))\n",
    "            t_err, R_err = relative_pose_error(batch_pose1, pre_rot, pre_t, ignore_gt_t_thr=0.0)\n",
    "\n",
    "            metrics['t_errs'] = metrics['t_errs'] + np.array(t_err.reshape(-1).cpu().detach().numpy()).tolist()\n",
    "            metrics['R_errs'] = metrics['R_errs'] + np.array(R_err.reshape(-1).cpu().detach().numpy()).tolist()\n",
    "            metrics['identifiers'].append(pair_name)\n",
    "\n",
    "    print(f'Acc: {recall_image}/{all_image}')\n",
    "    val_metrics_4tb = aggregate_metrics(metrics, 5e-4)\n",
    "    val_metrics_4tb['AP50'] = recall_image / all_image\n",
    "    logger.info('\\n' + pprint.pformat(val_metrics_4tb))\n",
    "\n",
    "    res_table.append([f\"{name}\"] + list(val_metrics_4tb.values()))"
   ]
  },
  {
   "cell_type": "code",
   "execution_count": 7,
   "metadata": {},
   "outputs": [
    {
     "name": "stdout",
     "output_type": "stream",
     "text": [
      "╒══════════════╤════════════╤════════════╤═══════════╤═══════════╤═══════════════╤════════════╤════════════╤═══════════╤═══════════╤═══════════════╤══════════╕\n",
      "│ Category     │   R:auc@15 │   R:auc@30 │   R:ACC15 │   R:ACC30 │   R:medianErr │   t:auc@15 │   t:auc@30 │   t:ACC15 │   t:ACC30 │   t:medianErr │     AP50 │\n",
      "╞══════════════╪════════════╪════════════╪═══════════╪═══════════╪═══════════════╪════════════╪════════════╪═══════════╪═══════════╪═══════════════╪══════════╡\n",
      "│ toyrobot     │  0.0345155 │   0.12196  │ 0.108787  │  0.271967 │       62.4648 │   0.252512 │   0.55207  │  0.60251  │  0.974895 │       12.8552 │ 0.962343 │\n",
      "├──────────────┼────────────┼────────────┼───────────┼───────────┼───────────────┼────────────┼────────────┼───────────┼───────────┼───────────────┼──────────┤\n",
      "│ yellowduck   │  0.0318634 │   0.107265 │ 0.0984127 │  0.307937 │       66.3188 │   0.202126 │   0.516444 │  0.574603 │  0.955556 │       13.5201 │ 0.980952 │\n",
      "├──────────────┼────────────┼────────────┼───────────┼───────────┼───────────────┼────────────┼────────────┼───────────┼───────────┼───────────────┼──────────┤\n",
      "│ sheep        │  0.0666708 │   0.191778 │ 0.180258  │  0.433476 │       43.0717 │   0.251533 │   0.550927 │  0.635193 │  0.961373 │       12.0645 │ 0.356223 │\n",
      "├──────────────┼────────────┼────────────┼───────────┼───────────┼───────────────┼────────────┼────────────┼───────────┼───────────┼───────────────┼──────────┤\n",
      "│ fakebanana   │  0.0913577 │   0.293782 │ 0.313333  │  0.616667 │       22.3734 │   0.218502 │   0.532271 │  0.613333 │  0.956667 │       13.3043 │ 0.97     │\n",
      "├──────────────┼────────────┼────────────┼───────────┼───────────┼───────────────┼────────────┼────────────┼───────────┼───────────┼───────────────┼──────────┤\n",
      "│ teabox       │  0.0411407 │   0.219232 │ 0.172507  │  0.520216 │       26.4668 │   0.237404 │   0.537178 │  0.622642 │  0.951482 │       12.7274 │ 0.975806 │\n",
      "├──────────────┼────────────┼────────────┼───────────┼───────────┼───────────────┼────────────┼────────────┼───────────┼───────────┼───────────────┼──────────┤\n",
      "│ orange       │  0.0828016 │   0.245314 │ 0.238235  │  0.541176 │       26.6124 │   0.228537 │   0.537734 │  0.594118 │  0.964706 │       13.0115 │ 0.982353 │\n",
      "├──────────────┼────────────┼────────────┼───────────┼───────────┼───────────────┼────────────┼────────────┼───────────┼───────────┼───────────────┼──────────┤\n",
      "│ greenteapot  │  0.083649  │   0.218797 │ 0.221649  │  0.43299  │       36.5877 │   0.163195 │   0.478364 │  0.489691 │  0.953608 │       15.1999 │ 0.974227 │\n",
      "├──────────────┼────────────┼────────────┼───────────┼───────────┼───────────────┼────────────┼────────────┼───────────┼───────────┼───────────────┼──────────┤\n",
      "│ lecreusetcup │  0.0306208 │   0.11714  │ 0.101266  │  0.291139 │       62.3228 │   0.2703   │   0.572239 │  0.637131 │  0.957806 │       12.2908 │ 0.831224 │\n",
      "├──────────────┼────────────┼────────────┼───────────┼───────────┼───────────────┼────────────┼────────────┼───────────┼───────────┼───────────────┼──────────┤\n",
      "│ insta        │  0.0330257 │   0.101949 │ 0.0907336 │  0.249035 │       59.6112 │   0.337562 │   0.633097 │  0.766409 │  0.996139 │       10.0845 │ 0.6238   │\n",
      "├──────────────┼────────────┼────────────┼───────────┼───────────┼───────────────┼────────────┼────────────┼───────────┼───────────┼───────────────┼──────────┤\n",
      "│ Avg          │  0.0550717 │   0.179691 │ 0.169465  │  0.407178 │       45.0922 │   0.240186 │   0.545591 │  0.61507  │  0.963581 │       12.7842 │ 0.85077  │\n",
      "╘══════════════╧════════════╧════════════╧═══════════╧═══════════╧═══════════════╧════════════╧════════════╧═══════════╧═══════════╧═══════════════╧══════════╛\n"
     ]
    }
   ],
   "source": [
    "headers = [\"Category\"] + list(val_metrics_4tb.keys())\n",
    "all_data = np.array(res_table)[:, 1:].astype(np.float32)\n",
    "res_table.append([\"Avg\"] + all_data.mean(0).tolist())\n",
    "print(tabulate(res_table, headers=headers, tablefmt='fancy_grid'))"
   ]
  },
  {
   "cell_type": "code",
   "execution_count": null,
   "metadata": {},
   "outputs": [],
   "source": []
  }
 ],
 "metadata": {
  "kernelspec": {
   "display_name": "pope",
   "language": "python",
   "name": "python3"
  },
  "language_info": {
   "codemirror_mode": {
    "name": "ipython",
    "version": 3
   },
   "file_extension": ".py",
   "mimetype": "text/x-python",
   "name": "python",
   "nbconvert_exporter": "python",
   "pygments_lexer": "ipython3",
   "version": "3.8.18"
  }
 },
 "nbformat": 4,
 "nbformat_minor": 2
}
