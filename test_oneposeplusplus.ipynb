{
 "cells": [
  {
   "cell_type": "code",
   "execution_count": 1,
   "metadata": {},
   "outputs": [],
   "source": [
    "import os\n",
    "import cv2\n",
    "import json\n",
    "import torch\n",
    "import pprint\n",
    "import numpy as np\n",
    "from tqdm import tqdm\n",
    "from loguru import logger\n",
    "from tabulate import tabulate\n",
    "\n",
    "from pose.utils import collate_fn, geodesic_distance, relative_pose_error, aggregate_metrics, recall_object, project_points"
   ]
  },
  {
   "cell_type": "code",
   "execution_count": 2,
   "metadata": {},
   "outputs": [
    {
     "data": {
      "text/plain": [
       "9"
      ]
     },
     "execution_count": 2,
     "metadata": {},
     "output_type": "execute_result"
    }
   ],
   "source": [
    "with open(\"data/pairs/OneposePlusPlus-test.json\") as f:\n",
    "    dir_list = json.load(f)\n",
    "len(dir_list)"
   ]
  },
  {
   "cell_type": "code",
   "execution_count": 3,
   "metadata": {},
   "outputs": [],
   "source": [
    "if os.name == 'unix':\n",
    "    ROOT_DIR = 'data/oneposeplusplus/'\n",
    "elif os.name == 'nt':\n",
    "    ROOT_DIR = 'e:/datasets/OnePose++/lowtexture_test_data/'"
   ]
  },
  {
   "cell_type": "code",
   "execution_count": 4,
   "metadata": {},
   "outputs": [],
   "source": [
    "res_table = []"
   ]
  },
  {
   "cell_type": "code",
   "execution_count": 5,
   "metadata": {},
   "outputs": [
    {
     "data": {
      "text/plain": [
       "Mkpts_Reg_Model(\n",
       "  (embedding): Embedding()\n",
       "  (transformerlayer): TransformerEncoderLayer(\n",
       "    (self_attn): MultiheadAttention(\n",
       "      (out_proj): NonDynamicallyQuantizableLinear(in_features=76, out_features=76, bias=True)\n",
       "    )\n",
       "    (linear1): Linear(in_features=76, out_features=2048, bias=True)\n",
       "    (dropout): Dropout(p=0.1, inplace=False)\n",
       "    (linear2): Linear(in_features=2048, out_features=76, bias=True)\n",
       "    (norm1): LayerNorm((76,), eps=1e-05, elementwise_affine=True)\n",
       "    (norm2): LayerNorm((76,), eps=1e-05, elementwise_affine=True)\n",
       "    (dropout1): Dropout(p=0.1, inplace=False)\n",
       "    (dropout2): Dropout(p=0.1, inplace=False)\n",
       "  )\n",
       "  (transformer): TransformerEncoder(\n",
       "    (layers): ModuleList(\n",
       "      (0-3): 4 x TransformerEncoderLayer(\n",
       "        (self_attn): MultiheadAttention(\n",
       "          (out_proj): NonDynamicallyQuantizableLinear(in_features=76, out_features=76, bias=True)\n",
       "        )\n",
       "        (linear1): Linear(in_features=76, out_features=2048, bias=True)\n",
       "        (dropout): Dropout(p=0.1, inplace=False)\n",
       "        (linear2): Linear(in_features=2048, out_features=76, bias=True)\n",
       "        (norm1): LayerNorm((76,), eps=1e-05, elementwise_affine=True)\n",
       "        (norm2): LayerNorm((76,), eps=1e-05, elementwise_affine=True)\n",
       "        (dropout1): Dropout(p=0.1, inplace=False)\n",
       "        (dropout2): Dropout(p=0.1, inplace=False)\n",
       "      )\n",
       "    )\n",
       "  )\n",
       "  (translation_head): Linear(in_features=128, out_features=3, bias=True)\n",
       "  (rotation_head): Linear(in_features=128, out_features=6, bias=True)\n",
       "  (mlp): Sequential(\n",
       "    (0): Linear(in_features=228000, out_features=128, bias=True)\n",
       "    (1): LeakyReLU(negative_slope=0.01)\n",
       "    (2): Linear(in_features=128, out_features=128, bias=True)\n",
       "  )\n",
       ")"
      ]
     },
     "execution_count": 5,
     "metadata": {},
     "output_type": "execute_result"
    }
   ],
   "source": [
    "device = torch.device('cuda' if torch.cuda.is_available() else 'cpu')\n",
    "# device = 'cpu'\n",
    "\n",
    "num_sample = 3000\n",
    "\n",
    "net = torch.load('./weights/oneposeplusplus-6d-3000-2024-01-06-00-25-35-0.2782.pth').to(device)\n",
    "\n",
    "net.eval()"
   ]
  },
  {
   "cell_type": "code",
   "execution_count": 6,
   "metadata": {},
   "outputs": [
    {
     "name": "stderr",
     "output_type": "stream",
     "text": [
      "\u001b[32m2024-01-06 00:32:22.207\u001b[0m | \u001b[1mINFO    \u001b[0m | \u001b[36m__main__\u001b[0m:\u001b[36m<module>\u001b[0m:\u001b[36m2\u001b[0m - \u001b[1mOneposePlusPlus: 1/9\u001b[0m\n",
      "  0%|          | 0/26 [00:00<?, ?it/s]"
     ]
    },
    {
     "name": "stderr",
     "output_type": "stream",
     "text": [
      "100%|██████████| 26/26 [00:02<00:00, 11.09it/s]\n",
      "100%|██████████| 32/32 [00:00<00:00, 48.25it/s]\n",
      "100%|██████████| 34/34 [00:00<00:00, 46.83it/s]\n",
      "100%|██████████| 52/52 [00:01<00:00, 49.64it/s]\n",
      "100%|██████████| 48/48 [00:01<00:00, 46.08it/s]\n",
      "100%|██████████| 47/47 [00:00<00:00, 49.27it/s]\n",
      "\u001b[32m2024-01-06 00:32:29.004\u001b[0m | \u001b[1mINFO    \u001b[0m | \u001b[36m__main__\u001b[0m:\u001b[36m<module>\u001b[0m:\u001b[36m88\u001b[0m - \u001b[1m\n",
      "{'AP50': 0.9623430962343096,\n",
      " 'R:ACC15': 0.4686192468619247,\n",
      " 'R:ACC30': 0.9330543933054394,\n",
      " 'R:auc@15': 0.207892341161539,\n",
      " 'R:auc@30': 0.4606191817354125,\n",
      " 'R:medianErr': 15.887227058410645,\n",
      " 't:ACC15': 0.008368200836820083,\n",
      " 't:ACC30': 0.1087866108786611,\n",
      " 't:auc@15': 0.004231427537181221,\n",
      " 't:auc@30': 0.030818501875490324,\n",
      " 't:medianErr': 62.63356018066406}\u001b[0m\n",
      "\u001b[32m2024-01-06 00:32:29.005\u001b[0m | \u001b[1mINFO    \u001b[0m | \u001b[36m__main__\u001b[0m:\u001b[36m<module>\u001b[0m:\u001b[36m2\u001b[0m - \u001b[1mOneposePlusPlus: 2/9\u001b[0m\n"
     ]
    },
    {
     "name": "stdout",
     "output_type": "stream",
     "text": [
      "Acc: 230/239\n"
     ]
    },
    {
     "name": "stderr",
     "output_type": "stream",
     "text": [
      "100%|██████████| 45/45 [00:00<00:00, 46.54it/s]\n",
      "100%|██████████| 50/50 [00:01<00:00, 45.59it/s]\n",
      "100%|██████████| 73/73 [00:01<00:00, 41.56it/s]\n",
      "100%|██████████| 55/55 [00:01<00:00, 49.07it/s]\n",
      "100%|██████████| 50/50 [00:00<00:00, 52.17it/s]\n",
      "100%|██████████| 42/42 [00:00<00:00, 52.57it/s]\n",
      "\u001b[32m2024-01-06 00:32:35.717\u001b[0m | \u001b[1mINFO    \u001b[0m | \u001b[36m__main__\u001b[0m:\u001b[36m<module>\u001b[0m:\u001b[36m88\u001b[0m - \u001b[1m\n",
      "{'AP50': 0.9809523809523809,\n",
      " 'R:ACC15': 0.5968253968253968,\n",
      " 'R:ACC30': 0.9619047619047619,\n",
      " 'R:auc@15': 0.24581368354262495,\n",
      " 'R:auc@30': 0.5359132167965016,\n",
      " 'R:medianErr': 12.971778869628906,\n",
      " 't:ACC15': 0.03492063492063492,\n",
      " 't:ACC30': 0.12698412698412698,\n",
      " 't:auc@15': 0.01341314129097752,\n",
      " 't:auc@30': 0.04309797319785627,\n",
      " 't:medianErr': 58.431270599365234}\u001b[0m\n",
      "\u001b[32m2024-01-06 00:32:35.718\u001b[0m | \u001b[1mINFO    \u001b[0m | \u001b[36m__main__\u001b[0m:\u001b[36m<module>\u001b[0m:\u001b[36m2\u001b[0m - \u001b[1mOneposePlusPlus: 3/9\u001b[0m\n"
     ]
    },
    {
     "name": "stdout",
     "output_type": "stream",
     "text": [
      "Acc: 309/315\n"
     ]
    },
    {
     "name": "stderr",
     "output_type": "stream",
     "text": [
      "100%|██████████| 38/38 [00:00<00:00, 40.41it/s]\n",
      "100%|██████████| 44/44 [00:00<00:00, 50.80it/s]\n",
      "100%|██████████| 43/43 [00:00<00:00, 52.09it/s]\n",
      "100%|██████████| 35/35 [00:00<00:00, 44.41it/s]\n",
      "100%|██████████| 35/35 [00:00<00:00, 41.49it/s]\n",
      "100%|██████████| 38/38 [00:00<00:00, 42.43it/s]\n",
      "\u001b[32m2024-01-06 00:32:40.896\u001b[0m | \u001b[1mINFO    \u001b[0m | \u001b[36m__main__\u001b[0m:\u001b[36m<module>\u001b[0m:\u001b[36m88\u001b[0m - \u001b[1m\n",
      "{'AP50': 0.3562231759656652,\n",
      " 'R:ACC15': 0.5536480686695279,\n",
      " 'R:ACC30': 0.9356223175965666,\n",
      " 'R:auc@15': 0.26547054691887717,\n",
      " 'R:auc@30': 0.5171009637426067,\n",
      " 'R:medianErr': 13.465435981750488,\n",
      " 't:ACC15': 0.02575107296137339,\n",
      " 't:ACC30': 0.0944206008583691,\n",
      " 't:auc@15': 0.008980405586471887,\n",
      " 't:auc@30': 0.03140952679220699,\n",
      " 't:medianErr': 64.56393432617188}\u001b[0m\n",
      "\u001b[32m2024-01-06 00:32:40.897\u001b[0m | \u001b[1mINFO    \u001b[0m | \u001b[36m__main__\u001b[0m:\u001b[36m<module>\u001b[0m:\u001b[36m2\u001b[0m - \u001b[1mOneposePlusPlus: 4/9\u001b[0m\n"
     ]
    },
    {
     "name": "stdout",
     "output_type": "stream",
     "text": [
      "Acc: 83/233\n"
     ]
    },
    {
     "name": "stderr",
     "output_type": "stream",
     "text": [
      "100%|██████████| 42/42 [00:00<00:00, 44.87it/s]\n",
      "100%|██████████| 62/62 [00:01<00:00, 49.65it/s]\n",
      "100%|██████████| 58/58 [00:01<00:00, 49.16it/s]\n",
      "100%|██████████| 45/45 [00:00<00:00, 50.56it/s]\n",
      "100%|██████████| 44/44 [00:00<00:00, 52.46it/s]\n",
      "100%|██████████| 49/49 [00:00<00:00, 52.67it/s]\n",
      "\u001b[32m2024-01-06 00:32:46.937\u001b[0m | \u001b[1mINFO    \u001b[0m | \u001b[36m__main__\u001b[0m:\u001b[36m<module>\u001b[0m:\u001b[36m88\u001b[0m - \u001b[1m\n",
      "{'AP50': 0.97,\n",
      " 'R:ACC15': 0.6166666666666667,\n",
      " 'R:ACC30': 0.9333333333333333,\n",
      " 'R:auc@15': 0.2537344587379032,\n",
      " 'R:auc@30': 0.5395139815674888,\n",
      " 'R:medianErr': 12.78298282623291,\n",
      " 't:ACC15': 0.02666666666666667,\n",
      " 't:ACC30': 0.10333333333333333,\n",
      " 't:auc@15': 0.010024604479471842,\n",
      " 't:auc@30': 0.03635841555065579,\n",
      " 't:medianErr': 64.46404266357422}\u001b[0m\n",
      "\u001b[32m2024-01-06 00:32:46.938\u001b[0m | \u001b[1mINFO    \u001b[0m | \u001b[36m__main__\u001b[0m:\u001b[36m<module>\u001b[0m:\u001b[36m2\u001b[0m - \u001b[1mOneposePlusPlus: 5/9\u001b[0m\n"
     ]
    },
    {
     "name": "stdout",
     "output_type": "stream",
     "text": [
      "Acc: 291/300\n"
     ]
    },
    {
     "name": "stderr",
     "output_type": "stream",
     "text": [
      "100%|██████████| 63/63 [00:01<00:00, 48.58it/s]\n",
      "100%|██████████| 66/66 [00:01<00:00, 47.72it/s]\n",
      "100%|██████████| 58/58 [00:01<00:00, 47.41it/s]\n",
      "100%|██████████| 57/57 [00:01<00:00, 46.46it/s]\n",
      "100%|██████████| 67/67 [00:01<00:00, 47.69it/s]\n",
      "100%|██████████| 61/61 [00:01<00:00, 50.40it/s]\n",
      "\u001b[32m2024-01-06 00:32:54.703\u001b[0m | \u001b[1mINFO    \u001b[0m | \u001b[36m__main__\u001b[0m:\u001b[36m<module>\u001b[0m:\u001b[36m88\u001b[0m - \u001b[1m\n",
      "{'AP50': 0.9758064516129032,\n",
      " 'R:ACC15': 0.5902964959568733,\n",
      " 'R:ACC30': 0.9622641509433962,\n",
      " 'R:auc@15': 0.25961142929416464,\n",
      " 'R:auc@30': 0.5384947600176179,\n",
      " 'R:medianErr': 12.700307846069336,\n",
      " 't:ACC15': 0.013477088948787063,\n",
      " 't:ACC30': 0.09973045822102426,\n",
      " 't:auc@15': 0.005785726322746449,\n",
      " 't:auc@30': 0.02863331466565128,\n",
      " 't:medianErr': 60.335289001464844}\u001b[0m\n",
      "\u001b[32m2024-01-06 00:32:54.704\u001b[0m | \u001b[1mINFO    \u001b[0m | \u001b[36m__main__\u001b[0m:\u001b[36m<module>\u001b[0m:\u001b[36m2\u001b[0m - \u001b[1mOneposePlusPlus: 6/9\u001b[0m\n"
     ]
    },
    {
     "name": "stdout",
     "output_type": "stream",
     "text": [
      "Acc: 363/372\n"
     ]
    },
    {
     "name": "stderr",
     "output_type": "stream",
     "text": [
      "100%|██████████| 32/32 [00:00<00:00, 42.18it/s]\n",
      "100%|██████████| 63/63 [00:01<00:00, 43.90it/s]\n",
      "100%|██████████| 59/59 [00:01<00:00, 47.66it/s]\n",
      "100%|██████████| 53/53 [00:01<00:00, 49.34it/s]\n",
      "100%|██████████| 66/66 [00:01<00:00, 49.47it/s]\n",
      "100%|██████████| 67/67 [00:01<00:00, 49.27it/s]\n",
      "\u001b[32m2024-01-06 00:33:01.921\u001b[0m | \u001b[1mINFO    \u001b[0m | \u001b[36m__main__\u001b[0m:\u001b[36m<module>\u001b[0m:\u001b[36m88\u001b[0m - \u001b[1m\n",
      "{'AP50': 0.9823529411764705,\n",
      " 'R:ACC15': 0.5411764705882353,\n",
      " 'R:ACC30': 0.9382352941176471,\n",
      " 'R:auc@15': 0.2179476830655453,\n",
      " 'R:auc@30': 0.48623555885226116,\n",
      " 'R:medianErr': 14.106171607971191,\n",
      " 't:ACC15': 0.011764705882352941,\n",
      " 't:ACC30': 0.14411764705882352,\n",
      " 't:auc@15': 0.006713291710498287,\n",
      " 't:auc@30': 0.038047041098276765,\n",
      " 't:medianErr': 55.93498420715332}\u001b[0m\n",
      "\u001b[32m2024-01-06 00:33:01.922\u001b[0m | \u001b[1mINFO    \u001b[0m | \u001b[36m__main__\u001b[0m:\u001b[36m<module>\u001b[0m:\u001b[36m2\u001b[0m - \u001b[1mOneposePlusPlus: 7/9\u001b[0m\n"
     ]
    },
    {
     "name": "stdout",
     "output_type": "stream",
     "text": [
      "Acc: 334/340\n"
     ]
    },
    {
     "name": "stderr",
     "output_type": "stream",
     "text": [
      "100%|██████████| 25/25 [00:00<00:00, 42.82it/s]\n",
      "100%|██████████| 41/41 [00:00<00:00, 43.13it/s]\n",
      "100%|██████████| 30/30 [00:00<00:00, 48.47it/s]\n",
      "100%|██████████| 32/32 [00:00<00:00, 49.92it/s]\n",
      "100%|██████████| 32/32 [00:00<00:00, 49.96it/s]\n",
      "100%|██████████| 34/34 [00:00<00:00, 42.15it/s]\n",
      "\u001b[32m2024-01-06 00:33:06.181\u001b[0m | \u001b[1mINFO    \u001b[0m | \u001b[36m__main__\u001b[0m:\u001b[36m<module>\u001b[0m:\u001b[36m88\u001b[0m - \u001b[1m\n",
      "{'AP50': 0.9742268041237113,\n",
      " 'R:ACC15': 0.6082474226804123,\n",
      " 'R:ACC30': 0.9845360824742269,\n",
      " 'R:auc@15': 0.2610518759468577,\n",
      " 'R:auc@30': 0.5488145997434137,\n",
      " 'R:medianErr': 12.470929145812988,\n",
      " 't:ACC15': 0.030927835051546393,\n",
      " 't:ACC30': 0.12371134020618557,\n",
      " 't:auc@15': 0.015338228166717845,\n",
      " 't:auc@30': 0.040225840516106774,\n",
      " 't:medianErr': 60.05063438415527}\u001b[0m\n",
      "\u001b[32m2024-01-06 00:33:06.182\u001b[0m | \u001b[1mINFO    \u001b[0m | \u001b[36m__main__\u001b[0m:\u001b[36m<module>\u001b[0m:\u001b[36m2\u001b[0m - \u001b[1mOneposePlusPlus: 8/9\u001b[0m\n"
     ]
    },
    {
     "name": "stdout",
     "output_type": "stream",
     "text": [
      "Acc: 189/194\n"
     ]
    },
    {
     "name": "stderr",
     "output_type": "stream",
     "text": [
      "100%|██████████| 32/32 [00:00<00:00, 46.23it/s]\n",
      "100%|██████████| 35/35 [00:00<00:00, 44.78it/s]\n",
      "100%|██████████| 38/38 [00:00<00:00, 48.24it/s]\n",
      "100%|██████████| 59/59 [00:01<00:00, 44.84it/s]\n",
      "100%|██████████| 30/30 [00:00<00:00, 48.43it/s]\n",
      "100%|██████████| 43/43 [00:00<00:00, 54.37it/s]\n",
      "\u001b[32m2024-01-06 00:33:11.189\u001b[0m | \u001b[1mINFO    \u001b[0m | \u001b[36m__main__\u001b[0m:\u001b[36m<module>\u001b[0m:\u001b[36m88\u001b[0m - \u001b[1m\n",
      "{'AP50': 0.8312236286919831,\n",
      " 'R:ACC15': 0.48523206751054854,\n",
      " 'R:ACC30': 0.9578059071729957,\n",
      " 'R:auc@15': 0.22278595701719298,\n",
      " 'R:auc@30': 0.4875080503324248,\n",
      " 'R:medianErr': 15.292442321777344,\n",
      " 't:ACC15': 0.02109704641350211,\n",
      " 't:ACC30': 0.08016877637130802,\n",
      " 't:auc@15': 0.013964076115947566,\n",
      " 't:auc@30': 0.03352129435908106,\n",
      " 't:medianErr': 63.18133544921875}\u001b[0m\n",
      "\u001b[32m2024-01-06 00:33:11.190\u001b[0m | \u001b[1mINFO    \u001b[0m | \u001b[36m__main__\u001b[0m:\u001b[36m<module>\u001b[0m:\u001b[36m2\u001b[0m - \u001b[1mOneposePlusPlus: 9/9\u001b[0m\n"
     ]
    },
    {
     "name": "stdout",
     "output_type": "stream",
     "text": [
      "Acc: 197/237\n"
     ]
    },
    {
     "name": "stderr",
     "output_type": "stream",
     "text": [
      "100%|██████████| 36/36 [00:00<00:00, 47.43it/s]\n",
      "100%|██████████| 74/74 [00:01<00:00, 49.91it/s]\n",
      "100%|██████████| 103/103 [00:02<00:00, 46.28it/s]\n",
      "100%|██████████| 100/100 [00:02<00:00, 45.27it/s]\n",
      "100%|██████████| 96/96 [00:02<00:00, 47.63it/s]\n",
      "100%|██████████| 112/112 [00:02<00:00, 51.45it/s]\n",
      "\u001b[32m2024-01-06 00:33:22.079\u001b[0m | \u001b[1mINFO    \u001b[0m | \u001b[36m__main__\u001b[0m:\u001b[36m<module>\u001b[0m:\u001b[36m88\u001b[0m - \u001b[1m\n",
      "{'AP50': 0.6238003838771593,\n",
      " 'R:ACC15': 0.3861003861003861,\n",
      " 'R:ACC30': 0.9362934362934363,\n",
      " 'R:auc@15': 0.15111212662901813,\n",
      " 'R:auc@30': 0.42010370067954833,\n",
      " 'R:medianErr': 17.830310821533203,\n",
      " 't:ACC15': 0.02702702702702703,\n",
      " 't:ACC30': 0.12162162162162163,\n",
      " 't:auc@15': 0.011116256930192924,\n",
      " 't:auc@30': 0.04031679820907009,\n",
      " 't:medianErr': 63.180198669433594}\u001b[0m\n"
     ]
    },
    {
     "name": "stdout",
     "output_type": "stream",
     "text": [
      "Acc: 325/521\n"
     ]
    }
   ],
   "source": [
    "for label_idx, test_dict in enumerate(dir_list):\n",
    "    logger.info(f\"OneposePlusPlus: {label_idx + 1}/{len(dir_list)}\")\n",
    "    metrics = dict()\n",
    "    metrics.update({'R_errs':[], 't_errs':[], 'inliers':[], \"identifiers\":[]})\n",
    "    sample_data = dir_list[label_idx][\"0\"][0]\n",
    "    label = sample_data.split(\"/\")[0]\n",
    "    name = label.split(\"-\")[1]\n",
    "    dir_name = os.path.dirname(sample_data)\n",
    "    FULL_ROOT_DIR = os.path.join(ROOT_DIR, dir_name)\n",
    "    recall_image, all_image = 0, 0\n",
    "    for rotation_key, rotation_list in zip(test_dict.keys(), test_dict.values()):\n",
    "        for pair_idx, pair_name in enumerate(tqdm(rotation_list)):\n",
    "            all_image = all_image + 1\n",
    "            base_name = os.path.basename(pair_name)\n",
    "            idx0_name = base_name.split(\"-\")[0]\n",
    "            idx1_name = base_name.split(\"-\")[1]\n",
    "            image0_name = os.path.join(FULL_ROOT_DIR, idx0_name)\n",
    "            image1_name = os.path.join(FULL_ROOT_DIR.replace(\"color\", \"color\"), idx1_name)\n",
    "\n",
    "            K0_path = image0_name.replace(\"color\", \"intrin_ba\").replace(\"png\", \"txt\")\n",
    "            K1_path = image1_name.replace(\"color\", \"intrin_ba\").replace(\"png\", \"txt\")\n",
    "            K0 = np.loadtxt(K0_path)\n",
    "            K1 = np.loadtxt(K1_path)\n",
    "\n",
    "            pose0_path = image0_name.replace(\"color\", \"poses_ba\").replace(\"png\", \"txt\")\n",
    "            pose1_path = image1_name.replace(\"color\", \"poses_ba\").replace(\"png\", \"txt\")\n",
    "            pose0 = np.loadtxt(pose0_path)\n",
    "            pose1 = np.loadtxt(pose1_path)\n",
    "            if pose0.shape[0] == 3:\n",
    "                pose0 = np.concatenate([pose0, np.array([[0, 0, 0, 1]])], axis=0)\n",
    "                pose1 = np.concatenate([pose1, np.array([[0, 0, 0, 1]])], axis=0)\n",
    "\n",
    "            points_file_path = os.path.join('d:/git_project/POPE/data/oneposeplusplus-points/', pair_name.split(\"/\")[0])\n",
    "            pre_bbox_path = os.path.join(points_file_path, \"pre_bbox\")\n",
    "            mkpts0_path = os.path.join(points_file_path, \"mkpts0\")\n",
    "            mkpts1_path = os.path.join(points_file_path, \"mkpts1\")\n",
    "            pre_K_path = os.path.join(points_file_path, \"pre_K\")\n",
    "            points_name = pair_name.split(\"/\")[-1]\n",
    "            pre_bbox_path = os.path.join(pre_bbox_path, f'{points_name}.txt')\n",
    "            mkpts0_path = os.path.join(mkpts0_path, f'{points_name}.txt')\n",
    "            mkpts1_path = os.path.join(mkpts1_path, f'{points_name}.txt')\n",
    "            pre_K_path = os.path.join(pre_K_path, f'{points_name}.txt')\n",
    "\n",
    "            if not os.path.exists(pre_bbox_path):\n",
    "                continue\n",
    "            pre_bbox = np.loadtxt(pre_bbox_path)\n",
    "            mkpts0 = np.loadtxt(mkpts0_path)\n",
    "            mkpts1 = np.loadtxt(mkpts1_path)\n",
    "            pre_K = np.loadtxt(pre_K_path)\n",
    "\n",
    "            if mkpts0.shape[0] > num_sample:\n",
    "                rand_idx = np.random.choice(mkpts0.shape[0], num_sample, replace=False)\n",
    "                mkpts0 = mkpts0[rand_idx]\n",
    "                mkpts1 = mkpts1[rand_idx]\n",
    "            else:\n",
    "                mkpts0 = np.concatenate([mkpts0, np.zeros((num_sample - mkpts0.shape[0], 2))], axis=0)\n",
    "                mkpts1 = np.concatenate([mkpts1, np.zeros((num_sample - mkpts1.shape[0], 2))], axis=0)\n",
    "\n",
    "            _3d_bbox = np.loadtxt(f\"{os.path.join(ROOT_DIR, label)}/box3d_corners.txt\")\n",
    "            bbox_pts_3d, _ = project_points(_3d_bbox, pose1[:3, :4], K1)\n",
    "            bbox_pts_3d = bbox_pts_3d.astype(np.int32)\n",
    "            x0, y0, w, h = cv2.boundingRect(bbox_pts_3d)\n",
    "            x1, y1 = x0 + w, y0 + h\n",
    "            gt_bbox = np.array([x0, y0, x1, y1])\n",
    "            is_recalled = recall_object(pre_bbox, gt_bbox)\n",
    "            recall_image = recall_image + int(is_recalled > 0.5)\n",
    "\n",
    "            batch_mkpts0 = torch.from_numpy(mkpts0).unsqueeze(0).float().to(device)\n",
    "            batch_mkpts1 = torch.from_numpy(mkpts1).unsqueeze(0).float().to(device)\n",
    "            pre_t, pre_rot = net(batch_mkpts0, batch_mkpts1)\n",
    "            # pre_t = pre_t.cpu()\n",
    "            # pre_rot = pre_rot.cpu()\n",
    "\n",
    "            # batch_pose0 = torch.from_numpy(pose0).unsqueeze(0).float().to(device)\n",
    "            # batch_pose1 = torch.from_numpy(pose1).unsqueeze(0).float().to(device)\n",
    "            # batch_relative_pose = torch.matmul(batch_pose1, batch_pose0.permute(0, 2, 1))\n",
    "            batch_relative_pose = np.matmul(pose1, np.linalg.inv(pose0))\n",
    "            batch_relative_pose = torch.from_numpy(batch_relative_pose).unsqueeze(0).float().to(device)\n",
    "            t_err, R_err = relative_pose_error(batch_relative_pose, pre_rot, pre_t, ignore_gt_t_thr=0.0)\n",
    "\n",
    "            metrics['t_errs'] = metrics['t_errs'] + np.array(t_err.reshape(-1).cpu().detach().numpy()).tolist()\n",
    "            metrics['R_errs'] = metrics['R_errs'] + np.array(R_err.reshape(-1).cpu().detach().numpy()).tolist()\n",
    "            metrics['identifiers'].append(pair_name)\n",
    "\n",
    "    print(f'Acc: {recall_image}/{all_image}')\n",
    "    val_metrics_4tb = aggregate_metrics(metrics, 5e-4)\n",
    "    val_metrics_4tb['AP50'] = recall_image / all_image\n",
    "    logger.info('\\n' + pprint.pformat(val_metrics_4tb))\n",
    "\n",
    "    res_table.append([f\"{name}\"] + list(val_metrics_4tb.values()))"
   ]
  },
  {
   "cell_type": "code",
   "execution_count": 7,
   "metadata": {},
   "outputs": [
    {
     "name": "stdout",
     "output_type": "stream",
     "text": [
      "╒══════════════╤════════════╤════════════╤═══════════╤═══════════╤═══════════════╤════════════╤════════════╤═══════════╤═══════════╤═══════════════╤══════════╕\n",
      "│ Category     │   R:auc@15 │   R:auc@30 │   R:ACC15 │   R:ACC30 │   R:medianErr │   t:auc@15 │   t:auc@30 │   t:ACC15 │   t:ACC30 │   t:medianErr │     AP50 │\n",
      "╞══════════════╪════════════╪════════════╪═══════════╪═══════════╪═══════════════╪════════════╪════════════╪═══════════╪═══════════╪═══════════════╪══════════╡\n",
      "│ toyrobot     │   0.207892 │   0.460619 │  0.468619 │  0.933054 │       15.8872 │ 0.00423143 │  0.0308185 │ 0.0083682 │ 0.108787  │       62.6336 │ 0.962343 │\n",
      "├──────────────┼────────────┼────────────┼───────────┼───────────┼───────────────┼────────────┼────────────┼───────────┼───────────┼───────────────┼──────────┤\n",
      "│ yellowduck   │   0.245814 │   0.535913 │  0.596825 │  0.961905 │       12.9718 │ 0.0134131  │  0.043098  │ 0.0349206 │ 0.126984  │       58.4313 │ 0.980952 │\n",
      "├──────────────┼────────────┼────────────┼───────────┼───────────┼───────────────┼────────────┼────────────┼───────────┼───────────┼───────────────┼──────────┤\n",
      "│ sheep        │   0.265471 │   0.517101 │  0.553648 │  0.935622 │       13.4654 │ 0.00898041 │  0.0314095 │ 0.0257511 │ 0.0944206 │       64.5639 │ 0.356223 │\n",
      "├──────────────┼────────────┼────────────┼───────────┼───────────┼───────────────┼────────────┼────────────┼───────────┼───────────┼───────────────┼──────────┤\n",
      "│ fakebanana   │   0.253734 │   0.539514 │  0.616667 │  0.933333 │       12.783  │ 0.0100246  │  0.0363584 │ 0.0266667 │ 0.103333  │       64.464  │ 0.97     │\n",
      "├──────────────┼────────────┼────────────┼───────────┼───────────┼───────────────┼────────────┼────────────┼───────────┼───────────┼───────────────┼──────────┤\n",
      "│ teabox       │   0.259611 │   0.538495 │  0.590296 │  0.962264 │       12.7003 │ 0.00578573 │  0.0286333 │ 0.0134771 │ 0.0997305 │       60.3353 │ 0.975806 │\n",
      "├──────────────┼────────────┼────────────┼───────────┼───────────┼───────────────┼────────────┼────────────┼───────────┼───────────┼───────────────┼──────────┤\n",
      "│ orange       │   0.217948 │   0.486236 │  0.541176 │  0.938235 │       14.1062 │ 0.00671329 │  0.038047  │ 0.0117647 │ 0.144118  │       55.935  │ 0.982353 │\n",
      "├──────────────┼────────────┼────────────┼───────────┼───────────┼───────────────┼────────────┼────────────┼───────────┼───────────┼───────────────┼──────────┤\n",
      "│ greenteapot  │   0.261052 │   0.548815 │  0.608247 │  0.984536 │       12.4709 │ 0.0153382  │  0.0402258 │ 0.0309278 │ 0.123711  │       60.0506 │ 0.974227 │\n",
      "├──────────────┼────────────┼────────────┼───────────┼───────────┼───────────────┼────────────┼────────────┼───────────┼───────────┼───────────────┼──────────┤\n",
      "│ lecreusetcup │   0.222786 │   0.487508 │  0.485232 │  0.957806 │       15.2924 │ 0.0139641  │  0.0335213 │ 0.021097  │ 0.0801688 │       63.1813 │ 0.831224 │\n",
      "├──────────────┼────────────┼────────────┼───────────┼───────────┼───────────────┼────────────┼────────────┼───────────┼───────────┼───────────────┼──────────┤\n",
      "│ insta        │   0.151112 │   0.420104 │  0.3861   │  0.936293 │       17.8303 │ 0.0111163  │  0.0403168 │ 0.027027  │ 0.121622  │       63.1802 │ 0.6238   │\n",
      "├──────────────┼────────────┼────────────┼───────────┼───────────┼───────────────┼────────────┼────────────┼───────────┼───────────┼───────────────┼──────────┤\n",
      "│ Avg          │   0.231713 │   0.503812 │  0.538535 │  0.949228 │       14.1675 │ 0.00995191 │  0.0358254 │ 0.0222223 │ 0.11143   │       61.4195 │ 0.85077  │\n",
      "╘══════════════╧════════════╧════════════╧═══════════╧═══════════╧═══════════════╧════════════╧════════════╧═══════════╧═══════════╧═══════════════╧══════════╛\n"
     ]
    }
   ],
   "source": [
    "headers = [\"Category\"] + list(val_metrics_4tb.keys())\n",
    "all_data = np.array(res_table)[:, 1:].astype(np.float32)\n",
    "res_table.append([\"Avg\"] + all_data.mean(0).tolist())\n",
    "print(tabulate(res_table, headers=headers, tablefmt='fancy_grid'))"
   ]
  },
  {
   "cell_type": "code",
   "execution_count": null,
   "metadata": {},
   "outputs": [],
   "source": []
  }
 ],
 "metadata": {
  "kernelspec": {
   "display_name": "pope",
   "language": "python",
   "name": "python3"
  },
  "language_info": {
   "codemirror_mode": {
    "name": "ipython",
    "version": 3
   },
   "file_extension": ".py",
   "mimetype": "text/x-python",
   "name": "python",
   "nbconvert_exporter": "python",
   "pygments_lexer": "ipython3",
   "version": "3.8.18"
  }
 },
 "nbformat": 4,
 "nbformat_minor": 2
}
