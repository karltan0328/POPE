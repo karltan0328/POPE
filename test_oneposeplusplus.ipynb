{
 "cells": [
  {
   "cell_type": "code",
   "execution_count": 1,
   "metadata": {},
   "outputs": [],
   "source": [
    "import os\n",
    "import cv2\n",
    "import json\n",
    "import torch\n",
    "import pprint\n",
    "import numpy as np\n",
    "from tqdm import tqdm\n",
    "from loguru import logger\n",
    "from tabulate import tabulate\n",
    "\n",
    "from pose.utils import collate_fn, geodesic_distance, relative_pose_error, aggregate_metrics, recall_object, project_points"
   ]
  },
  {
   "cell_type": "code",
   "execution_count": 2,
   "metadata": {},
   "outputs": [
    {
     "data": {
      "text/plain": [
       "9"
      ]
     },
     "execution_count": 2,
     "metadata": {},
     "output_type": "execute_result"
    }
   ],
   "source": [
    "with open(\"data/pairs/OneposePlusPlus-test.json\") as f:\n",
    "    dir_list = json.load(f)\n",
    "len(dir_list)"
   ]
  },
  {
   "cell_type": "code",
   "execution_count": 3,
   "metadata": {},
   "outputs": [],
   "source": [
    "if os.name == 'unix':\n",
    "    ROOT_DIR = 'data/oneposeplusplus/'\n",
    "elif os.name == 'nt':\n",
    "    ROOT_DIR = 'e:/datasets/OnePose++/lowtexture_test_data/'"
   ]
  },
  {
   "cell_type": "code",
   "execution_count": 4,
   "metadata": {},
   "outputs": [],
   "source": [
    "res_table = []"
   ]
  },
  {
   "cell_type": "code",
   "execution_count": 5,
   "metadata": {},
   "outputs": [
    {
     "data": {
      "text/plain": [
       "Mkpts_Reg_Model(\n",
       "  (embedding): Embedding()\n",
       "  (transformerlayer): TransformerEncoderLayer(\n",
       "    (self_attn): MultiheadAttention(\n",
       "      (out_proj): NonDynamicallyQuantizableLinear(in_features=76, out_features=76, bias=True)\n",
       "    )\n",
       "    (linear1): Linear(in_features=76, out_features=2048, bias=True)\n",
       "    (dropout): Dropout(p=0.1, inplace=False)\n",
       "    (linear2): Linear(in_features=2048, out_features=76, bias=True)\n",
       "    (norm1): LayerNorm((76,), eps=1e-05, elementwise_affine=True)\n",
       "    (norm2): LayerNorm((76,), eps=1e-05, elementwise_affine=True)\n",
       "    (dropout1): Dropout(p=0.1, inplace=False)\n",
       "    (dropout2): Dropout(p=0.1, inplace=False)\n",
       "  )\n",
       "  (transformer): TransformerEncoder(\n",
       "    (layers): ModuleList(\n",
       "      (0-3): 4 x TransformerEncoderLayer(\n",
       "        (self_attn): MultiheadAttention(\n",
       "          (out_proj): NonDynamicallyQuantizableLinear(in_features=76, out_features=76, bias=True)\n",
       "        )\n",
       "        (linear1): Linear(in_features=76, out_features=2048, bias=True)\n",
       "        (dropout): Dropout(p=0.1, inplace=False)\n",
       "        (linear2): Linear(in_features=2048, out_features=76, bias=True)\n",
       "        (norm1): LayerNorm((76,), eps=1e-05, elementwise_affine=True)\n",
       "        (norm2): LayerNorm((76,), eps=1e-05, elementwise_affine=True)\n",
       "        (dropout1): Dropout(p=0.1, inplace=False)\n",
       "        (dropout2): Dropout(p=0.1, inplace=False)\n",
       "      )\n",
       "    )\n",
       "  )\n",
       "  (translation_head): Linear(in_features=128, out_features=3, bias=True)\n",
       "  (rotation_head): Linear(in_features=128, out_features=6, bias=True)\n",
       "  (mlp): Sequential(\n",
       "    (0): Linear(in_features=30400, out_features=128, bias=True)\n",
       "    (1): LeakyReLU(negative_slope=0.01)\n",
       "    (2): Linear(in_features=128, out_features=128, bias=True)\n",
       "  )\n",
       ")"
      ]
     },
     "execution_count": 5,
     "metadata": {},
     "output_type": "execute_result"
    }
   ],
   "source": [
    "device = torch.device('cuda' if torch.cuda.is_available() else 'cpu')\n",
    "# device = 'cpu'\n",
    "\n",
    "num_sample = 400\n",
    "\n",
    "net = torch.load('./weights/6d-2023-12-28-20-34-25-0.4200.pth').to(device)\n",
    "\n",
    "net.eval()"
   ]
  },
  {
   "cell_type": "code",
   "execution_count": 6,
   "metadata": {},
   "outputs": [
    {
     "name": "stderr",
     "output_type": "stream",
     "text": [
      "\u001b[32m2023-12-31 15:35:05.060\u001b[0m | \u001b[1mINFO    \u001b[0m | \u001b[36m__main__\u001b[0m:\u001b[36m<module>\u001b[0m:\u001b[36m2\u001b[0m - \u001b[1mOneposePlusPlus: 1/9\u001b[0m\n",
      "  0%|          | 0/26 [00:00<?, ?it/s]"
     ]
    },
    {
     "name": "stderr",
     "output_type": "stream",
     "text": [
      "100%|██████████| 26/26 [00:02<00:00,  8.68it/s]\n",
      "100%|██████████| 32/32 [00:01<00:00, 25.10it/s]\n",
      "100%|██████████| 34/34 [00:01<00:00, 25.10it/s]\n",
      "100%|██████████| 52/52 [00:02<00:00, 24.92it/s]\n",
      "100%|██████████| 48/48 [00:01<00:00, 26.37it/s]\n",
      "100%|██████████| 47/47 [00:01<00:00, 24.97it/s]\n",
      "\u001b[32m2023-12-31 15:35:16.497\u001b[0m | \u001b[1mINFO    \u001b[0m | \u001b[36m__main__\u001b[0m:\u001b[36m<module>\u001b[0m:\u001b[36m86\u001b[0m - \u001b[1m\n",
      "{'AP50': 0.9623430962343096,\n",
      " 'R:ACC15': 0.6778242677824268,\n",
      " 'R:ACC30': 0.9748953974895398,\n",
      " 'R:auc@15': 0.5454880282469873,\n",
      " 'R:auc@30': 0.7064802582958918,\n",
      " 'R:medianErr': 4.839991092681885,\n",
      " 't:ACC15': 0.9372384937238494,\n",
      " 't:ACC30': 1.0,\n",
      " 't:auc@15': 0.499795202173116,\n",
      " 't:auc@30': 0.7466108850563253,\n",
      " 't:medianErr': 7.246734142303467}\u001b[0m\n",
      "\u001b[32m2023-12-31 15:35:16.498\u001b[0m | \u001b[1mINFO    \u001b[0m | \u001b[36m__main__\u001b[0m:\u001b[36m<module>\u001b[0m:\u001b[36m2\u001b[0m - \u001b[1mOneposePlusPlus: 2/9\u001b[0m\n"
     ]
    },
    {
     "name": "stdout",
     "output_type": "stream",
     "text": [
      "Acc: 230/239\n"
     ]
    },
    {
     "name": "stderr",
     "output_type": "stream",
     "text": [
      "100%|██████████| 45/45 [00:01<00:00, 24.24it/s]\n",
      "100%|██████████| 50/50 [00:01<00:00, 25.86it/s]\n",
      "100%|██████████| 73/73 [00:02<00:00, 26.52it/s]\n",
      "100%|██████████| 55/55 [00:02<00:00, 25.08it/s]\n",
      "100%|██████████| 50/50 [00:01<00:00, 26.17it/s]\n",
      "100%|██████████| 42/42 [00:01<00:00, 27.56it/s]\n",
      "\u001b[32m2023-12-31 15:35:28.686\u001b[0m | \u001b[1mINFO    \u001b[0m | \u001b[36m__main__\u001b[0m:\u001b[36m<module>\u001b[0m:\u001b[36m86\u001b[0m - \u001b[1m\n",
      "{'AP50': 0.9809523809523809,\n",
      " 'R:ACC15': 0.9079365079365079,\n",
      " 'R:ACC30': 1.0,\n",
      " 'R:auc@15': 0.8315516226127665,\n",
      " 'R:auc@30': 0.906369893689635,\n",
      " 'R:medianErr': 0.0,\n",
      " 't:ACC15': 0.9682539682539683,\n",
      " 't:ACC30': 1.0,\n",
      " 't:auc@15': 0.5081064468275304,\n",
      " 't:auc@30': 0.7531927726792279,\n",
      " 't:medianErr': 6.9572248458862305}\u001b[0m\n",
      "\u001b[32m2023-12-31 15:35:28.687\u001b[0m | \u001b[1mINFO    \u001b[0m | \u001b[36m__main__\u001b[0m:\u001b[36m<module>\u001b[0m:\u001b[36m2\u001b[0m - \u001b[1mOneposePlusPlus: 3/9\u001b[0m\n"
     ]
    },
    {
     "name": "stdout",
     "output_type": "stream",
     "text": [
      "Acc: 309/315\n"
     ]
    },
    {
     "name": "stderr",
     "output_type": "stream",
     "text": [
      "100%|██████████| 38/38 [00:01<00:00, 23.31it/s]\n",
      "100%|██████████| 44/44 [00:01<00:00, 25.92it/s]\n",
      "100%|██████████| 43/43 [00:01<00:00, 25.90it/s]\n",
      "100%|██████████| 35/35 [00:01<00:00, 25.44it/s]\n",
      "100%|██████████| 35/35 [00:01<00:00, 28.59it/s]\n",
      "100%|██████████| 38/38 [00:01<00:00, 27.12it/s]\n",
      "\u001b[32m2023-12-31 15:35:37.693\u001b[0m | \u001b[1mINFO    \u001b[0m | \u001b[36m__main__\u001b[0m:\u001b[36m<module>\u001b[0m:\u001b[36m86\u001b[0m - \u001b[1m\n",
      "{'AP50': 0.3562231759656652,\n",
      " 'R:ACC15': 0.7811158798283262,\n",
      " 'R:ACC30': 0.9527896995708155,\n",
      " 'R:auc@15': 0.6645064111090184,\n",
      " 'R:auc@30': 0.7798817591605779,\n",
      " 'R:medianErr': 0.0,\n",
      " 't:ACC15': 0.944206008583691,\n",
      " 't:ACC30': 0.9957081545064378,\n",
      " 't:auc@15': 0.524130172364531,\n",
      " 't:auc@30': 0.7563530462920579,\n",
      " 't:medianErr': 6.947434425354004}\u001b[0m\n",
      "\u001b[32m2023-12-31 15:35:37.694\u001b[0m | \u001b[1mINFO    \u001b[0m | \u001b[36m__main__\u001b[0m:\u001b[36m<module>\u001b[0m:\u001b[36m2\u001b[0m - \u001b[1mOneposePlusPlus: 4/9\u001b[0m\n"
     ]
    },
    {
     "name": "stdout",
     "output_type": "stream",
     "text": [
      "Acc: 83/233\n"
     ]
    },
    {
     "name": "stderr",
     "output_type": "stream",
     "text": [
      "100%|██████████| 42/42 [00:01<00:00, 25.32it/s]\n",
      "100%|██████████| 62/62 [00:02<00:00, 25.63it/s]\n",
      "100%|██████████| 58/58 [00:02<00:00, 27.13it/s]\n",
      "100%|██████████| 45/45 [00:01<00:00, 27.01it/s]\n",
      "100%|██████████| 44/44 [00:01<00:00, 28.10it/s]\n",
      "100%|██████████| 49/49 [00:01<00:00, 28.82it/s]\n",
      "\u001b[32m2023-12-31 15:35:48.858\u001b[0m | \u001b[1mINFO    \u001b[0m | \u001b[36m__main__\u001b[0m:\u001b[36m<module>\u001b[0m:\u001b[36m86\u001b[0m - \u001b[1m\n",
      "{'AP50': 0.97,\n",
      " 'R:ACC15': 0.9066666666666666,\n",
      " 'R:ACC30': 0.9966666666666667,\n",
      " 'R:auc@15': 0.8410304690466986,\n",
      " 'R:auc@30': 0.9080367686483596,\n",
      " 'R:medianErr': 0.0,\n",
      " 't:ACC15': 0.9566666666666667,\n",
      " 't:ACC30': 1.0,\n",
      " 't:auc@15': 0.4445448197656208,\n",
      " 't:auc@30': 0.7203243798348639,\n",
      " 't:medianErr': 8.453325748443604}\u001b[0m\n",
      "\u001b[32m2023-12-31 15:35:48.859\u001b[0m | \u001b[1mINFO    \u001b[0m | \u001b[36m__main__\u001b[0m:\u001b[36m<module>\u001b[0m:\u001b[36m2\u001b[0m - \u001b[1mOneposePlusPlus: 5/9\u001b[0m\n"
     ]
    },
    {
     "name": "stdout",
     "output_type": "stream",
     "text": [
      "Acc: 291/300\n"
     ]
    },
    {
     "name": "stderr",
     "output_type": "stream",
     "text": [
      "100%|██████████| 63/63 [00:02<00:00, 24.13it/s]\n",
      "100%|██████████| 66/66 [00:02<00:00, 25.31it/s]\n",
      "100%|██████████| 58/58 [00:02<00:00, 25.47it/s]\n",
      "100%|██████████| 57/57 [00:02<00:00, 25.00it/s]\n",
      "100%|██████████| 67/67 [00:02<00:00, 26.88it/s]\n",
      "100%|██████████| 61/61 [00:02<00:00, 27.52it/s]\n",
      "\u001b[32m2023-12-31 15:36:03.361\u001b[0m | \u001b[1mINFO    \u001b[0m | \u001b[36m__main__\u001b[0m:\u001b[36m<module>\u001b[0m:\u001b[36m86\u001b[0m - \u001b[1m\n",
      "{'AP50': 0.9758064516129032,\n",
      " 'R:ACC15': 0.9838274932614556,\n",
      " 'R:ACC30': 0.9892183288409704,\n",
      " 'R:auc@15': 0.9696559935995618,\n",
      " 'R:auc@30': 0.979441537025911,\n",
      " 'R:medianErr': 0.0,\n",
      " 't:ACC15': 0.9407008086253369,\n",
      " 't:ACC30': 1.0,\n",
      " 't:auc@15': 0.46813399159254937,\n",
      " 't:auc@30': 0.7297780863331549,\n",
      " 't:medianErr': 7.724333763122559}\u001b[0m\n",
      "\u001b[32m2023-12-31 15:36:03.362\u001b[0m | \u001b[1mINFO    \u001b[0m | \u001b[36m__main__\u001b[0m:\u001b[36m<module>\u001b[0m:\u001b[36m2\u001b[0m - \u001b[1mOneposePlusPlus: 6/9\u001b[0m\n"
     ]
    },
    {
     "name": "stdout",
     "output_type": "stream",
     "text": [
      "Acc: 363/372\n"
     ]
    },
    {
     "name": "stderr",
     "output_type": "stream",
     "text": [
      "100%|██████████| 32/32 [00:01<00:00, 25.71it/s]\n",
      "100%|██████████| 63/63 [00:02<00:00, 25.51it/s]\n",
      "100%|██████████| 59/59 [00:02<00:00, 26.59it/s]\n",
      "100%|██████████| 53/53 [00:01<00:00, 26.96it/s]\n",
      "100%|██████████| 66/66 [00:02<00:00, 26.81it/s]\n",
      "100%|██████████| 67/67 [00:02<00:00, 26.78it/s]\n",
      "\u001b[32m2023-12-31 15:36:16.243\u001b[0m | \u001b[1mINFO    \u001b[0m | \u001b[36m__main__\u001b[0m:\u001b[36m<module>\u001b[0m:\u001b[36m86\u001b[0m - \u001b[1m\n",
      "{'AP50': 0.9823529411764705,\n",
      " 'R:ACC15': 0.8823529411764706,\n",
      " 'R:ACC30': 1.0,\n",
      " 'R:auc@15': 0.7750951174661225,\n",
      " 'R:auc@30': 0.872175870292327,\n",
      " 'R:medianErr': 0.0,\n",
      " 't:ACC15': 0.9852941176470589,\n",
      " 't:ACC30': 1.0,\n",
      " 't:auc@15': 0.5795889669189266,\n",
      " 't:auc@30': 0.7894712469098616,\n",
      " 't:medianErr': 5.8425610065460205}\u001b[0m\n",
      "\u001b[32m2023-12-31 15:36:16.243\u001b[0m | \u001b[1mINFO    \u001b[0m | \u001b[36m__main__\u001b[0m:\u001b[36m<module>\u001b[0m:\u001b[36m2\u001b[0m - \u001b[1mOneposePlusPlus: 7/9\u001b[0m\n"
     ]
    },
    {
     "name": "stdout",
     "output_type": "stream",
     "text": [
      "Acc: 334/340\n"
     ]
    },
    {
     "name": "stderr",
     "output_type": "stream",
     "text": [
      "100%|██████████| 25/25 [00:01<00:00, 23.21it/s]\n",
      "100%|██████████| 41/41 [00:01<00:00, 24.77it/s]\n",
      "100%|██████████| 30/30 [00:01<00:00, 24.84it/s]\n",
      "100%|██████████| 32/32 [00:01<00:00, 24.50it/s]\n",
      "100%|██████████| 32/32 [00:01<00:00, 26.30it/s]\n",
      "100%|██████████| 34/34 [00:01<00:00, 26.03it/s]\n",
      "\u001b[32m2023-12-31 15:36:24.031\u001b[0m | \u001b[1mINFO    \u001b[0m | \u001b[36m__main__\u001b[0m:\u001b[36m<module>\u001b[0m:\u001b[36m86\u001b[0m - \u001b[1m\n",
      "{'AP50': 0.9742268041237113,\n",
      " 'R:ACC15': 0.7835051546391752,\n",
      " 'R:ACC30': 1.0,\n",
      " 'R:auc@15': 0.6693281775078004,\n",
      " 'R:auc@30': 0.7970358135773964,\n",
      " 'R:medianErr': 0.0,\n",
      " 't:ACC15': 0.9072164948453608,\n",
      " 't:ACC30': 1.0,\n",
      " 't:auc@15': 0.4611775081182263,\n",
      " 't:auc@30': 0.7243834122349716,\n",
      " 't:medianErr': 7.299301385879517}\u001b[0m\n",
      "\u001b[32m2023-12-31 15:36:24.032\u001b[0m | \u001b[1mINFO    \u001b[0m | \u001b[36m__main__\u001b[0m:\u001b[36m<module>\u001b[0m:\u001b[36m2\u001b[0m - \u001b[1mOneposePlusPlus: 8/9\u001b[0m\n"
     ]
    },
    {
     "name": "stdout",
     "output_type": "stream",
     "text": [
      "Acc: 189/194\n"
     ]
    },
    {
     "name": "stderr",
     "output_type": "stream",
     "text": [
      "100%|██████████| 32/32 [00:01<00:00, 23.73it/s]\n",
      "100%|██████████| 35/35 [00:01<00:00, 25.64it/s]\n",
      "100%|██████████| 38/38 [00:01<00:00, 25.20it/s]\n",
      "100%|██████████| 59/59 [00:02<00:00, 25.53it/s]\n",
      "100%|██████████| 30/30 [00:01<00:00, 26.53it/s]\n",
      "100%|██████████| 43/43 [00:01<00:00, 27.35it/s]\n",
      "\u001b[32m2023-12-31 15:36:33.288\u001b[0m | \u001b[1mINFO    \u001b[0m | \u001b[36m__main__\u001b[0m:\u001b[36m<module>\u001b[0m:\u001b[36m86\u001b[0m - \u001b[1m\n",
      "{'AP50': 0.8312236286919831,\n",
      " 'R:ACC15': 0.7805907172995781,\n",
      " 'R:ACC30': 0.9831223628691983,\n",
      " 'R:auc@15': 0.6750493630410581,\n",
      " 'R:auc@30': 0.7933337685763416,\n",
      " 'R:medianErr': 0.0,\n",
      " 't:ACC15': 0.9367088607594937,\n",
      " 't:ACC30': 1.0,\n",
      " 't:auc@15': 0.4440414423261849,\n",
      " 't:auc@30': 0.7184386856235699,\n",
      " 't:medianErr': 8.088424682617188}\u001b[0m\n",
      "\u001b[32m2023-12-31 15:36:33.289\u001b[0m | \u001b[1mINFO    \u001b[0m | \u001b[36m__main__\u001b[0m:\u001b[36m<module>\u001b[0m:\u001b[36m2\u001b[0m - \u001b[1mOneposePlusPlus: 9/9\u001b[0m\n"
     ]
    },
    {
     "name": "stdout",
     "output_type": "stream",
     "text": [
      "Acc: 197/237\n"
     ]
    },
    {
     "name": "stderr",
     "output_type": "stream",
     "text": [
      "100%|██████████| 36/36 [00:01<00:00, 26.01it/s]\n",
      "100%|██████████| 74/74 [00:02<00:00, 26.27it/s]\n",
      "100%|██████████| 103/103 [00:03<00:00, 26.76it/s]\n",
      "100%|██████████| 100/100 [00:04<00:00, 21.64it/s]\n",
      "100%|██████████| 96/96 [00:04<00:00, 20.83it/s]\n",
      "100%|██████████| 112/112 [00:05<00:00, 20.73it/s]\n",
      "\u001b[32m2023-12-31 15:36:55.987\u001b[0m | \u001b[1mINFO    \u001b[0m | \u001b[36m__main__\u001b[0m:\u001b[36m<module>\u001b[0m:\u001b[36m86\u001b[0m - \u001b[1m\n",
      "{'AP50': 0.6238003838771593,\n",
      " 'R:ACC15': 0.6467181467181468,\n",
      " 'R:ACC30': 0.9092664092664092,\n",
      " 'R:auc@15': 0.4910419360436068,\n",
      " 'R:auc@30': 0.648826470554949,\n",
      " 'R:medianErr': 8.682958126068115,\n",
      " 't:ACC15': 0.9285714285714286,\n",
      " 't:ACC30': 0.9845559845559846,\n",
      " 't:auc@15': 0.5200169274322162,\n",
      " 't:auc@30': 0.7458744159574827,\n",
      " 't:medianErr': 6.467738628387451}\u001b[0m\n"
     ]
    },
    {
     "name": "stdout",
     "output_type": "stream",
     "text": [
      "Acc: 325/521\n"
     ]
    }
   ],
   "source": [
    "for label_idx, test_dict in enumerate(dir_list):\n",
    "    logger.info(f\"OneposePlusPlus: {label_idx + 1}/{len(dir_list)}\")\n",
    "    metrics = dict()\n",
    "    metrics.update({'R_errs':[], 't_errs':[], 'inliers':[], \"identifiers\":[]})\n",
    "    sample_data = dir_list[label_idx][\"0\"][0]\n",
    "    label = sample_data.split(\"/\")[0]\n",
    "    name = label.split(\"-\")[1]\n",
    "    dir_name = os.path.dirname(sample_data)\n",
    "    FULL_ROOT_DIR = os.path.join(ROOT_DIR, dir_name)\n",
    "    recall_image, all_image = 0, 0\n",
    "    for rotation_key, rotation_list in zip(test_dict.keys(), test_dict.values()):\n",
    "        for pair_idx, pair_name in enumerate(tqdm(rotation_list)):\n",
    "            all_image = all_image + 1\n",
    "            base_name = os.path.basename(pair_name)\n",
    "            idx0_name = base_name.split(\"-\")[0]\n",
    "            idx1_name = base_name.split(\"-\")[1]\n",
    "            image0_name = os.path.join(FULL_ROOT_DIR, idx0_name)\n",
    "            image1_name = os.path.join(FULL_ROOT_DIR.replace(\"color\", \"color\"), idx1_name)\n",
    "\n",
    "            K0_path = image0_name.replace(\"color\", \"intrin_ba\").replace(\"png\", \"txt\")\n",
    "            K1_path = image1_name.replace(\"color\", \"intrin_ba\").replace(\"png\", \"txt\")\n",
    "            K0 = np.loadtxt(K0_path)\n",
    "            K1 = np.loadtxt(K1_path)\n",
    "\n",
    "            pose0_path = image0_name.replace(\"color\", \"poses_ba\").replace(\"png\", \"txt\")\n",
    "            pose1_path = image1_name.replace(\"color\", \"poses_ba\").replace(\"png\", \"txt\")\n",
    "            pose0 = np.loadtxt(pose0_path)\n",
    "            pose1 = np.loadtxt(pose1_path)\n",
    "            if pose0.shape[0] == 3:\n",
    "                pose0 = np.concatenate([pose0, np.array([[0, 0, 0, 1]])], axis=0)\n",
    "                pose1 = np.concatenate([pose1, np.array([[0, 0, 0, 1]])], axis=0)\n",
    "\n",
    "            points_file_path = os.path.join('d:/git_project/POPE/data/oneposeplusplus-points/', pair_name.split(\"/\")[0])\n",
    "            pre_bbox_path = os.path.join(points_file_path, \"pre_bbox\")\n",
    "            mkpts0_path = os.path.join(points_file_path, \"mkpts0\")\n",
    "            mkpts1_path = os.path.join(points_file_path, \"mkpts1\")\n",
    "            pre_K_path = os.path.join(points_file_path, \"pre_K\")\n",
    "            points_name = pair_name.split(\"/\")[-1]\n",
    "            pre_bbox_path = os.path.join(pre_bbox_path, f'{points_name}.txt')\n",
    "            mkpts0_path = os.path.join(mkpts0_path, f'{points_name}.txt')\n",
    "            mkpts1_path = os.path.join(mkpts1_path, f'{points_name}.txt')\n",
    "            pre_K_path = os.path.join(pre_K_path, f'{points_name}.txt')\n",
    "\n",
    "            if not os.path.exists(pre_bbox_path):\n",
    "                continue\n",
    "            pre_bbox = np.loadtxt(pre_bbox_path)\n",
    "            mkpts0 = np.loadtxt(mkpts0_path)\n",
    "            mkpts1 = np.loadtxt(mkpts1_path)\n",
    "            pre_K = np.loadtxt(pre_K_path)\n",
    "\n",
    "            if mkpts0.shape[0] > num_sample:\n",
    "                rand_idx = np.random.choice(mkpts0.shape[0], num_sample, replace=False)\n",
    "                mkpts0 = mkpts0[rand_idx]\n",
    "                mkpts1 = mkpts1[rand_idx]\n",
    "            else:\n",
    "                mkpts0 = np.concatenate([mkpts0, np.zeros((num_sample - mkpts0.shape[0], 2))], axis=0)\n",
    "                mkpts1 = np.concatenate([mkpts1, np.zeros((num_sample - mkpts1.shape[0], 2))], axis=0)\n",
    "\n",
    "            _3d_bbox = np.loadtxt(f\"{os.path.join(ROOT_DIR, label)}/box3d_corners.txt\")\n",
    "            bbox_pts_3d, _ = project_points(_3d_bbox, pose1[:3, :4], K1)\n",
    "            bbox_pts_3d = bbox_pts_3d.astype(np.int32)\n",
    "            x0, y0, w, h = cv2.boundingRect(bbox_pts_3d)\n",
    "            x1, y1 = x0 + w, y0 + h\n",
    "            gt_bbox = np.array([x0, y0, x1, y1])\n",
    "            is_recalled = recall_object(pre_bbox, gt_bbox)\n",
    "            recall_image = recall_image + int(is_recalled > 0.5)\n",
    "\n",
    "            batch_mkpts0 = torch.from_numpy(mkpts0).unsqueeze(0).float().to(device)\n",
    "            batch_mkpts1 = torch.from_numpy(mkpts1).unsqueeze(0).float().to(device)\n",
    "            pre_t, pre_rot = net(batch_mkpts0, batch_mkpts1)\n",
    "            # pre_t = pre_t.cpu()\n",
    "            # pre_rot = pre_rot.cpu()\n",
    "\n",
    "            batch_pose0 = torch.from_numpy(pose0).unsqueeze(0).float().to(device)\n",
    "            batch_pose1 = torch.from_numpy(pose1).unsqueeze(0).float().to(device)\n",
    "            batch_relative_pose = torch.matmul(batch_pose1, batch_pose0.permute(0, 2, 1))\n",
    "            t_err, R_err = relative_pose_error(batch_relative_pose, pre_rot, pre_t, ignore_gt_t_thr=0.0)\n",
    "\n",
    "            metrics['t_errs'] = metrics['t_errs'] + np.array(t_err.reshape(-1).cpu().detach().numpy()).tolist()\n",
    "            metrics['R_errs'] = metrics['R_errs'] + np.array(R_err.reshape(-1).cpu().detach().numpy()).tolist()\n",
    "            metrics['identifiers'].append(pair_name)\n",
    "\n",
    "    print(f'Acc: {recall_image}/{all_image}')\n",
    "    val_metrics_4tb = aggregate_metrics(metrics, 5e-4)\n",
    "    val_metrics_4tb['AP50'] = recall_image / all_image\n",
    "    logger.info('\\n' + pprint.pformat(val_metrics_4tb))\n",
    "\n",
    "    res_table.append([f\"{name}\"] + list(val_metrics_4tb.values()))"
   ]
  },
  {
   "cell_type": "code",
   "execution_count": 7,
   "metadata": {},
   "outputs": [
    {
     "name": "stdout",
     "output_type": "stream",
     "text": [
      "╒══════════════╤════════════╤════════════╤═══════════╤═══════════╤═══════════════╤════════════╤════════════╤═══════════╤═══════════╤═══════════════╤══════════╕\n",
      "│ Category     │   R:auc@15 │   R:auc@30 │   R:ACC15 │   R:ACC30 │   R:medianErr │   t:auc@15 │   t:auc@30 │   t:ACC15 │   t:ACC30 │   t:medianErr │     AP50 │\n",
      "╞══════════════╪════════════╪════════════╪═══════════╪═══════════╪═══════════════╪════════════╪════════════╪═══════════╪═══════════╪═══════════════╪══════════╡\n",
      "│ toyrobot     │   0.545488 │   0.70648  │  0.677824 │  0.974895 │       4.83999 │   0.499795 │   0.746611 │  0.937238 │  1        │       7.24673 │ 0.962343 │\n",
      "├──────────────┼────────────┼────────────┼───────────┼───────────┼───────────────┼────────────┼────────────┼───────────┼───────────┼───────────────┼──────────┤\n",
      "│ yellowduck   │   0.831552 │   0.90637  │  0.907937 │  1        │       0       │   0.508106 │   0.753193 │  0.968254 │  1        │       6.95722 │ 0.980952 │\n",
      "├──────────────┼────────────┼────────────┼───────────┼───────────┼───────────────┼────────────┼────────────┼───────────┼───────────┼───────────────┼──────────┤\n",
      "│ sheep        │   0.664506 │   0.779882 │  0.781116 │  0.95279  │       0       │   0.52413  │   0.756353 │  0.944206 │  0.995708 │       6.94743 │ 0.356223 │\n",
      "├──────────────┼────────────┼────────────┼───────────┼───────────┼───────────────┼────────────┼────────────┼───────────┼───────────┼───────────────┼──────────┤\n",
      "│ fakebanana   │   0.84103  │   0.908037 │  0.906667 │  0.996667 │       0       │   0.444545 │   0.720324 │  0.956667 │  1        │       8.45333 │ 0.97     │\n",
      "├──────────────┼────────────┼────────────┼───────────┼───────────┼───────────────┼────────────┼────────────┼───────────┼───────────┼───────────────┼──────────┤\n",
      "│ teabox       │   0.969656 │   0.979442 │  0.983827 │  0.989218 │       0       │   0.468134 │   0.729778 │  0.940701 │  1        │       7.72433 │ 0.975806 │\n",
      "├──────────────┼────────────┼────────────┼───────────┼───────────┼───────────────┼────────────┼────────────┼───────────┼───────────┼───────────────┼──────────┤\n",
      "│ orange       │   0.775095 │   0.872176 │  0.882353 │  1        │       0       │   0.579589 │   0.789471 │  0.985294 │  1        │       5.84256 │ 0.982353 │\n",
      "├──────────────┼────────────┼────────────┼───────────┼───────────┼───────────────┼────────────┼────────────┼───────────┼───────────┼───────────────┼──────────┤\n",
      "│ greenteapot  │   0.669328 │   0.797036 │  0.783505 │  1        │       0       │   0.461178 │   0.724383 │  0.907216 │  1        │       7.2993  │ 0.974227 │\n",
      "├──────────────┼────────────┼────────────┼───────────┼───────────┼───────────────┼────────────┼────────────┼───────────┼───────────┼───────────────┼──────────┤\n",
      "│ lecreusetcup │   0.675049 │   0.793334 │  0.780591 │  0.983122 │       0       │   0.444041 │   0.718439 │  0.936709 │  1        │       8.08842 │ 0.831224 │\n",
      "├──────────────┼────────────┼────────────┼───────────┼───────────┼───────────────┼────────────┼────────────┼───────────┼───────────┼───────────────┼──────────┤\n",
      "│ insta        │   0.491042 │   0.648826 │  0.646718 │  0.909266 │       8.68296 │   0.520017 │   0.745874 │  0.928571 │  0.984556 │       6.46774 │ 0.6238   │\n",
      "├──────────────┼────────────┼────────────┼───────────┼───────────┼───────────────┼────────────┼────────────┼───────────┼───────────┼───────────────┼──────────┤\n",
      "│ Avg          │   0.718083 │   0.821287 │  0.816726 │  0.97844  │       1.50255 │   0.494393 │   0.742714 │  0.944984 │  0.997807 │       7.22523 │ 0.85077  │\n",
      "╘══════════════╧════════════╧════════════╧═══════════╧═══════════╧═══════════════╧════════════╧════════════╧═══════════╧═══════════╧═══════════════╧══════════╛\n"
     ]
    }
   ],
   "source": [
    "headers = [\"Category\"] + list(val_metrics_4tb.keys())\n",
    "all_data = np.array(res_table)[:, 1:].astype(np.float32)\n",
    "res_table.append([\"Avg\"] + all_data.mean(0).tolist())\n",
    "print(tabulate(res_table, headers=headers, tablefmt='fancy_grid'))"
   ]
  },
  {
   "cell_type": "code",
   "execution_count": null,
   "metadata": {},
   "outputs": [],
   "source": []
  }
 ],
 "metadata": {
  "kernelspec": {
   "display_name": "pope",
   "language": "python",
   "name": "python3"
  },
  "language_info": {
   "codemirror_mode": {
    "name": "ipython",
    "version": 3
   },
   "file_extension": ".py",
   "mimetype": "text/x-python",
   "name": "python",
   "nbconvert_exporter": "python",
   "pygments_lexer": "ipython3",
   "version": "3.8.18"
  }
 },
 "nbformat": 4,
 "nbformat_minor": 2
}
